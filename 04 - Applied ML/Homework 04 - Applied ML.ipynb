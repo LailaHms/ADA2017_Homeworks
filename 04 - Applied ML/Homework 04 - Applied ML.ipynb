{
 "cells": [
  {
   "cell_type": "markdown",
   "metadata": {},
   "source": [
    "## Deadline\n",
    "\n",
    "Wednesday, November 22, 2017, 11:59PM\n",
    "\n",
    "## Important notes\n",
    "\n",
    "- When you push your Notebook to GitHub, all the cells must already have been evaluated.\n",
    "- Don't forget to add a textual description of your thought process and of any assumptions you've made.\n",
    "- Please write all your comments in English, and use meaningful variable names in your code.\n",
    "\n",
    "## Question 1: Propensity score matching\n",
    "\n",
    "In this exercise, you will apply [propensity score matching](http://www.stewartschultz.com/statistics/books/Design%20of%20observational%20studies.pdf), which we discussed in lecture 5 (\"Observational studies\"), in order to draw conclusions from an observational study.\n",
    "\n",
    "We will work with a by-now classic dataset from Robert LaLonde's study \"[Evaluating the Econometric Evaluations of Training Programs](http://people.hbs.edu/nashraf/LaLonde_1986.pdf)\" (1986).\n",
    "The study investigated the effect of a job training program (\"National Supported Work Demonstration\") on the real earnings of an individual, a couple of years after completion of the program.\n",
    "Your task is to determine the effectiveness of the \"treatment\" represented by the job training program.\n",
    "\n",
    "#### Dataset description\n",
    "\n",
    "- `treat`: 1 if the subject participated in the job training program, 0 otherwise\n",
    "- `age`: the subject's age\n",
    "- `educ`: years of education\n",
    "- `race`: categorical variable with three possible values: Black, Hispanic, or White\n",
    "- `married`: 1 if the subject was married at the time of the training program, 0 otherwise\n",
    "- `nodegree`: 1 if the subject has earned no school degree, 0 otherwise\n",
    "- `re74`: real earnings in 1974 (pre-treatment)\n",
    "- `re75`: real earnings in 1975 (pre-treatment)\n",
    "- `re78`: real earnings in 1978 (outcome)\n",
    "\n",
    "If you want to brush up your knowledge on propensity scores and observational studies, we highly recommend Rosenbaum's excellent book on the [\"Design of Observational Studies\"](http://www.stewartschultz.com/statistics/books/Design%20of%20observational%20studies.pdf). Even just reading the first chapter (18 pages) will help you a lot.\n",
    "\n",
    "#### 1. A naive analysis\n",
    "\n",
    "Compare the distribution of the outcome variable (`re78`) between the two groups, using plots and numbers.\n",
    "To summarize and compare the distributions, you may use the techniques we discussed in lectures 4 (\"Read the stats carefully\") and 6 (\"Data visualization\").\n",
    "\n",
    "What might a naive \"researcher\" conclude from this superficial analysis?\n",
    "\n",
    "#### 2. A closer look at the data\n",
    "\n",
    "You're not naive, of course (and even if you are, you've learned certain things in ADA), so you aren't content with a superficial analysis such as the above.\n",
    "You're aware of the dangers of observational studies, so you take a closer look at the data before jumping to conclusions.\n",
    "\n",
    "For each feature in the dataset, compare its distribution in the treated group with its distribution in the control group, using plots and numbers.\n",
    "As above, you may use the techniques we discussed in class for summarizing and comparing the distributions.\n",
    "\n",
    "What do you observe?\n",
    "Describe what your observations mean for the conclusions drawn by the naive \"researcher\" from his superficial analysis.\n",
    "\n",
    "#### 3. A propsensity score model\n",
    "\n",
    "Use logistic regression to estimate propensity scores for all points in the dataset.\n",
    "You may use `sklearn` to fit the logistic regression model and apply it to each data point to obtain propensity scores:\n",
    "\n",
    "```python\n",
    "from sklearn import linear_model\n",
    "logistic = linear_model.LogisticRegression()\n",
    "```\n",
    "\n",
    "Recall that the propensity score of a data point represents its probability of receiving the treatment, based on its pre-treatment features (in this case, age, education, pre-treatment income, etc.).\n",
    "To brush up on propensity scores, you may read chapter 3.3 of the above-cited book by Rosenbaum or [this article](https://drive.google.com/file/d/0B4jctQY-uqhzTlpBaTBJRTJFVFE/view).\n",
    "\n",
    "Note: you do not need a train/test split here. Train and apply the model on the entire dataset. If you're wondering why this is the right thing to do in this situation, recall that the propensity score model is not used in order to make predictions about unseen data. Its sole purpose is to balance the dataset across treatment groups.\n",
    "(See p. 74 of Rosenbaum's book for an explanation why slight overfitting is even good for propensity scores.\n",
    "If you want even more information, read [this article](https://drive.google.com/file/d/0B4jctQY-uqhzTlpBaTBJRTJFVFE/view).)\n",
    "\n",
    "#### 4. Balancing the dataset via matching\n",
    "\n",
    "Use the propensity scores to match each data point from the treated group with exactly one data point from the control group, while ensuring that each data point from the control group is matched with at most one data point from the treated group.\n",
    "(Hint: you may explore the `networkx` package in Python for predefined matching functions.)\n",
    "\n",
    "Your matching should maximize the similarity between matched subjects, as captured by their propensity scores.\n",
    "In other words, the sum (over all matched pairs) of absolute propensity-score differences between the two matched subjects should be minimized.\n",
    "\n",
    "After matching, you have as many treated as you have control subjects.\n",
    "Compare the outcomes (`re78`) between the two groups (treated and control).\n",
    "\n",
    "Also, compare again the feature-value distributions between the two groups, as you've done in part 2 above, but now only for the matched subjects.\n",
    "What do you observe?\n",
    "Are you closer to being able to draw valid conclusions now than you were before?\n",
    "\n",
    "\n",
    "#### 5. Balancing the groups further\n",
    "\n",
    "Based on your comparison of feature-value distributions from part 4, are you fully satisfied with your matching?\n",
    "Would you say your dataset is sufficiently balanced?\n",
    "If not, in what ways could the \"balanced\" dataset you have obtained still not allow you to draw valid conclusions?\n",
    "\n",
    "Improve your matching by explicitly making sure that you match only subjects that have the same value for the problematic feature.\n",
    "Argue with numbers and plots that the two groups (treated and control) are now better balanced than after part 4.\n",
    "\n",
    "\n",
    "#### 6. A less naive analysis\n",
    "\n",
    "Compare the outcomes (`re78`) between treated and control subjects, as you've done in part 1, but now only for the matched dataset you've obtained from part 5.\n",
    "What do you conclude about the effectiveness of the job training program?\n",
    "\n",
    "\n",
    "___\n",
    "___\n",
    "___\n",
    "\n",
    "Importing the libraries we will need for the homework"
   ]
  },
  {
   "cell_type": "code",
   "execution_count": 1,
   "metadata": {},
   "outputs": [],
   "source": [
    "import pandas as pd\n",
    "import numpy as np\n",
    "import networkx as nx\n",
    "import matplotlib.pyplot as plt\n",
    "import seaborn as sns\n",
    "import scipy\n",
    "from sklearn.linear_model import LogisticRegression\n",
    "from sklearn.model_selection import cross_val_predict,cross_val_score\n",
    "from sklearn.datasets import fetch_20newsgroups\n",
    "from sklearn.feature_extraction.text import TfidfVectorizer\n",
    "from sklearn.ensemble import RandomForestClassifier\n",
    "from sklearn.metrics import confusion_matrix, accuracy_score, precision_score, recall_score, f1_score \n",
    "from sklearn.preprocessing import MinMaxScaler\n",
    "from tqdm import tqdm\n",
    "from scipy import sparse\n",
    "\n",
    "import itertools\n",
    "\n",
    "%matplotlib inline"
   ]
  },
  {
   "cell_type": "markdown",
   "metadata": {},
   "source": [
    "## Question 1: Resolution\n",
    "\n",
    "### Thought process and Implementation plan:\n",
    "The objective of this exercise is to analyze the effect of a training program on an individual's earnings. \n",
    "\n",
    "** Loading and Cleaning the Dataset ** \n",
    "\n",
    "The dataset is provided in a csv file containing the suss-mentioned categories : \n",
    "- *treat* : whether the subject followed the tranining program, binary value\n",
    "- *age* : the age of the subject\n",
    "- *educ* : the number of years of education \n",
    "- *race* : Black, White or Hispanic\n",
    "- *married* : whether the subject is married or not, binary value\n",
    "- *nodegree* : whether the subject has a degree (1 if they don't, 0 if they do)\n",
    "- *re74*, *re75* and *re78*: earnings for the given year\n",
    "\n",
    "The dtypes and unique values of the columns were verified to make sure that there weren't any suprises along the way. \n",
    "\n",
    "When looking at the data we noticed that there wasn't a white column. This column was added manually and individuals were set to 1 if they were neither black nor hispanic. We also added a race column which would take values B,H,W whether the person was black, hispanic or white.\n",
    "\n",
    "**1. Naive Analysis**\n",
    "\n",
    "The objective here was to quickly assess whether having followed the training program had an influence on the salary. Therefore we wanted to compare simply the *re78* for people with and without treatment. For that we used the groupby functionality. To obtain statistical information we used the describe functionality of the dataframes and computed the correlation between having taken the treatment and the salary. We plotted the histograms of the data with treatment, without treatment and overall with a boxplot to explicit certain statistical aspects of the data. We also plotter the boxplots of with and without treatment against one another with a swarmplot to determine where the datapoints lie. All of this was done with multiple functions so that they can be reused in following questions\n",
    "\n",
    "\n",
    "**2. Closer Look **\n",
    "\n",
    "We conducted similar tests but with all the features this time combining visualization of multiple boxplots with descriptions of all the variables, notably the categorical ones which required slightly different handling \n",
    "\n",
    "\n",
    "**3. Propensity Score Model**\n",
    "\n",
    "Using the cleaned data we can now determine the propensity score, which is to say the probability of receiving treatment given the pre-treatment features. This is done using logistic regression as shown during the Tutorial : \n",
    "1. Create feature vectors with dummy\n",
    "2. Normalize the feature vectors\n",
    "3. Create the logistic regression model\n",
    "4. Get the predictions\n",
    "5. Threshold to get estimate labels\n",
    "6. Compute the confusion matrix to assess quality of the regression\n",
    "\n",
    "**4. Balancing the Dataset Via Matching**\n",
    "\n",
    "In order to do the feature matching, and following the recommendation to use networkx, we first needed to create a connected graph from our observations : \n",
    "1. Create a bipartite graph \n",
    "2. Add edges between the nodes from the different partitions using the differences in propensity scores from the previous question\n",
    "3. Used the networkx max_weight_matching algorithm on the bipartite graph in order to find the optimal pairs.\n",
    "\n",
    "We then observed the feature distributions for the new dataframe containing only the matched pairs. \n",
    "\n",
    "**5. Balancing Groups Further**\n",
    "\n",
    "\n",
    "**6. A Less Naive Analysis**\n",
    "\n",
    "\n",
    "\n",
    "___\n",
    "___\n",
    "___\n",
    "\n",
    "\n"
   ]
  },
  {
   "cell_type": "markdown",
   "metadata": {},
   "source": [
    "### 1.0 Loading the Dataset\n"
   ]
  },
  {
   "cell_type": "code",
   "execution_count": null,
   "metadata": {},
   "outputs": [],
   "source": [
    "# Loading the csv file\n",
    "data = pd.read_csv(\"lalonde.csv\")\n",
    "\n",
    "# Adding the white column\n",
    "data['white'] = (data[\"black\"] + data[\"hispan\"]<1).astype(int)\n",
    "\n",
    "# Adding a \"race\" column\n",
    "data['race'] = \"unknown\"\n",
    "data.loc[data[\"white\"] ==1, 'race'] = \"W\"\n",
    "data.loc[data[\"hispan\"] ==1, 'race'] = \"H\"\n",
    "data.loc[data[\"black\"] ==1, 'race'] = \"B\"\n",
    "\n",
    "#Setting the index to the user id\n",
    "data.set_index(\"id\", inplace = True)\n",
    "\n",
    "data.head(10)"
   ]
  },
  {
   "cell_type": "markdown",
   "metadata": {},
   "source": [
    "Functions used for analysis \n",
    "** ADD EXPLANATIONS**"
   ]
  },
  {
   "cell_type": "code",
   "execution_count": null,
   "metadata": {},
   "outputs": [],
   "source": [
    "def normal_distribution_test(data):\n",
    "    k2, p = scipy.stats.normaltest(data)\n",
    "    if p>0.05:\n",
    "        print(\"\\tThe null hypothesis cannot be rejected\\n\")\n",
    "        return False\n",
    "    else :\n",
    "        print(\"\\tThe null hypothesis can be rejected\\n\")\n",
    "        return True\n",
    "\n",
    "def same_distribution_test(data1, data2):\n",
    "    stats, p = scipy.stats.kruskal(data1, data2)\n",
    "    if p>0.05:\n",
    "        print(\"\\tThe null hypothesis cannot be rejected\\n\")\n",
    "        return False\n",
    "    else :\n",
    "        print(\"\\tThe null hypothesis can be rejected\\n\")\n",
    "        return True\n",
    "\n",
    "def statistical_description(df, col):\n",
    "\n",
    "    print(\"Testing whether the entire data is normally distributed\")        \n",
    "    all_normal = normal_distribution_test(list(df[col]))\n",
    "    \n",
    "    print(\"Testing whether the results with treatment are normally distributed\")        \n",
    "    treat_normal = normal_distribution_test(list(df.loc[df['treat'] == 1, col]))\n",
    "    \n",
    "    print(\"Testing whether the results without treatment are normally distributed\")        \n",
    "    no_treat_normal = normal_distribution_test(list(df.loc[df['treat'] == 0, col]))\n",
    "       \n",
    "    print(\"Testing whether the data comes from the same distributions\")\n",
    "    same_distribution_test(list(df.loc[df['treat'] == 0, col]),\\\n",
    "                           list(df.loc[df['treat'] == 1, col]))\n",
    "    \n",
    "    print(\"Computing correlation between Treatment and {}\".format(col))\n",
    "    # Taking into account whether the data is normally distributed or not\n",
    "    # to select the correlatoin type\n",
    "    if all_normal or (treat_normal and no_treat_normal):\n",
    "        corr_type = \"pearson\"   \n",
    "    else:\n",
    "        corr_type = \"spearman\"\n",
    "\n",
    "    correlation = df[[col, \"treat\"]].corr(corr_type)\n",
    "    print(\"\\t{} correlation between treatment and {} : {:4f}\".format(corr_type, col, correlation.loc[\"treat\", col]))\n",
    "\n",
    "def histogram_boxplot(df, col, title):\n",
    "    x = list(df[col])\n",
    "    ax = sns.distplot(x)\n",
    "    ax2 = ax.twinx()\n",
    "    sns.boxplot(x=x, ax=ax2)\n",
    "    ax2.set(ylim=(-.5, 10))  \n",
    "    ax.set_xlabel(col)\n",
    "    ax.set_ylabel(\"percentage\")\n",
    "    ax.set_title(title)\n",
    "\n",
    "def categorical_boxplots(df, col, year):\n",
    "    x = 're'+ year\n",
    "    data = df.copy()\n",
    "    data[col] = data[col].astype('category')\n",
    "    if len(data[col].unique()) < 4:\n",
    "        fig, axs = plt.subplots(1,len(data[col].unique()), figsize=(10,3))\n",
    "\n",
    "        for i, categ in enumerate(data[col].unique()):\n",
    "            categ_data = data.loc[data[col] == categ]\n",
    "            axs[i].set_title(categ)\n",
    "            axs[i].set_xlim(0,61000)\n",
    "            try:\n",
    "                ax = sns.boxplot(x=x, y=\"treat\", ax=axs[i], data=categ_data, orient=\"h\")\n",
    "                ax = sns.swarmplot(x=x, y=\"treat\", ax=axs[i], data=categ_data, color=\".25\", orient=\"h\")\n",
    "                \n",
    "            except:\n",
    "                data[col] = data[col].cat.codes\n",
    "                ax = sns.boxplot(x=x, y=\"treat\", ax=axs[i], data=categ_data, orient=\"h\")\n",
    "                ax = sns.swarmplot(x=x, y=\"treat\", ax=axs[i], data=categ_data, color=\".25\", orient=\"h\")\n",
    "\n",
    "def boxplot_with_swarmplot(df,col):\n",
    "    data = df.copy()\n",
    "    data[col] = data[col].astype('category')\n",
    "    try:\n",
    "        ax = sns.boxplot(x=col, y=\"treat\", data=data, orient=\"h\")\n",
    "        ax = sns.swarmplot(x=col, y=\"treat\", data=data, color=\".25\", orient=\"h\")\n",
    "    except:\n",
    "        data[col] = data[col].cat.codes\n",
    "        ax = sns.boxplot(x=col, y=\"treat\", data=data, orient=\"h\")\n",
    "        ax = sns.swarmplot(x=col, y=\"treat\", data=data, color=\".25\", orient=\"h\")\n",
    "        \n",
    "def plotting_data(df, col):\n",
    "    plt.figure(figsize=(10, 10))\n",
    "    \n",
    "    # Histograms with boxplots and distribution\n",
    "    plt.subplot(2,2,1)\n",
    "    histogram_boxplot(df.loc[df[\"treat\"] == 1], col, \"With Treatment\")\n",
    "    \n",
    "    plt.subplot(2,2,2)\n",
    "    histogram_boxplot(df.loc[df[\"treat\"] == 0], col, \"Without Treatment\")\n",
    "    \n",
    "    plt.subplot(2,2,3)\n",
    "    histogram_boxplot(df, col, \"With and Without Treatment\")\n",
    "    \n",
    "    # Boxplots with datapoints\n",
    "    plt.subplot(2,2,4)\n",
    "    boxplot_with_swarmplot(df,col)\n",
    "    \n",
    "    plt.tight_layout()\n",
    "    \n",
    "def compare_distributions_of_feature(df,col, year = \"78\"):\n",
    "    data = df.copy()\n",
    "    data[col] = data[col].astype('category')\n",
    "    \n",
    "    if len(data[col].unique()) < 4:\n",
    "        categorical_boxplots(df, col, year)\n",
    "    else:\n",
    "        boxplot_with_swarmplot(df,col)\n",
    "    \n",
    "    plt.tight_layout()\n",
    "    \n",
    "def plot_all_for_non_categorical_variables(df):\n",
    "    plt.figure(figsize=(10, 10))\n",
    "\n",
    "    for idx,col in enumerate([\"age\", \"educ\",\"re74\",\"re75\",\"re78\"]):\n",
    "        if col in [\"age\", \"educ\"]:\n",
    "            plt.subplot(4,2,idx+1)\n",
    "        else:\n",
    "            plt.subplot(4,1,idx)\n",
    "            plt.xlim(0,61000)\n",
    "        boxplot_with_swarmplot(df,col)\n",
    "\n",
    "    plt.tight_layout()\n",
    "    \n",
    "def plot_distributions(df):\n",
    "    fig = plt.figure(figsize = (10,10))\n",
    "    for i, attribute in enumerate([\"married\", \"nodegree\", \"black\", \"white\", \"hispan\"]):\n",
    "        ax = plt.subplot(3,3,i+1)\n",
    "\n",
    "\n",
    "        ax.hist([df.loc[df_matched[attribute] == 1, \"treat\"],\\\n",
    "                 df.loc[df_matched[attribute] == 0, \"treat\"]], color=['r','b'], alpha=0.5)  \n",
    "        ax.set_title(attribute)\n",
    "        ax.legend([\"Treated\", \"Not Treated\"])\n",
    "    plt.tight_layout;"
   ]
  },
  {
   "cell_type": "markdown",
   "metadata": {},
   "source": [
    "**Functions used for computation and visualization of the confusion matrices**\n",
    "\n",
    "Code taken from [here](http://scikit-learn.org/stable/auto_examples/model_selection/plot_confusion_matrix.html) for visualization of the confusion matrix\n"
   ]
  },
  {
   "cell_type": "code",
   "execution_count": null,
   "metadata": {},
   "outputs": [],
   "source": [
    "def plot_confusion_matrix(cm, classes,\n",
    "                          normalize=False,\n",
    "                          title='Confusion matrix',\n",
    "                          cmap=plt.cm.Blues, print_cnf = False):\n",
    "    \"\"\"\n",
    "    This function prints and plots the confusion matrix.\n",
    "    Normalization can be applied by setting `normalize=True`.\n",
    "    \"\"\"\n",
    "    if normalize:\n",
    "        cm = cm.astype('float') / cm.sum(axis=1)[:, np.newaxis]\n",
    "        print(\"Normalized confusion matrix\")\n",
    "    else:\n",
    "        print('Confusion matrix, without normalization')\n",
    "\n",
    "    if print_cnf:\n",
    "        print(cm)\n",
    "\n",
    "    plt.imshow(cm, interpolation='nearest', cmap=cmap)\n",
    "    plt.title(title)\n",
    "    plt.colorbar()\n",
    "    tick_marks = np.arange(len(classes))\n",
    "    plt.xticks(tick_marks, classes, rotation=45)\n",
    "    plt.yticks(tick_marks, classes)\n",
    "\n",
    "    fmt = '.2f' if normalize else 'd'\n",
    "    thresh = cm.max() / 2.\n",
    "    for i, j in itertools.product(range(cm.shape[0]), range(cm.shape[1])):\n",
    "        plt.text(j, i, format(cm[i, j], fmt),\n",
    "                 horizontalalignment=\"center\",\n",
    "                 color=\"white\" if cm[i, j] > thresh else \"black\")\n",
    "\n",
    "    plt.tight_layout()\n",
    "    plt.ylabel('True label')\n",
    "    plt.xlabel('Predicted label')"
   ]
  },
  {
   "cell_type": "markdown",
   "metadata": {},
   "source": [
    "Function used to compute all the attributes of the confusion matrix as well as the true positive rates, false positive rates, precision, recall and F1 measure. The function also calls the plotting function above. Note that the function uses the weighted option for precision, recall and f1 score to take into account the fact that the classes are imbalanced."
   ]
  },
  {
   "cell_type": "code",
   "execution_count": null,
   "metadata": {},
   "outputs": [],
   "source": [
    "def my_confusion_matrix(y_test, y_est, classes, print_cnf = True):    \n",
    "    # Computing the confusion matrix\n",
    "    cnf_matrix = confusion_matrix(y_test, y_est);\n",
    "    # Displaying the values \n",
    "    if print_cnf:\n",
    "        print(cnf_matrix)\n",
    "    # Plotting the confusion matrix\n",
    "    plot_confusion_matrix(cnf_matrix, classes=classes, normalize=True,\n",
    "                          title='Normalized confusion matrix', print_cnf = print_cnf);\n",
    "    # Outputting the TPR, FPR, Precision, Recall, F1\n",
    "    TPR = cnf_matrix[0,0]/len(prop_data)\n",
    "    FPR = cnf_matrix[1,0]/len(prop_data)\n",
    "    precision = precision_score(y_test, y_est, average='weighted')\n",
    "    recall = recall_score(y_test, y_est, average='weighted')\n",
    "    F1 = f1_score(y_test, y_est, average='weighted')\n",
    "    print(\"--------------------------\")\n",
    "    print(\"True Positive Rate: {:.4f}\".format(TPR))\n",
    "    print(\"False Positive Rate: {:.4f}\".format(FPR))\n",
    "    print(\"Precision : {:.4f}\".format(precision))\n",
    "    print(\"Recall : {:.4f}\".format(recall))\n",
    "    print(\"F1 Score: {:.4f}\".format(F1))"
   ]
  },
  {
   "cell_type": "markdown",
   "metadata": {},
   "source": [
    "### 1.1. Naive Analysis"
   ]
  },
  {
   "cell_type": "markdown",
   "metadata": {},
   "source": [
    "** Raw Data **\n",
    "\n",
    "We started by recovering certain non parametric metrics regarding the raw data and plotting the correponding boxplots"
   ]
  },
  {
   "cell_type": "code",
   "execution_count": null,
   "metadata": {},
   "outputs": [],
   "source": [
    "statistical_description(data, \"re78\")\n",
    "\n",
    "print(\"Describing the data with parametric and non parametric metrics\")\n",
    "data[[\"re78\", \"treat\"]].groupby(\"treat\").describe()"
   ]
  },
  {
   "cell_type": "code",
   "execution_count": null,
   "metadata": {
    "scrolled": false
   },
   "outputs": [],
   "source": [
    "plotting_data(data, \"re78\")\n"
   ]
  },
  {
   "cell_type": "markdown",
   "metadata": {},
   "source": [
    "**Looking at the data description and boxplot :**\n",
    "\n",
    "Given the average revenues it would even seem that following the training program actually has a negative impact. Looking at the boxplot it would even seem that a larger portion of people suffer from lower salaries (looking at the difference between q3 and q1). However there are certain outlyers with significantly higher salaries when having followed the training program. This may be that there are certain people which benefitted significantly from the traning program.\n",
    "\n",
    "**Looking at the histograms **\n",
    "\n",
    "It is evident that a significant number of people do not have a job. This could potentially be biasing the results. We can also note that the distributions are not normal which can also be seen in the statistical tests where the null hypothesis is rejected when testing normality\n",
    "\n",
    "**Looking at the statistical results :**\n",
    "\n",
    "Both treatment and no treatment come from the same distribution. This could indicate that there is no difference between having taken the treatment or not. To compute the correlation we must use a non parametric correlation method such as the spearman correlation. This correlation is quite low (-0.04) which would indicate that there is no link between the revenue in 78 and having followed the training program. "
   ]
  },
  {
   "cell_type": "markdown",
   "metadata": {},
   "source": [
    "### 1.2. Closer Look\n",
    "\n",
    "**TODO : For each feature in the dataset, compare its distribution in the treated group with its distribution in the control group, using plots and numbers. As above, you may use the techniques we discussed in class for summarizing and comparing the distributions.\n",
    "What do you observe? Describe what your observations mean for the conclusions drawn by the naive \"researcher\" from his superficial analysis.**\n",
    "\n",
    "**Questions for TAS : **\n",
    "- Do we need to describe all the data with plots AND numbers? Or is one or the other sufficient. Especially since the boxplots are explicit enough \n",
    "\n",
    "**To Adrian and Jordi : do either of you have any ideas of what else can be visualized?**"
   ]
  },
  {
   "cell_type": "markdown",
   "metadata": {},
   "source": [
    "**Visualising boxplots for different non categorical features**"
   ]
  },
  {
   "cell_type": "code",
   "execution_count": null,
   "metadata": {},
   "outputs": [],
   "source": [
    "plot_all_for_non_categorical_variables(data)"
   ]
  },
  {
   "cell_type": "markdown",
   "metadata": {},
   "source": [
    "Certain comments can already be made regarding the different features observed. In nearly all cases, the data is not normally distributed which is why it is important to consider non parametric metrics. That is why the boxplots are ideal to get a broad sense of what is going on in the data. Note that there may be a slight exception where the number of years of education is concerned though which seem to be part of the same distribution.\n",
    "\n",
    "**TODO : run the test numerically to validate that the ages are part of the same distribution and that it is normally distributed**\n",
    "\n",
    "More specifically :\n",
    "- In terms of age, the majority of people interviewed are below their 30s. The same goes for the number of people who did the training. \n",
    "- In terms of education, the majority of people interviewed are around 10 years of education. The same goes for the people who did the training. \n",
    "- Where the revenues are concerned\n",
    "    - There are a significant number of people who had 0 revenue in the given years. This means that there are people who are unemployed throughout the entire period which is not suprising in the sense that there is a majority of people under 30 who are being interviewed. This means that at the time of treatment, most of them are most likely still studying and not looking for jobs. \n",
    "    - The control group experienced a general decrease in revenue between 74 and 75. This is most likely due to the oil crisis which experienced it's first peak around that time ([see here](https://en.wikipedia.org/wiki/1970s_energy_crisis#/media/File:Nominalrealoilprices1968-2006.png)). Their revenues increased significantly by 78 even though they had not participated in the training program. This could also be linked to a drop in the oil prices before the peak in the 80s.\n",
    "    - Those who followed the training program essentially had revenues below 3000 dollars in 74 and 75. This is coherent with the fact that a majority of these people are young as mentioned previously and not necessarily looking for jobs. Therefore it would be logical to assume that in 78 when a larger fraction of people got jobs that their revenues would increase but that they would be lower than that of the control group where more people had jobs to begin with, especially since the salary is supposed to increase over time.\n",
    "    - The outlyers we can see in the treatment group were already present in 74 and 75. "
   ]
  },
  {
   "cell_type": "markdown",
   "metadata": {},
   "source": [
    "** Race **"
   ]
  },
  {
   "cell_type": "code",
   "execution_count": null,
   "metadata": {},
   "outputs": [],
   "source": [
    "for year in [\"74\", \"75\",\"78\"]:\n",
    "    compare_distributions_of_feature(data,\"race\", year = year)"
   ]
  },
  {
   "cell_type": "markdown",
   "metadata": {},
   "source": [
    "** Married **"
   ]
  },
  {
   "cell_type": "code",
   "execution_count": null,
   "metadata": {},
   "outputs": [],
   "source": [
    "for year in [\"74\", \"75\",\"78\"]:\n",
    "    compare_distributions_of_feature(data,\"married\", year = year)"
   ]
  },
  {
   "cell_type": "markdown",
   "metadata": {},
   "source": [
    "**No Degree**"
   ]
  },
  {
   "cell_type": "code",
   "execution_count": null,
   "metadata": {},
   "outputs": [],
   "source": [
    "for year in [\"74\", \"75\",\"78\"]:\n",
    "    compare_distributions_of_feature(data,\"nodegree\", year = year)"
   ]
  },
  {
   "cell_type": "markdown",
   "metadata": {},
   "source": [
    "**Getting information for categorical values regarding the treatment**"
   ]
  },
  {
   "cell_type": "code",
   "execution_count": null,
   "metadata": {},
   "outputs": [],
   "source": [
    "for idx,col in enumerate([\"married\", \"nodegree\", \"race\"]):\n",
    "    description = data[[col, \"treat\"]].groupby(col).describe()\n",
    "    print(description[\"treat\"].drop([\"min\", \"25%\", \"50%\", \"75%\", \"max\"],axis = 1))  \n",
    "    print(\"-----------------------------------\")"
   ]
  },
  {
   "cell_type": "markdown",
   "metadata": {},
   "source": [
    "Looking at how many people followed the seminar we can quickly see that none of the treatment vs. no treatment for the different categories are balanced neither in terms of count, average or distribution. This is something that will be addressed in part 4 of the exercise when matching. "
   ]
  },
  {
   "cell_type": "markdown",
   "metadata": {},
   "source": [
    "### 1.3. Propensity Score Model\n",
    "\n",
    "Function used to compute the propensity scores "
   ]
  },
  {
   "cell_type": "code",
   "execution_count": null,
   "metadata": {},
   "outputs": [],
   "source": [
    "def propensity_scores(df):\n",
    "    treatment_features = ['age', 'black', 'white', 'hispan', 'educ', 'married', 'nodegree', 're74', 're75']\n",
    "    treatment_class = 'treat'\n",
    "\n",
    "    # The features vector\n",
    "    X = pd.get_dummies(df[treatment_features])\n",
    "    X.head(10)\n",
    "    # The labels\n",
    "    y = df[treatment_class]\n",
    "    # The model\n",
    "    logistic = LogisticRegression()\n",
    "    # Fit the model to the data\n",
    "    logistic.fit(X, y)\n",
    "    # Predictions \n",
    "    pred = logistic.predict_proba(X)\n",
    "\n",
    "    # Saving predictions to dataframe\n",
    "    df[\"Probability of Treatment\"] = pred[:,1]\n",
    "    df[\"Estimated Treatment\"] = np.where(df[\"Probability of Treatment\"]>=0.5, 1, 0)\n",
    "\n",
    "    return pred, y, df"
   ]
  },
  {
   "cell_type": "code",
   "execution_count": null,
   "metadata": {},
   "outputs": [],
   "source": [
    "prop_data = data.copy()\n",
    "prop_data.reset_index(inplace = True)\n",
    "\n",
    "treated = prop_data[prop_data['treat']==1]\n",
    "control = prop_data[prop_data['treat']==0]\n",
    "\n",
    "print(\"Treated {0}, Not Treated {1}\".format(len(treated), len(control)))"
   ]
  },
  {
   "cell_type": "markdown",
   "metadata": {},
   "source": [
    "As mentioned previously the classes are imbalanced which will be adressed in the next question "
   ]
  },
  {
   "cell_type": "code",
   "execution_count": null,
   "metadata": {},
   "outputs": [],
   "source": [
    "pred, labels, prop_data = propensity_scores(prop_data)\n",
    "# Computing the confusion matrix\n",
    "my_confusion_matrix(y, prop_data[\"Estimated Treatment\"].tolist(), [\"treatment\", \"control\"])\n"
   ]
  },
  {
   "cell_type": "markdown",
   "metadata": {},
   "source": [
    "Looking at the normalized confusion matrix for the prediction labels we can see that with a simple non optimized threshold of 0.5 we can already obtain a realtively good estimation of whether a person was going to follow the training program or not. \n",
    "\n",
    "**Lookup how to read the confusion matrices again, especially in the case of unbalanced classes**"
   ]
  },
  {
   "cell_type": "markdown",
   "metadata": {},
   "source": [
    "### 1.4. Balancing the Dataset Via Matching\n",
    "\n",
    "http://jfinkels-networkx.readthedocs.io/en/latest/reference/algorithms/generated/networkx.algorithms.matching.max_weight_matching.html"
   ]
  },
  {
   "cell_type": "code",
   "execution_count": null,
   "metadata": {},
   "outputs": [],
   "source": [
    "def bipartite_matching(labels, pred):\n",
    "    # Create a bipartite graph from the weighted adjacency matrix\n",
    "    G=nx.Graph()\n",
    "\n",
    "    idx_0 = [i for i in range(len(labels)) if labels[i] == 0] # not treated\n",
    "    idx_1 = [i for i in range(len(labels)) if labels[i] == 1] # treated\n",
    "\n",
    "    G.add_nodes_from(idx_0, bipartite=0) \n",
    "    G.add_nodes_from(idx_1, bipartite=1)\n",
    "\n",
    "    # Adding the edges to the graph as the difference in propensity score\n",
    "    for i in idx_0:\n",
    "        for j in idx_1:\n",
    "            G.add_edge(i,j,weight=1/((pred[i,1]-pred[j,1])**2+10**(-10)))\n",
    "\n",
    "    # Use the networkx max_weight_matching algorithm on the graph in order \n",
    "    # to find the optimal pairs.\n",
    "    matching = nx.max_weight_matching(G)\n",
    "\n",
    "    # Removing permutations \n",
    "    new_matching = [[k,v] for k, v in matching.items()]\n",
    "    new_matching = dict(set(tuple(sorted(pair)) for pair in new_matching))\n",
    "\n",
    "    return new_matching"
   ]
  },
  {
   "cell_type": "code",
   "execution_count": null,
   "metadata": {},
   "outputs": [],
   "source": [
    "new_matching = bipartite_matching(y, pred)"
   ]
  },
  {
   "cell_type": "code",
   "execution_count": null,
   "metadata": {},
   "outputs": [],
   "source": [
    "df_matched.loc[[list(new_matching.keys())[5],list(new_matching.values())[5]]]\n"
   ]
  },
  {
   "cell_type": "markdown",
   "metadata": {},
   "source": [
    "Retaining only the matched pairs"
   ]
  },
  {
   "cell_type": "code",
   "execution_count": null,
   "metadata": {},
   "outputs": [],
   "source": [
    "df_matched = data.reset_index()\n",
    "df_matched = df_matched.loc[ list(new_matching.keys()) + list(new_matching.values())]\n",
    "df_matched.head()"
   ]
  },
  {
   "cell_type": "markdown",
   "metadata": {},
   "source": [
    "**Observing the distribution of the classes for categorical variables**"
   ]
  },
  {
   "cell_type": "code",
   "execution_count": null,
   "metadata": {},
   "outputs": [],
   "source": [
    "plot_distributions(df_matched)"
   ]
  },
  {
   "cell_type": "markdown",
   "metadata": {},
   "source": [
    "Observing the distribution of the different variables we see that there is a big imbalance where the hispanics are concerned. \n",
    "\n",
    "**Observing the output for the year 1978**"
   ]
  },
  {
   "cell_type": "code",
   "execution_count": null,
   "metadata": {
    "scrolled": false
   },
   "outputs": [],
   "source": [
    "plotting_data(df_matched, \"re78\")"
   ]
  },
  {
   "cell_type": "code",
   "execution_count": null,
   "metadata": {},
   "outputs": [],
   "source": [
    "plot_all_for_non_categorical_variables(df_matched)"
   ]
  },
  {
   "cell_type": "markdown",
   "metadata": {},
   "source": [
    "### 1.5. Balancing Groups Further\n"
   ]
  },
  {
   "cell_type": "markdown",
   "metadata": {},
   "source": [
    "**Standardizing the data**"
   ]
  },
  {
   "cell_type": "code",
   "execution_count": null,
   "metadata": {},
   "outputs": [],
   "source": [
    "stand_data = data.copy()\n",
    "stand_data.drop([\"race\"], axis = 1, inplace = True)\n",
    "scaler = MinMaxScaler() \n",
    "scaled_values = scaler.fit_transform(stand_data) \n",
    "stand_data.loc[:,:] = scaled_values\n",
    "stand_data[\"white\"] = 10*stand_data[\"white\"]\n",
    "stand_data[\"black\"] = 10*stand_data[\"black\"]\n",
    "stand_data[\"hispan\"] = 10*stand_data[\"hispan\"]\n",
    "stand_data[\"treat\"] = data[\"treat\"]"
   ]
  },
  {
   "cell_type": "markdown",
   "metadata": {},
   "source": [
    "**Computing the New Propensity Scores**"
   ]
  },
  {
   "cell_type": "code",
   "execution_count": null,
   "metadata": {},
   "outputs": [],
   "source": [
    "stand_pred, stand_labels, stand_df = propensity_scores(stand_data)\n",
    "# Computing the confusion matrix\n",
    "my_confusion_matrix(stand_labels, stand_df[\"Estimated Treatment\"].tolist(), [\"treatment\", \"control\"])"
   ]
  },
  {
   "cell_type": "markdown",
   "metadata": {},
   "source": [
    "**Matching**"
   ]
  },
  {
   "cell_type": "code",
   "execution_count": null,
   "metadata": {},
   "outputs": [],
   "source": [
    "new_stand_matching = bipartite_matching(stand_labels, stand_pred)\n",
    "stand_df_matched = data.reset_index()\n",
    "stand_df_matched = stand_df_matched.loc[ list(new_stand_matching.keys()) + list(new_stand_matching.values())]\n",
    "plot_distributions(stand_df_matched)\n"
   ]
  },
  {
   "cell_type": "code",
   "execution_count": null,
   "metadata": {},
   "outputs": [],
   "source": [
    "temp = stand_df_matched.copy()\n",
    "categs = [\"treat\", \"age\", \"educ\", \"married\", \"nodegree\",\"re74\", \"re75\", \"black\", \"white\", \"hispan\"]\n",
    "temp1 = temp.loc[list(new_stand_matching.keys()),categs]                        \n",
    "temp2 = temp.loc[list(new_stand_matching.values()), categs]\n",
    "\n",
    "temp1.reset_index(inplace = True)       \n",
    "temp2.reset_index(inplace = True)  \n",
    "\n",
    "diff = temp1-temp2\n",
    "diff.drop(\"index\", axis = 1, inplace = True)\n",
    "diff\n"
   ]
  },
  {
   "cell_type": "markdown",
   "metadata": {},
   "source": [
    "___\n",
    "___\n",
    "___\n",
    "\n",
    "## Question 2: Applied ML\n",
    "\n",
    "We are going to build a classifier of news to directly assign them to 20 news categories. Note that the pipeline that you will build in this exercise could be of great help during your project if you plan to work with text!\n",
    "\n",
    "1. Load the 20newsgroup dataset. It is, again, a classic dataset that can directly be loaded using sklearn ([link](http://scikit-learn.org/stable/datasets/twenty_newsgroups.html)).  \n",
    "[TF-IDF](https://en.wikipedia.org/wiki/Tf%E2%80%93idf), short for term frequency–inverse document frequency, is of great help when if comes to compute textual features. Indeed, it gives more importance to terms that are more specific to the considered articles (TF) but reduces the importance of terms that are very frequent in the entire corpus (IDF). Compute TF-IDF features for every article using [TfidfVectorizer](http://scikit-learn.org/stable/modules/generated/sklearn.feature_extraction.text.TfidfVectorizer.html). Then, split your dataset into a training, a testing and a validation set (10% for validation and 10% for testing). Each observation should be paired with its corresponding label (the article category).\n",
    "\n",
    "2. Train a random forest on your training set. Try to fine-tune the parameters of your predictor on your validation set using a simple grid search on the number of estimator \"n_estimators\" and the max depth of the trees \"max_depth\". Then, display a confusion matrix of your classification pipeline. Lastly, once you assessed your model, inspect the `feature_importances_` attribute of your random forest and discuss the obtained results.\n",
    "\n",
    "___\n",
    "___\n",
    "___\n",
    "\n",
    "**1. Loading the dataset **\n",
    "\n",
    "We started by importing the news groups dataset for the scikit learn library. We isolated the data and the target names then we computed the term frequency inverse document frequency for each of the entries. This becomes our matrix of features X. We then split the dataset into training, validation and testing set using `np.split` function. We were careful to have a sparse array at the end in order to speed up the classification with the random forests. It is important to note that there are 170'000 features for 18'000 samples. Therefore it would have been interesting to do a preliminary feature selection before classification.\n",
    "\n",
    "**2. Training and Classification With Random Forests **\n",
    "\n",
    "To find the best parameters we ran a grid search as asked, although it would have been faster to run a random search using the scikit learn RandomSearchCV. We chose not to use the GridSearchCV function because the grid search Cv function outputs the solution with the best results while there is often a tradeoff to be made between the number of parameters / computation time and the accuracy. We wanted to be able to select the set of parameters which offered the best compromise which is why we output the results of the grid search in the form of a heatmap before finding the best tradeoff. We then retrained the model with the optimal parameters, did the confusion matrix and assessed the results as well as the features selected.\n"
   ]
  },
  {
   "cell_type": "markdown",
   "metadata": {},
   "source": [
    "### 1. Loading the Dataset"
   ]
  },
  {
   "cell_type": "code",
   "execution_count": 2,
   "metadata": {},
   "outputs": [
    {
     "data": {
      "text/plain": [
       "dict_keys(['data', 'filenames', 'target_names', 'target', 'DESCR', 'description'])"
      ]
     },
     "execution_count": 2,
     "metadata": {},
     "output_type": "execute_result"
    }
   ],
   "source": [
    "# Load the entire dataset from the website with shuffled ordering\n",
    "newsgroups = fetch_20newsgroups(subset = \"all\")\n",
    "newsgroups.keys()"
   ]
  },
  {
   "cell_type": "code",
   "execution_count": 3,
   "metadata": {},
   "outputs": [],
   "source": [
    "# Computing the features \n",
    "vectorizer = TfidfVectorizer(use_idf=True)\n",
    "X = vectorizer.fit_transform(newsgroups[\"data\"])\n",
    "# Labels\n",
    "Y = newsgroups.target\n",
    "# Mapping the indexes of targets to the names\n",
    "targets_dict = {i:newsgroups['target_names'][i] for i in range(len(newsgroups['target_names']))}"
   ]
  },
  {
   "cell_type": "markdown",
   "metadata": {},
   "source": [
    "As the data is already shuffled when loading with the fetching function, we can simply slice the arrays without randomizing the data first."
   ]
  },
  {
   "cell_type": "code",
   "execution_count": 4,
   "metadata": {},
   "outputs": [
    {
     "name": "stdout",
     "output_type": "stream",
     "text": [
      "0.7999575506738831 0.10002122466305848 0.10002122466305848\n"
     ]
    }
   ],
   "source": [
    "# Splitting the data into a training, testing and validation set\n",
    "total = len(Y)\n",
    "prop = int(np.ceil(0.1*len(Y)))\n",
    "# Split the training data and the labels \n",
    "X_train, X_valid, X_test = np.split(X.toarray(), [total-2*prop, total-prop])\n",
    "y_train, y_valid, y_test = np.split(Y, [total-2*prop, total-prop])\n",
    "\n",
    "# Verifying the proportions for the training, validation and testing sets\n",
    "print(len(X_train)/total, len(X_valid)/total, len(X_test)/total)\n",
    "\n",
    "# Convert to sparse matrices\n",
    "X_train, X_valid, X_test = sparse.csc_matrix(X_train), sparse.csc_matrix(X_valid), sparse.csc_matrix(X_test)"
   ]
  },
  {
   "cell_type": "markdown",
   "metadata": {},
   "source": [
    "### 2. Training and Classification With Random Forests"
   ]
  },
  {
   "cell_type": "markdown",
   "metadata": {},
   "source": [
    "First a functions which are useful for the question :\n",
    "- train the random forest classifier model given a training set, the desired number of estimators and the max depth\n",
    "- test the given model on a given test set and output the accuracy\n",
    "- run a grid serach on a training and testing set for a given range of estimators and max_depth parameters."
   ]
  },
  {
   "cell_type": "code",
   "execution_count": 5,
   "metadata": {},
   "outputs": [],
   "source": [
    "def train_model(X_train, y_train, num_estimators, max_depth):\n",
    "    rf = RandomForestClassifier(n_estimators=num_estimators, max_depth = max_depth,\\\n",
    "                                random_state = 0)\n",
    "    rf.fit(X_train, y_train)\n",
    "    return rf\n",
    "\n",
    "def test_model(X_test, y_test, rf):\n",
    "    predicted = rf.predict(X_test)\n",
    "    accuracy = accuracy_score(y_test, predicted)\n",
    "    return predicted, accuracy\n",
    "\n",
    "def grid_search(estimators, depth, step, X_train, y_train, X_test, y_test):\n",
    "    accuracy_scores = dict()\n",
    "    accuracy_mat = np.zeros((max_num_est//step,max_num_depth//step))\n",
    "    \n",
    "    for n, n_estimators in enumerate(estimators):\n",
    "        for md, max_depth in tqdm(enumerate(depth)):\n",
    "            rf = train_model(X_train, y_train, n_estimators, max_depth)\n",
    "            _,accuracy = test_model(X_valid, y_valid, rf)       \n",
    "            accuracy_scores[(n_estimators, max_depth)]= accuracy\n",
    "            accuracy_mat[n,md] = accuracy \n",
    "            \n",
    "    return accuracy_scores, accuracy_mat\n",
    "\n",
    "def plot_grid_search_results(accuracy_mat, estimators, depth):\n",
    "    ax = sns.heatmap(accuracy_mat, annot=True)\n",
    "    ax.set_xlabel(\"Estimators\")\n",
    "    ax.set_ylabel(\"Depth\")\n",
    "    ax.set_xticklabels(estimators,rotation=90)\n",
    "    ax.set_yticklabels(depth,rotation=0)\n",
    "    ax.set_title(\"Accuracy depending on the number of decision trees and max depth\")"
   ]
  },
  {
   "cell_type": "markdown",
   "metadata": {},
   "source": [
    "Starting off with a rough estimation of the accuracy over a limited set of parameters. "
   ]
  },
  {
   "cell_type": "code",
   "execution_count": 6,
   "metadata": {
    "scrolled": false
   },
   "outputs": [
    {
     "name": "stderr",
     "output_type": "stream",
     "text": [
      "5it [31:57, 383.54s/it]\n",
      "5it [1:04:43, 776.69s/it]\n",
      "5it [1:45:49, 1269.90s/it]\n",
      "5it [2:12:25, 1589.03s/it]\n",
      "5it [2:58:13, 2138.76s/it]\n"
     ]
    }
   ],
   "source": [
    "max_num_est, max_num_depth, step = 1001, 1001, 200\n",
    "estimators, depth = range(step,max_num_est,step), range(step,max_num_depth,step)\n",
    "\n",
    "accuracy_scores, accuracy_mat = grid_search(estimators, depth, step, X_train, y_train, \n",
    "                                            X_valid, y_valid)\n"
   ]
  },
  {
   "cell_type": "code",
   "execution_count": 7,
   "metadata": {},
   "outputs": [
    {
     "data": {
      "image/png": "[encoded data removed]",
      "text/plain": [
       "<matplotlib.figure.Figure at 0x11296e4a8>"
      ]
     },
     "metadata": {},
     "output_type": "display_data"
    }
   ],
   "source": [
    "plot_grid_search_results(accuracy_mat, estimators, depth)"
   ]
  },
  {
   "cell_type": "code",
   "execution_count": null,
   "metadata": {},
   "outputs": [
    {
     "name": "stderr",
     "output_type": "stream",
     "text": [
      "29it [15:20, 31.73s/it]\n",
      "29it [12:38, 26.15s/it]\n",
      "29it [13:18, 27.53s/it]\n",
      "29it [18:05, 37.44s/it]\n",
      "29it [21:04, 43.61s/it]\n",
      "29it [25:21, 52.48s/it]\n",
      "29it [29:59, 62.05s/it]\n",
      "29it [34:25, 71.21s/it]\n",
      "29it [37:55, 78.47s/it]\n",
      "29it [42:30, 87.93s/it]\n",
      "29it [46:35, 96.40s/it]\n",
      "29it [51:25, 106.38s/it]\n",
      "29it [54:35, 112.94s/it]\n",
      "29it [59:45, 123.64s/it]\n",
      "29it [1:03:44, 131.88s/it]\n",
      "29it [1:42:50, 212.78s/it]\n",
      "29it [1:54:10, 236.22s/it]\n",
      "29it [1:21:07, 167.83s/it]\n",
      "29it [1:28:52, 183.87s/it]\n",
      "29it [1:40:18, 207.55s/it]\n",
      "25it [1:22:00, 196.82s/it]"
     ]
    }
   ],
   "source": [
    "max_num_est, max_num_depth, step = 300, 300, 10\n",
    "estimators, depth = range(step,max_num_est,step), range(step,max_num_depth,step)\n",
    "\n",
    "accuracy_scores, accuracy_mat = grid_search(estimators, depth, step, X_train, y_train, \n",
    "                                            X_valid, y_valid)\n"
   ]
  },
  {
   "cell_type": "code",
   "execution_count": null,
   "metadata": {},
   "outputs": [],
   "source": [
    "opt_n_est,opt_max_depth = max(accuracy_scores, key=accuracy_scores.get)\n",
    "rf = RandomForestClassifier(n_estimators=opt_n_est, max_depth = opt_max_depth,\\\n",
    "                            random_state = 0)\n",
    "rf.fit(X_train, y_train)\n",
    "\n",
    "predicted_train, train_accuracy = test_model(X_train, y_train, rf)\n",
    "predicted_valid, valid_accuracy = test_model(X_valid, y_valid, rf)\n",
    "predicted_test, test_accuracy = test_model(X_test, y_test, rf)\n",
    "\n",
    "print(\"Training Accuracy : {}\".format(train_accuracy))\n",
    "print(\"Validation Accuracy : {}\".format(valid_accuracy))\n",
    "print(\"Testing Accuracy : {}\".format(test_accuracy))\n"
   ]
  },
  {
   "cell_type": "code",
   "execution_count": null,
   "metadata": {
    "scrolled": false
   },
   "outputs": [],
   "source": [
    "y_est, test_accuracy = test_model(X_test, y_test, rf)\n",
    "plt.figure(figsize = (12,12))\n",
    "my_confusion_matrix(y_test, y_est, newsgroups['target_names'], print_cnf = False)\n"
   ]
  },
  {
   "cell_type": "code",
   "execution_count": null,
   "metadata": {},
   "outputs": [],
   "source": [
    "num_relevant_features = np.count_nonzero(rf.feature_importances_)\n",
    "prop_relevant_features = num_relevant_features/len(rf.feature_importances_)*100\n",
    "print(\"Number of features with non zero importance {}\".format(num_relevant_features))\n",
    "print(\"Proportion of features with non zero importance : {:.1f} %\".format(prop_relevant_features))\n",
    "print(\"Highest importance obtained : {:.2f}%\".format(max(rf.feature_importances_)*100))"
   ]
  },
  {
   "cell_type": "code",
   "execution_count": null,
   "metadata": {},
   "outputs": [],
   "source": []
  }
 ],
 "metadata": {
  "kernelspec": {
   "display_name": "Python [conda env:ADA]",
   "language": "python",
   "name": "conda-env-ADA-py"
  },
  "language_info": {
   "codemirror_mode": {
    "name": "ipython",
    "version": 3
   },
   "file_extension": ".py",
   "mimetype": "text/x-python",
   "name": "python",
   "nbconvert_exporter": "python",
   "pygments_lexer": "ipython3",
   "version": "3.6.2"
  }
 },
 "nbformat": 4,
 "nbformat_minor": 2
}
