{
 "cells": [
  {
   "cell_type": "markdown",
   "metadata": {},
   "source": [
    "# Homework 2 : Data from the Web"
   ]
  },
  {
   "cell_type": "code",
   "execution_count": 2,
   "metadata": {},
   "outputs": [],
   "source": [
    "%matplotlib inline\n",
    "import pandas as pd\n",
    "import numpy as np\n",
    "import matplotlib.pyplot as plt\n",
    "import seaborn\n",
    "import requests\n",
    "from bs4 import BeautifulSoup"
   ]
  },
  {
   "cell_type": "markdown",
   "metadata": {},
   "source": [
    "### 1. Top University Ranking : QS\n",
    "Next we Are going to load the data from the URL of QS. The main URL of the ranking page is the following : "
   ]
  },
  {
   "cell_type": "code",
   "execution_count": 3,
   "metadata": {
    "collapsed": true
   },
   "outputs": [],
   "source": [
    "QS_URL = \"https://www.topuniversities.com/sites/default/files/qs-rankings-data/357051.txt?_=1508016143198\""
   ]
  },
  {
   "cell_type": "markdown",
   "metadata": {},
   "source": [
    "Nest, we make the HTTP Request and get the JSON file into a list of dictionnaries :"
   ]
  },
  {
   "cell_type": "code",
   "execution_count": 47,
   "metadata": {},
   "outputs": [
    {
     "data": {
      "text/plain": [
       "{'cc': 'US',\n",
       " 'core_id': '410',\n",
       " 'country': 'United States',\n",
       " 'guide': '<a href=\"/where-to-study/north-america/united-states/guide\" class=\"guide-link\" target=\"_blank\">United States</a>',\n",
       " 'logo': '<img src=\"https://www.topuniversities.com/sites/default/files/massachusetts-institute-of-technology-mit_410_small_0.jpg\" alt=\"Massachusetts Institute of Technology (MIT)  Logo\">',\n",
       " 'nid': '294850',\n",
       " 'rank_display': '1',\n",
       " 'region': 'North America',\n",
       " 'score': '100',\n",
       " 'stars': '6',\n",
       " 'title': 'Massachusetts Institute of Technology (MIT)',\n",
       " 'url': '/universities/massachusetts-institute-technology-mit'}"
      ]
     },
     "execution_count": 47,
     "metadata": {},
     "output_type": "execute_result"
    }
   ],
   "source": [
    "QS_R = requests.get(QS_URL)\n",
    "QS_dict = QS_R.json()['data']\n",
    "QS_dict[0]"
   ]
  },
  {
   "cell_type": "markdown",
   "metadata": {},
   "source": [
    "Create an empty dataFrame for the QS Data :"
   ]
  },
  {
   "cell_type": "code",
   "execution_count": 55,
   "metadata": {},
   "outputs": [
    {
     "data": {
      "text/html": [
       "<div>\n",
       "<style>\n",
       "    .dataframe thead tr:only-child th {\n",
       "        text-align: right;\n",
       "    }\n",
       "\n",
       "    .dataframe thead th {\n",
       "        text-align: left;\n",
       "    }\n",
       "\n",
       "    .dataframe tbody tr th {\n",
       "        vertical-align: top;\n",
       "    }\n",
       "</style>\n",
       "<table border=\"1\" class=\"dataframe\">\n",
       "  <thead>\n",
       "    <tr style=\"text-align: right;\">\n",
       "      <th></th>\n",
       "      <th>Name</th>\n",
       "      <th>Rank</th>\n",
       "      <th>Country</th>\n",
       "      <th>Region</th>\n",
       "      <th>Number of faculty members (int)</th>\n",
       "      <th>Number of faculty members (total)</th>\n",
       "      <th>Number of students (int)</th>\n",
       "      <th>Number of students (total)</th>\n",
       "    </tr>\n",
       "  </thead>\n",
       "  <tbody>\n",
       "  </tbody>\n",
       "</table>\n",
       "</div>"
      ],
      "text/plain": [
       "Empty DataFrame\n",
       "Columns: [Name, Rank, Country, Region, Number of faculty members (int), Number of faculty members (total), Number of students (int), Number of students (total)]\n",
       "Index: []"
      ]
     },
     "execution_count": 55,
     "metadata": {},
     "output_type": "execute_result"
    }
   ],
   "source": [
    "ranking_QS = pd.DataFrame(columns = ['Name','Rank','Country','Region','Number of faculty members (int)','Number of faculty members (total)','Number of students (int)','Number of students (total)'])\n",
    "ranking_QS.head()"
   ]
  },
  {
   "cell_type": "code",
   "execution_count": null,
   "metadata": {
    "collapsed": true
   },
   "outputs": [],
   "source": [
    "n_univ = 200;\n",
    "for i in range(0,n_univ):\n",
    "    #Import the information we have directly into the dataframe \n",
    "    \n",
    "    \n",
    "    \n",
    "    #Go get the missing information on the page of the univerisity"
   ]
  }
 ],
 "metadata": {
  "kernelspec": {
   "display_name": "Python [conda env:ADA_2017]",
   "language": "python",
   "name": "conda-env-ADA_2017-py"
  },
  "language_info": {
   "codemirror_mode": {
    "name": "ipython",
    "version": 3
   },
   "file_extension": ".py",
   "mimetype": "text/x-python",
   "name": "python",
   "nbconvert_exporter": "python",
   "pygments_lexer": "ipython3",
   "version": "3.6.3"
  }
 },
 "nbformat": 4,
 "nbformat_minor": 2
}
