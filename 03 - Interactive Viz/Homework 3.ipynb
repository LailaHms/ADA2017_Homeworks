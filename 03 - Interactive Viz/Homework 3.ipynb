{
 "cells": [
  {
   "cell_type": "markdown",
   "metadata": {},
   "source": [
    "# Homework 3"
   ]
  },
  {
   "cell_type": "code",
   "execution_count": 1,
   "metadata": {},
   "outputs": [],
   "source": [
    "import folium\n",
    "import pandas as pd\n",
    "import numpy as np\n",
    "import json\n",
    "import os\n",
    "from folium.features import TopoJson\n",
    "import matplotlib.pyplot as plt\n",
    "import seaborn as sns\n",
    "from matplotlib import cm"
   ]
  },
  {
   "cell_type": "markdown",
   "metadata": {},
   "source": [
    "**TODO : **\n",
    "- **export folium to HTML and link them in your notebook**\n",
    "- **add the real swisss unemployment rate for comparison in question 1**\n",
    "- ** See whether to add unemployment rates for non EU european countries**\n",
    "- **Answer the questions**\n",
    "- **Add interactivity**\n",
    "- **DO the visualisation**\n",
    "- **FIX SCALE FOR MAPS WHICH ARE COMPARED : HAVE THE SAME FOR BOTH**\n",
    "- ADD STRING TO TOOLTIP"
   ]
  },
  {
   "cell_type": "markdown",
   "metadata": {},
   "source": [
    "## Question 1: unemployment rate in Europe"
   ]
  },
  {
   "cell_type": "markdown",
   "metadata": {},
   "source": [
    "### Definitions\n",
    "In order for our analysis to be meaningful we need to be clear about what we are talking about. Taking the definitions given in the Eurostat website we will consider the following : \n",
    "\n",
    "**Unemployed persons** are all persons 15 to 74 years of age (16 to 74 years in ES, IT and the UK) who were not employed during the reference week, had actively sought work during the past four weeks and were ready to begin working immediately or within two weeks. Figures show the number of persons unemployed in thousands.\n",
    "\n",
    "**Employed persons** are all persons who worked at least one hour for pay or profit during the reference week or were temporarily absent from such work. For the unemployment rate, only persons from 15 to 74 years of age are used.\n",
    "\n",
    "The **unemployment rate** is the number of people unemployed as a percentage of the labour force. The labour force is the total number of people employed and unemployed. In the database, unemployment rates can be downloaded by chosing the unit \"PC_ACT\", Percentage of Active Population."
   ]
  },
  {
   "cell_type": "markdown",
   "metadata": {},
   "source": [
    "The dataset that we used was http://ec.europa.eu/eurostat/web/products-datasets/-/ei_lmhr_m which contains monthly data of the unemployment rate of each country.\n",
    "\n",
    "In the dataset we have values of unemployment rate considering 3 different categories: \n",
    "- age : over and above 25 \n",
    "- gender : male or female\n",
    "- all \n",
    "\n",
    "Therefore, we grouped the unemployment rates by the different values of the indicator selecting only the most recent information. "
   ]
  },
  {
   "cell_type": "code",
   "execution_count": 2,
   "metadata": {},
   "outputs": [
    {
     "name": "stdout",
     "output_type": "stream",
     "text": [
      "{'Belgium': 'BE', 'Bulgaria': 'BG', 'Czech Republic': 'CZ', 'Denmark': 'DK', 'Germany': 'DE', 'Estonia': 'EE', 'Ireland': 'IE', 'Greece': 'GR', 'Spain': 'ES', 'France': 'FR', 'Croatia': 'HR', 'Italy': 'IT', 'Cyprus': 'CY', 'Latvia': 'LV', 'Lithuania': 'LT', 'Luxembourg': 'LU', 'Hungary': 'HU', 'Malta': 'MT', 'Netherlands': 'NL', 'Austria': 'AT', 'Poland': 'PL', 'Portugal': 'PT', 'Romania': 'RO', 'Slovenia': 'SI', 'Slovakia': 'SK', 'Finland': 'FI', 'Sweden': 'SE', 'United Kingdom': 'GB', 'Iceland': 'IS', 'Norway': 'NO', 'Turkey': 'TR', 'Swizerland': 'CH', 'Russia': 'RU', 'Albania': 'AL', 'Macedonia': 'MK', 'Montenegro': 'ME', 'Belarus': 'BY', 'Bosnia and Herzegovina': 'BA', 'Ukraine': 'UA'}\n"
     ]
    }
   ],
   "source": [
    "# Recovering the indicators of the country from another csv file\n",
    "file_path = r'ei_lmhr_m_1_Data.csv'\n",
    "# Loading the data in the dataframe\n",
    "country_df = pd.read_csv(file_path)\n",
    "\n",
    "country_df = country_df[['GEO', 'GEO_LABEL']]\n",
    "country_df.GEO_LABEL = country_df.GEO_LABEL.str.replace(\" \\(until 1990 former territory of the FRG\\)\", \"\")\n",
    "country_df.set_index(\"GEO_LABEL\", inplace = True)\n",
    "\n",
    "GEO_Labels = country_df.to_dict()['GEO']\n",
    "\n",
    "# Correcting erroneous country codes\n",
    "GEO_Labels[\"United Kingdom\"]= \"GB\"\n",
    "GEO_Labels[\"Greece\"]= \"GR\"\n",
    "\n",
    "# Adding missing countries manually to the mapping with official country codes\n",
    "# http://www.nationsonline.org/oneworld/country_code_list.htm\n",
    "\n",
    "GEO_Labels.update({\"Swizerland\":\"CH\"})\n",
    "GEO_Labels.update({\"Russia\":\"RU\"})\n",
    "GEO_Labels.update({\"Albania\":\"AL\"})\n",
    "GEO_Labels.update({\"Macedonia\":\"MK\"})\n",
    "GEO_Labels.update({\"Montenegro\":\"ME\"})\n",
    "GEO_Labels.update({\"Belarus\":\"BY\"})\n",
    "GEO_Labels.update({\"Bosnia and Herzegovina\":\"BA\"})\n",
    "GEO_Labels.update({\"Ukraine\":\"UA\"})\n",
    "print(GEO_Labels)"
   ]
  },
  {
   "cell_type": "code",
   "execution_count": 3,
   "metadata": {
    "scrolled": true
   },
   "outputs": [
    {
     "name": "stdout",
     "output_type": "stream",
     "text": [
      "35\n"
     ]
    },
    {
     "data": {
      "text/html": [
       "<div>\n",
       "<style>\n",
       "    .dataframe thead tr:only-child th {\n",
       "        text-align: right;\n",
       "    }\n",
       "\n",
       "    .dataframe thead th {\n",
       "        text-align: left;\n",
       "    }\n",
       "\n",
       "    .dataframe tbody tr th {\n",
       "        vertical-align: top;\n",
       "    }\n",
       "</style>\n",
       "<table border=\"1\" class=\"dataframe\">\n",
       "  <thead>\n",
       "    <tr style=\"text-align: right;\">\n",
       "      <th></th>\n",
       "      <th>Value</th>\n",
       "      <th>GEO_LABEL</th>\n",
       "      <th>Relative To Switzerland</th>\n",
       "    </tr>\n",
       "    <tr>\n",
       "      <th>GEO</th>\n",
       "      <th></th>\n",
       "      <th></th>\n",
       "      <th></th>\n",
       "    </tr>\n",
       "  </thead>\n",
       "  <tbody>\n",
       "    <tr>\n",
       "      <th>Belgium</th>\n",
       "      <td>7.8</td>\n",
       "      <td>BE</td>\n",
       "      <td>4.5</td>\n",
       "    </tr>\n",
       "    <tr>\n",
       "      <th>Bulgaria</th>\n",
       "      <td>7.6</td>\n",
       "      <td>BG</td>\n",
       "      <td>4.3</td>\n",
       "    </tr>\n",
       "    <tr>\n",
       "      <th>Czech Republic</th>\n",
       "      <td>4.0</td>\n",
       "      <td>CZ</td>\n",
       "      <td>0.7</td>\n",
       "    </tr>\n",
       "    <tr>\n",
       "      <th>Denmark</th>\n",
       "      <td>6.2</td>\n",
       "      <td>DK</td>\n",
       "      <td>2.9</td>\n",
       "    </tr>\n",
       "    <tr>\n",
       "      <th>Germany</th>\n",
       "      <td>4.1</td>\n",
       "      <td>DE</td>\n",
       "      <td>0.8</td>\n",
       "    </tr>\n",
       "    <tr>\n",
       "      <th>Estonia</th>\n",
       "      <td>6.8</td>\n",
       "      <td>EE</td>\n",
       "      <td>3.5</td>\n",
       "    </tr>\n",
       "    <tr>\n",
       "      <th>Ireland</th>\n",
       "      <td>7.9</td>\n",
       "      <td>IE</td>\n",
       "      <td>4.6</td>\n",
       "    </tr>\n",
       "    <tr>\n",
       "      <th>Greece</th>\n",
       "      <td>23.6</td>\n",
       "      <td>GR</td>\n",
       "      <td>20.3</td>\n",
       "    </tr>\n",
       "    <tr>\n",
       "      <th>Spain</th>\n",
       "      <td>19.6</td>\n",
       "      <td>ES</td>\n",
       "      <td>16.3</td>\n",
       "    </tr>\n",
       "    <tr>\n",
       "      <th>France</th>\n",
       "      <td>10.1</td>\n",
       "      <td>FR</td>\n",
       "      <td>6.8</td>\n",
       "    </tr>\n",
       "    <tr>\n",
       "      <th>Croatia</th>\n",
       "      <td>13.4</td>\n",
       "      <td>HR</td>\n",
       "      <td>10.1</td>\n",
       "    </tr>\n",
       "    <tr>\n",
       "      <th>Italy</th>\n",
       "      <td>11.7</td>\n",
       "      <td>IT</td>\n",
       "      <td>8.4</td>\n",
       "    </tr>\n",
       "    <tr>\n",
       "      <th>Cyprus</th>\n",
       "      <td>13.0</td>\n",
       "      <td>CY</td>\n",
       "      <td>9.7</td>\n",
       "    </tr>\n",
       "    <tr>\n",
       "      <th>Latvia</th>\n",
       "      <td>9.6</td>\n",
       "      <td>LV</td>\n",
       "      <td>6.3</td>\n",
       "    </tr>\n",
       "    <tr>\n",
       "      <th>Lithuania</th>\n",
       "      <td>7.9</td>\n",
       "      <td>LT</td>\n",
       "      <td>4.6</td>\n",
       "    </tr>\n",
       "    <tr>\n",
       "      <th>Luxembourg</th>\n",
       "      <td>6.3</td>\n",
       "      <td>LU</td>\n",
       "      <td>3.0</td>\n",
       "    </tr>\n",
       "    <tr>\n",
       "      <th>Hungary</th>\n",
       "      <td>5.1</td>\n",
       "      <td>HU</td>\n",
       "      <td>1.8</td>\n",
       "    </tr>\n",
       "    <tr>\n",
       "      <th>Malta</th>\n",
       "      <td>4.7</td>\n",
       "      <td>MT</td>\n",
       "      <td>1.4</td>\n",
       "    </tr>\n",
       "    <tr>\n",
       "      <th>Netherlands</th>\n",
       "      <td>6.0</td>\n",
       "      <td>NL</td>\n",
       "      <td>2.7</td>\n",
       "    </tr>\n",
       "    <tr>\n",
       "      <th>Austria</th>\n",
       "      <td>6.0</td>\n",
       "      <td>AT</td>\n",
       "      <td>2.7</td>\n",
       "    </tr>\n",
       "    <tr>\n",
       "      <th>Poland</th>\n",
       "      <td>6.2</td>\n",
       "      <td>PL</td>\n",
       "      <td>2.9</td>\n",
       "    </tr>\n",
       "    <tr>\n",
       "      <th>Portugal</th>\n",
       "      <td>11.2</td>\n",
       "      <td>PT</td>\n",
       "      <td>7.9</td>\n",
       "    </tr>\n",
       "    <tr>\n",
       "      <th>Romania</th>\n",
       "      <td>5.9</td>\n",
       "      <td>RO</td>\n",
       "      <td>2.6</td>\n",
       "    </tr>\n",
       "    <tr>\n",
       "      <th>Slovenia</th>\n",
       "      <td>8.0</td>\n",
       "      <td>SI</td>\n",
       "      <td>4.7</td>\n",
       "    </tr>\n",
       "    <tr>\n",
       "      <th>Slovakia</th>\n",
       "      <td>9.7</td>\n",
       "      <td>SK</td>\n",
       "      <td>6.4</td>\n",
       "    </tr>\n",
       "    <tr>\n",
       "      <th>Finland</th>\n",
       "      <td>8.8</td>\n",
       "      <td>FI</td>\n",
       "      <td>5.5</td>\n",
       "    </tr>\n",
       "    <tr>\n",
       "      <th>Sweden</th>\n",
       "      <td>6.9</td>\n",
       "      <td>SE</td>\n",
       "      <td>3.6</td>\n",
       "    </tr>\n",
       "    <tr>\n",
       "      <th>United Kingdom</th>\n",
       "      <td>4.8</td>\n",
       "      <td>GB</td>\n",
       "      <td>1.5</td>\n",
       "    </tr>\n",
       "    <tr>\n",
       "      <th>Iceland</th>\n",
       "      <td>3.0</td>\n",
       "      <td>IS</td>\n",
       "      <td>-0.3</td>\n",
       "    </tr>\n",
       "    <tr>\n",
       "      <th>Norway</th>\n",
       "      <td>4.7</td>\n",
       "      <td>NO</td>\n",
       "      <td>1.4</td>\n",
       "    </tr>\n",
       "    <tr>\n",
       "      <th>Turkey</th>\n",
       "      <td>10.9</td>\n",
       "      <td>TR</td>\n",
       "      <td>7.6</td>\n",
       "    </tr>\n",
       "    <tr>\n",
       "      <th>Swizerland</th>\n",
       "      <td>3.3</td>\n",
       "      <td>CH</td>\n",
       "      <td>0.0</td>\n",
       "    </tr>\n",
       "    <tr>\n",
       "      <th>Russia</th>\n",
       "      <td>NaN</td>\n",
       "      <td>RU</td>\n",
       "      <td>NaN</td>\n",
       "    </tr>\n",
       "    <tr>\n",
       "      <th>Albania</th>\n",
       "      <td>NaN</td>\n",
       "      <td>AL</td>\n",
       "      <td>NaN</td>\n",
       "    </tr>\n",
       "    <tr>\n",
       "      <th>Macedonia</th>\n",
       "      <td>NaN</td>\n",
       "      <td>MK</td>\n",
       "      <td>NaN</td>\n",
       "    </tr>\n",
       "    <tr>\n",
       "      <th>Montenegro</th>\n",
       "      <td>NaN</td>\n",
       "      <td>ME</td>\n",
       "      <td>NaN</td>\n",
       "    </tr>\n",
       "    <tr>\n",
       "      <th>Ukraine</th>\n",
       "      <td>NaN</td>\n",
       "      <td>UA</td>\n",
       "      <td>NaN</td>\n",
       "    </tr>\n",
       "    <tr>\n",
       "      <th>Belarus</th>\n",
       "      <td>NaN</td>\n",
       "      <td>BY</td>\n",
       "      <td>NaN</td>\n",
       "    </tr>\n",
       "    <tr>\n",
       "      <th>Bosnia and Herzegovina</th>\n",
       "      <td>NaN</td>\n",
       "      <td>BA</td>\n",
       "      <td>NaN</td>\n",
       "    </tr>\n",
       "  </tbody>\n",
       "</table>\n",
       "</div>"
      ],
      "text/plain": [
       "                        Value GEO_LABEL  Relative To Switzerland\n",
       "GEO                                                             \n",
       "Belgium                   7.8        BE                      4.5\n",
       "Bulgaria                  7.6        BG                      4.3\n",
       "Czech Republic            4.0        CZ                      0.7\n",
       "Denmark                   6.2        DK                      2.9\n",
       "Germany                   4.1        DE                      0.8\n",
       "Estonia                   6.8        EE                      3.5\n",
       "Ireland                   7.9        IE                      4.6\n",
       "Greece                   23.6        GR                     20.3\n",
       "Spain                    19.6        ES                     16.3\n",
       "France                   10.1        FR                      6.8\n",
       "Croatia                  13.4        HR                     10.1\n",
       "Italy                    11.7        IT                      8.4\n",
       "Cyprus                   13.0        CY                      9.7\n",
       "Latvia                    9.6        LV                      6.3\n",
       "Lithuania                 7.9        LT                      4.6\n",
       "Luxembourg                6.3        LU                      3.0\n",
       "Hungary                   5.1        HU                      1.8\n",
       "Malta                     4.7        MT                      1.4\n",
       "Netherlands               6.0        NL                      2.7\n",
       "Austria                   6.0        AT                      2.7\n",
       "Poland                    6.2        PL                      2.9\n",
       "Portugal                 11.2        PT                      7.9\n",
       "Romania                   5.9        RO                      2.6\n",
       "Slovenia                  8.0        SI                      4.7\n",
       "Slovakia                  9.7        SK                      6.4\n",
       "Finland                   8.8        FI                      5.5\n",
       "Sweden                    6.9        SE                      3.6\n",
       "United Kingdom            4.8        GB                      1.5\n",
       "Iceland                   3.0        IS                     -0.3\n",
       "Norway                    4.7        NO                      1.4\n",
       "Turkey                   10.9        TR                      7.6\n",
       "Swizerland                3.3        CH                      0.0\n",
       "Russia                    NaN        RU                      NaN\n",
       "Albania                   NaN        AL                      NaN\n",
       "Macedonia                 NaN        MK                      NaN\n",
       "Montenegro                NaN        ME                      NaN\n",
       "Ukraine                   NaN        UA                      NaN\n",
       "Belarus                   NaN        BY                      NaN\n",
       "Bosnia and Herzegovina    NaN        BA                      NaN"
      ]
     },
     "execution_count": 3,
     "metadata": {},
     "output_type": "execute_result"
    }
   ],
   "source": [
    "file_path = r'une_rt_a_1_Data.csv'\n",
    "# Loading the data in the dataframe\n",
    "EU_unemployment_df = pd.read_csv(file_path)\n",
    "# Selecting values of people between 15 and 74 years\n",
    "EU_unemployment_df.drop([\"AGE\", \"Flag and Footnotes\", \"SEX\"], axis = 1, inplace = True)\n",
    "\n",
    "# Selecting most recent data\n",
    "EU_unemployment_df = EU_unemployment_df.loc[EU_unemployment_df.TIME == 2016] # lack data for more recent months\n",
    "EU_unemployment_df = EU_unemployment_df.loc[EU_unemployment_df.UNIT=='Percentage of active population']\n",
    "\n",
    "# Retaining relevant information\n",
    "EU_unemployment_df = EU_unemployment_df[['GEO', 'Value']]\n",
    "EU_unemployment_df.set_index(\"GEO\", inplace = True)\n",
    "EU_unemployment_df.drop([\"United States\", \"Japan\"], inplace = True)\n",
    "EU_unemployment_df.reset_index(inplace = True)\n",
    "EU_unemployment_df.drop(EU_unemployment_df.GEO.str.contains(\"Euro\"), inplace = True)\n",
    "\n",
    "\n",
    "\n",
    "# Converting values to numeric values\n",
    "EU_unemployment_df.GEO = EU_unemployment_df.GEO.str.replace(\" \\(until 1990 former territory of the FRG\\)\", \"\")\n",
    "\n",
    "print(len(EU_unemployment_df))\n",
    "EU_unemployment_df = EU_unemployment_df[~EU_unemployment_df['GEO'].str.contains(\"Eur\")]\n",
    "EU_unemployment_df[\"GEO_LABEL\"] = EU_unemployment_df[\"GEO\"].map(lambda x: GEO_Labels[x])\n",
    "\n",
    "EU_unemployment_df.Value = pd.to_numeric(EU_unemployment_df.Value)\n",
    "EU_unemployment_df.set_index(\"GEO\", inplace = True)\n",
    "\n",
    "# Adding missing unemployment rates manually for 2016\n",
    "# Country codes recovered from here : http://www.nationsonline.org/oneworld/country_code_list.htm\n",
    "EU_unemployment_df.loc[\"Swizerland\"] = [3.3, \"CH\"]\n",
    "EU_unemployment_df.loc[\"Russia\"] = [np.nan, \"RU\"]\n",
    "EU_unemployment_df.loc[\"Albania\"] = [np.nan, \"AL\"]\n",
    "EU_unemployment_df.loc[\"Macedonia\"] = [np.nan, \"MK\"]\n",
    "EU_unemployment_df.loc[\"Montenegro\"] = [np.nan, \"ME\"]\n",
    "EU_unemployment_df.loc[\"Ukraine\"] = [np.nan, \"UA\"]\n",
    "EU_unemployment_df.loc[\"Belarus\"] = [np.nan, \"BY\"]\n",
    "EU_unemployment_df.loc[\"Bosnia and Herzegovina\"] = [np.nan, \"BA\"]\n",
    "\n",
    "# Computing the differences in unemployment compared to Switzerland\n",
    "EU_unemployment_df[\"Relative To Switzerland\"] = EU_unemployment_df[\"Value\"]- EU_unemployment_df.loc[\"Swizerland\"].Value\n",
    "EU_unemployment_df"
   ]
  },
  {
   "cell_type": "markdown",
   "metadata": {},
   "source": [
    "It was asked to consider recent data. To avoid seasonal trends we averaged the data over an entire year. For simplicity we stuck to the annual averages from 2016 which were recovered here : http://appsso.eurostat.ec.europa.eu/nui/show.do?dataset=une_rt_a&lang=en\n",
    "\n",
    "Before doing the plots we need to take into account:\n",
    "- the number of variables \n",
    "- color and scale\n",
    "- data classification method\n",
    "- the interactivity we could add\n",
    "\n",
    "We used a sequential color palette as we are only representing one variable. The thresholds / bins were selected based on the quartiles. The scale was selected in order to have 5 levels, each one containing 20% of the countries"
   ]
  },
  {
   "cell_type": "markdown",
   "metadata": {},
   "source": [
    "**BLABLABLA**"
   ]
  },
  {
   "cell_type": "markdown",
   "metadata": {},
   "source": [
    "http://jeffpaine.github.io/geojson-topojson/ "
   ]
  },
  {
   "cell_type": "code",
   "execution_count": 11,
   "metadata": {},
   "outputs": [
    {
     "ename": "TypeError",
     "evalue": "__init__() missing 1 required positional argument: 'location'",
     "output_type": "error",
     "traceback": [
      "\u001b[0;31m---------------------------------------------------------------------------\u001b[0m",
      "\u001b[0;31mTypeError\u001b[0m                                 Traceback (most recent call last)",
      "\u001b[0;32m<ipython-input-11-1f49143f2bde>\u001b[0m in \u001b[0;36m<module>\u001b[0;34m()\u001b[0m\n\u001b[1;32m     37\u001b[0m        \u001b[0mfeature\u001b[0m\u001b[0;34m,\u001b[0m\u001b[0;34m\u001b[0m\u001b[0m\n\u001b[1;32m     38\u001b[0m         \u001b[0mstyle_function\u001b[0m\u001b[0;34m=\u001b[0m\u001b[0mstyle_function\u001b[0m\u001b[0;34m,\u001b[0m\u001b[0;34m\u001b[0m\u001b[0m\n\u001b[0;32m---> 39\u001b[0;31m     ).add_child(folium.Marker(popup=popup)).add_to(EU_map)\n\u001b[0m\u001b[1;32m     40\u001b[0m \u001b[0;34m\u001b[0m\u001b[0m\n\u001b[1;32m     41\u001b[0m \u001b[0mEU_map\u001b[0m\u001b[0;34m\u001b[0m\u001b[0m\n",
      "\u001b[0;31mTypeError\u001b[0m: __init__() missing 1 required positional argument: 'location'"
     ]
    }
   ],
   "source": [
    "bins = EU_unemployment_df.quantile([0.2*i for i in range(6)])\n",
    "bins = bins['Value'].tolist()\n",
    "\n",
    "EU_coordinates = [53.5775, 23.106111]\n",
    "EU_map = folium.Map(location=EU_coordinates, tiles='cartodbpositron', zoom_start=4)\n",
    "countries_geo = os.path.join('topojson', 'europe.topojson.json')\n",
    "geo_json_data = json.load(open(countries_geo))\n",
    "\n",
    "\n",
    "EU_map.choropleth(geo_data=geo_json_data, topojson= \"objects.europe\", data=EU_unemployment_df,\n",
    "             columns=['GEO_LABEL', 'Value'],\n",
    "             key_on='feature.id',\n",
    "             fill_color='BuPu', fill_opacity=0.7, line_opacity=0.2,\n",
    "             legend_name='Percentage of unemployment rate within the active population',\n",
    "             threshold_scale = bins,\n",
    "             highlight = True)\n",
    "\n",
    "countries_geo = os.path.join('topojson', 'europe.geojson.json')\n",
    "geo_json_data = json.load(open(countries_geo))\n",
    "\n",
    "def style_function(feature):\n",
    "    return {\n",
    "        'weight': 0,\n",
    "        'dashArray': '5, 5'\n",
    "    }\n",
    "\n",
    "inverted_dict = dict([[v,k] for k,v in GEO_Labels.items()])\n",
    "\n",
    "for feature in geo_json_data['features']:\n",
    "    try:        \n",
    "        string = \"Country : \"+ inverted_dict[feature['id']] \\\n",
    "                + \"\\nUnemployment Rate :\"\n",
    "    except:\n",
    "        string = None\n",
    "    folium.GeoJson(\n",
    "       feature,\n",
    "        style_function=style_function,\n",
    "    ).add_child(folium.Popup(string)).add_to(EU_map)\n",
    "        \n",
    "EU_map"
   ]
  },
  {
   "cell_type": "markdown",
   "metadata": {},
   "source": [
    "#### Comparison with Switzerland"
   ]
  },
  {
   "cell_type": "code",
   "execution_count": null,
   "metadata": {
    "scrolled": false
   },
   "outputs": [],
   "source": [
    "from folium import StepColormap\n",
    "from branca.utilities import color_brewer \n",
    "\n",
    "bins = EU_unemployment_df[[\"Relative To Switzerland\"]].quantile([0.2*i for i in range(6)])\n",
    "bins = bins['Relative To Switzerland'].tolist()\n",
    "\n",
    "EU_coordinates = [53.5775, 23.106111]\n",
    "EU_map = folium.Map(location=EU_coordinates, tiles='cartodbpositron', zoom_start=4)\n",
    "countries_geo = os.path.join('topojson', 'europe.topojson.json')\n",
    "geo_json_data = json.load(open(countries_geo))\n",
    "\n",
    "\n",
    "EU_map.choropleth(geo_data=geo_json_data, topojson= \"objects.europe\", data=EU_unemployment_df,\n",
    "             columns=['GEO_LABEL', 'Relative To Switzerland'],\n",
    "             key_on='feature.id',\n",
    "             fill_color='BuPu', fill_opacity=0.7, line_opacity=0.2,\n",
    "             legend_name='Percentage of unemployment rate within the active population',\n",
    "             threshold_scale = bins,\n",
    "             highlight = True)\n",
    "        \n",
    "EU_map"
   ]
  },
  {
   "cell_type": "markdown",
   "metadata": {},
   "source": [
    "**TODO : COMMENT**"
   ]
  },
  {
   "cell_type": "markdown",
   "metadata": {},
   "source": [
    "## Question 2: Unemployment Rates In Switzerland"
   ]
  },
  {
   "cell_type": "markdown",
   "metadata": {},
   "source": [
    "We need to analyze the different unemployment rates by considering the different cantons, age groups and foreigners vs. swiss.\n",
    "\n",
    "Therefore we want to extract : \n",
    "    - unemployment rate of different cantons in CH 15-74 years (question 2)\n",
    "    - unemployment rate of different cantons in CH 15-74 years making a distinction between *Swiss* and *foreign* (question 3) \n",
    "    - unemployment rate of different cantons in CH taking differences between age groups (question 3)"
   ]
  },
  {
   "cell_type": "markdown",
   "metadata": {},
   "source": [
    "### Total Unemployment rate"
   ]
  },
  {
   "cell_type": "code",
   "execution_count": null,
   "metadata": {},
   "outputs": [],
   "source": [
    "# Dataframe to recover the information necessary to do the \n",
    "# visualizations at the level of the cantons \n",
    "df_geolabel = pd.read_csv('DictCantonGeo.csv',sep=';', encoding='utf-8')\n",
    "\n",
    "# Function to fix loading issues with dataframe \n",
    "# Splitting dataframe based on columns\n",
    "def split_comma_df(df):\n",
    "    col_names = df.columns[0]\n",
    "    col_names = col_names.replace(\"\\\"\", \"\").replace(\"\\'\", \"\").split(\",\")\n",
    "    df.columns = [0]\n",
    "    df[0] = df[0].str.replace(\"\\\"\", \"\").replace(\"\\'\", \"\")\n",
    "    df = df[0].str.split(',', expand=True)\n",
    "    # Recovering column names\n",
    "    df.columns = col_names\n",
    "    return df\n",
    "\n",
    "file_path = r'chomage_total.csv'\n",
    "df_CH = pd.read_csv(file_path, encoding='utf-16', sep = \",\")  \n",
    "df_CH = split_comma_df(df_CH)\n",
    "# Selecting columns!\n",
    "df_CH = df_CH[[\"Canton\", \"durchschnittliche Anzahl Arbeitslose\", \"Taux de chômage (1 cav)\"]]\n",
    "df_CH.columns = [\"Canton\", \"Number Of Unemployed People\",'Total', 'Au dessus de 50 ans']\n",
    "# Computing Active Population Per Canton (for question 3)\n",
    "df_CH.Total = pd.to_numeric(df_CH.Total)\n",
    "df_CH['Number Of Unemployed People'] = df_CH['Number Of Unemployed People'].apply(str.replace, args=(\"'\", \"\"))\n",
    "df_CH['Number Of Unemployed People'] = pd.to_numeric(df_CH['Number Of Unemployed People'])\n",
    "df_CH['Active Population'] = 100*df_CH['Number Of Unemployed People']/df_CH[\"Total\"]\n",
    "df_CH['Active Population'] = df_CH['Active Population'].apply(lambda x: int(np.ceil(x)))\n",
    "# Convert values to numeric\n",
    "\n",
    "df_CH = pd.merge(df_CH,df_geolabel,on='Canton', how='outer')\n",
    "df_CH.set_index(\"Canton\", inplace = True)\n",
    "df_CH.head()"
   ]
  },
  {
   "cell_type": "code",
   "execution_count": null,
   "metadata": {
    "scrolled": true
   },
   "outputs": [],
   "source": [
    "CH_coordinates = [46.818188, 8.227512]\n",
    "CH_map = folium.Map(location=CH_coordinates, tiles='cartodbpositron', zoom_start=7)\n",
    "\n",
    "CH_geo = os.path.join('topojson', 'ch-cantons.topojson.json')\n",
    "geo_json_data = json.load(open(CH_geo))\n",
    "\n",
    "bins = df_CH[[\"Total\"]].quantile([0.2*i for i in range(6)])\n",
    "bins = bins[\"Total\"].tolist()\n",
    "\n",
    "CH_map.choropleth(geo_data=geo_json_data, topojson= \"objects.cantons\", data=df_CH,\n",
    "             columns=['GEO', 'Total'],\n",
    "             key_on='feature.id',\n",
    "             threshold_scale = bins,\n",
    "             fill_color='BuPu', fill_opacity=0.7, line_opacity=0.2,\n",
    "             legend_name='Unemployment by canton')\n",
    "\n",
    "CH_map"
   ]
  },
  {
   "cell_type": "markdown",
   "metadata": {},
   "source": [
    "** TODO : COMMENT ON WHAT WE SEE**\n"
   ]
  },
  {
   "cell_type": "markdown",
   "metadata": {},
   "source": [
    "### Unemployment counting only people who do not have jobs"
   ]
  },
  {
   "cell_type": "code",
   "execution_count": null,
   "metadata": {},
   "outputs": [],
   "source": [
    "file_path = r'non_chomeurs_demandent_emploi.csv'\n",
    "df_looking_job = pd.read_csv(file_path, encoding = 'utf-16')\n",
    "df_looking_job.drop('Mois', axis=1, inplace=True)\n",
    "\n",
    "for column in df_looking_job.columns:\n",
    "    df_looking_job[column] = df_looking_job[column].apply(str)\n",
    "    df_looking_job[column] = df_looking_job[column].apply(str.replace, args=(\"'\", \"\"))\n",
    "\n",
    "\n",
    "df_looking_job = df_looking_job.apply(pd.to_numeric, errors='ignore')\n",
    "df_looking_job['2016'] = df_looking_job.mean(axis=1)\n",
    "df_looking_job['2016'] = df_looking_job['2016'].apply(lambda x: int(np.ceil(x)))\n",
    "df_looking_job = df_looking_job.loc[df_looking_job.Mesures==\"Demandeurs demploi non chômeurs\"]\n",
    "df_looking_job = df_looking_job[['Canton', '2016']]\n",
    "df_looking_job.set_index('Canton', inplace=True)\n",
    "df_looking_job.drop(df_looking_job.index[-1], inplace=True)"
   ]
  },
  {
   "cell_type": "code",
   "execution_count": null,
   "metadata": {},
   "outputs": [],
   "source": [
    "subtraction = df_CH['Number Of Unemployed People'].subtract(df_looking_job['2016'])\n",
    "df_CH['new_UR_definition'] =  subtraction.divide(df_CH['Active Population'])*100\n",
    "df_CH['percentage of unemployed people working over unemployed'] = df_looking_job['2016'].divide(df_CH['Number Of Unemployed People'])*100\n",
    "df_CH"
   ]
  },
  {
   "cell_type": "code",
   "execution_count": null,
   "metadata": {},
   "outputs": [],
   "source": [
    "CH_map = folium.Map(location=CH_coordinates, tiles='cartodbpositron', zoom_start=7)\n",
    "\n",
    "bins = df_CH[[\"new_UR_definition\"]].quantile([0.2*i for i in range(6)])\n",
    "bins = bins[\"new_UR_definition\"].tolist()\n",
    "\n",
    "CH_map.choropleth(geo_data=geo_json_data, topojson= \"objects.cantons\", data=df_CH,\n",
    "             columns=['GEO', 'new_UR_definition'],\n",
    "             key_on='feature.id',\n",
    "             fill_color='BuPu', fill_opacity=0.7, line_opacity=0.2,\n",
    "             threshold_scale = bins,\n",
    "             legend_name='Unemployment Of Swiss by canton with new definition')\n",
    "CH_map"
   ]
  },
  {
   "cell_type": "code",
   "execution_count": null,
   "metadata": {},
   "outputs": [],
   "source": [
    "CH_map = folium.Map(location=CH_coordinates, tiles='cartodbpositron', zoom_start=7)\n",
    "\n",
    "bins = df_CH[[\"percentage of unemployed people working over unemployed\"]].quantile([0.2*i for i in range(6)])\n",
    "bins = bins[\"percentage of unemployed people working over unemployed\"].tolist()\n",
    "\n",
    "CH_map.choropleth(geo_data=geo_json_data, topojson= \"objects.cantons\", data=df_CH,\n",
    "             columns=['GEO', 'percentage of unemployed people working over unemployed'],\n",
    "             key_on='feature.id',\n",
    "             fill_color='BuPu', fill_opacity=0.7, line_opacity=0.2,\n",
    "             threshold_scale = bins,\n",
    "             legend_name='percentage of unemployed people working over unemployed')\n",
    "\n",
    "CH_map"
   ]
  },
  {
   "cell_type": "markdown",
   "metadata": {},
   "source": [
    "** ANSWER : How do your observations change ? You can repeat this with different choices of categories to see how selecting different metrics can lead to different interpretations of the same data.**"
   ]
  },
  {
   "cell_type": "markdown",
   "metadata": {},
   "source": [
    "## Question 3 : Unemployment Rates in Switzerland - Other Factors"
   ]
  },
  {
   "cell_type": "markdown",
   "metadata": {},
   "source": [
    "### Unemployment rate by nationality"
   ]
  },
  {
   "cell_type": "code",
   "execution_count": null,
   "metadata": {},
   "outputs": [],
   "source": [
    "file_path = r'chomage_nationality.csv'\n",
    "# Loading rates in Switzerland\n",
    "df_CH_nationality = pd.read_csv(file_path, encoding='utf-16', sep = \",\")\n",
    "df_CH_nationality = split_comma_df(df_CH_nationality)\n",
    "df_CH_nationality = pd.merge(df_CH_nationality,df_geolabel,on='Canton', how='outer')\n",
    "df_CH_nationality = df_CH_nationality[[\"Canton\",\"GEO\", \"Taux de chômage (1 cav)\", \"Nationalité\"]]\n",
    "df_CH_nationality.set_index([\"Nationalité\"], inplace = True)\n",
    "df_CH_nationality.columns = [\"Canton\", \"GEO\", 'Total', 'Au dessus de 50 ans']\n",
    "# Convert values to numeric\n",
    "df_CH_nationality.Total = pd.to_numeric(df_CH_nationality.Total)\n",
    "df_CH_nationality.head()"
   ]
  },
  {
   "cell_type": "code",
   "execution_count": null,
   "metadata": {},
   "outputs": [],
   "source": [
    "def extract_df_nationality(df, nationality):\n",
    "    df = df.loc[nationality]\n",
    "    df.reset_index(inplace = True)\n",
    "    df = df.drop(\"Nationalité\", axis = 1)\n",
    "    df.set_index(\"Canton\", inplace = True)\n",
    "    return df\n",
    "\n",
    "df_foreigners = extract_df_nationality(df_CH_nationality, \"Etrangers\")\n",
    "df_swiss = extract_df_nationality(df_CH_nationality, \"Suisses\")\n",
    "# Dataframe containing the difference between swiss and foreign unemployment\n",
    "df_difference = df_swiss.copy()\n",
    "df_difference = df_difference.drop(\"Au dessus de 50 ans\", axis = 1)\n",
    "df_difference.Total = df_foreigners.Total-df_difference.Total"
   ]
  },
  {
   "cell_type": "markdown",
   "metadata": {},
   "source": [
    "**SWISS**"
   ]
  },
  {
   "cell_type": "code",
   "execution_count": null,
   "metadata": {
    "scrolled": false
   },
   "outputs": [],
   "source": [
    "CH_map = folium.Map(location=CH_coordinates, tiles='cartodbpositron', zoom_start=7)\n",
    "\n",
    "bins = df_swiss[[\"Total\"]].quantile([0.2*i for i in range(6)])\n",
    "bins = bins[\"Total\"].tolist()\n",
    "\n",
    "CH_map.choropleth(geo_data=geo_json_data, topojson= \"objects.cantons\", data=df_swiss,\n",
    "             columns=['GEO', 'Total'],\n",
    "             key_on='feature.id',\n",
    "             fill_color='BuPu', fill_opacity=0.7, line_opacity=0.2,\n",
    "             threshold_scale = bins,\n",
    "             legend_name='Unemployment Of Swiss by canton')\n",
    "\n",
    "CH_map"
   ]
  },
  {
   "cell_type": "markdown",
   "metadata": {},
   "source": [
    "** FOREIGNERS **"
   ]
  },
  {
   "cell_type": "code",
   "execution_count": null,
   "metadata": {},
   "outputs": [],
   "source": [
    "CH_map = folium.Map(location=CH_coordinates, tiles='cartodbpositron', zoom_start=7)\n",
    "\n",
    "bins = df_foreigners[[\"Total\"]].quantile([0.2*i for i in range(6)])\n",
    "bins = bins[\"Total\"].tolist()\n",
    "\n",
    "CH_map.choropleth(geo_data=geo_json_data, topojson= \"objects.cantons\", data=df_foreigners,\n",
    "             columns=['GEO', 'Total'],\n",
    "             key_on='feature.id',\n",
    "             fill_color='BuPu', fill_opacity=0.7, line_opacity=0.2,\n",
    "             threshold_scale = bins, \n",
    "             legend_name='Unemployment Of Foreigners by canton')\n",
    "\n",
    "CH_map"
   ]
  },
  {
   "cell_type": "markdown",
   "metadata": {},
   "source": [
    "** DIFFERENCE BETWEEN THE TWO **"
   ]
  },
  {
   "cell_type": "code",
   "execution_count": null,
   "metadata": {},
   "outputs": [],
   "source": [
    "CH_map = folium.Map(location=CH_coordinates, tiles='cartodbpositron', zoom_start=7)\n",
    "\n",
    "bins = df_difference[[\"Total\"]].quantile([0.2*i for i in range(6)])\n",
    "bins = bins[\"Total\"].tolist()\n",
    "\n",
    "CH_map.choropleth(geo_data=geo_json_data, topojson= \"objects.cantons\", data=df_difference,\n",
    "             columns=['GEO', 'Total'],\n",
    "             key_on='feature.id',\n",
    "             fill_color='BuPu', fill_opacity=0.7, line_opacity=0.2,\n",
    "             threshold_scale = bins, \n",
    "             legend_name='Unemployment Of Foreigners by canton')\n",
    "\n",
    "CH_map"
   ]
  },
  {
   "cell_type": "markdown",
   "metadata": {},
   "source": [
    "**Where are the differences most visible ? Why do you think that is ?**"
   ]
  },
  {
   "cell_type": "code",
   "execution_count": null,
   "metadata": {
    "scrolled": true
   },
   "outputs": [],
   "source": []
  },
  {
   "cell_type": "markdown",
   "metadata": {},
   "source": [
    "### Unemployment Rate by Age"
   ]
  },
  {
   "cell_type": "code",
   "execution_count": null,
   "metadata": {},
   "outputs": [],
   "source": [
    "# Loading rates in Switzerland\n",
    "file_path = r'chomage_age.csv'\n",
    "\n",
    "df_CH_age = pd.read_csv(file_path, encoding='utf-16', sep = \",\")  \n",
    "df_CH_age = pd.merge(df_CH_age,df_geolabel,on='Canton', how='outer')\n",
    "df_CH_age = df_CH_age[[\"Canton\",\"GEO\",\"Taux de chômage (1 cav)\", \"Unnamed: 3\"]]\n",
    "df_CH_age.columns = [\"Canton\", \"GEO\", 'Total', \"Age Group\"]\n",
    "df_CH_age.set_index([\"Canton\", \"Age Group\"], inplace = True)\n",
    "\n",
    "# Convert values to numeric\n",
    "df_CH_age.Total = pd.to_numeric(df_CH_age.Total)\n",
    "\n",
    "df_CH_age.head()"
   ]
  },
  {
   "cell_type": "code",
   "execution_count": null,
   "metadata": {
    "scrolled": false
   },
   "outputs": [],
   "source": [
    "sns.set_style(\"white\");\n",
    "sns.set_palette(sns.color_palette(\"hls\", 8));\n",
    "sns.set(font_scale = 1.5);\n",
    "cmap = cm.get_cmap('Spectral');\n",
    "plt.figure();\n",
    "ax = df_CH_age.unstack().plot(kind='bar', figsize=(15, 10), legend=True, fontsize=20, width = 0.75, colormap= cmap);\n",
    "plt.show()"
   ]
  },
  {
   "cell_type": "markdown",
   "metadata": {},
   "source": [
    "** DONNEE : Now let's refine the analysis by adding the differences between age groups. As you may have guessed it is nearly impossible to plot so many variables on a map. Make a bar plot, which is a better suited visualization tool for this type of multivariate data.**\n",
    "\n",
    "**QUESTION : Which is a better suited visualization tool for this type of multivariate data? **"
   ]
  },
  {
   "cell_type": "markdown",
   "metadata": {},
   "source": [
    "## 4. Bonus : Röstigraben"
   ]
  },
  {
   "cell_type": "code",
   "execution_count": null,
   "metadata": {},
   "outputs": [],
   "source": []
  },
  {
   "cell_type": "markdown",
   "metadata": {},
   "source": [
    "## Unknown"
   ]
  },
  {
   "cell_type": "code",
   "execution_count": null,
   "metadata": {},
   "outputs": [],
   "source": [
    "CH_geo = os.path.join('topojson', 'ch-cantons.topojson.json')\n",
    "geo_json_data = json.load(open(CH_geo))\n",
    "\n",
    "CH_map.choropleth(\n",
    "    geo_data=geo_json_data,\n",
    "    data=df,\n",
    "    columns=['Canton', 'data_nationality'],\n",
    "    key_on='feature.id',\n",
    "    fill_color='BuPu',\n",
    "    fill_opacity=0.7,\n",
    "    line_opacity=0.2,\n",
    "    legend_name='Unemployment Rate in Switzerland (%)')\n",
    "\n",
    "#folium.LayerControl().add_to(CH_map)\n",
    "CH_map"
   ]
  },
  {
   "cell_type": "code",
   "execution_count": null,
   "metadata": {},
   "outputs": [],
   "source": [
    "final_df = pd.merge(df_CH_age, df_CH_nationality, on='Canton', how='outer')\n",
    "final_df.rename(columns={'Juillet 2017_x': 'data_age', 'Juillet 2017_y': 'data_nationality'}, inplace=True)\n",
    "final_df = final_df.apply(pd.to_numeric, errors='ignore')\n",
    "#final_df.groupby([\"Classes d'âge par étapes de 5 ans\", 'Nationalité']).mean()\n",
    "final_df.loc[final_df.data_age=='...']"
   ]
  },
  {
   "cell_type": "code",
   "execution_count": null,
   "metadata": {},
   "outputs": [],
   "source": [
    "df = final_df.groupby('Canton').mean()\n",
    "df.reset_index(inplace=True)\n",
    "df"
   ]
  },
  {
   "cell_type": "code",
   "execution_count": null,
   "metadata": {},
   "outputs": [],
   "source": []
  },
  {
   "cell_type": "code",
   "execution_count": null,
   "metadata": {},
   "outputs": [],
   "source": []
  },
  {
   "cell_type": "code",
   "execution_count": null,
   "metadata": {},
   "outputs": [],
   "source": []
  }
 ],
 "metadata": {
  "kernelspec": {
   "display_name": "Python [default]",
   "language": "python",
   "name": "python3"
  },
  "language_info": {
   "codemirror_mode": {
    "name": "ipython",
    "version": 3
   },
   "file_extension": ".py",
   "mimetype": "text/x-python",
   "name": "python",
   "nbconvert_exporter": "python",
   "pygments_lexer": "ipython3",
   "version": "3.6.2"
  }
 },
 "nbformat": 4,
 "nbformat_minor": 2
}
