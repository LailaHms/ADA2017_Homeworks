{
 "cells": [
  {
   "cell_type": "markdown",
   "metadata": {},
   "source": [
    "## Counting Number of Tweets Per Country Per Event\n",
    "This notebook will go through all the dataframes with the geocoded tweets for the different events and count the number of tweets per country per event. This will be stored in a dataframe which will be pickled under `summary.pickle` in the Geocoded folder of each event. "
   ]
  },
  {
   "cell_type": "code",
   "execution_count": 1,
   "metadata": {},
   "outputs": [],
   "source": [
    "import os\n",
    "import pandas as pd\n",
    "import pickle\n",
    "from tqdm import tqdm"
   ]
  },
  {
   "cell_type": "code",
   "execution_count": 2,
   "metadata": {},
   "outputs": [
    {
     "name": "stderr",
     "output_type": "stream",
     "text": [
      "100%|██████████| 333/333 [00:10<00:00, 32.12it/s]\n",
      "100%|██████████| 28/28 [00:00<00:00, 55.42it/s] \n",
      "100%|██████████| 5/5 [00:00<00:00, 41.14it/s]\n",
      "100%|██████████| 10/10 [00:00<00:00, 21.35it/s]\n"
     ]
    }
   ],
   "source": [
    "cwd = os.getcwd()\n",
    "path = os.path.join(cwd, \"../../../Project Data/Tweets\")\n",
    "# Get all the files in the current working directory\n",
    "folders = os.listdir(path)\n",
    "# Keep only the folders excluding the checkpoints folder -> event folders\n",
    "folders = [x for x in folders if os.path.isdir(os.path.join(path, x)) if \"checkpoints\" not in x if \"DS_Store\" not in x]\n",
    "\n",
    "do_prints = False\n",
    "\n",
    "# Get the country codes from the country mapping pickle. This will be used to init\n",
    "# the dataframe which will contain the overall number of tweets per country per event. \n",
    "\n",
    "country_codes = pd.read_pickle(\"country_mapping.pickle\")\n",
    "if do_prints : print(type(list(set(country_codes.values()))[0]))\n",
    "country_codes = [x for x in list(set(country_codes.values())) if type(x) is not float]\n",
    "\n",
    "# Go through all the different events folders\n",
    "for folder in folders:\n",
    "    # Get all the files in the event folder\n",
    "    files_path = os.path.join(path, folder, \"Geocoded\")\n",
    "    located_files = [x for x in  os.listdir(files_path) if \"Located\" in x]\n",
    "    \n",
    "    # Create the first empty dataframe in which all the counts will be stored\n",
    "    event_locations = pd.DataFrame(pd.Series(country_codes), columns = [\"country\"])\n",
    "    event_locations.set_index(\"country\", inplace = True)\n",
    "    event_locations[\"text\"] = 0\n",
    "    event_locations[\"text\"] = event_locations[\"text\"]\n",
    "\n",
    "    # Go through all the different files in the folder and process them.\n",
    "    for pkl_file in tqdm(located_files):\n",
    "        # Read the pickle file, groupby country and count the number of tweets then add\n",
    "        # to the final df for the event\n",
    "        df = pd.read_pickle(os.path.join(files_path,pkl_file))\n",
    "        interm_df = df[[\"country\", \"text\"]].groupby(\"country\").count()\n",
    "        event_locations = event_locations.add(interm_df, fill_value=0)\n",
    "\n",
    "    # Pickle the event dataframes\n",
    "    if do_prints: print(event_locations[\"text\"].tolist())\n",
    "    event_locations.to_pickle(os.path.join(files_path, \"summary.pickle\"))\n"
   ]
  },
  {
   "cell_type": "code",
   "execution_count": null,
   "metadata": {},
   "outputs": [],
   "source": []
  },
  {
   "cell_type": "code",
   "execution_count": null,
   "metadata": {},
   "outputs": [],
   "source": []
  }
 ],
 "metadata": {
  "kernelspec": {
   "display_name": "Python [conda env:ADA]",
   "language": "python",
   "name": "conda-env-ADA-py"
  },
  "language_info": {
   "codemirror_mode": {
    "name": "ipython",
    "version": 3
   },
   "file_extension": ".py",
   "mimetype": "text/x-python",
   "name": "python",
   "nbconvert_exporter": "python",
   "pygments_lexer": "ipython3",
   "version": "3.6.2"
  }
 },
 "nbformat": 4,
 "nbformat_minor": 2
}
