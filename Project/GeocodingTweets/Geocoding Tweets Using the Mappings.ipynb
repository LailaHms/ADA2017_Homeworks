{
 "cells": [
  {
   "cell_type": "markdown",
   "metadata": {},
   "source": [
    "# Getting the Geocodes For The Tweets\n",
    "\n",
    "The purpose of this notebook is to create the mapping dictionaries used to recover the tweets that were pickled and to map them to a specific country. The tweets were recovered with their location (when provided by the user). If the tweet did not have a provided location, the location of the user was scraped. However not all users provide this information on their page. That is why all the tweets which did not have either information were dropped. Then the locations provided were mapped to the countries. \n",
    "\n",
    "To map the tweets to their locations we used in order : \n",
    "- Automatic verification of whether the country name or a capital name was contained in the string. This was possible using the data obtained from : https://mledoze.github.io/countries/ and https://datahub.io/core/country-codes. The first links the country iso codes to country names in multiple languages with not only the official but also the common names of a country. The latter links the country iso codes to country names in different languages (arabic, chinese, english, spanish, french, russian). \n",
    "- A city to country mapper from which we removed duplicate cities taken from : https://github.com/lutangar/cities.json \n",
    "- A city to country mapper extracted from : http://www.geonames.org/export/ and http://download.geonames.org/export/dump/. The issue with this dataframe is that the duplicate cities were not handled. They were progressively overwritten. The advantage of this mapper however is that it is more extensive than the previous one, contaning a larger number of cities as well as alternative spellings and different languages. Ideally, what should have been done in the case of multiple cities with same name would be to select based on the population of the cities. \n",
    "- If none of the above yielded any results we queried an API based on the works of http://www.geonames.org/export/, http://geocoder.readthedocs.io/results.html which outputs the most probable location to which the user selected location corresponds to. From that we can recover the ISO country code which can directly be used in the Chloropleth maps. Note that we could not query the API for all the locations as this takes around 1 second per tweet. Given that the number of tweets is in the order of magnitude of the millions this would not have been feasible on the entire dataset.\n",
    "\n",
    "All of this was done using dictionaries to speed up the identification process. Currently, for pickles containing around 2000 tweets, we require under 10 seconds of processing. \n",
    "\n",
    "To create the dictionaries the given locations were set as keys with alternative spellings as well as string formatting to maximize the chance of identifying the country. What is time consuming however is creating the dictionaries themselves which is why the dictionaries were pickled once the process was finished. \n"
   ]
  },
  {
   "cell_type": "code",
   "execution_count": 1,
   "metadata": {},
   "outputs": [],
   "source": [
    "import os\n",
    "import numpy as np\n",
    "import pandas as pd\n",
    "import pickle\n",
    "from tqdm import tqdm\n",
    "import time\n",
    "import unicodedata"
   ]
  },
  {
   "cell_type": "markdown",
   "metadata": {},
   "source": [
    "String formatting functions, these are the same ones which were used when creating the mappings in the constructing mappings notebook"
   ]
  },
  {
   "cell_type": "code",
   "execution_count": 2,
   "metadata": {},
   "outputs": [],
   "source": [
    "#https://stackoverflow.com/questions/8694815/removing-accent-and-special-characters\n",
    "def remove_accents(data):\n",
    "    if data is None:\n",
    "        return None\n",
    "    else :\n",
    "        clean = ''.join(x.lower().strip() for x in unicodedata.normalize('NFKD', data) if \\\n",
    "                unicodedata.category(x)[0] == 'L').lower()\n",
    "        return clean\n",
    "\n",
    "def string_formatting(string):\n",
    "    string = string.replace(\"-\", \" \").replace(\" \", \",\").split(\",\")\n",
    "    formatted_string = [remove_accents(x.lower()) for x in string]\n",
    "    return string,formatted_string\n"
   ]
  },
  {
   "cell_type": "markdown",
   "metadata": {},
   "source": [
    "Load all the different mappings to speed up the geolocalization. Requires about 5GB of RAM. "
   ]
  },
  {
   "cell_type": "code",
   "execution_count": 3,
   "metadata": {},
   "outputs": [],
   "source": [
    "cwd = os.getcwd()\n",
    "\n",
    "# Load the full city mappings files into one big dictionary\n",
    "folders_path = os.path.join(cwd,\"../../../Project Data\")\n",
    "full_city_mapping_files = [x for x in os.listdir(folders_path) if \"full_city_mapping\" in x]\n",
    "\n",
    "full_city_mappings = list()\n",
    "for file in full_city_mapping_files:\n",
    "    pkl_file = open(os.path.join(folders_path,file), 'rb')\n",
    "    full_city_mappings.append(pickle.load(pkl_file))\n",
    "    pkl_file.close()\n",
    "\n",
    "# Load the country an city mapping\n",
    "pkl_file = open(\"country_mapping.pickle\", 'rb')\n",
    "country_mapping = pickle.load(pkl_file)\n",
    "pkl_file.close()\n",
    "\n",
    "pkl_file = open(\"city_mapping.pickle\", 'rb')\n",
    "city_mapping = pickle.load(pkl_file)\n",
    "pkl_file.close()"
   ]
  },
  {
   "cell_type": "markdown",
   "metadata": {},
   "source": [
    "Function used to go through the 3 main mappings loaded above and determine the geolocation of the tweet"
   ]
  },
  {
   "cell_type": "code",
   "execution_count": 4,
   "metadata": {},
   "outputs": [],
   "source": [
    "# Create a dictionary just to be able to print out from which mapping \n",
    "# the country was determined. If the location results from the country\n",
    "# or capital mapping than it is most likely going to be more precise.\n",
    "\n",
    "dicts_map = {0:\"Country/Capital\", 1:\"City\"}\n",
    "\n",
    "for i in range(len(full_city_mapping_files)):\n",
    "    idx = i+2\n",
    "    dicts_map.update({idx:\"Full City Mapping\"})\n",
    "    \n",
    "# Function used to extract the location from a string\n",
    "def location_in_string(string, do_prints = False):\n",
    "    t = time.time()\n",
    "\n",
    "    if do_prints : print(string)\n",
    "        \n",
    "    # Get the formatted and non formatted words\n",
    "    words,formatted_words = string_formatting(string)\n",
    "    \n",
    "    # Keep only words which are over two charactes long\n",
    "    words = [x.lower() for x in words if len(x)>2]\n",
    "    formatted_words = [x for x in formatted_words if len(x)>2]\n",
    "    \n",
    "    # Get the combinations of all the adjacent words\n",
    "    word_combinations = [\" \".join(words[i:j]) for j in range(len(words)+1) for i in range(j)]\n",
    "    word_combinations += [\" \".join(words[i:j]) for j in range(len(formatted_words)+1) for i in range(j)]\n",
    "    \n",
    "    if do_prints : print(words, formatted_words)\n",
    "    if do_prints : print(word_combinations)\n",
    "    \n",
    "    # Test whether the country name and variants is in the string\n",
    "    # Test whether one of the capital names is in the string\n",
    "    # Test whether the name of one of the mapped cities in the string\n",
    "    # All this in the order of priority given \n",
    "    \n",
    "    mappings = [country_mapping, city_mapping] + full_city_mappings\n",
    "    \n",
    "    for m, mapping in enumerate(mappings):\n",
    "\n",
    "        maps = mapping\n",
    "        \n",
    "        for word in word_combinations:\n",
    "            if do_prints : print(\"Testing: \", word)\n",
    "                \n",
    "            if word in maps:\n",
    "                if do_prints : print(\"Found word: \", word,time.time()-t)\n",
    "                return [maps[word], dicts_map[m]]\n",
    "            \n",
    "            if remove_accents(word) in maps:\n",
    "                if do_prints : print(\"Found word without accents: \", remove_accents(word),time.time()-t)\n",
    "                return [maps[remove_accents(word)], dicts_map[m]]\n",
    "\n",
    "        \n",
    "    if do_prints : print(\"Nothing found\", time.time()-t)\n",
    "    \n",
    "    return [\"unknown\", \"unknown\"]"
   ]
  },
  {
   "cell_type": "markdown",
   "metadata": {},
   "source": [
    "Testing the result of the different functions and mappings"
   ]
  },
  {
   "cell_type": "code",
   "execution_count": 5,
   "metadata": {},
   "outputs": [
    {
     "name": "stdout",
     "output_type": "stream",
     "text": [
      "Nantes in : ['FR', 'City']\n",
      "Lausanne in : ['CH', 'City']\n",
      "Abu Dhabi in : ['AE', 'Country/Capital']\n",
      "Shanghai in : ['CN', 'City']\n",
      "Beijing in : ['CN', 'Country/Capital']\n",
      "Tokyo in : ['JP', 'Country/Capital']\n",
      "Beijing in  ['CN', 'Country/Capital']\n",
      "Cairo in  ['EG', 'Country/Capital']\n",
      "Paris in  ['FR', 'Country/Capital']\n",
      "Lausanne in  ['CH', 'City']\n",
      "Morges in  ['CH', 'City']\n",
      "Ontario in  ['ES', 'Full City Mapping']\n",
      "Oxford in  ['AU', 'Full City Mapping']\n",
      "Shanghai in  ['CN', 'City']\n",
      "New Castle in  ['AL', 'Full City Mapping']\n",
      "Edinburgh in  ['AU', 'Full City Mapping']\n",
      "Amsterdam in  ['NL', 'Country/Capital']\n",
      "Brussels in  ['BE', 'Country/Capital']\n",
      "Athens in  ['GR', 'Country/Capital']\n",
      "Cork in  ['IE', 'City']\n",
      "Nice in  ['AL', 'Full City Mapping']\n",
      "Dublin in  ['IE', 'Country/Capital']\n",
      "Kuala Lumpur in  ['MY', 'Country/Capital']\n",
      "Madrid in  ['ES', 'Country/Capital']\n",
      "Budapest in  ['HU', 'Country/Capital']\n",
      "Zealand:  ['DK', 'Full City Mapping']\n",
      "Washington :  ['US', 'Country/Capital']\n",
      "cairo :  ['EG', 'Country/Capital']\n",
      "Alexandria :  ['AU', 'Full City Mapping']\n",
      "autriche :  ['AT', 'Country/Capital']\n",
      "oesterreich :  ['AT', 'Country/Capital']\n",
      "osterreich :  ['AT', 'Country/Capital']\n",
      "austria :  ['AT', 'Country/Capital']\n",
      "vienna :  ['AT', 'Country/Capital']\n",
      "Brugges :  [None, None]\n",
      "---------------------------------------------\n",
      "---------------------------------------------\n",
      "---------------------------------------------\n",
      "أفغانستان hello my name is bloop :  ['AF', 'Country/Capital']\n",
      "أفغانستان location is going great :  ['AF', 'Country/Capital']\n",
      "España going to be fun :  ['ES', 'Country/Capital']\n",
      "Hello New Zealand :  ['NZ', 'Country/Capital']\n"
     ]
    }
   ],
   "source": [
    "#location_in_string(\"Milan / Bruxelles\")\n",
    "print(\"Nantes in :\", location_in_string(\"Nantes\"))\n",
    "print(\"Lausanne in :\", location_in_string(\"Lausanne\"))\n",
    "print(\"Abu Dhabi in :\", location_in_string(\"Abu Dhabi\"))\n",
    "print(\"Shanghai in :\", location_in_string(\"Shanghai\"))\n",
    "print(\"Beijing in :\", location_in_string(\"Beijing\"))\n",
    "print(\"Tokyo in :\", location_in_string(\"Tokyo\"))\n",
    "print(\"Beijing in \", location_in_string(\"Beijing\"))\n",
    "print(\"Cairo in \", location_in_string(\"Cairo\"))\n",
    "print(\"Paris in \", location_in_string(\"Paris\"))\n",
    "print(\"Lausanne in \", location_in_string(\"Lausanne\"))\n",
    "print(\"Morges in \", location_in_string(\"Morges\"))\n",
    "print(\"Ontario in \", location_in_string(\"Ontario\"))\n",
    "print(\"Oxford in \",location_in_string(\"Oxford\"))\n",
    "print(\"Shanghai in \", location_in_string(\"Shanghai\"))\n",
    "print(\"New Castle in \", location_in_string(\"New Castle\"))\n",
    "print(\"Edinburgh in \", location_in_string(\"Edinburgh\"))\n",
    "print(\"Amsterdam in \", location_in_string(\"Amsterdam\"))\n",
    "print(\"Brussels in \", location_in_string(\"Brussels\"))\n",
    "print(\"Athens in \", location_in_string(\"Athens\"))\n",
    "print(\"Cork in \", location_in_string(\"Cork\"))\n",
    "print(\"Nice in \", location_in_string(\"Nice\"))\n",
    "print(\"Dublin in \", location_in_string(\"Dublin\"))\n",
    "print(\"Kuala Lumpur in \", location_in_string(\"Kuala Lumpur\"))\n",
    "print(\"Madrid in \", location_in_string(\"Madrid\"))\n",
    "print(\"Budapest in \", location_in_string(\"Budapest\"))\n",
    "print(\"Zealand: \", location_in_string(\"Zealand\"))\n",
    "print(\"Washington : \", location_in_string(\"Washington\"))\n",
    "print(\"cairo : \", location_in_string(\"cairo\"))\n",
    "print(\"Alexandria : \", location_in_string(\"Alexandria\"))\n",
    "print(\"autriche : \", location_in_string(\"autriche\"))\n",
    "print(\"oesterreich : \", location_in_string(\"oesterreich\"))\n",
    "print(\"osterreich : \", location_in_string(\"osterreich\"))\n",
    "print(\"austria : \", location_in_string(\"austria\"))\n",
    "print(\"vienna : \", location_in_string(\"vienna\"))\n",
    "print(\"Brugges : \", location_in_string(\"brugges\"))\n",
    "print(\"---------------------------------------------\")\n",
    "print(\"---------------------------------------------\")\n",
    "print(\"---------------------------------------------\")\n",
    "print(\"أفغانستان hello my name is bloop : \", location_in_string(\"أفغانستان hello my name is bloop\"))\n",
    "print(\"أفغانستان location is going great : \", location_in_string(\"أفغانستان is a great place to be\"))\n",
    "print(\"España going to be fun : \", location_in_string(\"España going to be fun\"))\n",
    "print(\"Hello New Zealand : \", location_in_string(\"Hello New Zealand\"))"
   ]
  },
  {
   "cell_type": "markdown",
   "metadata": {},
   "source": [
    "Function used to extract the location for all elements in a pickled dataframe and store them in a new folder. This uses all the previously coded functions"
   ]
  },
  {
   "cell_type": "code",
   "execution_count": 6,
   "metadata": {},
   "outputs": [],
   "source": [
    "failures = list()\n",
    "def extract_geocodes_for_pickle(folder, pickle_file, do_prints = False):\n",
    "    try:\n",
    "        if do_prints : print(pickle_file);\n",
    "        df = pd.read_pickle(os.path.join(path, folder,pickle_file))\n",
    "        if do_prints : print(\"Successfully loaded\", pickle_file);\n",
    "            \n",
    "        # Putting the location in the correct format\n",
    "        df[\"location\"] = df[\"location\"].apply(lambda x: ' '.join(x))\n",
    "        \n",
    "        # Dropping rows without locations\n",
    "        df = df[df['location'].map(len) > 0] \n",
    "        if do_prints : print(\"Dropped rows without locations\", pickle_file);\n",
    "        \n",
    "        # Mapping the locations to countries\n",
    "        df[\"number\"] =  1\n",
    "        df[\"country\"] = df[\"location\"].apply(lambda x: location_in_string(x)[0])\n",
    "        df[\"source\"] = df[\"location\"].apply(lambda x: location_in_string(x)[1])\n",
    "        \n",
    "        # Pickling the dataframe\n",
    "        df.to_pickle(os.path.join(path, folder, \"Geocoded\", pickle_file))\n",
    "        if do_prints : print(df[[\"location\", \"country\"]].head(10))\n",
    "        if do_prints : print(df.groupby(\"country\").count()[\"text\"])\n",
    "        if do_prints : print(df[\"country\"].unique())\n",
    "            \n",
    "    except:\n",
    "        print(\"Failure :\", folder, pickle_file)\n",
    "        failures.append([folder, pickle_file])"
   ]
  },
  {
   "cell_type": "markdown",
   "metadata": {},
   "source": [
    "Get all the folders containing the pickle files and load the mappings and calling the function above to extract the dataframe from the pickle file, map all the locations in the dataframe and save the result in a new dataframe. "
   ]
  },
  {
   "cell_type": "code",
   "execution_count": 10,
   "metadata": {},
   "outputs": [
    {
     "name": "stderr",
     "output_type": "stream",
     "text": [
      "100%|██████████| 333/333 [10:36<00:00,  1.91s/it]\n",
      "100%|██████████| 28/28 [00:27<00:00,  1.00it/s]\n",
      "100%|██████████| 5/5 [00:09<00:00,  1.99s/it]\n",
      "100%|██████████| 10/10 [00:26<00:00,  2.62s/it]\n"
     ]
    }
   ],
   "source": [
    "cwd = os.getcwd()\n",
    "path = os.path.join(cwd, \"../../../Project Data\",\"Tweets\")\n",
    "# Get all the files in the current working directory\n",
    "folders = os.listdir(path)\n",
    "# Keep only the folders excluding the checkpoints folder -> event folders\n",
    "folders = [x for x in folders if os.path.isdir(os.path.join(path, x)) if \"checkpoints\" not in x]\n",
    "\n",
    "do_prints = False\n",
    "if do_prints: print(folders)\n",
    "    \n",
    "for folder in folders:\n",
    "    # Get all the files in the event folder\n",
    "    files = os.listdir(os.path.join(path, folder))\n",
    "\n",
    "    # If the geocoded folder does not exist create one for the given event\n",
    "    if not os.path.exists(os.path.join(path, folder, \"Geocoded\")):\n",
    "        os.makedirs(os.path.join(path, folder, \"Geocoded\"))\n",
    "    \n",
    "    # exclude the log file\n",
    "    files = [x for x in files if \"log\" not in x if \"Geocoded\" not in x if \"DS_Store\" not in x if \"Located\" in x]\n",
    "    \n",
    "    if do_prints: print(files)\n",
    "    \n",
    "    # Go through all the different files in the folder and process them.\n",
    "    for file in tqdm(files):\n",
    "        extract_geocodes_for_pickle(folder, file, do_prints=do_prints)"
   ]
  },
  {
   "cell_type": "code",
   "execution_count": 11,
   "metadata": {},
   "outputs": [],
   "source": [
    "values = set()\n",
    "for mapping in full_city_mappings:\n",
    "    values |= set(list(mapping.values()))\n",
    "\n"
   ]
  },
  {
   "cell_type": "code",
   "execution_count": 12,
   "metadata": {},
   "outputs": [
    {
     "name": "stdout",
     "output_type": "stream",
     "text": [
      "['AD', 'AE', 'AF', 'AG', 'AI', 'AL', 'AM', 'AN', 'AO', 'AQ', 'AR', 'AS', 'AT', 'AU', 'AW', 'AX', 'AZ', 'BA', 'BB', 'BD', 'BE', 'BF', 'BG', 'BH', 'BI', 'BJ', 'BL', 'BM', 'BN', 'BO', 'BQ', 'BR', 'BS', 'BT', 'BV', 'BW', 'BY', 'BZ', 'CA', 'CC', 'CD', 'CF', 'CG', 'CH', 'CI', 'CK', 'CL', 'CM', 'CN', 'CO', 'CR', 'CS', 'CU', 'CV', 'CW', 'CX', 'CY', 'CZ', 'DE', 'DJ', 'DK', 'DM', 'DO', 'DZ', 'EC', 'EE', 'EG', 'EH', 'ER', 'ES', 'ET', 'FI', 'FJ', 'FK', 'FM', 'FO', 'FR', 'GA', 'GB', 'GD', 'GE', 'GF', 'GG', 'GH', 'GI', 'GL', 'GM', 'GN', 'GP', 'GQ', 'GR', 'GS', 'GT', 'GU', 'GW', 'GY', 'HK', 'HM', 'HN', 'HR', 'HT', 'HU', 'ID', 'IE', 'IL', 'IM', 'IN', 'IO', 'IQ', 'IR', 'IS', 'IT', 'JE', 'JM', 'JO', 'JP', 'KE', 'KG', 'KH', 'KI', 'KM', 'KN', 'KP', 'KR', 'KW', 'KY', 'KZ', 'LA', 'LB', 'LC', 'LI', 'LK', 'LR', 'LS', 'LT', 'LU', 'LV', 'LY', 'MA', 'MC', 'MD', 'ME', 'MF', 'MG', 'MH', 'MK', 'ML', 'MM', 'MN', 'MO', 'MP', 'MQ', 'MR', 'MS', 'MT', 'MU', 'MV', 'MW', 'MX', 'MY', 'MZ', 'NC', 'NE', 'NF', 'NG', 'NI', 'NL', 'NO', 'NP', 'NR', 'NU', 'NZ', 'OM', 'PA', 'PE', 'PF', 'PG', 'PH', 'PK', 'PL', 'PM', 'PN', 'PR', 'PS', 'PT', 'PW', 'PY', 'QA', 'RE', 'RO', 'RS', 'RU', 'RW', 'SA', 'SB', 'SC', 'SD', 'SE', 'SG', 'SH', 'SI', 'SJ', 'SK', 'SL', 'SM', 'SN', 'SO', 'SR', 'SS', 'ST', 'SV', 'SX', 'SY', 'SZ', 'TC', 'TD', 'TF', 'TG', 'TH', 'TJ', 'TK', 'TL', 'TM', 'TN', 'TO', 'TR', 'TT', 'TV', 'TW', 'TZ', 'UA', 'UG', 'UM', 'US', 'UY', 'UZ', 'VA', 'VC', 'VE', 'VG', 'VI', 'VN', 'VU', 'WF', 'WS', 'XK', 'YE', 'YT', 'YU', 'ZA', 'ZM', 'ZW']\n"
     ]
    }
   ],
   "source": [
    "print((sorted([x for x in values if type(x) is str])))"
   ]
  },
  {
   "cell_type": "code",
   "execution_count": null,
   "metadata": {},
   "outputs": [],
   "source": []
  }
 ],
 "metadata": {
  "kernelspec": {
   "display_name": "Python [conda env:ADA]",
   "language": "python",
   "name": "conda-env-ADA-py"
  },
  "language_info": {
   "codemirror_mode": {
    "name": "ipython",
    "version": 3
   },
   "file_extension": ".py",
   "mimetype": "text/x-python",
   "name": "python",
   "nbconvert_exporter": "python",
   "pygments_lexer": "ipython3",
   "version": "3.6.2"
  }
 },
 "nbformat": 4,
 "nbformat_minor": 2
}
