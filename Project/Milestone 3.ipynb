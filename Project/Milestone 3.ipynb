{
 "cells": [
  {
   "cell_type": "markdown",
   "metadata": {},
   "source": [
    "# Milestone 3 - Report\n",
    "------\n",
    "In this notebook we are going to summarize what was done in Milestone 2 and explain all that was done for the final Milestone. The focus at this point of the project was placed on constructing the awareness model using our different metrics and the final datastory. "
   ]
  },
  {
   "cell_type": "code",
   "execution_count": null,
   "metadata": {},
   "outputs": [],
   "source": [
    "import os\n",
    "import json\n",
    "import time\n",
    "import folium\n",
    "import branca\n",
    "import jenkspy\n",
    "import pickle\n",
    "import unicodedata\n",
    "import collections\n",
    "import numpy as np\n",
    "import pandas as pd\n",
    "from scipy import spatial, stats\n",
    "import matplotlib.pyplot as plt\n",
    "import seaborn as sns\n",
    "from pygsp import graphs, filters, plotting\n",
    "from IPython.display import Image\n",
    "\n",
    "%matplotlib inline"
   ]
  },
  {
   "cell_type": "markdown",
   "metadata": {},
   "source": [
    "## 0. Abstract\n",
    "\n",
    "*What's the motivation behind your project? A 150 word description of the project idea, goals, dataset used. What story you would like to tell and why?*\n",
    "\n",
    "Major events happen on a regular basis all around the world, some involving high number of casualties but the resulting reaction on the international scale is often far from proportional. Most of the time the largest reaction comes from the place where the incident occurred or places which are closeby. The objective would be to create an awareness map, and determine why people react to an event. From that we would attempt to define an awareness metric. We want to see how factors other than physical proximity come into play such as country, culture, language, religion. With this we could determine which country has the highest level of international awareness. The project would require the Twitter API to acquire hashtag specific tweets with geolocation and therefore measure the awareness and reactions of different communities to a given event. GDELT would be used to recover standardised information regarding different events.\n",
    "____\n",
    "____\n",
    "____\n"
   ]
  },
  {
   "cell_type": "markdown",
   "metadata": {},
   "source": [
    "# 1. Recapitulation of Milestone 2\n",
    "\n",
    "To recap what was done in the previous milestone, here we present a brief summary of the previous notebook which can be found here **(TODO : mettre le lien)**. \n",
    "\n",
    "____\n",
    "\n",
    "## 1.1 Tweet Acquisition\n",
    "A lot of time was spent acquiring the Tweets for two main reasons : \n",
    "- The Twitter dump did not contain the geolocations of the tweets or the users and only containecd 10% of all tweets for a given period. Given that users to not necessarily give their location we wanted to avoid cases where we would not have enough overall located tweets. \n",
    "- The Twitter API does not permit the recovery of tweets which are over 1 week old when searching for tweets with a given hashtag around a specific date. \n",
    "\n",
    "That is why a significant amount of time was put into recovering the tweets through webscraping using phantom js with random scrolling time and random breaks to avoid being blocked by Twitter.\n",
    "\n",
    "The tweets were acquired based on their hashtags, all the while making sure to have a wide range of hashtags in different languages. \n",
    "\n",
    "**TODO : put the link towards the file containing all the hashtags**\n",
    "\n",
    "____\n",
    "\n",
    "## 1.2. Tweet Geolocalisation\n",
    "\n",
    "Once the tweets were recovered we only kept those for which we had either the geolocalisation of the tweets itself or of the user. As the locations are manually input, they are not standardized and the corresponding location needed to be determined. \n",
    "\n",
    "The first step was therefore to format the strings by removing all special characters as setting everything to lower case for example.  Afterwards, we created multiple mappings which were used in the order presented as they represent the confidence in the given method : \n",
    "- A country mapper which uses multiple variations of the country name (different spellings and languages) to determine the country it corresponds to with the given ISO2 code\n",
    "- A capital mapper which maps the capital of a country to the ISO2 code\n",
    "- A first city mapper where duplicates were removed as there are multiple cities in the world with the same name (example : Torronto in Canada, the US and Australia). \n",
    "- A final city mapper with all the cities of all the countries in the world using the database provided here **(TODO : mettre le lien)**\n",
    "\n",
    "** TODO : put the image of the bird with the number of tweets** \n",
    "\n",
    "\n",
    "## 1.3. Visualization of the Reaction For An Event\n",
    "\n",
    "We then observed for one of the selected events the number of related tweets on a Chloropleth map. This helped us note certain issues in the mappings (high number of tweets in Antarctica for example). \n",
    "\n",
    "____\n",
    "\n",
    "\n",
    "## 1.4. Enriching the Data \n",
    "\n",
    "To create our awareness model we wanted to recover information which could be used to determine a sort of distance between the different countries, that is why we recovered for all countries: \n",
    "- area\n",
    "- ISO2\n",
    "- ISO3\n",
    "- languages\n",
    "- border countries\n",
    "- latitude and longitude\n",
    "- language_codes\n",
    "- Internet users\n",
    "- population\n",
    "- GDP\n",
    "- GDP per capita\n",
    "- religions\n",
    "- government types\n",
    "- population in poverty\n",
    "- unemployment rate\n",
    "\n",
    "As you can see, we have more features than we had originally presented in Milestone 2. That's because we realized that one of the datasets we used had a lot more (and more complete) information that was of our interest. After all, the 4 datasets that we were using originally ended up being just two, which are these:\n",
    "\n",
    "- Dataset 1: https://github.com/mledoze/countries\n",
    "- Dataset 2: https://github.com/opendatajson/factbook.json\n",
    "\n",
    "To see all the detailed process of the extraction of the data see \"Data enriching.ipynb\".\n",
    "____\n",
    "____\n",
    "____\n"
   ]
  },
  {
   "cell_type": "markdown",
   "metadata": {},
   "source": [
    "____\n",
    "____\n",
    "____\n",
    "\n",
    "# 2. Improving the Mappings\n",
    "\n",
    "One main issue with the mapping up until now is that there were redundancies which were not correctly handled. At the time of Milestone 2 we would just go through the complete mapping sequentially and stop at the first match. As there were duplicates there was no guarantee that the city found was the most coherent. That is why we corrected the mapping to take into account the population of the different cities which was also provided in the GeoNames database http://download.geonames.org/export/dump/. Therefore when there are multiple cities with the same name in different countries, we only keep the city with the largest population as it would be the most probable. "
   ]
  },
  {
   "cell_type": "code",
   "execution_count": null,
   "metadata": {},
   "outputs": [],
   "source": []
  },
  {
   "cell_type": "markdown",
   "metadata": {},
   "source": [
    "We also replaced our intermediate city mapping with a mapping containing the top 20'000 cities in the world (and therefore the most probable). With appoximately 200 countries this corresponds to around 100 cities per country. "
   ]
  },
  {
   "cell_type": "code",
   "execution_count": null,
   "metadata": {},
   "outputs": [],
   "source": []
  },
  {
   "cell_type": "markdown",
   "metadata": {},
   "source": [
    "# 3. Metrics For the Awareness Model\n",
    "\n",
    "To create our model we originally planned to construct a graph linking all countries where the weights of the segments would represent the proximity between countries in terms of awareness to major events. \n",
    "\n",
    "For that we used the dataset containing all the information regarding the countries and looked to give numeric values to all the different categories mentioned previously and a few new ones: \n",
    "\n",
    "1. Languages\n",
    "2. Governments \n",
    "3. Distances between countries :\n",
    "    - Birds eye view distances \n",
    "    - Hop matrix : the number of countries which separate two given countries (**TODO : noter quil y a le souci des distances a traverser au sein des pays qui n'est pas pris en compte, exemple de la Finlande a la Chine qui passe uniquement par la russie**). \n",
    "    - Normalized Adj matrix : a matrix which gives the neighboring countries with a normalizing factor to account for multiple countries on the border\n",
    "    - Flight routes between countries\n",
    "4. Religion\n",
    "5. Population, Area, GDP, Internet Users etc...\n",
    "\n",
    "\n",
    "What needed to be taken into account here is that we have many variables which are categoric. Therefore we needed to find a way to attribute numeric values in order to construct the final graph.\n",
    "\n",
    "Remark : most of the information was extracted from the CIA factbook as it is a complete and realiable source.  **TODO : put the link**\n",
    "\n",
    "**TODO / REMARQUE A GARDER EN TETE POUR LA CONCLUSION AU PIRE : voir si le fait que le pays soit très grand avec une grande population qui peut diminuer l'intérêt par rapport à ce qui se passe ailleurs dans le monde**\n",
    "\n",
    "____\n",
    "\n",
    "## 3.1. Languages\n",
    "\n",
    "Languages are representative of culture and most of the time, countries which speak the same language have a given proximity. That is why this metric was used to create the graph. \n",
    "\n",
    "Two main possibilities presented themselves :\n",
    "- binary : if two countries have the same official language then they are linked\n",
    "- more informed : some languages are similar in the sense of understanding the other language, learning it, etc. That is why we wanted to take into account Linguistic distances. Unfortunately this is a current research topic and there is no database which gives the Linguistic distances between all the official languages of all countries. Certain databases exist linking English to other languages but this is not sufficient for our application. That is why we decided to use another metric, albeit more abstact, which is to say the phylogenetic trees linking languages together. \n",
    "\n",
    "\n",
    "Using the phylogenetic trees taken here (**TODO insert nice link**) http://glottolog.org/glottolog/family, we were able to construct a distance metric and compute the distances between all languages as can be seen below. The notebook handling this can be found here (**TODO : mettre le lien du notebook**)"
   ]
  },
  {
   "cell_type": "code",
   "execution_count": null,
   "metadata": {},
   "outputs": [],
   "source": [
    "# TODO METTRE LA MATRICE & HEATMAP DE DISTANCE ENTRE LES LANGUES"
   ]
  },
  {
   "cell_type": "markdown",
   "metadata": {},
   "source": [
    "From this language distance matrix we were able to compute a standardized distance between all countries. \n",
    "\n",
    "The idea is the following :\n",
    "- if countries have an official language in common, set the distance to 0\n",
    "- else get the distances between the official languages and compute the average of the non infinite distances. \n",
    "- else set the distance to inf\n"
   ]
  },
  {
   "cell_type": "code",
   "execution_count": null,
   "metadata": {},
   "outputs": [],
   "source": [
    "# TODO METTRE LA MATRICE DISTANCE / HEATMAP ENTRE LES PAYS SELON LA LANGUE"
   ]
  },
  {
   "cell_type": "markdown",
   "metadata": {},
   "source": [
    "The issue with this type of distance is that it takes discrete values which don't account for the actual distance between the different languages in terms of comprehension, facility to learn the other language etc.. For example the distance between French and a dialect ....\n",
    "**TODO : afficher deux valeurs de distance similaires mais qui ne sont pas représentatifs**\n",
    "\n",
    "Results more representative of the reality of the situation could have been obtained had we had not only the phylogenetic links between the languages but the moment that the a new language appeared from a mother language. Incoroporating this time component would have given a more precise approximation, assuming that languages evolve at similar rates and that once the new language has emerged that there is minimal contact / influence from the mother or any sister languages. "
   ]
  },
  {
   "cell_type": "markdown",
   "metadata": {},
   "source": [
    "____\n",
    "\n",
    "## 3.2. Governments"
   ]
  },
  {
   "cell_type": "markdown",
   "metadata": {},
   "source": [
    "The type of government is also a good representative of the people's perception to worldwide events. People of different countries with the same government type will be influenced in a similar way. \n",
    "\n",
    "After getting the list of all the government types (see \"Data enriching.ipynb\" for more details on how we got them) we have to convert them to a numeric scale with a meaning.\n",
    "\n",
    "First, we start by dividing all the government types in three groups and assigning them numerical values -1, 0 and 1. These are the resulting groups:\n",
    "- Group 1:\n",
    "    - 'parliamentary democracy'\n",
    "    - 'parliamentary republic'\n",
    "    - 'federal republic'\n",
    "    - 'federation of monarchies'\n",
    "    - 'semi-presidential republic'\n",
    "    - 'semi-presidential federation'\n",
    "- Group 2: \n",
    "    - 'non-self-governing overseas territory'\n",
    "    - 'in transition'\n",
    "    - 'unknown'\n",
    "- Group 3: \n",
    "    - 'presidential republic'\n",
    "    - 'presidential democracy'\n",
    "    - 'monarchy'\n",
    "    - 'theocratic republic'\n",
    "    - 'communist state'\n",
    "    - 'absolute monarchy'\n",
    "\n",
    "As our criteria to group the government types, we used the variable of the power that the leaders of the government have. Coutries where the leader has a lot of power go in group 3 and will be assigned to the value of 1, the others in group 1 and they will be assigned the value -1. For the non well defined government types, we placed them at the center of the scale with the value of 0.\n",
    "\n",
    "Here is the actual implementation (full code on \"Data enriching.ipynb\"):"
   ]
  },
  {
   "cell_type": "code",
   "execution_count": null,
   "metadata": {},
   "outputs": [],
   "source": [
    "# Reading the dataframe\n",
    "data = pd.read_pickle('./DataEnriching/data.pickle')\n",
    "\n",
    "# Defining the three groups\n",
    "gov_type_array = [['parliamentary democracy', 'parliamentary republic', 'federal republic', 'federation of monarchies',\n",
    "                   'semi-presidential republic', 'semi-presidential federation'],\n",
    "                  ['non-self-governing overseas territory', 'in transition', 'unknown'],\n",
    "                  ['presidential republic', 'presidential democracy', 'monarchy', 'theocratic republic', 'communist state',\n",
    "                   'absolute monarchy']]\n",
    "\n",
    "# Creating the mapping dictionary\n",
    "mapping_gov_type=dict()\n",
    "for i, gov_group in enumerate(gov_type_array):\n",
    "    for gov in gov_group:\n",
    "        if i==0:\n",
    "            mapping_gov_type.update({gov: -1})\n",
    "        elif i==1:\n",
    "            mapping_gov_type.update({gov: 0})\n",
    "        else:\n",
    "            mapping_gov_type.update({gov: 1})\n",
    "\n",
    "# Mapping gov_type values to their numerical value (1, 0, -1)\n",
    "data['gov_type_num'] = data.gov_type.map(mapping_gov_type)\n",
    "data[['gov_type', 'gov_type_num']].head()"
   ]
  },
  {
   "cell_type": "markdown",
   "metadata": {},
   "source": [
    "In order to compute the distance metric between government types, the numeric government type will be used. The distance metric will be defined by the absolute value of the subtraction between the values of each pair of countries. That way, we end up with a symetric metric with possible values of 0, 1 and 2."
   ]
  },
  {
   "cell_type": "code",
   "execution_count": null,
   "metadata": {},
   "outputs": [],
   "source": [
    "# Reading the dataframe and setting ISO2 as index (as it will be the useful country code)\n",
    "data = pd.read_pickle(os.path.abspath(os.path.join(os.getcwd() + '\\DataEnriching\\data.pickle')))\n",
    "data.reset_index(inplace=True)\n",
    "data.set_index('ISO2', inplace=True)"
   ]
  },
  {
   "cell_type": "code",
   "execution_count": null,
   "metadata": {},
   "outputs": [],
   "source": [
    "# Selecting numeric government type column\n",
    "gov_type_df = data[['gov_type_num']]\n",
    "\n",
    "# Creating the matrix with the distances\n",
    "gov_distance_df = pd.DataFrame(columns=gov_type_df.index.tolist())\n",
    "\n",
    "for country1, value1 in zip(gov_type_df.index.tolist(), gov_type_df['gov_type_num']):\n",
    "    row = []\n",
    "    for country1, value2 in zip(gov_type_df.index.tolist(), gov_type_df['gov_type_num']):\n",
    "        row.append(abs(value1-value2))\n",
    "    \n",
    "    \n",
    "    dictionary = dict(zip(data.index.tolist(), row))\n",
    "    gov_distance_df = gov_distance_df.append(dictionary, ignore_index=True)\n",
    "    \n",
    "gov_distance_df.index = gov_type_df.index\n",
    "gov_distance_df.head(10)"
   ]
  },
  {
   "cell_type": "markdown",
   "metadata": {},
   "source": [
    "____\n",
    "\n",
    "## 3.3. Distances \n",
    "\n",
    "Distance tends to play an important role in determining people's interest regarding a specific event. But there are several types of distances which can be considered when speaking of countries. \n",
    "\n",
    "The first and most evident is the **birds-eye-view distance** between the countries. This is computed based on the positions of the center of each country. But this is not enough. Take for example the US and Canada, the distance between the center of thees two countries is much larger than the distance between France and any of its neighboring countries. \n",
    "\n",
    "So what else could we consider to have a more representative representation of distance between the different countries? We came up with three other distance metrics which combined would be more complete.\n",
    "\n",
    "\n",
    "1. **Relative Importance of Neighbors** :  To take into account the fact that two countries can be neighbors and still have a big distance between them we decided to create a metric which would give importance to countries which are direct neighbors. We also wanted to make sure to give each neighbor the importance it is due. For example France has  multiple countries at its border. But that does not mean that each of these countries are of similar importance. That is why we weighted this metric by the size of the countries. Therefore a small neighboring country such as Luxemburg would have a smaller weight than Germany for example.  \n",
    "\n",
    "2. **Hop Distance** : This second metric accounts not only for direct neighbors but also for the smallest number of countries which would need to be traversed to connect any two countries in the world. \n",
    "\n",
    "3. **Flight Routes** : This last metric accounts for movement of populations between the different countries. The assumption is that the existence of flight routes is due to the fact that people exhibit a certain interest for the other country. The more often you visit a place, the more likely you are to be interested in what is going on there. \n",
    "\n",
    "\n",
    "These metrics are all constructed in the country distances noteboook in the GeoMetrics folder (**TODO : put link **). Refer to this noteboook for more detail on how the metrics were constructed. \n",
    "\n",
    "** Bird's Eye View Distance / Real Distance **\n",
    "\n",
    "Constructing this mapping was relatively straightforward. Using the position in latitude and longitude of the countries the distance between all countries in computed all the while being carefull with the extreme values of longitude. It is important to consider the shortest path as the earth is round. \n",
    "\n",
    "** TODO : load the pickle file and plot the heatmap as well as the distribution of values in KILOMETERS! (factor 105)**"
   ]
  },
  {
   "cell_type": "code",
   "execution_count": null,
   "metadata": {},
   "outputs": [],
   "source": []
  },
  {
   "cell_type": "markdown",
   "metadata": {},
   "source": [
    "\n",
    "** Hop Distance **\n",
    "\n",
    "\n",
    "For this metric as well as for the following we established an adjacency matrix of the connected countries in term of borders. It is important to note that Islands and certain continents are isolated which means that the resulting graph will not be fully connected. \n",
    "\n",
    "This will also be a usefull tool to create a neigborhood influence matrix.\n",
    "We can visualize the graph using networkx. \n",
    "\n",
    "**TODO : put the graph from Adrian's notebook with the nodes placed in the position of the countries**"
   ]
  },
  {
   "cell_type": "code",
   "execution_count": null,
   "metadata": {},
   "outputs": [],
   "source": []
  },
  {
   "cell_type": "markdown",
   "metadata": {},
   "source": [
    "With the obtained graph in networkx we compute the shortest path between all pairs of nodes to obtain what we call the hop matrix between all countries. Countries which are not connected have a hop distance of infinity between them in the final dataframe. \n",
    "\n",
    "** TODO : insert the heatmap of the final hop matrix**"
   ]
  },
  {
   "cell_type": "code",
   "execution_count": null,
   "metadata": {},
   "outputs": [],
   "source": []
  },
  {
   "cell_type": "markdown",
   "metadata": {},
   "source": [
    "**TODO : put a screenshor of the map for a given country + LINK to the html with the map**"
   ]
  },
  {
   "cell_type": "markdown",
   "metadata": {},
   "source": [
    "\n",
    "\n",
    "** Relative Importance of Neighbors **\n",
    "\n",
    "The adjacency matrix established previously is then used to create a weighted adjacency matrix where the edges weighted by the size of the neighboring country over the sum of the sizes of all the neighbors. The graph is no longer an undirected graph. "
   ]
  },
  {
   "cell_type": "code",
   "execution_count": null,
   "metadata": {},
   "outputs": [],
   "source": []
  },
  {
   "cell_type": "markdown",
   "metadata": {},
   "source": [
    "**TODO : put a screenshot of the map for a given country and link **"
   ]
  },
  {
   "cell_type": "markdown",
   "metadata": {},
   "source": [
    "\n",
    "** Flight Routes **\n",
    "\n",
    "Given a dataset of 59036 routes between 3209 airports on 531 airlines in the world as of January 2012. In addition the that we are able so associate all the Airports to their country thanks to a second dataset. **TODO : put the links towards the datasets**\n",
    "\n",
    "Once that was done, we associated all the routes with the departure and arrival countries. That way were able to determine for each country the proportion of flights to all other countries. \n",
    "\n",
    "In the same way as before the graph is a directed graph."
   ]
  },
  {
   "cell_type": "code",
   "execution_count": null,
   "metadata": {},
   "outputs": [],
   "source": []
  },
  {
   "cell_type": "markdown",
   "metadata": {
    "collapsed": true
   },
   "source": [
    "**TODO : put the heatmap**\n",
    "\n",
    "**TODO : put the graph with the nodes at the positions of the countries**\n",
    "\n",
    "**TODO : put a screenshor of the map for a given country**"
   ]
  },
  {
   "cell_type": "markdown",
   "metadata": {},
   "source": [
    "**TODO : put the link towards the interactive map for all the distance metrics**"
   ]
  },
  {
   "cell_type": "markdown",
   "metadata": {},
   "source": [
    "____\n",
    "\n",
    "## 3.4. Religions "
   ]
  },
  {
   "cell_type": "markdown",
   "metadata": {},
   "source": [
    "Religion, like government, affects the way of thinking of the people. Religion bonds between countries will definitely have an impact on the awareness of events that happen in countries with the same religions.\n",
    "\n",
    "Here we can see the religion data that we were originally using in Milestone 2:"
   ]
  },
  {
   "cell_type": "code",
   "execution_count": null,
   "metadata": {},
   "outputs": [],
   "source": [
    "rel_df_milestone2 = pd.read_pickle(\"./DataEnriching/Pickles for Milestone 3/final_rel_df.pickle\")\n",
    "rel_df_milestone2.head()"
   ]
  },
  {
   "cell_type": "markdown",
   "metadata": {},
   "source": [
    "Unfortunately, there were too many countries for which the religion information was not complete. That is why we went back to the factbook which was more complete. "
   ]
  },
  {
   "cell_type": "markdown",
   "metadata": {},
   "source": [
    "### Methodology\n",
    "From now on, we will explain how we took the data from the factbook dataset.\n",
    "\n",
    "We could extract the religions from Dataset 2, but we had to do some cleaning to have the desired format of the data. First we needed to know which where the religions that were in the dataset, so we created an array containing the unique names of the religions that appeared througouth each country. Once we know all the religions, we created the religions dataframe, containing the percentage of every religion in every country. Finally, we grouped the small religions in 10 broader categories of religions.\n",
    "\n",
    "As said, we start by creating the unique religions array. Here is a sample of part of the array:"
   ]
  },
  {
   "cell_type": "code",
   "execution_count": null,
   "metadata": {},
   "outputs": [],
   "source": [
    "#unique_religions[:20]\n",
    "['Adventist', 'Animist', 'Armenian Apostolic', 'Assembly of God', 'Awakening Churches/Christian Revival', 'Badimo',\n",
    " \"Baha'i\", 'Baptist', 'Bektashi', 'Buddhism', 'Buddhist', 'Bukot nan Jesus', 'Calvinist', 'Cao Dai', 'Catholic', 'Christian',\n",
    " 'Christianity','Church of England', 'Church of Ireland', 'Church of Norway']"
   ]
  },
  {
   "cell_type": "markdown",
   "metadata": {},
   "source": [
    "Now that we have all possible religions in one array, we will create the dataframe (rel_df), with all religions as columns, and the country as the index. The cell values will represent the percentage of the religion in the country.\n",
    "\n",
    "Some of the countries had bad formated data to be extracted (i.e. percentages given by ranges like 10-30%, some countries didn't have the percentages, etc). We manually added the rows of the countries that had issues. For the countries that didn't have percentages, we searched on Wikipedia for the percentages and we also added them manually.\n",
    "\n",
    "To create the rel_df dataframe, the rows were appended into an initial empty dataframe. The rows were created by looping through all unique_religions and checking if the country in particular had that religion. If it had it, we inserted the percentage. If it didn't have it, we inserted the value zero in that religion column.\n",
    "\n",
    "Here is what the rel_df looks like, after dropping the smallest religions (columns) that didn't have more than 10% in any country:"
   ]
  },
  {
   "cell_type": "code",
   "execution_count": null,
   "metadata": {},
   "outputs": [],
   "source": [
    "rel_df = pd.read_pickle('./DataEnriching/rel_df.pickle')\n",
    "rel_df.set_index('ISO2', inplace=True)\n",
    "rel_df.head()"
   ]
  },
  {
   "cell_type": "markdown",
   "metadata": {},
   "source": [
    "### Grouping religions under broader categories\n",
    "We grouped the religions in broader categories by adding the percentages. We had to dropp some columns that didn't provide any information about the religious similarity between two countries (i.e unspecified, none or other, other, etc)."
   ]
  },
  {
   "cell_type": "code",
   "execution_count": null,
   "metadata": {},
   "outputs": [],
   "source": [
    "# Here are the broader categories that we came up with\n",
    "protestants = ['Calvinist', 'Church of Norway', 'Congregational Christian Church', 'Ekalesia Niue', 'Evangelical', \n",
    "               'Evangelical Lutheran', 'Evangelical Lutheran Church of Iceland', 'Evangelical or Protestant', 'Lutheran',\n",
    "               'Protestant', 'Protestant and other', 'Seventh-Day Adventist', 'non-Catholic Christians', 'Armenian Apostolic', \n",
    "               'Assembly of God', 'Christian', 'Kimbanguist', 'Mormon', 'Zionist Christian', 'nondenominational']\n",
    "               \n",
    "catholic = ['Awakening Churches/Christian Revival', 'Catholic', 'Roman Catholic', 'nominally Roman Catholic']\n",
    "orthodox = ['Eastern Orthodox', 'Ethiopian Orthodox', 'Greek Orthodox', 'Macedonian Orthodox', 'Orthodox', 'Orthodox Christian',\n",
    "                'Russian Orthodox', 'Serbian Orthodox']\n",
    "buddhism = ['Buddhism', 'Buddhist', 'Lamaistic Buddhist']\n",
    "hindu = ['Hindu', 'Indian- and Nepalese-influenced Hinduism']\n",
    "jewish = ['Jewish', 'Zionist', ]\n",
    "muslim = ['Muslim', 'Sunni Muslim']\n",
    "oriental = ['Shintoism', 'Taoist', 'mixture of Buddhist and Taoist']\n",
    "other = ['Vodoun', 'eclectic mixture of local religions', 'folk religion', 'indigenous beliefs']\n",
    "animist = ['animist', 'animist or no religion']\n",
    "atheist = ['atheist or agnostic', 'no religion', 'non-believer/agnostic', 'non-believers']\n",
    "unaffiliated = ['unaffiliated', 'unaffiliated or other']\n",
    "\n",
    "# Those religions will be dropped\n",
    "dropped_cols = ['Kempsville Presbyterian Church', 'none', 'none or other', 'other',\n",
    "                'other Christian', 'other and unspecified', 'other or none', 'other or unspecified', 'unspecified',\n",
    "                'atheist and agnostic']\n",
    "\n",
    "# Arrays needed to run next cell\n",
    "final_categories = [protestants, catholic, orthodox, buddhism, hindu, jewish, muslim, oriental, other, animist,\n",
    "                   atheist, unaffiliated]\n",
    "final_categories_names = ['protestants', 'catholic', 'orthodox', 'buddhism', 'hindu', 'jewish', 'muslim', \n",
    "                           'oriental', 'other', 'animist', 'atheist', 'unaffiliated']"
   ]
  },
  {
   "cell_type": "markdown",
   "metadata": {},
   "source": [
    "The function that unifies the small religions to broader religion groups, and the resulting dataframe are the following:"
   ]
  },
  {
   "cell_type": "code",
   "execution_count": null,
   "metadata": {},
   "outputs": [],
   "source": [
    "def generate_categories_df(dataframe):\n",
    "    df = pd.DataFrame()\n",
    "    for category, category_name in zip(final_categories, final_categories_names):\n",
    "        df[category_name] = dataframe[category].sum(axis=1)\n",
    "    return df\n",
    "\n",
    "categorized_df = generate_categories_df(rel_df)\n",
    "categorized_df.head()"
   ]
  },
  {
   "cell_type": "markdown",
   "metadata": {},
   "source": [
    "To compute the distances, the euclidean dot product was applied using the following function, that returns the matrix with the distances between each pair of countries."
   ]
  },
  {
   "cell_type": "code",
   "execution_count": null,
   "metadata": {},
   "outputs": [],
   "source": [
    "rel_distances = spatial.distance.squareform(spatial.distance.pdist(categorized_df,'euclidean'))"
   ]
  },
  {
   "cell_type": "code",
   "execution_count": null,
   "metadata": {},
   "outputs": [],
   "source": [
    "# Converting it to a dataframe\n",
    "rel_distance_df = pd.DataFrame(rel_distances, index=rel_df.index.tolist(), columns=rel_df.index.tolist())\n",
    "rel_distance_df.head(10)"
   ]
  },
  {
   "cell_type": "markdown",
   "metadata": {},
   "source": [
    "**TODO : insert heatmap of the distances**"
   ]
  },
  {
   "cell_type": "markdown",
   "metadata": {},
   "source": [
    "**TODO INSERT MAP WITH ALL RELIGIONS**"
   ]
  },
  {
   "cell_type": "markdown",
   "metadata": {},
   "source": [
    "In the previous cell we can see the visualization of the religion metric on a map. When clicking on countries which are majoritarely christian the distance metric does not account for the proximity between protestant, catholic and orthodox. That is why we decided to merge the three religions (protestants, catholics, orthodox) into one group (christianity). The results can be seen in the following map. "
   ]
  },
  {
   "cell_type": "markdown",
   "metadata": {},
   "source": [
    "**TODO INSERT MAP WITH CHRISTIANS TOGETHER**"
   ]
  },
  {
   "cell_type": "markdown",
   "metadata": {},
   "source": [
    "Here we can see that now two countries majoritarely christians are closer in the religion distance metric, meaning that we solved the problem.\n",
    "\n",
    "\n",
    "To compute the last map, we had to solve also the issues with the lack of data of some countries. In the categorized_df dataframe there are countries that have null values in every religion. This represents a big issue because when computing the distance between countries, these countries will have distance zero not for their religious proximity, but because we lacked the data. We managed to find the percentages of the main religions in most of the important countries by searching in Wikipedia. Here is an example of some manually inserted values:"
   ]
  },
  {
   "cell_type": "code",
   "execution_count": null,
   "metadata": {},
   "outputs": [],
   "source": [
    "# We found the percentages on wikipedia by doing the search on google: percentages of main religions [country]\n",
    "data.set_value('Greenland', ('religion', 'christianity'), 0.96);\n",
    "data.set_value('Madagascar', ('religion', 'atheist'), 0.84);\n",
    "data.set_value('North Korea', ('religion', 'atheist'), 0.643);\n",
    "data.set_value('Palestine', ('religion', 'muslim'), 0.85);\n",
    "data.set_value('Palestine', ('religion', 'jewish'), 0.12);\n",
    "data.set_value('Sudan', ('religion', 'muslim'), 0.97);"
   ]
  },
  {
   "cell_type": "markdown",
   "metadata": {},
   "source": [
    "____\n",
    "\n",
    "## 3.5. Population, Area, GDP, Internet users, population in poverty, unemployment rate"
   ]
  },
  {
   "cell_type": "markdown",
   "metadata": {},
   "source": [
    "Countries can be characterized by general attributes such as population, size, gross domestic product (GDP), poverty line, internet users and so forth. These metrics are interesting because they are in direct link to the number of tweets in a conutry and can be used as normalizing factors. \n",
    "         \n",
    "As we announced previously, by using the factbook dataset for Milestone 3 we were able to extract more features than in Milestone 2. These features are straight forward to extract from Dataset 2 (see \"Data enriching.ipynb\"). From the data.pickle file we can extract them directly. The result is the following:"
   ]
  },
  {
   "cell_type": "code",
   "execution_count": null,
   "metadata": {},
   "outputs": [],
   "source": [
    "other_features = pd.read_pickle('.\\DataEnriching\\data.pickle')\n",
    "cols = [('POP',''),('area',''),('gdp',''),('gdp_capita',''),('Internet users',''),('pop_pov',''),('unemployment','')]\n",
    "other_features = other_features[cols]\n",
    "other_features.head()"
   ]
  },
  {
   "cell_type": "markdown",
   "metadata": {},
   "source": [
    "____\n",
    "\n",
    "##  3.6. Estimating Number of Active Tweeters \n",
    "\n",
    "As will be explained in the next portion of the notebook it is important to have a normalizing factor to account for differences in twitter activity between the different country. The ideal thing would have been to have the number of active tweeters per country. A second best would have been to simply have the number of tweeters per country. Unfortunately none of this is available to the public. That is why it was important to create our own estimation of these values to generate the model. \n",
    "\n",
    "We had at our disposal the number of tweets worldwide for 8 different events. We used this to compute the average number of tweets per country and used it as a baseline. We were careful to compute the average of tweets for a given country only using the data when there was no event in the given country. In clearer terms we did not take the number of tweets in France during Charlie Hebdo to compute the average number of tweets. We relied on the 7 other events. In the same fashion we did not consider the tweets for france during the event in Belgium as the countries are sufficiently close to generate larger than normal reactions. The inverse was also done for Belgium.  This implies that we compute the average number of tweets (baseline) using only 6 events for France and Belgium versus 7 for the others. \n",
    "\n",
    "\n",
    "The code used to compute the baseline number of tweets over a week called all_tweets can be found at the start of the Correlations and Linear Regression Model notebook. Here we show a modified excerpt as well as the difference when computing the mean without the values in the countries where the event happened. \n"
   ]
  },
  {
   "cell_type": "code",
   "execution_count": null,
   "metadata": {},
   "outputs": [],
   "source": [
    "import os\n",
    "events = [x for x in os.listdir('../../Project Data/Tweets/') if \"DS_Store\" not in x]\n",
    "\n",
    "for ignore in [False, True]:\n",
    "    \n",
    "    all_tweets = list()\n",
    "    for event in events:\n",
    "        all_tweets.append(pickle.load(open('../../Project Data/Tweets/{}/Geocoded/summary.pickle'.format(event), 'rb')))\n",
    "\n",
    "    if ignore:\n",
    "        print()\n",
    "        print(\"Ignoring number of tweets for countries in which the event occurred\")\n",
    "        # Setting values to nan if the event occured in the country\n",
    "        for idx, country in enumerate([\"BE\", \"FR\", \"TR\", \"LB\", \"NG\", \"NG\", \"US\", \"PK\"]):\n",
    "            if country== \"BE\":\n",
    "                all_tweets[idx].loc[\"FR\",:] = np.nan\n",
    "            if country== \"FR\":\n",
    "                all_tweets[idx].loc[\"BE\",:] = np.nan\n",
    "            if country == \"US\":\n",
    "                all_tweets[idx].loc[\"BE\",:] = np.nan\n",
    "                all_tweets[idx].loc[\"FR\",:] = np.nan\n",
    "            all_tweets[idx].loc[country,:] = np.nan\n",
    "    else :\n",
    "        print(\"Computing baseline using all data\")\n",
    "    all_tweets = pd.concat(all_tweets, axis=1).mean(axis=1, skipna = True)\n",
    "    print(\"United States : \", int(all_tweets[\"US\"]))\n",
    "    print(\"France : \", int(all_tweets[\"FR\"]))\n",
    "    print(\"Belgium : \", int(all_tweets[\"BE\"]))\n",
    "    print(\"Pakistan : \", int(all_tweets[\"PK\"]))\n",
    "    print(\"Turkey : \", int(all_tweets[\"TR\"]))\n",
    "    print(\"Nigeria : \", int(all_tweets[\"NG\"]))\n",
    "    print(\"Lebanon : \", int(all_tweets[\"BE\"]))\n",
    "        "
   ]
  },
  {
   "cell_type": "markdown",
   "metadata": {},
   "source": [
    "We can clearly see that there is a difference in terms of baseline tweets for all these countries, the most flagrant being the factor 35 and 28 of difference for France and Belgium respectively. This also shows the level of reaction which occurred in both countries. "
   ]
  },
  {
   "cell_type": "markdown",
   "metadata": {},
   "source": [
    "____\n",
    "\n",
    "# 4. Constructing the Awareness Model \n",
    "\n",
    "Given all of these metrics we wanted to creat a graph linking all countries. The more countries have attributes in common, the more likely they are to react to what is going on. But how do we quantify that two countries share things in common? \n",
    "\n",
    "We first observed whether any variables correlated highly with the measured reactions. Unfortunately as we will show, it was not the case for any of the events. This can be seen in the [Correlations and Linear Regression Model notebook](https://github.com/LailaHms/ADA2017_Homeworks/blob/master/Project/AwarenessModel/Correlations%20and%20Linear%20Regression%20Model.ipynb)\n",
    "\n",
    "Our original idea was to construct a graph linking the different countries. We wanted to use what we saw in recommender systems and topic detection would better be able to select features which best link the countries together. The issue with this method is that it is difficult to determine why the outputs were not optimal. This can be seen in the [Matrix Factorisation - LDA Model](https://github.com/LailaHms/ADA2017_Homeworks/blob/master/Project/AwarenessModel/Correlations%20and%20Linear%20Regression%20Model.ipynb) notebook  \n",
    "\n",
    "\n",
    "That is why we attempted two alternative methods :\n",
    "- Using random search to find the optimal weights combining our features to construct a final graph upon which we could do diffusion and compare the output to the reactions for the different events. See the [Weighting Metrics and Graph Diffusion](https://github.com/LailaHms/ADA2017_Homeworks/blob/master/Project/AwarenessModel/Weighting%20Metrics%20and%20Graph%20Diffusion.ipynb) notebook. \n",
    "\n",
    "- Using support vector regression which is a non linear regression method to predict the reaction directly [SVR Model](https://github.com/LailaHms/ADA2017_Homeworks/blob/master/Project/AwarenessModel/SVR%20Model.ipynb) \n",
    "       \n",
    "The issue with both of these methods is that we have to predict the outputfor 250 countries with a very limited dataset (8 events). We would have required a much larger dataset consisting of at least 1000 events in order to properly train and test the model.  \n",
    "\n",
    "\n",
    "## 4.1. Correlations\n",
    "\n",
    "The first thing we wanted to do was to verify whether any of the our metrics highly correlated with the observed reactions. That is what we did in the Correlations and Linear Regression Model notebook [Correlations and Linear Regression Model notebook](https://github.com/LailaHms/ADA2017_Homeworks/blob/master/Project/AwarenessModel/Correlations%20and%20Linear%20Regression%20Model.ipynb)\n",
    "\n",
    "Originally we had hoped that a subset of features would correlate with the reaction for a given number of events. Unfortunately this was not the case for any of the observed events. \n",
    "\n",
    "Loading the important dataframes"
   ]
  },
  {
   "cell_type": "code",
   "execution_count": null,
   "metadata": {},
   "outputs": [],
   "source": [
    "features_df = pd.read_pickle(os.path.join(\"AwarenessModel\",\"correlation_features.pkl\"))\n",
    "all_tweets = pd.read_pickle(os.path.join(\"AwarenessModel\",\"all_tweets.pickle\"))\n",
    "\n",
    "\n",
    "data = pickle.load(open('DataEnriching/data.pickle','rb'))\n",
    "data = data.reset_index()\n",
    "data = data.set_index(\"ISO2\")\n",
    "\n",
    "# Keep only relevant fields \n",
    "data = data[['ISO2','POP', 'area', 'gdp', 'gdp_capita', 'pop_pov', 'region']]\n",
    "\n",
    "lang_feature_df = pd.read_pickle('LinkingLanguages/stand_country_dist_languages.pkl')\n",
    "fligh_routes_df = pd.read_pickle('GeoMetrics/flight_routes.pickle')\n",
    "hop_distance_df = pd.read_pickle('GeoMetrics/hop_distance.pickle')\n",
    "neighbor_influence_df = pd.read_pickle('GeoMetrics/neighbor_influence_v2.pickle')\n",
    "dist_feature_df = pd.read_pickle('GeoMetrics/real_distance.pickle')\n",
    "religion_and_more_df = pd.read_pickle('DataEnriching/Pickles for Milestone 3/6_feature_df.pickle')\n",
    "\n",
    "# Load the number of internet users\n",
    "internet_users = pickle.load(open('AwarenessModel/internet_users.pickle','rb'))\n",
    "internet_users.set_index(\"ISO2\", inplace = True)\n",
    "internet_users.replace(\"unknown\", np.nan, inplace = True)\n",
    "internet_users[\"Internet users\"] = internet_users[\"Internet users\"].astype(np.float)\n",
    "med = np.median([x for x in internet_users[\"Internet users\"].tolist() if not np.isnan(x)])\n",
    "internet_users = internet_users[\"Internet users\"].apply(lambda x: x if not(np.isnan(x)) else med)\n"
   ]
  },
  {
   "cell_type": "markdown",
   "metadata": {},
   "source": [
    "Here are the set of functions used to process a given event and plot the correlations as well as a linear regression model."
   ]
  },
  {
   "cell_type": "code",
   "execution_count": null,
   "metadata": {},
   "outputs": [],
   "source": [
    "def load_tweets(event, country_code):\n",
    "    plt.figure(figsize = (15,10))\n",
    "    # Loading the Number of tweets of the event in turkey per country\n",
    "    summary_tweets = pickle.load(open('../../Project Data/Tweets/{}/Geocoded/summary.pickle'.format(event), 'rb'))\n",
    "    #plot = sns.barplot(summary_tweets.index,summary_tweets.text)\n",
    "    return summary_tweets\n",
    "\n",
    "\n",
    "def event_specific_features(country_code, summary_tweets):\n",
    "    # Create the dataframe for the given country\n",
    "    country_features_df = pd.concat([lang_feature_df.loc[:,(\"language_dist\",country_code)],\n",
    "                           fligh_routes_df.loc[:,(\"flight_routes\",country_code)],\n",
    "                           hop_distance_df.loc[:,(\"hop_distance\",country_code)],\n",
    "                           neighbor_influence_df.loc[:,(\"neighbor_influence\",country_code)],\n",
    "                           dist_feature_df.loc[:,(\"real_distance\",country_code)], \n",
    "                           summary_tweets.loc[:,\"text\"],\n",
    "                           data.loc[:,[\"area\", 'gdp', 'gdp_capita', \"POP\", \"2016_gdp_total\", \"region\"]],\n",
    "                           features_df.loc[:,(\"Normalized internet users\")],\n",
    "                           features_df.loc[:,(\"Internet users\")]],axis=1)\n",
    "    #features_df.sort_index(axis=1,inplace=True)\n",
    "\n",
    "    # Rename the columns\n",
    "    country_features_df.columns = ['language_dist', 'flight_routes', 'hop_distance', 'neighbor_influence',\\\n",
    "                                   'real_distance', 'text', 'POP', 'area', 'gdp', 'gdp_capita',\\\n",
    "                                    'region', 'Normalized internet users', 'Internet users']\n",
    "    \n",
    "    # Change the type of the given columns from object to float\n",
    "    country_features_df.flight_routes = country_features_df.flight_routes.astype(np.float)\n",
    "    country_features_df.neighbor_influence = country_features_df.neighbor_influence.astype(np.float)\n",
    "    \n",
    "    #country_features_df[\"text\"] = np.log(country_features_df[\"text\"]+1)\n",
    "    \n",
    "    country_features_df[\"Normalized Tweets\"] = (country_features_df[\"text\"]-all_tweets) / (all_tweets+1)\n",
    "\n",
    "\n",
    "    # Remove the information pretaining to the concerned country\n",
    "    country_features_df.drop([country_code], inplace = True)\n",
    "    #country_features_df.drop([\"BE\", \"FR\"], inplace = True)\n",
    "    return country_features_df\n",
    "\n",
    "# Plot correlations between the different metrics and the \n",
    "# normalized number of tweets. Compute the regression + R squared metric\n",
    "\n",
    "def plot_correlations_with_regression(country_features_df):\n",
    "    fig = plt.figure(figsize = (15,20))\n",
    "\n",
    "    y_all = country_features_df.loc[:,'Normalized Tweets'].tolist()\n",
    "\n",
    "    # Compute and plot the correlations for the first columns\n",
    "    for idx, column in enumerate(country_features_df.columns):\n",
    "        if idx<9:\n",
    "            # Create the plot\n",
    "            ax = plt.subplot(len(country_features_df.columns)//3+1, 3, idx+1)\n",
    "            \n",
    "            # Get the x and y values if x is not infinite or nan\n",
    "            \n",
    "            x_all = country_features_df.loc[:,column].tolist()\n",
    "            x = list()\n",
    "            y = list()\n",
    "\n",
    "            for i in range(len(x_all)):\n",
    "                if (not np.isnan(x_all[i]) and not np.isinf(x_all[i])):\n",
    "                    x.append(x_all[i])\n",
    "                    y.append(y_all[i])            \n",
    "\n",
    "            # Plot the original data\n",
    "            ax.plot(x, y, 'o', label='original data')\n",
    "            \n",
    "            # Compute the linear regression \n",
    "            slope, intercept, r_value, p_value, std_err = stats.linregress(x,y)\n",
    "            \n",
    "            # Plot the regression \n",
    "            ax.plot(np.array(x), intercept + slope*np.array(x), '--r', label='fitted line')\n",
    "            ax.legend()\n",
    "            ax.set_xlabel(column)\n",
    "            ax.set_ylabel(\"Normalized number of tweets\")\n",
    "            plt.title(\"{} : r^2 {:.3f}\".format(column, r_value**2) )\n",
    "    fig.tight_layout()\n",
    "\n",
    "\n",
    "def analyse_event(event_name, country_code, for_region = False):\n",
    "    \n",
    "    summary_tweets = load_tweets(event_name, country_code)\n",
    "    \n",
    "    # Compute the features for a specific event\n",
    "    country_features_df = event_specific_features(country_code,summary_tweets)\n",
    "    \n",
    "    # Keep countries for which we have the real distance metric (i.e. for which we have all information)\n",
    "    country_features_df = country_features_df.loc[~ country_features_df[\"real_distance\"].isnull(),:]\n",
    "    \n",
    "    # If we only want to analyze for the corresponding region\n",
    "    if for_region:\n",
    "        # Extract the region\n",
    "        region  = data.loc[country_code, \"region\"][0]\n",
    "        country_features_df = country_features_df.loc[country_features_df[\"region\"] == region,:]\n",
    "    \n",
    "    # Remove small countries from the model\n",
    "    country_features_df = country_features_df.loc[country_features_df[\"POP\"]>100000,:]\n",
    "    country_features_df = country_features_df.loc[country_features_df[\"area\"]>1000,:]\n",
    "        \n",
    "    # Compute and plot the correlations\n",
    "    sns.heatmap(abs(country_features_df.corr(\"spearman\")[[\"text\", \"Normalized Tweets\"]]),annot=True)\n",
    "    plot_correlations_with_regression(country_features_df)"
   ]
  },
  {
   "cell_type": "markdown",
   "metadata": {},
   "source": [
    "Here we plot the analysis of the different events : \n",
    "- correlation between the raw number of tweets (called text) as well as the normalized number of tweets (by the estimated twitter baseline activity). \n",
    "- Linear regression for each of these metrics to see if they can be used to predict the output normalized number of tweets. \n",
    "\n",
    "One interesting observation to be made is that there are certain factors such as the GDP, population, number of internet users which exhibit relatively high correlations when observing the raw number of tweets. However this correlation disappears after normalization. \n",
    "\n",
    "This shows us that these parameters have a direct influence on the baseline twitter activity of each country. \n",
    "\n",
    "\n",
    "Remark : It is important to observe both the correlation factor and the regression!"
   ]
  },
  {
   "cell_type": "code",
   "execution_count": null,
   "metadata": {},
   "outputs": [],
   "source": [
    "analyse_event(\"Bruxelles\", \"BE\")"
   ]
  },
  {
   "cell_type": "code",
   "execution_count": null,
   "metadata": {},
   "outputs": [],
   "source": [
    "analyse_event(\"Charlie-Hebdo\", \"FR\")"
   ]
  },
  {
   "cell_type": "code",
   "execution_count": null,
   "metadata": {},
   "outputs": [],
   "source": [
    "analyse_event(\"Istanbul\", \"TR\")"
   ]
  },
  {
   "cell_type": "code",
   "execution_count": null,
   "metadata": {},
   "outputs": [],
   "source": [
    "analyse_event(\"Lebanon\", \"LB\")"
   ]
  },
  {
   "cell_type": "code",
   "execution_count": null,
   "metadata": {},
   "outputs": [],
   "source": [
    "analyse_event(\"Nigeria_2015\", \"NG\")"
   ]
  },
  {
   "cell_type": "code",
   "execution_count": null,
   "metadata": {},
   "outputs": [],
   "source": [
    "analyse_event(\"Nigeria_2016\", \"NG\")"
   ]
  },
  {
   "cell_type": "code",
   "execution_count": null,
   "metadata": {},
   "outputs": [],
   "source": [
    "analyse_event(\"Orlando\", \"US\")"
   ]
  },
  {
   "cell_type": "code",
   "execution_count": null,
   "metadata": {},
   "outputs": [],
   "source": [
    "analyse_event(\"Pakistan\", \"PK\")"
   ]
  },
  {
   "cell_type": "markdown",
   "metadata": {},
   "source": [
    "Unfortunately, there are no factors which correlate highly and the R squared regression parameters is consistently low, regardless of the event. Often there are quite a large number of outlyers which are most likely due in part to the normalizing factor which is based on an estiamted baseline activity and may be quite far off from the truth. \n",
    "\n",
    "\n",
    "We attempted to see whether limiting our analysis to Europe for Charlie Hebdo and Brussels would improve the output but unfortunately that was not the case. "
   ]
  },
  {
   "cell_type": "code",
   "execution_count": null,
   "metadata": {},
   "outputs": [],
   "source": [
    "analyse_event(\"Charlie-Hebdo\", \"FR\", for_region = True)"
   ]
  },
  {
   "cell_type": "code",
   "execution_count": null,
   "metadata": {},
   "outputs": [],
   "source": [
    "analyse_event(\"Bruxelles\", \"BE\",for_region = True)"
   ]
  },
  {
   "cell_type": "markdown",
   "metadata": {},
   "source": [
    "\n",
    "The results vary little compared to what we had previously. This is not surprising as visually, even without knowledge of the interactions, simply observing what is going on around Europe we do not see the trends that we would expect in the number of tweets (refer to the interactive map on the tweet-awareness.eu website)\n",
    "\n",
    "**TODO  : input a screenshot for charlie hebdo and brussels and explain what we would have expected to see**\n"
   ]
  },
  {
   "cell_type": "markdown",
   "metadata": {},
   "source": [
    "## 4.2. Formatting and Standardizing the data\n",
    "\n",
    "For the matrix factorization and the SVR it was first important to standardize the different features before combining them into one big feature vector. This was done for all the different metrics and the additional information for each of the countries. This was done at the start of the [SVR Model](https://github.com/LailaHms/ADA2017_Homeworks/blob/master/Project/AwarenessModel/SVR%20Model.ipynb) \n",
    " notebook. The resulting dataframe is then exported under **all_features_pos.pickle** and **all_features_pos.pickle** (the latter to have only positive values for the matrix factorization)"
   ]
  },
  {
   "cell_type": "markdown",
   "metadata": {},
   "source": [
    "## 4.3. Matrix Factorization Methods : LDA\n",
    "\n",
    "As mentioned previously, we hoped that using topic detection methods would offer a good method to find optimal combinations of features which would link the countries together. Given a matrix of countries x topics we would have been able to compute the distance between the different vectors to construct our graph. Given the graph we could then use diffusion from a starting node and heat equations to see how the reaction would spread and then compare that to the outputs obtained for the events which were acquired. \n",
    "\n",
    "\n",
    "For details on how the matrix factorization was done, refer to the [Matrix Factorisation - LDA Model](https://github.com/LailaHms/ADA2017_Homeworks/blob/master/Project/AwarenessModel/Correlations%20and%20Linear%20Regression%20Model.ipynb) noteboook."
   ]
  },
  {
   "cell_type": "code",
   "execution_count": null,
   "metadata": {},
   "outputs": [],
   "source": [
    "W = pickle.load(open('AwarenessModel/LDA_weights.pickle','rb'))\n",
    "\n",
    "distances = spatial.distance.squareform(spatial.distance.pdist(W)) # W\n",
    "#plt.figure(figsize=[9,7])\n",
    "#sns.heatmap(distances)\n",
    "\n",
    "kernel_width = np.mean(distances)- np.std(distances)#distances.mean()\n",
    "\n",
    "def kernel(x):\n",
    "    return np.exp(- np.power(x/kernel_width,2))\n",
    "\n",
    "# applying the kernel to the distances matrix :\n",
    "weights = kernel(distances)\n",
    "# setting the diagonal (self-loops) weights to 0 :\n",
    "weights[range(len(weights)),range(len(weights))] = 0\n",
    "\n",
    "# displaying a subset of the weights matrix :\n",
    "\n",
    "plt.figure(figsize=[10,5])\n",
    "sns.distplot(weights.flatten())\n",
    "plt.figure(figsize=[9,7])\n",
    "sns.heatmap(weights,cmap=\"Reds\")\n"
   ]
  },
  {
   "cell_type": "markdown",
   "metadata": {},
   "source": [
    "We can see that the matrix is relatively sparse with a limited number of countries with weights which are close to 1. "
   ]
  },
  {
   "cell_type": "code",
   "execution_count": null,
   "metadata": {},
   "outputs": [],
   "source": [
    "# Get the position of the nodes\n",
    "c_data = pickle.load(open('DataEnriching/data.pickle','rb'))\n",
    "c_data.drop(\"United States Minor Outlying Islands\",inplace = True)\n",
    "\n",
    "countries = c_data.index.tolist()\n",
    "\n",
    "weights_df = pd.DataFrame(weights,columns=countries,index=countries)\n",
    "weights_df.head()"
   ]
  },
  {
   "cell_type": "markdown",
   "metadata": {},
   "source": [
    "Checking to see the closest countries to Germany to see if the output is coherent"
   ]
  },
  {
   "cell_type": "code",
   "execution_count": null,
   "metadata": {},
   "outputs": [],
   "source": [
    "country = 'Germany'\n",
    "weights_df[country].loc[weights_df[country] >= 0.9].sort_values(ascending = False)"
   ]
  },
  {
   "cell_type": "markdown",
   "metadata": {},
   "source": [
    "####  Graph Construction and Graph Diffusion"
   ]
  },
  {
   "cell_type": "markdown",
   "metadata": {},
   "source": [
    "Here we can already note quite a few incoherences as it is highly unlikely that an event in Germany would generate equal reactions in over 100 countries. \n",
    "\n",
    "Nonetheless we used heate diffusion on a graph to have a better visualization of the spread of reactions which we will then be able to see on the tweet-awareness.eu website"
   ]
  },
  {
   "cell_type": "code",
   "execution_count": null,
   "metadata": {},
   "outputs": [],
   "source": [
    "# Get the position of the nodes\n",
    "c_data = pickle.load(open('DataEnriching/data.pickle','rb'))\n",
    "c_data.drop(\"United States Minor Outlying Islands\",inplace = True)\n",
    "countries = c_data.index.tolist()\n",
    "\n",
    "\n",
    "weights_df = pd.DataFrame(weights,columns=countries,index=c_data.index.tolist())\n",
    "\n",
    "country_pos = np.array(c_data[['latlng']].as_matrix())\n",
    "country_pos = [ np.array(x[0]) for x in country_pos]\n",
    "country_pos = np.vstack(country_pos)\n",
    "country_pos = np.transpose(np.vstack((country_pos[:,1], country_pos[:,0])))\n",
    "\n",
    "# Create the graph\n",
    "G = graphs.Graph(weights_df.as_matrix())\n",
    "\n",
    "G.set_coordinates(country_pos)\n",
    "G.compute_fourier_basis()\n",
    "\n",
    "# Create the heat diffusion filter\n",
    "filt = filters.Heat(G, tau=100)\n",
    "\n",
    "\n",
    "# Create the signal for a given country\n",
    "for NODE, country in enumerate(weights_df.index):\n",
    "    \n",
    "    signal = np.zeros(G.N)\n",
    "    signal[NODE] = 10\n",
    "\n",
    "    # Apply the filter to the signal\n",
    "    filtered_s = filt.filter(signal)\n",
    "    \n",
    "   \n",
    "    if NODE > 0:\n",
    "        filtered_signals = np.vstack((filtered_signals, filtered_s))\n",
    "    else : \n",
    "        filtered_signals = filtered_s\n",
    "    \n",
    "    if country == \"France\":\n",
    "        # Plot the signal on the graph\n",
    "        G.plot_signal(filtered_s, vertex_size=50, highlight=NODE)\n",
    "\n",
    "filtered_signals = np.transpose(filtered_signals)\n"
   ]
  },
  {
   "cell_type": "markdown",
   "metadata": {},
   "source": [
    "Here we can see more clearly what is going on (with the dots placed at the center of each country). There does not seem to be any logic to the madness... \n"
   ]
  },
  {
   "cell_type": "code",
   "execution_count": null,
   "metadata": {},
   "outputs": [],
   "source": [
    "Image(filename=os.path.join(os.getcwd(), 'Visualization', \"NMF_France.png\"), width=1000)"
   ]
  },
  {
   "cell_type": "code",
   "execution_count": null,
   "metadata": {},
   "outputs": [],
   "source": [
    "Image(filename=os.path.join(os.getcwd(), 'Visualization', \"Charlie_hebdo.png\"), width=1000)"
   ]
  },
  {
   "cell_type": "markdown",
   "metadata": {},
   "source": [
    "The discrepancies speak for themselves. \n",
    "\n",
    "To visualize this for other countries please refer to the interactive plot on the data-story."
   ]
  },
  {
   "cell_type": "markdown",
   "metadata": {},
   "source": [
    "## 4.4. Regression Model To Predict Reaction Levels\n",
    "\n",
    "We decided to attempt a regression model, knowing full well that we do not have enough datapoints to obtain pertinent results (\"qui tente rien n'a rien\"). In the present case we would like to have a model which would predict the reaction of all countries to an event in a specific country. The issue with this is that we need to have a multi-regressor which will compute a regression model for each of the countries. This means that we will have 247 regression models in total. To do so would have ideally required a minimum of 1000 events.\n",
    "\n",
    "Unsurprisingly, the results were sub-par. "
   ]
  },
  {
   "cell_type": "markdown",
   "metadata": {},
   "source": []
  },
  {
   "cell_type": "markdown",
   "metadata": {},
   "source": [
    "## 4.5. Using Random Search To Optimize Mixing Weights"
   ]
  },
  {
   "cell_type": "markdown",
   "metadata": {},
   "source": [
    "____\n",
    "____\n",
    "____\n",
    "\n",
    "# 5. Critical Assessment and Conclusion"
   ]
  },
  {
   "cell_type": "markdown",
   "metadata": {
    "collapsed": true
   },
   "source": [
    "The goal of this project was to determine whether a set of simple metrics could be used to create a model which would adequately represent the links between countries and predict the reactions towards specific events on social media.\n",
    "\n",
    "\n",
    "As we have shown the problem is far more complex than one would have hoped. Twitter is inherently biased because it is a social media plateform. This implies that people are not necessarily subscribed to the network, and if they are that they are active on network. In general social media is relatively new and tends to attract younger generations which are generally less aware about what is going on not only around the world but even in their immediate environment.\n",
    "\n",
    "\n",
    "When people tweet they do not necessarily provide their location and this may also be cultural. Depending on the countries, people are more or less aware of the dangers of providing their locations on social media and therefore more or less inclined to provide personal information in general. This was partially corrected by using a normalizing factor with the tweets but is still an inherent bias in the original dataset.\n",
    "\n",
    "The absence of reaction to an event on social media does not necessarily imply that people are not interested in what is going on. We assume that the proportion of people who react to an event is always the same with respect to the overall number of tweeters\n",
    "\n",
    "\n",
    "Not having standardized locations required creating a mapping which in itself is imperfect and implies loss of a given amount of data. \n",
    "\n",
    "\n",
    "Our metrics are also imperfect and can difficultly model on their own a complex system which is highly linked to social and behavioural aspects. \n",
    "\n",
    "\n",
    "Furthermore, creating a model requires much more data than what we had at hand, both in terms of number of tweets and in terms of events analyzed. \n",
    "\n",
    "\n",
    "For all of these reasons it was evident that creating a metric would be challenging. In general it would seem that we need much more complex pararmeters to describe our system than the ones we have currently in order to correclty predict what is going on especially since awareness does not necessarily imply reaction.\n",
    "\n",
    "\n",
    "**TODO / NOTE TO BE CONTEMPLATED FOR CONCLUSION TO THE WORST: to see if the fact that the country is very large with a large population that can diminish the interest compared to what is happening elsewhere in the world**"
   ]
  },
  {
   "cell_type": "markdown",
   "metadata": {},
   "source": [
    "# 6. Data Story\n",
    "\n",
    "\n",
    "\n",
    "For the Data story we have decided to use the possibilities of Github Pages and Jekyll in order to create a beautiful Data Story. We used for that a template exploiting Bootstrap : [GrayScale](https://github.com/jeromelachaud/grayscale-theme). \n",
    "\n",
    "For the Interactive Maps visualization, we used several tools written in Javascript, including  [GrayScale](https://github.com/jeromelachaud/grayscale-theme). \n",
    "\n",
    "For the Interactive Maps visualization, we used several tools written in Javascript, including D3.js , Topojson.js  and adional D3 extensions. \n",
    "\n",
    "Enjoy 🙂 \n",
    "\n",
    "[Tweet Awareness](http://tweet-awareness.eu).\n"
   ]
  },
  {
   "cell_type": "markdown",
   "metadata": {
    "collapsed": true
   },
   "source": [
    "# 7. Contributions\n",
    "\n",
    "We summarized the contributions of each of the members in the following table where green refers to major contributions and yellow to minor contributions. "
   ]
  },
  {
   "cell_type": "code",
   "execution_count": null,
   "metadata": {},
   "outputs": [],
   "source": [
    "Image(filename=os.path.join(os.getcwd(), 'Visualization', \"member_contributions.png\"), width=700)"
   ]
  },
  {
   "cell_type": "code",
   "execution_count": null,
   "metadata": {},
   "outputs": [],
   "source": []
  }
 ],
 "metadata": {
  "kernelspec": {
   "display_name": "Python [default]",
   "language": "python",
   "name": "python3"
  },
  "language_info": {
   "codemirror_mode": {
    "name": "ipython",
    "version": 3
   },
   "file_extension": ".py",
   "mimetype": "text/x-python",
   "name": "python",
   "nbconvert_exporter": "python",
   "pygments_lexer": "ipython3",
   "version": "3.6.2"
  }
 },
 "nbformat": 4,
 "nbformat_minor": 2
}
