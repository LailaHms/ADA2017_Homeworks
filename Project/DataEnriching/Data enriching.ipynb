{
 "cells": [
  {
   "cell_type": "code",
<<<<<<< HEAD
   "execution_count": 1,
=======
<<<<<<< HEAD
   "execution_count": 46,
=======
   "execution_count": 61,
>>>>>>> a7a016f1d0f2200dd148a44555de8d86aa3f2f9d
>>>>>>> Project2
   "metadata": {
    "collapsed": true
   },
   "outputs": [],
   "source": [
    "import pandas as pd\n",
    "import numpy as np\n",
    "import os\n",
    "import requests\n",
    "from bs4 import BeautifulSoup\n",
    "import collections\n",
    "import re"
   ]
  },
  {
   "cell_type": "markdown",
   "metadata": {},
   "source": [
<<<<<<< HEAD
=======
    "In this notebook we extract more data from each country from two different dataframes. Our goal is to create a dataframe with countries as the index and some features as columns like religions, population, languages, etc."
   ]
  },
  {
   "cell_type": "markdown",
   "metadata": {},
   "source": [
>>>>>>> Project2
    "## Dataset 1: https://github.com/mledoze/countries"
   ]
  },
  {
   "cell_type": "code",
<<<<<<< HEAD
   "execution_count": 2,
=======
<<<<<<< HEAD
   "execution_count": 47,
=======
   "execution_count": 62,
>>>>>>> a7a016f1d0f2200dd148a44555de8d86aa3f2f9d
>>>>>>> Project2
   "metadata": {
    "collapsed": true
   },
   "outputs": [],
   "source": [
    "def get_language(df):\n",
    "    \"\"\"Takes the dataframe and, from the original column dict_of_languages, returns a dictionary where items are like \n",
    "       {country: list_of_language_names}\"\"\"\n",
    "    languages = dict()\n",
    "    for country, language_dict in zip(df.name.values, df.dict_of_languages.values):\n",
    "        languages.update({country: list(language_dict.values())})\n",
    "    \n",
    "    return languages\n",
    "\n",
    "            \n",
    "def get_language_codes(df):\n",
    "    \"\"\"Takes the dataframe and, from the original column dict_of_languages, returns a dictionary where items are like \n",
    "       {country: list_of_language_codes}\"\"\"\n",
    "    \n",
    "    language_codes = dict()\n",
    "    for country, language_dict in zip(df.name.values, df.dict_of_languages.values):\n",
    "        if len(language_dict.keys()) > 0:\n",
    "            language_codes.update({country: list(language_dict.keys())})\n",
    "        else:\n",
    "            language_codes.update({country: ['unknown']})\n",
    "    \n",
    "    return language_codes\n",
    "\n",
    "def get_country_name_native(df):\n",
    "    \"\"\"Takes the dataframe and, from the original column dict_of_names, returns a dictionary where items are like \n",
    "       {country: list_of_native_country_names}. \n",
    "       The dict_of_names column conains the name of the country in various ways. This function only takes the common\n",
    "       name of the country in the native language (i.e. we could also take the official name in the native language)\"\"\"\n",
    "    \n",
    "    native_names_dict = dict()\n",
    "    for country, country_name_dict in zip(df.name, df.dict_of_names.values):\n",
    "        native_country_names = []\n",
    "        for native_lang in country_name_dict['native']:\n",
    "            native_country_names.append(country_name_dict['native'][native_lang]['common'])\n",
    "        native_names_dict.update({country: native_country_names})\n",
    "    \n",
    "    return native_names_dict\n",
    "            \n",
    "\n",
    "def add_columns(df):\n",
    "    \"\"\"Adds the following columns to the dataframe: name, name_native, languages and language_codes\"\"\"\n",
    "    \n",
    "    # Adding name & name_native columns\n",
    "    df['name'] = [name['common'] for name in df.dict_of_names.values]\n",
    "    country_native_names = get_country_name_native(df)\n",
    "    df['name_native'] = list(country_native_names.values())\n",
    "    \n",
    "    # Getting the dictionaries needed to add the language columns\n",
    "    languages = get_language(df)\n",
    "    language_codes = get_language_codes(df)\n",
    "    \n",
    "    # Adding languages & language codes columns\n",
    "    df['languages'] = list(languages.values())\n",
    "    df['language_codes'] = list(language_codes.values())\n",
    "\n",
    "    return df"
   ]
  },
  {
   "cell_type": "code",
<<<<<<< HEAD
   "execution_count": 3,
=======
<<<<<<< HEAD
   "execution_count": 48,
=======
   "execution_count": 63,
>>>>>>> a7a016f1d0f2200dd148a44555de8d86aa3f2f9d
>>>>>>> Project2
   "metadata": {},
   "outputs": [
    {
     "data": {
      "text/html": [
       "<div>\n",
       "<style>\n",
       "    .dataframe thead tr:only-child th {\n",
       "        text-align: right;\n",
       "    }\n",
       "\n",
       "    .dataframe thead th {\n",
       "        text-align: left;\n",
       "    }\n",
       "\n",
       "    .dataframe tbody tr th {\n",
       "        vertical-align: top;\n",
       "    }\n",
       "</style>\n",
       "<table border=\"1\" class=\"dataframe\">\n",
       "  <thead>\n",
       "    <tr style=\"text-align: right;\">\n",
       "      <th></th>\n",
       "      <th>area</th>\n",
       "      <th>ISO2</th>\n",
       "      <th>ISO3</th>\n",
       "      <th>ISO_num</th>\n",
       "      <th>borders</th>\n",
       "      <th>name</th>\n",
       "      <th>language_codes</th>\n",
       "      <th>latlng</th>\n",
       "      <th>languages</th>\n",
       "      <th>name_native</th>\n",
       "    </tr>\n",
       "  </thead>\n",
       "  <tbody>\n",
       "    <tr>\n",
       "      <th>0</th>\n",
       "      <td>180.0</td>\n",
       "      <td>AW</td>\n",
       "      <td>ABW</td>\n",
       "      <td>533</td>\n",
       "      <td>[]</td>\n",
       "      <td>Aruba</td>\n",
       "      <td>[nld, pap]</td>\n",
       "      <td>[12.5, -69.96666666]</td>\n",
       "      <td>[Dutch, Papiamento]</td>\n",
       "      <td>[Aruba, Aruba]</td>\n",
       "    </tr>\n",
       "    <tr>\n",
       "      <th>1</th>\n",
       "      <td>652230.0</td>\n",
       "      <td>AF</td>\n",
       "      <td>AFG</td>\n",
       "      <td>004</td>\n",
       "      <td>[IRN, PAK, TKM, UZB, TJK, CHN]</td>\n",
       "      <td>Afghanistan</td>\n",
       "      <td>[prs, pus, tuk]</td>\n",
       "      <td>[33, 65]</td>\n",
       "      <td>[Dari, Pashto, Turkmen]</td>\n",
       "      <td>[افغانستان, افغانستان, Owganystan]</td>\n",
       "    </tr>\n",
       "    <tr>\n",
       "      <th>2</th>\n",
       "      <td>1246700.0</td>\n",
       "      <td>AO</td>\n",
       "      <td>AGO</td>\n",
       "      <td>024</td>\n",
       "      <td>[COG, COD, ZMB, NAM]</td>\n",
       "      <td>Angola</td>\n",
       "      <td>[por]</td>\n",
       "      <td>[-12.5, 18.5]</td>\n",
       "      <td>[Portuguese]</td>\n",
       "      <td>[Angola]</td>\n",
       "    </tr>\n",
       "    <tr>\n",
       "      <th>3</th>\n",
       "      <td>91.0</td>\n",
       "      <td>AI</td>\n",
       "      <td>AIA</td>\n",
       "      <td>660</td>\n",
       "      <td>[]</td>\n",
       "      <td>Anguilla</td>\n",
       "      <td>[eng]</td>\n",
       "      <td>[18.25, -63.16666666]</td>\n",
       "      <td>[English]</td>\n",
       "      <td>[Anguilla]</td>\n",
       "    </tr>\n",
       "    <tr>\n",
       "      <th>4</th>\n",
       "      <td>1580.0</td>\n",
       "      <td>AX</td>\n",
       "      <td>ALA</td>\n",
       "      <td>248</td>\n",
       "      <td>[]</td>\n",
       "      <td>Åland Islands</td>\n",
       "      <td>[swe]</td>\n",
       "      <td>[60.116667, 19.9]</td>\n",
       "      <td>[Swedish]</td>\n",
       "      <td>[Åland]</td>\n",
       "    </tr>\n",
       "  </tbody>\n",
       "</table>\n",
       "</div>"
      ],
      "text/plain": [
       "        area ISO2 ISO3 ISO_num                         borders           name  \\\n",
       "0      180.0   AW  ABW     533                              []          Aruba   \n",
       "1   652230.0   AF  AFG     004  [IRN, PAK, TKM, UZB, TJK, CHN]    Afghanistan   \n",
       "2  1246700.0   AO  AGO     024            [COG, COD, ZMB, NAM]         Angola   \n",
       "3       91.0   AI  AIA     660                              []       Anguilla   \n",
       "4     1580.0   AX  ALA     248                              []  Åland Islands   \n",
       "\n",
       "    language_codes                 latlng                languages  \\\n",
       "0       [nld, pap]   [12.5, -69.96666666]      [Dutch, Papiamento]   \n",
       "1  [prs, pus, tuk]               [33, 65]  [Dari, Pashto, Turkmen]   \n",
       "2            [por]          [-12.5, 18.5]             [Portuguese]   \n",
       "3            [eng]  [18.25, -63.16666666]                [English]   \n",
       "4            [swe]      [60.116667, 19.9]                [Swedish]   \n",
       "\n",
       "                          name_native  \n",
       "0                      [Aruba, Aruba]  \n",
       "1  [افغانستان, افغانستان, Owganystan]  \n",
       "2                            [Angola]  \n",
       "3                          [Anguilla]  \n",
       "4                             [Åland]  "
      ]
     },
<<<<<<< HEAD
     "execution_count": 3,
=======
<<<<<<< HEAD
     "execution_count": 48,
=======
     "execution_count": 63,
>>>>>>> a7a016f1d0f2200dd148a44555de8d86aa3f2f9d
>>>>>>> Project2
     "metadata": {},
     "output_type": "execute_result"
    }
   ],
   "source": [
    "# Read csv and renaming columns\n",
    "countries = pd.read_json('countries.json')\n",
    "countries.rename(columns={'name': 'dict_of_names', 'languages': 'dict_of_languages'}, inplace=True)\n",
    "\n",
    "# Adding columns\n",
    "countries = add_columns(countries)\n",
    "# Select useful columns & renaming them\n",
    "cols = ['area', 'cca2', 'cca3', 'ccn3', 'borders', 'name', 'language_codes', 'latlng', 'languages', 'name_native']\n",
    "countries = countries[cols]\n",
    "countries.rename(columns={'cca2': 'ISO2', 'cca3': 'ISO3', 'ccn3': 'ISO_num'}, inplace=True)\n",
    "\n",
    "countries.head()"
   ]
  },
  {
   "cell_type": "markdown",
   "metadata": {},
   "source": [
    "## Dataset 2 : https://github.com/opendatajson/factbook.json\n",
    "\n",
    "In this case we didn't have all the data in one file so the reading required more work. We created an empty dataframe and we run through all the folders and all the files inside them and appended the data to the dataframe, ignoring the index.\n",
    "\n",
    "The dataset contains GEC code for the country names, so we will have to use another source to make the mapping of the GEC codes with the ISO codes.\n",
    "From this dataset we will take the following features:\n",
    "- gov_type\n",
    "- GDP\n",
    "- GDP per capita\n",
    "- Population\n",
    "- Interntet users\n",
    "- Population in poverty\n",
    "- Unemployment rate\n",
    "- Religions\n",
<<<<<<< HEAD
    "- Region"
=======
<<<<<<< HEAD
    "- Region"
=======
    "\n",
    "## Extracting all data except religions (they have separate treatment)"
>>>>>>> a7a016f1d0f2200dd148a44555de8d86aa3f2f9d
>>>>>>> Project2
   ]
  },
  {
   "cell_type": "code",
<<<<<<< HEAD
   "execution_count": 4,
   "metadata": {},
=======
<<<<<<< HEAD
   "execution_count": 49,
=======
   "execution_count": 64,
>>>>>>> a7a016f1d0f2200dd148a44555de8d86aa3f2f9d
   "metadata": {
    "collapsed": true
   },
>>>>>>> Project2
   "outputs": [],
   "source": [
    "# Names of the folders\n",
    "region_folders = ['africa', 'australia-oceania', 'central-america-n-caribbean', 'central-asia', 'east-n-southeast-asia',\n",
    "          'europe', 'middle-east', 'north-america', 'south-america', 'south-asia']\n",
    "\n",
    "# We use a temporaty df1 to load the data for a particular country\n",
    "df1 = pd.DataFrame()\n",
    "\n",
    "for region in region_folders:\n",
    "    for country_file in os.listdir(r'factbook.json/' + region):\n",
    "        country_name = country_file[:2]\n",
    "        df = pd.read_json(r'factbook.json/' + region + '/' + country_file)\n",
    "        # Government type\n",
    "        try:\n",
    "            gov_type = df.loc['Government type', 'Government']['text']\n",
    "        except:\n",
    "            gov_type = 'unknown'\n",
    "            \n",
    "        # GDP\n",
    "        try:\n",
    "            gdp0 = df.loc['GDP (official exchange rate)', 'Economy']['text'].split()\n",
    "            if gdp0[0] == '$NA':\n",
    "                gdp = np.nan\n",
    "            else:\n",
    "                gdp = float(gdp0[0].replace('$', ''))\n",
    "                if gdp0[1] == 'million':\n",
    "                    gdp*=10**6\n",
    "                elif gdp0[1] == 'billion':\n",
    "                    gdp*=10**9\n",
    "                elif gdp0[1] == 'trillion':\n",
    "                    gdp*=10**12\n",
    "        except:\n",
    "            gdp = np.nan\n",
    "            \n",
    "        # GDP per capita\n",
    "        try:\n",
    "            gdp_capita = float(df.loc['GDP - per capita (PPP)', 'Economy']['text'].split(sep=' ')[0][1:].replace(',', ''))\n",
    "        except:\n",
    "            gdp_capita = np.nan\n",
    "            \n",
    "        # Region\n",
    "        try:\n",
    "            if country_name == 'fr':\n",
    "                region0 = 'Europe'\n",
    "                \n",
    "            else:\n",
    "                region0 = df.loc['Map references', 'Geography']['text']\n",
    "            \n",
    "        except:\n",
    "            reguion0 = 'unknown'\n",
    "            \n",
    "        # Population\n",
    "        try:\n",
    "            if country_name == 'ce': # particular case of Sri Lanka\n",
    "                population = float(df.loc['Population', 'People and Society']['text'].split(sep=' ')[0])*10**6\n",
    "            else:\n",
    "                population = float(df.loc['Population', 'People and Society']['text'].split(sep=' ')[0].replace(',', '').replace('.',''))\n",
    "        except:\n",
    "            population = np.nan\n",
    "           \n",
    "        # Internet users\n",
    "        try:    \n",
    "            users0 = df.loc['Internet users', 'Communications']['total']['text'].split()\n",
    "            users = float(users0[0].replace(',', ''))\n",
    "            if len(users0) > 1:\n",
    "                users = float(users)*10**6\n",
    "        except:\n",
    "            users = np.nan\n",
    "            \n",
    "        # Population in poverty\n",
    "        try:\n",
    "            pop_pov0 = df.loc['Population below poverty line', 'Economy']['text'].split()\n",
    "            if pop_pov0[0] == 'NA%':\n",
    "                pop_pov == np.nan\n",
    "            else:\n",
    "                pop_pov = float(pop_pov0[0].replace('%', ''))/100.\n",
    "        except:\n",
    "            pop_pov = np.nan\n",
    "            \n",
    "        # Unemployment rate\n",
    "        try:\n",
    "            UR0 = df.loc['Unemployment rate', 'Economy']['text'].split()\n",
    "            if UR0[0] == 'NA%':\n",
    "                unemployment_rate = np.nan\n",
    "            else:\n",
    "                unemployment_rate = float(UR0[0].replace('%', ''))/100.\n",
    "        except:\n",
    "            unemployment_rate = np.nan\n",
    "            \n",
    "\n",
    "        dictionary = {'gov_type': gov_type, 'gdp': gdp, 'gdp_capita': gdp_capita, 'POP': population, \n",
    "                      'Internet users': users, 'pop_pov': pop_pov, 'unemployment': unemployment_rate,\n",
    "                      'region': region0, 'GEC_code': country_name}\n",
    "        \n",
    "        df1 = df1.append(dictionary, ignore_index=True)"
   ]
  },
  {
   "cell_type": "code",
<<<<<<< HEAD
   "execution_count": 5,
=======
<<<<<<< HEAD
   "execution_count": 50,
=======
   "execution_count": 65,
>>>>>>> a7a016f1d0f2200dd148a44555de8d86aa3f2f9d
>>>>>>> Project2
   "metadata": {},
   "outputs": [
    {
     "data": {
      "text/html": [
       "<div>\n",
       "<style>\n",
       "    .dataframe thead tr:only-child th {\n",
       "        text-align: right;\n",
       "    }\n",
       "\n",
       "    .dataframe thead th {\n",
       "        text-align: left;\n",
       "    }\n",
       "\n",
       "    .dataframe tbody tr th {\n",
       "        vertical-align: top;\n",
       "    }\n",
       "</style>\n",
       "<table border=\"1\" class=\"dataframe\">\n",
       "  <thead>\n",
       "    <tr style=\"text-align: right;\">\n",
       "      <th></th>\n",
       "      <th>GEC_code</th>\n",
       "      <th>Internet users</th>\n",
       "      <th>POP</th>\n",
       "      <th>gdp</th>\n",
       "      <th>gdp_capita</th>\n",
       "      <th>gov_type</th>\n",
       "      <th>pop_pov</th>\n",
       "      <th>region</th>\n",
       "      <th>unemployment</th>\n",
       "    </tr>\n",
       "  </thead>\n",
       "  <tbody>\n",
       "    <tr>\n",
       "      <th>0</th>\n",
       "      <td>ag</td>\n",
       "      <td>15105000.0</td>\n",
       "      <td>40263711.0</td>\n",
       "      <td>1.683000e+11</td>\n",
       "      <td>15000.0</td>\n",
       "      <td>presidential republic</td>\n",
       "      <td>0.230</td>\n",
       "      <td>Africa</td>\n",
       "      <td>0.124</td>\n",
       "    </tr>\n",
       "    <tr>\n",
       "      <th>1</th>\n",
       "      <td>ao</td>\n",
       "      <td>2434000.0</td>\n",
       "      <td>20172332.0</td>\n",
       "      <td>9.194000e+10</td>\n",
       "      <td>6800.0</td>\n",
       "      <td>presidential republic</td>\n",
       "      <td>0.405</td>\n",
       "      <td>Africa</td>\n",
       "      <td>NaN</td>\n",
       "    </tr>\n",
       "    <tr>\n",
       "      <th>2</th>\n",
       "      <td>bc</td>\n",
       "      <td>600000.0</td>\n",
       "      <td>2209208.0</td>\n",
       "      <td>1.095000e+10</td>\n",
       "      <td>16900.0</td>\n",
       "      <td>parliamentary republic</td>\n",
       "      <td>0.303</td>\n",
       "      <td>Africa</td>\n",
       "      <td>0.200</td>\n",
       "    </tr>\n",
       "    <tr>\n",
       "      <th>3</th>\n",
       "      <td>bn</td>\n",
       "      <td>709000.0</td>\n",
       "      <td>10741458.0</td>\n",
       "      <td>8.930000e+09</td>\n",
       "      <td>2200.0</td>\n",
       "      <td>presidential republic</td>\n",
       "      <td>0.374</td>\n",
       "      <td>Africa</td>\n",
       "      <td>NaN</td>\n",
       "    </tr>\n",
       "    <tr>\n",
       "      <th>4</th>\n",
       "      <td>by</td>\n",
       "      <td>523000.0</td>\n",
       "      <td>11099298.0</td>\n",
       "      <td>2.742000e+09</td>\n",
       "      <td>800.0</td>\n",
       "      <td>presidential republic</td>\n",
       "      <td>0.680</td>\n",
       "      <td>Africa</td>\n",
       "      <td>NaN</td>\n",
       "    </tr>\n",
       "  </tbody>\n",
       "</table>\n",
       "</div>"
      ],
      "text/plain": [
       "  GEC_code  Internet users         POP           gdp  gdp_capita  \\\n",
       "0       ag      15105000.0  40263711.0  1.683000e+11     15000.0   \n",
       "1       ao       2434000.0  20172332.0  9.194000e+10      6800.0   \n",
       "2       bc        600000.0   2209208.0  1.095000e+10     16900.0   \n",
       "3       bn        709000.0  10741458.0  8.930000e+09      2200.0   \n",
       "4       by        523000.0  11099298.0  2.742000e+09       800.0   \n",
       "\n",
       "                 gov_type  pop_pov  region  unemployment  \n",
       "0   presidential republic    0.230  Africa         0.124  \n",
       "1   presidential republic    0.405  Africa           NaN  \n",
       "2  parliamentary republic    0.303  Africa         0.200  \n",
       "3   presidential republic    0.374  Africa           NaN  \n",
       "4   presidential republic    0.680  Africa           NaN  "
      ]
     },
<<<<<<< HEAD
     "execution_count": 5,
=======
<<<<<<< HEAD
     "execution_count": 50,
=======
     "execution_count": 65,
>>>>>>> a7a016f1d0f2200dd148a44555de8d86aa3f2f9d
>>>>>>> Project2
     "metadata": {},
     "output_type": "execute_result"
    }
   ],
   "source": [
    "df1.head()"
   ]
  },
  {
   "cell_type": "markdown",
   "metadata": {},
   "source": [
<<<<<<< HEAD
=======
    "### Creating array with names of the unique religions\n",
>>>>>>> Project2
    "Now we have to extract religions. We first start by creating a list with all the unique religion names. The cell below generates that list"
   ]
  },
  {
   "cell_type": "code",
<<<<<<< HEAD
   "execution_count": 6,
   "metadata": {
    "collapsed": true
   },
=======
<<<<<<< HEAD
   "execution_count": 51,
   "metadata": {},
=======
   "execution_count": 66,
   "metadata": {
    "collapsed": true
   },
>>>>>>> a7a016f1d0f2200dd148a44555de8d86aa3f2f9d
>>>>>>> Project2
   "outputs": [],
   "source": [
    "# array needed to generate the unique religions array\n",
    "all_religions = []\n",
    "\n",
    "for region in region_folders:\n",
    "    for country_file in os.listdir(r'factbook.json/' + region):\n",
    "        country_name = country_file[:2]\n",
    "        df = pd.read_json(r'factbook.json/' + region + '/' + country_file)\n",
    "        \n",
    "        try:\n",
    "            rel0 = df.loc['Religions', 'People and Society']['text']\n",
    "            religions0 = re.sub(r'\\([^)]*\\)', '', rel0,).split(',')\n",
    "            \n",
    "            pct_array = []            \n",
    "            \n",
    "            if '%' not in rel0:\n",
    "                pass # prevents from adding mistaken religion names\n",
    "            \n",
    "            else:\n",
    "                if country_name in ['mo', 'wa', 'ps', 'tv', 'cu', 'rs', 'cs', 'fr', 'it', 'mt', 'ba', 'gz', 'sa', 'sy', 'we']:\n",
<<<<<<< HEAD
    "                    pass # prevents from adding mistaken religion names\n",
=======
    "                    # Manually adding religions in these countries that had different format of the string\n",
    "                    all_religions += ['Muslim', 'other', 'Christian', 'indigenous beliefs', 'Roman Catholic',\n",
    "                                          'Protestant', 'Modekngei', \"Jehovah's Witnesses\", 'none or unspecified',\n",
    "                                          'Seventh-Day Adventist', \"Baha'i\", 'Evangelical', 'none', 'Russian Orthodox',\n",
    "                                          'other Christian', 'Buddhist', 'Jewish', 'atheist and agnostic',\n",
    "                                          'Hindu', 'Druze']\n",
>>>>>>> Project2
    "                    \n",
    "                else:\n",
    "                    for rel_string in religions0:\n",
    "                        rel_string= rel_string.replace('%','')\n",
    "                        rel = ' '.join(rel_string.split()[:-1])\n",
    "                        pct = float(rel_string.split()[-1].replace('<',''))/100.\n",
    "                        all_religions.append(rel)\n",
    "\n",
    "        except:\n",
    "            pass #There is no data in the json file\n",
    "\n",
    "# Generate unique religions array\n",
    "unique_religions = np.unique(all_religions)"
   ]
  },
  {
   "cell_type": "code",
<<<<<<< HEAD
   "execution_count": 7,
=======
<<<<<<< HEAD
   "execution_count": 52,
=======
   "execution_count": 67,
>>>>>>> a7a016f1d0f2200dd148a44555de8d86aa3f2f9d
>>>>>>> Project2
   "metadata": {},
   "outputs": [
    {
     "data": {
      "text/plain": [
       "array(['Adventist', 'Animist', 'Armenian Apostolic', 'Assembly of God',\n",
       "       'Awakening Churches/Christian Revival', 'Badimo', \"Baha'i\",\n",
       "       'Baptist', 'Bektashi', 'Buddhism', 'Buddhist', 'Bukot nan Jesus',\n",
       "       'Calvinist', 'Cao Dai', 'Catholic', 'Christian', 'Christianity',\n",
<<<<<<< HEAD
       "       'Church of England', 'Church of Ireland', 'Church of Norway'], \n",
       "      dtype='<U40')"
      ]
     },
     "execution_count": 7,
=======
       "       'Church of England', 'Church of Ireland', 'Church of Norway',\n",
       "       'Congregational Christian Church', 'Druze', 'Eastern Orthodox',\n",
       "       'Ekalesia Niue', 'Ethiopian Orthodox', 'Evangelical',\n",
       "       'Evangelical Lutheran', 'Evangelical Lutheran Church of Iceland',\n",
       "       'Evangelical Reformist', 'Evangelical and Pentecostal'], \n",
       "      dtype='<U40')"
      ]
     },
<<<<<<< HEAD
     "execution_count": 52,
=======
     "execution_count": 67,
>>>>>>> a7a016f1d0f2200dd148a44555de8d86aa3f2f9d
>>>>>>> Project2
     "metadata": {},
     "output_type": "execute_result"
    }
   ],
   "source": [
<<<<<<< HEAD
    "unique_religions[:20]"
=======
    "unique_religions[:30]"
>>>>>>> Project2
   ]
  },
  {
   "cell_type": "markdown",
   "metadata": {},
   "source": [
<<<<<<< HEAD
    "Now that we have all possible religions in one array, we will create the dataframe (rel_df), with all religions as columns, and the country as the index. The cell values will represent the percentage of the religion in the country."
=======
    "## Creating the dataframe of religions of each country\n",
    "Now that we have all possible religions in one array, we will create the dataframe (rel_df), with all religions as columns, and the country as the index. The cell values will represent the percentage of the religion in the country.\n",
    "\n",
    "We manually had to add some percentages to the countries that had bad format for extracting the data with an algorithm. Some countries didn't have the percentages of each religion. At the end of the notebook we can see that we manually added them searching the percentages on Wikipedia."
>>>>>>> Project2
   ]
  },
  {
   "cell_type": "code",
<<<<<<< HEAD
   "execution_count": 8,
   "metadata": {
    "collapsed": true
   },
=======
<<<<<<< HEAD
   "execution_count": 53,
   "metadata": {},
=======
   "execution_count": 68,
   "metadata": {
    "collapsed": true,
    "scrolled": true
   },
>>>>>>> a7a016f1d0f2200dd148a44555de8d86aa3f2f9d
>>>>>>> Project2
   "outputs": [],
   "source": [
    "# Creating the dataframe\n",
    "rel_df = pd.DataFrame()\n",
    "\n",
    "for region in region_folders:\n",
    "    for country_file in os.listdir(r'factbook.json/' + region):\n",
    "        country_name = country_file[:2]\n",
    "        df = pd.read_json(r'factbook.json/' + region + '/' + country_file)\n",
    "        \n",
    "        # Setting the dictionary that will contain every religion in each country\n",
    "        religions = dict()\n",
    "        try:\n",
    "            rel0 = df.loc['Religions', 'People and Society']['text']\n",
    "            religions0 = re.sub(r'\\([^)]*\\)', '', rel0,).split(',')         \n",
    "            \n",
    "            # If we don't know the percentages, we set it to 0\n",
    "            if '%' not in rel0:\n",
    "                religions.update({'unknown': 0.})\n",
    "\n",
    "            else:\n",
<<<<<<< HEAD
    "                # The format of these countries made unable to extract the religion. We set it to unknown: 0\n",
    "                if country_name in ['mo', 'wa', 'ps', 'tv', 'cu', 'rs', 'cs', 'fr', 'it', 'mt', 'ba', 'gz', 'sa', 'sy', 'we']:\n",
    "                    religions.update({'unknown': 0.})\n",
=======
    "                # Manually adding religions for problematic string formats\n",
    "                if country_name in ['mo', 'wa', 'ps', 'tv', 'cu', 'rs', 'cs', 'fr', 'it', 'mt', 'ba', 'gz', 'sa', 'sy', 'we']:                    \n",
    "                    if country_name == 'mo':\n",
    "                        religions.update({'Muslim': 0.99, 'other': 0.01})\n",
    "                    elif country_name == 'wa':\n",
    "                        religions.update({'Christian': 0.85, 'indigenous beliefs': 0.15})\n",
    "                    elif country_name == 'ps':\n",
    "                        religions.update({'Roman Catholic': 0.494, 'Protestant': 0.309, 'Modekngei': 0.087, \n",
    "                                          \"Jehovah's Witnesses\": 0.011, 'other': 0.088, 'none or unspecified': 0.011})\n",
    "                    elif country_name == 'tv':\n",
    "                        religions.update({'Protestant': 0.984, \"Baha'i\": 0.01, 'other': 0.006})\n",
    "                    elif country_name == 'cs':\n",
    "                        religions.update({'Roman Catholic': 0.763, 'Evangelical': 0.137, \"Jehovah's Witness\": 0.013,\n",
    "                                         'other Protestant': 0.007, 'other': 0.048, 'none': 0.032})\n",
    "                    elif country_name == 'cu':\n",
    "                        religions.update({'Roman Catholic': 0.85})\n",
    "                    elif country_name == 'rs':\n",
    "                        religions.update({'Russian Orthodox': 0.175, 'Muslim': 0.125, 'other Christian': 0.02})\n",
    "                    elif country_name == 'fr':\n",
    "                        religions.update({'Christian': 0.65, 'Muslim': 0.08, 'Buddhist': 0.006, 'Jewish': 0.006,\n",
    "                                         'other': 0.0075, 'none': 0.25})\n",
    "                    elif country_name == 'it':\n",
    "                        religions.update({'Christian': 0.8, 'atheist and agnostic': 0.2})\n",
    "                    elif country_name == 'mt':\n",
    "                        religions.update({'Roman Catholic': 0.9})\n",
    "                    elif country_name == 'ba':\n",
    "                        religions.update({'Muslim': 0.703, 'Christian': 0.145, 'Hindu': 0.098, 'Buddhist': 0.025, \n",
    "                                         'Jewish': 0.006})\n",
    "                    elif country_name == 'gz':\n",
    "                        religions.update({'Muslim': 0.985, 'Christian': 0.01, 'other': 0.01})\n",
    "                    elif country_name == 'sa':\n",
    "                        religions.update({'Muslim': 0.9})\n",
    "                    elif country_name == 'sy':\n",
    "                        religions.update({'Muslim': 0.87, 'Christian': 0.1, 'Druze': 0.03})\n",
    "                    elif country_name == 'we':\n",
    "                        religions.update({'Muslim': 0.825, 'Jewish': 0.13, 'Christian': 0.02, 'other': 0.01})\n",
    "                \n",
>>>>>>> Project2
    "                else:\n",
    "                    for rel_string in religions0:\n",
    "                        rel_string= rel_string.replace('%','')\n",
    "                        rel = ' '.join(rel_string.split()[:-1])\n",
    "                        pct = float(rel_string.split()[-1].replace('<',''))/100.\n",
    "                        religions.update({rel: pct})\n",
    "            \n",
    "        except:\n",
    "            religions.update({'unknown': 0.}) # If there is no data in the json file set it to 0\n",
    "            \n",
    "        # We have the dictionary with all religions in a country. Now we create the pct_array. For one country, loops through \n",
    "        # unique_religions and returns the array containing the pct of all the religions in that country. Then we append it to\n",
    "        # the dataframe\n",
    "        pct_array = []\n",
    "        for unique_rel in unique_religions:\n",
    "                if unique_rel in religions.keys():\n",
    "                    pct_array.append(religions[unique_rel])\n",
    "                else:\n",
    "                    pct_array.append(0.)\n",
    "                    \n",
    "\n",
    "        dictionary = {'GEC_code': country_name}\n",
    "        dictionary.update(dict(zip(unique_religions, pct_array)))\n",
    "\n",
    "        rel_df = rel_df.append(dictionary, ignore_index=True)"
   ]
  },
  {
   "cell_type": "code",
<<<<<<< HEAD
   "execution_count": 9,
=======
<<<<<<< HEAD
   "execution_count": 54,
=======
   "execution_count": 69,
>>>>>>> a7a016f1d0f2200dd148a44555de8d86aa3f2f9d
>>>>>>> Project2
   "metadata": {},
   "outputs": [
    {
     "data": {
      "text/html": [
       "<div>\n",
       "<style>\n",
       "    .dataframe thead tr:only-child th {\n",
       "        text-align: right;\n",
       "    }\n",
       "\n",
       "    .dataframe thead th {\n",
       "        text-align: left;\n",
       "    }\n",
       "\n",
       "    .dataframe tbody tr th {\n",
       "        vertical-align: top;\n",
       "    }\n",
       "</style>\n",
       "<table border=\"1\" class=\"dataframe\">\n",
       "  <thead>\n",
       "    <tr style=\"text-align: right;\">\n",
       "      <th></th>\n",
       "      <th>Adventist</th>\n",
       "      <th>Animist</th>\n",
       "      <th>Armenian Apostolic</th>\n",
       "      <th>Assembly of God</th>\n",
       "      <th>Awakening Churches/Christian Revival</th>\n",
       "      <th>Badimo</th>\n",
       "      <th>Baha'i</th>\n",
       "      <th>Baptist</th>\n",
       "      <th>Bektashi</th>\n",
       "      <th>Buddhism</th>\n",
       "      <th>...</th>\n",
       "      <th>unaffiliated</th>\n",
       "      <th>unaffiliated or other</th>\n",
       "      <th>unafilliated</th>\n",
       "      <th>undeclared or unknown</th>\n",
       "      <th>undeclared/no answer</th>\n",
       "      <th>unknown</th>\n",
       "      <th>unspecifed</th>\n",
       "      <th>unspecified</th>\n",
       "      <th>unspecified/no answer</th>\n",
       "      <th>voodoo</th>\n",
       "    </tr>\n",
       "  </thead>\n",
       "  <tbody>\n",
       "    <tr>\n",
       "      <th>0</th>\n",
       "      <td>0.0</td>\n",
       "      <td>0.0</td>\n",
       "      <td>0.0</td>\n",
       "      <td>0.0</td>\n",
       "      <td>0.0</td>\n",
       "      <td>0.000</td>\n",
       "      <td>0.0</td>\n",
       "      <td>0.0</td>\n",
       "      <td>0.0</td>\n",
       "      <td>0.0</td>\n",
       "      <td>...</td>\n",
       "      <td>0.0</td>\n",
       "      <td>0.0</td>\n",
       "      <td>0.0</td>\n",
       "      <td>0.0</td>\n",
       "      <td>0.0</td>\n",
       "      <td>0.0</td>\n",
       "      <td>0.0</td>\n",
       "      <td>0.000</td>\n",
       "      <td>0.0</td>\n",
       "      <td>0.0</td>\n",
       "    </tr>\n",
       "    <tr>\n",
       "      <th>1</th>\n",
       "      <td>0.0</td>\n",
       "      <td>0.0</td>\n",
       "      <td>0.0</td>\n",
       "      <td>0.0</td>\n",
       "      <td>0.0</td>\n",
       "      <td>0.000</td>\n",
       "      <td>0.0</td>\n",
       "      <td>0.0</td>\n",
       "      <td>0.0</td>\n",
       "      <td>0.0</td>\n",
       "      <td>...</td>\n",
       "      <td>0.0</td>\n",
       "      <td>0.0</td>\n",
       "      <td>0.0</td>\n",
       "      <td>0.0</td>\n",
       "      <td>0.0</td>\n",
       "      <td>0.0</td>\n",
       "      <td>0.0</td>\n",
       "      <td>0.000</td>\n",
       "      <td>0.0</td>\n",
       "      <td>0.0</td>\n",
       "    </tr>\n",
       "    <tr>\n",
       "      <th>2</th>\n",
       "      <td>0.0</td>\n",
       "      <td>0.0</td>\n",
       "      <td>0.0</td>\n",
       "      <td>0.0</td>\n",
       "      <td>0.0</td>\n",
       "      <td>0.041</td>\n",
       "      <td>0.0</td>\n",
       "      <td>0.0</td>\n",
       "      <td>0.0</td>\n",
       "      <td>0.0</td>\n",
       "      <td>...</td>\n",
       "      <td>0.0</td>\n",
       "      <td>0.0</td>\n",
       "      <td>0.0</td>\n",
       "      <td>0.0</td>\n",
       "      <td>0.0</td>\n",
       "      <td>0.0</td>\n",
       "      <td>0.0</td>\n",
       "      <td>0.003</td>\n",
       "      <td>0.0</td>\n",
       "      <td>0.0</td>\n",
       "    </tr>\n",
       "    <tr>\n",
       "      <th>3</th>\n",
       "      <td>0.0</td>\n",
       "      <td>0.0</td>\n",
       "      <td>0.0</td>\n",
       "      <td>0.0</td>\n",
       "      <td>0.0</td>\n",
       "      <td>0.000</td>\n",
       "      <td>0.0</td>\n",
       "      <td>0.0</td>\n",
       "      <td>0.0</td>\n",
       "      <td>0.0</td>\n",
       "      <td>...</td>\n",
       "      <td>0.0</td>\n",
       "      <td>0.0</td>\n",
       "      <td>0.0</td>\n",
       "      <td>0.0</td>\n",
       "      <td>0.0</td>\n",
       "      <td>0.0</td>\n",
       "      <td>0.0</td>\n",
       "      <td>0.000</td>\n",
       "      <td>0.0</td>\n",
       "      <td>0.0</td>\n",
       "    </tr>\n",
       "    <tr>\n",
       "      <th>4</th>\n",
       "      <td>0.0</td>\n",
       "      <td>0.0</td>\n",
       "      <td>0.0</td>\n",
       "      <td>0.0</td>\n",
       "      <td>0.0</td>\n",
       "      <td>0.000</td>\n",
       "      <td>0.0</td>\n",
       "      <td>0.0</td>\n",
       "      <td>0.0</td>\n",
       "      <td>0.0</td>\n",
       "      <td>...</td>\n",
       "      <td>0.0</td>\n",
       "      <td>0.0</td>\n",
       "      <td>0.0</td>\n",
       "      <td>0.0</td>\n",
       "      <td>0.0</td>\n",
       "      <td>0.0</td>\n",
       "      <td>0.0</td>\n",
       "      <td>0.079</td>\n",
       "      <td>0.0</td>\n",
       "      <td>0.0</td>\n",
       "    </tr>\n",
       "  </tbody>\n",
       "</table>\n",
<<<<<<< HEAD
       "<p>5 rows × 152 columns</p>\n",
=======
       "<p>5 rows × 155 columns</p>\n",
>>>>>>> Project2
       "</div>"
      ],
      "text/plain": [
       "   Adventist  Animist  Armenian Apostolic  Assembly of God  \\\n",
       "0        0.0      0.0                 0.0              0.0   \n",
       "1        0.0      0.0                 0.0              0.0   \n",
       "2        0.0      0.0                 0.0              0.0   \n",
       "3        0.0      0.0                 0.0              0.0   \n",
       "4        0.0      0.0                 0.0              0.0   \n",
       "\n",
       "   Awakening Churches/Christian Revival  Badimo  Baha'i  Baptist  Bektashi  \\\n",
       "0                                   0.0   0.000     0.0      0.0       0.0   \n",
       "1                                   0.0   0.000     0.0      0.0       0.0   \n",
       "2                                   0.0   0.041     0.0      0.0       0.0   \n",
       "3                                   0.0   0.000     0.0      0.0       0.0   \n",
       "4                                   0.0   0.000     0.0      0.0       0.0   \n",
       "\n",
       "   Buddhism   ...    unaffiliated  unaffiliated or other  unafilliated  \\\n",
       "0       0.0   ...             0.0                    0.0           0.0   \n",
       "1       0.0   ...             0.0                    0.0           0.0   \n",
       "2       0.0   ...             0.0                    0.0           0.0   \n",
       "3       0.0   ...             0.0                    0.0           0.0   \n",
       "4       0.0   ...             0.0                    0.0           0.0   \n",
       "\n",
       "   undeclared or unknown  undeclared/no answer  unknown  unspecifed  \\\n",
       "0                    0.0                   0.0      0.0         0.0   \n",
       "1                    0.0                   0.0      0.0         0.0   \n",
       "2                    0.0                   0.0      0.0         0.0   \n",
       "3                    0.0                   0.0      0.0         0.0   \n",
       "4                    0.0                   0.0      0.0         0.0   \n",
       "\n",
       "   unspecified  unspecified/no answer  voodoo  \n",
       "0        0.000                    0.0     0.0  \n",
       "1        0.000                    0.0     0.0  \n",
       "2        0.003                    0.0     0.0  \n",
       "3        0.000                    0.0     0.0  \n",
       "4        0.079                    0.0     0.0  \n",
       "\n",
<<<<<<< HEAD
       "[5 rows x 152 columns]"
      ]
     },
     "execution_count": 9,
=======
       "[5 rows x 155 columns]"
      ]
     },
<<<<<<< HEAD
     "execution_count": 54,
=======
     "execution_count": 69,
>>>>>>> a7a016f1d0f2200dd148a44555de8d86aa3f2f9d
>>>>>>> Project2
     "metadata": {},
     "output_type": "execute_result"
    }
   ],
   "source": [
    "rel_df.head()"
   ]
  },
  {
   "cell_type": "code",
<<<<<<< HEAD
   "execution_count": 10,
=======
<<<<<<< HEAD
   "execution_count": 55,
=======
   "execution_count": 70,
>>>>>>> a7a016f1d0f2200dd148a44555de8d86aa3f2f9d
>>>>>>> Project2
   "metadata": {
    "scrolled": true
   },
   "outputs": [
    {
     "name": "stdout",
     "output_type": "stream",
     "text": [
<<<<<<< HEAD
      "Initial columns: 152\n",
      "After dropping: 66\n"
=======
      "Initial columns: 155\n",
      "After dropping: 67\n"
>>>>>>> Project2
     ]
    }
   ],
   "source": [
    "# Dropping religions that don't have 0.02 in any country\n",
    "print('Initial columns:', len(rel_df.columns))\n",
    "for col in rel_df.columns:\n",
    "    if col != 'GEC_code':\n",
    "        if max(rel_df[col]) < 0.1:\n",
    "            #print(col, len(rel_df.columns), max(rel_df[col]))\n",
    "            rel_df.drop(col, axis=1, inplace=True)\n",
    "            #print('')\n",
    "            \n",
    "print('After dropping:',len(rel_df.columns))"
   ]
  },
  {
   "cell_type": "code",
<<<<<<< HEAD
   "execution_count": 11,
=======
<<<<<<< HEAD
   "execution_count": 56,
=======
   "execution_count": 71,
>>>>>>> a7a016f1d0f2200dd148a44555de8d86aa3f2f9d
>>>>>>> Project2
   "metadata": {},
   "outputs": [
    {
     "data": {
      "text/html": [
       "<div>\n",
       "<style>\n",
       "    .dataframe thead tr:only-child th {\n",
       "        text-align: right;\n",
       "    }\n",
       "\n",
       "    .dataframe thead th {\n",
       "        text-align: left;\n",
       "    }\n",
       "\n",
       "    .dataframe tbody tr th {\n",
       "        vertical-align: top;\n",
       "    }\n",
       "</style>\n",
       "<table border=\"1\" class=\"dataframe\">\n",
       "  <thead>\n",
       "    <tr style=\"text-align: right;\">\n",
       "      <th></th>\n",
       "      <th>GEC_code</th>\n",
       "      <th>Internet users</th>\n",
       "      <th>POP</th>\n",
       "      <th>gdp</th>\n",
       "      <th>gdp_capita</th>\n",
       "      <th>gov_type</th>\n",
       "      <th>pop_pov</th>\n",
       "      <th>region</th>\n",
       "      <th>unemployment</th>\n",
       "      <th>Armenian Apostolic</th>\n",
       "      <th>...</th>\n",
       "      <th>none</th>\n",
       "      <th>none or other</th>\n",
       "      <th>other</th>\n",
       "      <th>other Christian</th>\n",
       "      <th>other and unspecified</th>\n",
       "      <th>other or none</th>\n",
       "      <th>other or unspecified</th>\n",
       "      <th>unaffiliated</th>\n",
       "      <th>unaffiliated or other</th>\n",
       "      <th>unspecified</th>\n",
       "    </tr>\n",
       "  </thead>\n",
       "  <tbody>\n",
       "    <tr>\n",
       "      <th>0</th>\n",
       "      <td>ag</td>\n",
       "      <td>15105000.0</td>\n",
       "      <td>40263711.0</td>\n",
       "      <td>1.683000e+11</td>\n",
       "      <td>15000.0</td>\n",
       "      <td>presidential republic</td>\n",
       "      <td>0.230</td>\n",
       "      <td>Africa</td>\n",
       "      <td>0.124</td>\n",
       "      <td>0.0</td>\n",
       "      <td>...</td>\n",
       "      <td>0.000</td>\n",
       "      <td>0.0</td>\n",
       "      <td>0.010</td>\n",
       "      <td>0.000</td>\n",
       "      <td>0.0</td>\n",
       "      <td>0.0</td>\n",
       "      <td>0.0</td>\n",
       "      <td>0.0</td>\n",
       "      <td>0.0</td>\n",
       "      <td>0.000</td>\n",
       "    </tr>\n",
       "    <tr>\n",
       "      <th>1</th>\n",
       "      <td>ao</td>\n",
       "      <td>2434000.0</td>\n",
       "      <td>20172332.0</td>\n",
       "      <td>9.194000e+10</td>\n",
       "      <td>6800.0</td>\n",
       "      <td>presidential republic</td>\n",
       "      <td>0.405</td>\n",
       "      <td>Africa</td>\n",
       "      <td>NaN</td>\n",
       "      <td>0.0</td>\n",
       "      <td>...</td>\n",
       "      <td>0.123</td>\n",
       "      <td>0.0</td>\n",
       "      <td>0.086</td>\n",
       "      <td>0.000</td>\n",
       "      <td>0.0</td>\n",
       "      <td>0.0</td>\n",
       "      <td>0.0</td>\n",
       "      <td>0.0</td>\n",
       "      <td>0.0</td>\n",
       "      <td>0.000</td>\n",
       "    </tr>\n",
       "    <tr>\n",
       "      <th>2</th>\n",
       "      <td>bc</td>\n",
       "      <td>600000.0</td>\n",
       "      <td>2209208.0</td>\n",
       "      <td>1.095000e+10</td>\n",
       "      <td>16900.0</td>\n",
       "      <td>parliamentary republic</td>\n",
       "      <td>0.303</td>\n",
       "      <td>Africa</td>\n",
       "      <td>0.200</td>\n",
       "      <td>0.0</td>\n",
       "      <td>...</td>\n",
       "      <td>0.152</td>\n",
       "      <td>0.0</td>\n",
       "      <td>0.014</td>\n",
       "      <td>0.000</td>\n",
       "      <td>0.0</td>\n",
       "      <td>0.0</td>\n",
       "      <td>0.0</td>\n",
       "      <td>0.0</td>\n",
       "      <td>0.0</td>\n",
       "      <td>0.003</td>\n",
       "    </tr>\n",
       "    <tr>\n",
       "      <th>3</th>\n",
       "      <td>bn</td>\n",
       "      <td>709000.0</td>\n",
       "      <td>10741458.0</td>\n",
       "      <td>8.930000e+09</td>\n",
       "      <td>2200.0</td>\n",
       "      <td>presidential republic</td>\n",
       "      <td>0.374</td>\n",
       "      <td>Africa</td>\n",
       "      <td>NaN</td>\n",
       "      <td>0.0</td>\n",
       "      <td>...</td>\n",
       "      <td>0.058</td>\n",
       "      <td>0.0</td>\n",
       "      <td>0.026</td>\n",
       "      <td>0.095</td>\n",
       "      <td>0.0</td>\n",
       "      <td>0.0</td>\n",
       "      <td>0.0</td>\n",
       "      <td>0.0</td>\n",
       "      <td>0.0</td>\n",
       "      <td>0.000</td>\n",
       "    </tr>\n",
       "    <tr>\n",
       "      <th>4</th>\n",
       "      <td>by</td>\n",
       "      <td>523000.0</td>\n",
       "      <td>11099298.0</td>\n",
       "      <td>2.742000e+09</td>\n",
       "      <td>800.0</td>\n",
       "      <td>presidential republic</td>\n",
       "      <td>0.680</td>\n",
       "      <td>Africa</td>\n",
       "      <td>NaN</td>\n",
       "      <td>0.0</td>\n",
       "      <td>...</td>\n",
       "      <td>0.000</td>\n",
       "      <td>0.0</td>\n",
       "      <td>0.036</td>\n",
       "      <td>0.000</td>\n",
       "      <td>0.0</td>\n",
       "      <td>0.0</td>\n",
       "      <td>0.0</td>\n",
       "      <td>0.0</td>\n",
       "      <td>0.0</td>\n",
       "      <td>0.079</td>\n",
       "    </tr>\n",
       "  </tbody>\n",
       "</table>\n",
<<<<<<< HEAD
       "<p>5 rows × 74 columns</p>\n",
=======
       "<p>5 rows × 75 columns</p>\n",
>>>>>>> Project2
       "</div>"
      ],
      "text/plain": [
       "  GEC_code  Internet users         POP           gdp  gdp_capita  \\\n",
       "0       ag      15105000.0  40263711.0  1.683000e+11     15000.0   \n",
       "1       ao       2434000.0  20172332.0  9.194000e+10      6800.0   \n",
       "2       bc        600000.0   2209208.0  1.095000e+10     16900.0   \n",
       "3       bn        709000.0  10741458.0  8.930000e+09      2200.0   \n",
       "4       by        523000.0  11099298.0  2.742000e+09       800.0   \n",
       "\n",
       "                 gov_type  pop_pov  region  unemployment  Armenian Apostolic  \\\n",
       "0   presidential republic    0.230  Africa         0.124                 0.0   \n",
       "1   presidential republic    0.405  Africa           NaN                 0.0   \n",
       "2  parliamentary republic    0.303  Africa         0.200                 0.0   \n",
       "3   presidential republic    0.374  Africa           NaN                 0.0   \n",
       "4   presidential republic    0.680  Africa           NaN                 0.0   \n",
       "\n",
       "      ...        none  none or other  other  other Christian  \\\n",
       "0     ...       0.000            0.0  0.010            0.000   \n",
       "1     ...       0.123            0.0  0.086            0.000   \n",
       "2     ...       0.152            0.0  0.014            0.000   \n",
       "3     ...       0.058            0.0  0.026            0.095   \n",
       "4     ...       0.000            0.0  0.036            0.000   \n",
       "\n",
       "   other and unspecified  other or none  other or unspecified  unaffiliated  \\\n",
       "0                    0.0            0.0                   0.0           0.0   \n",
       "1                    0.0            0.0                   0.0           0.0   \n",
       "2                    0.0            0.0                   0.0           0.0   \n",
       "3                    0.0            0.0                   0.0           0.0   \n",
       "4                    0.0            0.0                   0.0           0.0   \n",
       "\n",
       "   unaffiliated or other  unspecified  \n",
       "0                    0.0        0.000  \n",
       "1                    0.0        0.000  \n",
       "2                    0.0        0.003  \n",
       "3                    0.0        0.000  \n",
       "4                    0.0        0.079  \n",
       "\n",
<<<<<<< HEAD
       "[5 rows x 74 columns]"
      ]
     },
     "execution_count": 11,
=======
       "[5 rows x 75 columns]"
      ]
     },
<<<<<<< HEAD
     "execution_count": 56,
=======
     "execution_count": 71,
>>>>>>> a7a016f1d0f2200dd148a44555de8d86aa3f2f9d
>>>>>>> Project2
     "metadata": {},
     "output_type": "execute_result"
    }
   ],
   "source": [
    "# Merging the two dataframes on GEC_code\n",
    "df2 = pd.merge(df1, rel_df, on='GEC_code')\n",
    "df2.head()"
   ]
  },
  {
   "cell_type": "markdown",
   "metadata": {},
   "source": [
<<<<<<< HEAD
=======
    "## Mapping GEC code with ISO codes by scrapping\n",
>>>>>>> Project2
    "As said, we need ISO codes instead of GEC codes so we scrape them from http://www.statoids.com/wab.html"
   ]
  },
  {
   "cell_type": "code",
<<<<<<< HEAD
   "execution_count": 12,
=======
<<<<<<< HEAD
   "execution_count": 57,
=======
   "execution_count": 72,
>>>>>>> a7a016f1d0f2200dd148a44555de8d86aa3f2f9d
>>>>>>> Project2
   "metadata": {},
   "outputs": [
    {
     "data": {
      "text/html": [
       "<div>\n",
       "<style>\n",
       "    .dataframe thead tr:only-child th {\n",
       "        text-align: right;\n",
       "    }\n",
       "\n",
       "    .dataframe thead th {\n",
       "        text-align: left;\n",
       "    }\n",
       "\n",
       "    .dataframe tbody tr th {\n",
       "        vertical-align: top;\n",
       "    }\n",
       "</style>\n",
       "<table border=\"1\" class=\"dataframe\">\n",
       "  <thead>\n",
       "    <tr style=\"text-align: right;\">\n",
       "      <th></th>\n",
       "      <th>GEC_code</th>\n",
       "      <th>ISO2</th>\n",
       "      <th>ISO3</th>\n",
       "      <th>ISO_num</th>\n",
       "    </tr>\n",
       "  </thead>\n",
       "  <tbody>\n",
       "    <tr>\n",
       "      <th>0</th>\n",
       "      <td>af</td>\n",
       "      <td>AF</td>\n",
       "      <td>AFG</td>\n",
       "      <td>004</td>\n",
       "    </tr>\n",
       "    <tr>\n",
       "      <th>1</th>\n",
       "      <td></td>\n",
       "      <td>AX</td>\n",
       "      <td>ALA</td>\n",
       "      <td>248</td>\n",
       "    </tr>\n",
       "    <tr>\n",
       "      <th>2</th>\n",
       "      <td>al</td>\n",
       "      <td>AL</td>\n",
       "      <td>ALB</td>\n",
       "      <td>008</td>\n",
       "    </tr>\n",
       "    <tr>\n",
       "      <th>3</th>\n",
       "      <td>ag</td>\n",
       "      <td>DZ</td>\n",
       "      <td>DZA</td>\n",
       "      <td>012</td>\n",
       "    </tr>\n",
       "    <tr>\n",
       "      <th>4</th>\n",
       "      <td>aq</td>\n",
       "      <td>AS</td>\n",
       "      <td>ASM</td>\n",
       "      <td>016</td>\n",
       "    </tr>\n",
       "  </tbody>\n",
       "</table>\n",
       "</div>"
      ],
      "text/plain": [
       "  GEC_code ISO2 ISO3 ISO_num\n",
       "0       af   AF  AFG     004\n",
       "1            AX  ALA     248\n",
       "2       al   AL  ALB     008\n",
       "3       ag   DZ  DZA     012\n",
       "4       aq   AS  ASM     016"
      ]
     },
<<<<<<< HEAD
     "execution_count": 12,
=======
<<<<<<< HEAD
     "execution_count": 57,
=======
     "execution_count": 72,
>>>>>>> a7a016f1d0f2200dd148a44555de8d86aa3f2f9d
>>>>>>> Project2
     "metadata": {},
     "output_type": "execute_result"
    }
   ],
   "source": [
    "r = requests.get('http://www.statoids.com/wab.html')\n",
    "soup = BeautifulSoup(r.text, 'html.parser')\n",
    "\n",
    "GEC_codes_df = pd.DataFrame()\n",
    "for row in soup.find('table').find_all('tr')[1:-1]:\n",
    "    col = row.find_all('td')\n",
    "    GEC_codes_df = GEC_codes_df.append({'ISO2': col[1].text, 'ISO3': col[2].text, 'ISO_num': col[3].text, \\\n",
    "                                        'GEC_code': col[5].text.lower()}, ignore_index=True)\n",
    "\n",
    "GEC_codes_df.head()"
   ]
  },
  {
<<<<<<< HEAD
   "cell_type": "code",
   "execution_count": 13,
=======
   "cell_type": "markdown",
   "metadata": {},
   "source": [
    "## Final dataframe from Dataset 2"
   ]
  },
  {
   "cell_type": "code",
<<<<<<< HEAD
   "execution_count": 58,
=======
   "execution_count": 73,
>>>>>>> a7a016f1d0f2200dd148a44555de8d86aa3f2f9d
>>>>>>> Project2
   "metadata": {},
   "outputs": [
    {
     "data": {
      "text/html": [
       "<div>\n",
       "<style>\n",
       "    .dataframe thead tr:only-child th {\n",
       "        text-align: right;\n",
       "    }\n",
       "\n",
       "    .dataframe thead th {\n",
       "        text-align: left;\n",
       "    }\n",
       "\n",
       "    .dataframe tbody tr th {\n",
       "        vertical-align: top;\n",
       "    }\n",
       "</style>\n",
       "<table border=\"1\" class=\"dataframe\">\n",
       "  <thead>\n",
       "    <tr style=\"text-align: right;\">\n",
       "      <th></th>\n",
       "      <th>GEC_code</th>\n",
       "      <th>Internet users</th>\n",
       "      <th>POP</th>\n",
       "      <th>gdp</th>\n",
       "      <th>gdp_capita</th>\n",
       "      <th>gov_type</th>\n",
       "      <th>pop_pov</th>\n",
       "      <th>region</th>\n",
       "      <th>unemployment</th>\n",
       "      <th>Armenian Apostolic</th>\n",
       "      <th>...</th>\n",
       "      <th>other Christian</th>\n",
       "      <th>other and unspecified</th>\n",
       "      <th>other or none</th>\n",
       "      <th>other or unspecified</th>\n",
       "      <th>unaffiliated</th>\n",
       "      <th>unaffiliated or other</th>\n",
       "      <th>unspecified</th>\n",
       "      <th>ISO2</th>\n",
       "      <th>ISO3</th>\n",
       "      <th>ISO_num</th>\n",
       "    </tr>\n",
       "  </thead>\n",
       "  <tbody>\n",
       "    <tr>\n",
       "      <th>0</th>\n",
       "      <td>ag</td>\n",
       "      <td>15105000.0</td>\n",
       "      <td>40263711.0</td>\n",
       "      <td>1.683000e+11</td>\n",
       "      <td>15000.0</td>\n",
       "      <td>presidential republic</td>\n",
       "      <td>0.230</td>\n",
       "      <td>Africa</td>\n",
       "      <td>0.124</td>\n",
       "      <td>0.0</td>\n",
       "      <td>...</td>\n",
       "      <td>0.000</td>\n",
       "      <td>0.0</td>\n",
       "      <td>0.0</td>\n",
       "      <td>0.0</td>\n",
       "      <td>0.0</td>\n",
       "      <td>0.0</td>\n",
       "      <td>0.000</td>\n",
       "      <td>DZ</td>\n",
       "      <td>DZA</td>\n",
       "      <td>012</td>\n",
       "    </tr>\n",
       "    <tr>\n",
       "      <th>1</th>\n",
       "      <td>ao</td>\n",
       "      <td>2434000.0</td>\n",
       "      <td>20172332.0</td>\n",
       "      <td>9.194000e+10</td>\n",
       "      <td>6800.0</td>\n",
       "      <td>presidential republic</td>\n",
       "      <td>0.405</td>\n",
       "      <td>Africa</td>\n",
       "      <td>NaN</td>\n",
       "      <td>0.0</td>\n",
       "      <td>...</td>\n",
       "      <td>0.000</td>\n",
       "      <td>0.0</td>\n",
       "      <td>0.0</td>\n",
       "      <td>0.0</td>\n",
       "      <td>0.0</td>\n",
       "      <td>0.0</td>\n",
       "      <td>0.000</td>\n",
       "      <td>AO</td>\n",
       "      <td>AGO</td>\n",
       "      <td>024</td>\n",
       "    </tr>\n",
       "    <tr>\n",
       "      <th>2</th>\n",
       "      <td>bc</td>\n",
       "      <td>600000.0</td>\n",
       "      <td>2209208.0</td>\n",
       "      <td>1.095000e+10</td>\n",
       "      <td>16900.0</td>\n",
       "      <td>parliamentary republic</td>\n",
       "      <td>0.303</td>\n",
       "      <td>Africa</td>\n",
       "      <td>0.200</td>\n",
       "      <td>0.0</td>\n",
       "      <td>...</td>\n",
       "      <td>0.000</td>\n",
       "      <td>0.0</td>\n",
       "      <td>0.0</td>\n",
       "      <td>0.0</td>\n",
       "      <td>0.0</td>\n",
       "      <td>0.0</td>\n",
       "      <td>0.003</td>\n",
       "      <td>BW</td>\n",
       "      <td>BWA</td>\n",
       "      <td>072</td>\n",
       "    </tr>\n",
       "    <tr>\n",
       "      <th>3</th>\n",
       "      <td>bn</td>\n",
       "      <td>709000.0</td>\n",
       "      <td>10741458.0</td>\n",
       "      <td>8.930000e+09</td>\n",
       "      <td>2200.0</td>\n",
       "      <td>presidential republic</td>\n",
       "      <td>0.374</td>\n",
       "      <td>Africa</td>\n",
       "      <td>NaN</td>\n",
       "      <td>0.0</td>\n",
       "      <td>...</td>\n",
       "      <td>0.095</td>\n",
       "      <td>0.0</td>\n",
       "      <td>0.0</td>\n",
       "      <td>0.0</td>\n",
       "      <td>0.0</td>\n",
       "      <td>0.0</td>\n",
       "      <td>0.000</td>\n",
       "      <td>BJ</td>\n",
       "      <td>BEN</td>\n",
       "      <td>204</td>\n",
       "    </tr>\n",
       "    <tr>\n",
       "      <th>4</th>\n",
       "      <td>by</td>\n",
       "      <td>523000.0</td>\n",
       "      <td>11099298.0</td>\n",
       "      <td>2.742000e+09</td>\n",
       "      <td>800.0</td>\n",
       "      <td>presidential republic</td>\n",
       "      <td>0.680</td>\n",
       "      <td>Africa</td>\n",
       "      <td>NaN</td>\n",
       "      <td>0.0</td>\n",
       "      <td>...</td>\n",
       "      <td>0.000</td>\n",
       "      <td>0.0</td>\n",
       "      <td>0.0</td>\n",
       "      <td>0.0</td>\n",
       "      <td>0.0</td>\n",
       "      <td>0.0</td>\n",
       "      <td>0.079</td>\n",
       "      <td>BI</td>\n",
       "      <td>BDI</td>\n",
       "      <td>108</td>\n",
       "    </tr>\n",
       "  </tbody>\n",
       "</table>\n",
<<<<<<< HEAD
       "<p>5 rows × 77 columns</p>\n",
=======
       "<p>5 rows × 78 columns</p>\n",
>>>>>>> Project2
       "</div>"
      ],
      "text/plain": [
       "  GEC_code  Internet users         POP           gdp  gdp_capita  \\\n",
       "0       ag      15105000.0  40263711.0  1.683000e+11     15000.0   \n",
       "1       ao       2434000.0  20172332.0  9.194000e+10      6800.0   \n",
       "2       bc        600000.0   2209208.0  1.095000e+10     16900.0   \n",
       "3       bn        709000.0  10741458.0  8.930000e+09      2200.0   \n",
       "4       by        523000.0  11099298.0  2.742000e+09       800.0   \n",
       "\n",
       "                 gov_type  pop_pov  region  unemployment  Armenian Apostolic  \\\n",
       "0   presidential republic    0.230  Africa         0.124                 0.0   \n",
       "1   presidential republic    0.405  Africa           NaN                 0.0   \n",
       "2  parliamentary republic    0.303  Africa         0.200                 0.0   \n",
       "3   presidential republic    0.374  Africa           NaN                 0.0   \n",
       "4   presidential republic    0.680  Africa           NaN                 0.0   \n",
       "\n",
       "    ...     other Christian  other and unspecified  other or none  \\\n",
       "0   ...               0.000                    0.0            0.0   \n",
       "1   ...               0.000                    0.0            0.0   \n",
       "2   ...               0.000                    0.0            0.0   \n",
       "3   ...               0.095                    0.0            0.0   \n",
       "4   ...               0.000                    0.0            0.0   \n",
       "\n",
       "   other or unspecified  unaffiliated  unaffiliated or other  unspecified  \\\n",
       "0                   0.0           0.0                    0.0        0.000   \n",
       "1                   0.0           0.0                    0.0        0.000   \n",
       "2                   0.0           0.0                    0.0        0.003   \n",
       "3                   0.0           0.0                    0.0        0.000   \n",
       "4                   0.0           0.0                    0.0        0.079   \n",
       "\n",
       "   ISO2  ISO3  ISO_num  \n",
       "0    DZ   DZA      012  \n",
       "1    AO   AGO      024  \n",
       "2    BW   BWA      072  \n",
       "3    BJ   BEN      204  \n",
       "4    BI   BDI      108  \n",
       "\n",
<<<<<<< HEAD
       "[5 rows x 77 columns]"
      ]
     },
     "execution_count": 13,
=======
       "[5 rows x 78 columns]"
      ]
     },
<<<<<<< HEAD
     "execution_count": 58,
=======
     "execution_count": 73,
>>>>>>> a7a016f1d0f2200dd148a44555de8d86aa3f2f9d
>>>>>>> Project2
     "metadata": {},
     "output_type": "execute_result"
    }
   ],
   "source": [
    "# Finally we merge on GEC codes\n",
    "dataset_2_df = pd.merge(df2, GEC_codes_df, on='GEC_code', how='outer')\n",
    "dataset_2_df.head()"
   ]
  },
  {
   "cell_type": "markdown",
   "metadata": {},
   "source": [
<<<<<<< HEAD
    "### Generating pickle files"
=======
    "### Generating pickle files of the dataframes from Dataset 1 and Dataset 2"
>>>>>>> Project2
   ]
  },
  {
   "cell_type": "code",
<<<<<<< HEAD
   "execution_count": 14,
   "metadata": {
    "collapsed": true
   },
   "outputs": [],
   "source": [
    "countries.to_pickle('countries_df.pickle')\n",
    "dataset_2_df.to_pickle('dataset_2_df.pickle')"
=======
<<<<<<< HEAD
   "execution_count": 61,
   "metadata": {
    "collapsed": true
   },
=======
   "execution_count": 75,
   "metadata": {},
>>>>>>> a7a016f1d0f2200dd148a44555de8d86aa3f2f9d
   "outputs": [],
   "source": [
    "countries.to_pickle('countries_df.pickle')\n",
    "dataset_2_df.to_pickle('dataset_2_df.pickle')\n",
    "\n",
    "# Pickle needed for report Milestone 3\n",
    "rel_df['ISO2'] = dataset_2_df['ISO2']\n",
    "rel_df.to_pickle('rel_df.pickle')"
>>>>>>> Project2
   ]
  },
  {
   "cell_type": "markdown",
   "metadata": {},
   "source": [
    "# Merging in one dataframe"
   ]
  },
  {
   "cell_type": "code",
<<<<<<< HEAD
   "execution_count": 15,
=======
<<<<<<< HEAD
   "execution_count": 62,
=======
   "execution_count": 15,
>>>>>>> a7a016f1d0f2200dd148a44555de8d86aa3f2f9d
>>>>>>> Project2
   "metadata": {
    "collapsed": true
   },
   "outputs": [],
   "source": [
    "# First, we drop the columns of each dataframe that we don't want to use\n",
    "dataset_2_df.drop('ISO2', axis=1, inplace=True)"
   ]
  },
  {
   "cell_type": "code",
<<<<<<< HEAD
   "execution_count": 16,
   "metadata": {
    "collapsed": true
   },
   "outputs": [],
   "source": [
    "#rel_df.drop('GEC_code', axis=1, inplace=True)"
   ]
  },
  {
   "cell_type": "code",
   "execution_count": 17,
   "metadata": {},
   "outputs": [
    {
     "data": {
      "text/html": [
       "<div>\n",
       "<style>\n",
       "    .dataframe thead tr:only-child th {\n",
       "        text-align: right;\n",
       "    }\n",
       "\n",
       "    .dataframe thead th {\n",
       "        text-align: left;\n",
       "    }\n",
       "\n",
       "    .dataframe tbody tr th {\n",
       "        vertical-align: top;\n",
       "    }\n",
       "</style>\n",
       "<table border=\"1\" class=\"dataframe\">\n",
       "  <thead>\n",
       "    <tr style=\"text-align: right;\">\n",
       "      <th></th>\n",
       "      <th>GEC_code</th>\n",
       "      <th>Internet users</th>\n",
       "      <th>POP</th>\n",
       "      <th>gdp</th>\n",
       "      <th>gdp_capita</th>\n",
       "      <th>gov_type</th>\n",
       "      <th>pop_pov</th>\n",
       "      <th>region</th>\n",
       "      <th>unemployment</th>\n",
       "      <th>Armenian Apostolic</th>\n",
       "      <th>...</th>\n",
       "      <th>other</th>\n",
       "      <th>other Christian</th>\n",
       "      <th>other and unspecified</th>\n",
       "      <th>other or none</th>\n",
       "      <th>other or unspecified</th>\n",
       "      <th>unaffiliated</th>\n",
       "      <th>unaffiliated or other</th>\n",
       "      <th>unspecified</th>\n",
       "      <th>ISO3</th>\n",
       "      <th>ISO_num</th>\n",
       "    </tr>\n",
       "  </thead>\n",
       "  <tbody>\n",
       "    <tr>\n",
       "      <th>106</th>\n",
       "      <td>nu</td>\n",
       "      <td>1164000.0</td>\n",
       "      <td>5966798.0</td>\n",
       "      <td>1.341000e+10</td>\n",
       "      <td>5300.0</td>\n",
       "      <td>presidential republic</td>\n",
       "      <td>0.296</td>\n",
       "      <td>Central America and the Caribbean</td>\n",
       "      <td>0.06</td>\n",
       "      <td>0.0</td>\n",
       "      <td>...</td>\n",
       "      <td>0.016</td>\n",
       "      <td>0.0</td>\n",
       "      <td>0.0</td>\n",
       "      <td>0.0</td>\n",
       "      <td>0.0</td>\n",
       "      <td>0.0</td>\n",
       "      <td>0.0</td>\n",
       "      <td>0.0</td>\n",
       "      <td>NIC</td>\n",
       "      <td>558</td>\n",
       "    </tr>\n",
       "  </tbody>\n",
       "</table>\n",
       "<p>1 rows × 76 columns</p>\n",
       "</div>"
      ],
      "text/plain": [
       "    GEC_code  Internet users        POP           gdp  gdp_capita  \\\n",
       "106       nu       1164000.0  5966798.0  1.341000e+10      5300.0   \n",
       "\n",
       "                  gov_type  pop_pov                             region  \\\n",
       "106  presidential republic    0.296  Central America and the Caribbean   \n",
       "\n",
       "     unemployment  Armenian Apostolic   ...     other  other Christian  \\\n",
       "106          0.06                 0.0   ...     0.016              0.0   \n",
       "\n",
       "     other and unspecified  other or none  other or unspecified  unaffiliated  \\\n",
       "106                    0.0            0.0                   0.0           0.0   \n",
       "\n",
       "     unaffiliated or other  unspecified  ISO3  ISO_num  \n",
       "106                    0.0          0.0   NIC      558  \n",
       "\n",
       "[1 rows x 76 columns]"
      ]
     },
     "execution_count": 17,
     "metadata": {},
     "output_type": "execute_result"
    }
   ],
   "source": [
    "dataset_2_df.loc[dataset_2_df.GEC_code == 'nu']"
   ]
  },
  {
   "cell_type": "code",
   "execution_count": 18,
=======
<<<<<<< HEAD
   "execution_count": 64,
=======
   "execution_count": 16,
>>>>>>> a7a016f1d0f2200dd148a44555de8d86aa3f2f9d
>>>>>>> Project2
   "metadata": {},
   "outputs": [
    {
     "data": {
      "text/html": [
       "<div>\n",
       "<style>\n",
       "    .dataframe thead tr:only-child th {\n",
       "        text-align: right;\n",
       "    }\n",
       "\n",
       "    .dataframe thead th {\n",
       "        text-align: left;\n",
       "    }\n",
       "\n",
       "    .dataframe tbody tr th {\n",
       "        vertical-align: top;\n",
       "    }\n",
       "</style>\n",
       "<table border=\"1\" class=\"dataframe\">\n",
       "  <thead>\n",
       "    <tr style=\"text-align: right;\">\n",
       "      <th></th>\n",
       "      <th>area</th>\n",
       "      <th>ISO2</th>\n",
       "      <th>ISO3</th>\n",
       "      <th>languages</th>\n",
       "      <th>borders</th>\n",
       "      <th>latlng</th>\n",
       "      <th>language_codes</th>\n",
       "      <th>Internet users</th>\n",
       "      <th>POP</th>\n",
       "      <th>gdp</th>\n",
       "      <th>...</th>\n",
       "      <th>none</th>\n",
       "      <th>none or other</th>\n",
       "      <th>other</th>\n",
       "      <th>other Christian</th>\n",
       "      <th>other and unspecified</th>\n",
       "      <th>other or none</th>\n",
       "      <th>other or unspecified</th>\n",
       "      <th>unaffiliated</th>\n",
       "      <th>unaffiliated or other</th>\n",
       "      <th>unspecified</th>\n",
       "    </tr>\n",
       "    <tr>\n",
       "      <th>name</th>\n",
       "      <th></th>\n",
       "      <th></th>\n",
       "      <th></th>\n",
       "      <th></th>\n",
       "      <th></th>\n",
       "      <th></th>\n",
       "      <th></th>\n",
       "      <th></th>\n",
       "      <th></th>\n",
       "      <th></th>\n",
       "      <th></th>\n",
       "      <th></th>\n",
       "      <th></th>\n",
       "      <th></th>\n",
       "      <th></th>\n",
       "      <th></th>\n",
       "      <th></th>\n",
       "      <th></th>\n",
       "      <th></th>\n",
       "      <th></th>\n",
       "      <th></th>\n",
       "    </tr>\n",
       "  </thead>\n",
       "  <tbody>\n",
       "    <tr>\n",
       "      <th>Aruba</th>\n",
       "      <td>180.0</td>\n",
       "      <td>AW</td>\n",
       "      <td>ABW</td>\n",
       "      <td>[Dutch, Papiamento]</td>\n",
       "      <td>[]</td>\n",
       "      <td>[12.5, -69.96666666]</td>\n",
       "      <td>[nld, pap]</td>\n",
       "      <td>99000.0</td>\n",
       "      <td>113648.0</td>\n",
       "      <td>2.516000e+09</td>\n",
       "      <td>...</td>\n",
       "      <td>0.055</td>\n",
       "      <td>0.0</td>\n",
       "      <td>0.120</td>\n",
       "      <td>0.000</td>\n",
       "      <td>0.0</td>\n",
       "      <td>0.0</td>\n",
       "      <td>0.0</td>\n",
       "      <td>0.0</td>\n",
       "      <td>0.0</td>\n",
       "      <td>0.005</td>\n",
       "    </tr>\n",
       "    <tr>\n",
       "      <th>Afghanistan</th>\n",
       "      <td>652230.0</td>\n",
       "      <td>AF</td>\n",
       "      <td>AFG</td>\n",
       "      <td>[Dari, Pashto, Turkmen]</td>\n",
       "      <td>[IRN, PAK, TKM, UZB, TJK, CHN]</td>\n",
       "      <td>[33, 65]</td>\n",
       "      <td>[prs, pus, tuk]</td>\n",
       "      <td>2690000.0</td>\n",
       "      <td>33332025.0</td>\n",
       "      <td>1.840000e+10</td>\n",
       "      <td>...</td>\n",
       "      <td>0.000</td>\n",
       "      <td>0.0</td>\n",
       "      <td>0.003</td>\n",
       "      <td>0.000</td>\n",
       "      <td>0.0</td>\n",
       "      <td>0.0</td>\n",
       "      <td>0.0</td>\n",
       "      <td>0.0</td>\n",
       "      <td>0.0</td>\n",
       "      <td>0.000</td>\n",
       "    </tr>\n",
       "    <tr>\n",
       "      <th>Angola</th>\n",
       "      <td>1246700.0</td>\n",
       "      <td>AO</td>\n",
       "      <td>AGO</td>\n",
       "      <td>[Portuguese]</td>\n",
       "      <td>[COG, COD, ZMB, NAM]</td>\n",
       "      <td>[-12.5, 18.5]</td>\n",
       "      <td>[por]</td>\n",
       "      <td>2434000.0</td>\n",
       "      <td>20172332.0</td>\n",
       "      <td>9.194000e+10</td>\n",
       "      <td>...</td>\n",
       "      <td>0.123</td>\n",
       "      <td>0.0</td>\n",
       "      <td>0.086</td>\n",
       "      <td>0.000</td>\n",
       "      <td>0.0</td>\n",
       "      <td>0.0</td>\n",
       "      <td>0.0</td>\n",
       "      <td>0.0</td>\n",
       "      <td>0.0</td>\n",
       "      <td>0.000</td>\n",
       "    </tr>\n",
       "    <tr>\n",
       "      <th>Anguilla</th>\n",
       "      <td>91.0</td>\n",
       "      <td>AI</td>\n",
       "      <td>AIA</td>\n",
       "      <td>[English]</td>\n",
       "      <td>[]</td>\n",
       "      <td>[18.25, -63.16666666]</td>\n",
       "      <td>[eng]</td>\n",
       "      <td>12000.0</td>\n",
       "      <td>16752.0</td>\n",
       "      <td>1.754000e+08</td>\n",
       "      <td>...</td>\n",
       "      <td>0.045</td>\n",
       "      <td>0.0</td>\n",
       "      <td>0.032</td>\n",
       "      <td>0.109</td>\n",
       "      <td>0.0</td>\n",
       "      <td>0.0</td>\n",
       "      <td>0.0</td>\n",
       "      <td>0.0</td>\n",
       "      <td>0.0</td>\n",
       "      <td>0.003</td>\n",
       "    </tr>\n",
       "    <tr>\n",
       "      <th>Åland Islands</th>\n",
       "      <td>1580.0</td>\n",
       "      <td>AX</td>\n",
       "      <td>ALA</td>\n",
       "      <td>[Swedish]</td>\n",
       "      <td>[]</td>\n",
       "      <td>[60.116667, 19.9]</td>\n",
       "      <td>[swe]</td>\n",
       "      <td>NaN</td>\n",
       "      <td>NaN</td>\n",
       "      <td>NaN</td>\n",
       "      <td>...</td>\n",
       "      <td>NaN</td>\n",
       "      <td>NaN</td>\n",
       "      <td>NaN</td>\n",
       "      <td>NaN</td>\n",
       "      <td>NaN</td>\n",
       "      <td>NaN</td>\n",
       "      <td>NaN</td>\n",
       "      <td>NaN</td>\n",
       "      <td>NaN</td>\n",
       "      <td>NaN</td>\n",
       "    </tr>\n",
       "  </tbody>\n",
       "</table>\n",
<<<<<<< HEAD
       "<p>5 rows × 81 columns</p>\n",
=======
       "<p>5 rows × 82 columns</p>\n",
>>>>>>> Project2
       "</div>"
      ],
      "text/plain": [
       "                    area ISO2 ISO3                languages  \\\n",
       "name                                                          \n",
       "Aruba              180.0   AW  ABW      [Dutch, Papiamento]   \n",
       "Afghanistan     652230.0   AF  AFG  [Dari, Pashto, Turkmen]   \n",
       "Angola         1246700.0   AO  AGO             [Portuguese]   \n",
       "Anguilla            91.0   AI  AIA                [English]   \n",
       "Åland Islands     1580.0   AX  ALA                [Swedish]   \n",
       "\n",
       "                                      borders                 latlng  \\\n",
       "name                                                                   \n",
       "Aruba                                      []   [12.5, -69.96666666]   \n",
       "Afghanistan    [IRN, PAK, TKM, UZB, TJK, CHN]               [33, 65]   \n",
       "Angola                   [COG, COD, ZMB, NAM]          [-12.5, 18.5]   \n",
       "Anguilla                                   []  [18.25, -63.16666666]   \n",
       "Åland Islands                              []      [60.116667, 19.9]   \n",
       "\n",
       "                language_codes  Internet users         POP           gdp  \\\n",
       "name                                                                       \n",
       "Aruba               [nld, pap]         99000.0    113648.0  2.516000e+09   \n",
       "Afghanistan    [prs, pus, tuk]       2690000.0  33332025.0  1.840000e+10   \n",
       "Angola                   [por]       2434000.0  20172332.0  9.194000e+10   \n",
       "Anguilla                 [eng]         12000.0     16752.0  1.754000e+08   \n",
       "Åland Islands            [swe]             NaN         NaN           NaN   \n",
       "\n",
       "                  ...        none none or other  other  other Christian  \\\n",
       "name              ...                                                     \n",
       "Aruba             ...       0.055           0.0  0.120            0.000   \n",
       "Afghanistan       ...       0.000           0.0  0.003            0.000   \n",
       "Angola            ...       0.123           0.0  0.086            0.000   \n",
       "Anguilla          ...       0.045           0.0  0.032            0.109   \n",
       "Åland Islands     ...         NaN           NaN    NaN              NaN   \n",
       "\n",
       "              other and unspecified  other or none  other or unspecified  \\\n",
       "name                                                                       \n",
       "Aruba                           0.0            0.0                   0.0   \n",
       "Afghanistan                     0.0            0.0                   0.0   \n",
       "Angola                          0.0            0.0                   0.0   \n",
       "Anguilla                        0.0            0.0                   0.0   \n",
       "Åland Islands                   NaN            NaN                   NaN   \n",
       "\n",
       "               unaffiliated  unaffiliated or other  unspecified  \n",
       "name                                                             \n",
       "Aruba                   0.0                    0.0        0.005  \n",
       "Afghanistan             0.0                    0.0        0.000  \n",
       "Angola                  0.0                    0.0        0.000  \n",
       "Anguilla                0.0                    0.0        0.003  \n",
       "Åland Islands           NaN                    NaN          NaN  \n",
       "\n",
<<<<<<< HEAD
       "[5 rows x 81 columns]"
      ]
     },
     "execution_count": 18,
=======
       "[5 rows x 82 columns]"
      ]
     },
<<<<<<< HEAD
     "execution_count": 64,
=======
     "execution_count": 16,
>>>>>>> a7a016f1d0f2200dd148a44555de8d86aa3f2f9d
>>>>>>> Project2
     "metadata": {},
     "output_type": "execute_result"
    }
   ],
   "source": [
    "# We merge all the dataframes on IS0 Alpha-3 (ISO3) code\n",
    "data = pd.merge(countries, dataset_2_df, on='ISO3', how='outer')\n",
    "\n",
    "# Convert country names to string & select all rows where we actually have the country name\n",
    "data.name = data.name.apply(str)\n",
    "data = data.loc[~(data.name == 'nan')]\n",
    "data.set_index('name', inplace=True)\n",
    "\n",
    "# Selecting only useful columns\n",
    "cols = ['area', 'ISO2', 'ISO3', 'languages', 'borders', 'latlng', 'language_codes', 'Internet users', 'POP', \n",
    "        'gdp', 'gdp_capita', 'gov_type', 'pop_pov', 'unemployment', 'region']\n",
    "rel_cols = list(rel_df.columns)\n",
    "\n",
    "data = data[cols + rel_cols]\n",
    "data.head()"
   ]
  },
  {
   "cell_type": "markdown",
   "metadata": {},
   "source": [
<<<<<<< HEAD
    "### Categorizing government type column\n",
    "\n",
    "The last step is to make the government type column categorical. As we can see in the cell below, the column has a certain common format for each class of government, but it's still not useful. It needs some cleaning.  "
=======
    "## Categorizing government type column\n",
    "\n",
    "The last step is to make the government type column categorical. As we can see in the cell below, the column has a certain common format for each class of government, but it's still not useful. It needs some cleaning (example with monarchy categories)"
>>>>>>> Project2
   ]
  },
  {
   "cell_type": "code",
<<<<<<< HEAD
   "execution_count": 19,
=======
<<<<<<< HEAD
   "execution_count": 65,
=======
   "execution_count": 17,
>>>>>>> a7a016f1d0f2200dd148a44555de8d86aa3f2f9d
>>>>>>> Project2
   "metadata": {},
   "outputs": [
    {
     "name": "stdout",
     "output_type": "stream",
     "text": [
      "parliamentary democracy (Parliament) under a constitutional monarchy; a Commonwealth realm\n",
      "parliamentary democracy (Federal Parliament) under a constitutional monarchy; a Commonwealth realm\n",
      "federal parliamentary democracy under a constitutional monarchy\n",
      "constitutional monarchy\n",
      "parliamentary democracy (Parliament) under a constitutional monarchy; a Commonwealth realm\n",
      "parliamentary democracy (National Assembly) under a constitutional monarchy; a Commonwealth realm\n",
      "parliamentary democracy (Parliament) under a constitutional monarchy; a Commonwealth realm\n",
      "absolute monarchy or sultanate (locally known as Malay Islamic Monarchy)\n",
      "constitutional monarchy\n",
      "federal parliamentary democracy (Parliament of Canada) under a constitutional monarchy; a Commonwealth realm\n",
      "parliamentary constitutional monarchy\n",
      "parliamentary constitutional monarchy\n",
      "parliamentary constitutional monarchy; a Commonwealth realm\n",
      "parliamentary democracy (Parliament) under a constitutional monarchy; a Commonwealth realm\n",
      "parliamentary constitutional monarchy\n",
      "parliamentary constitutional monarchy\n",
      "parliamentary constitutional monarchy\n",
      "federal parliamentary democracy (National Assembly) under a constitutional monarchy; a Commonwealth realm\n",
      "constitutional monarchy\n",
      "parliamentary democracy (Parliament) under a constitutional monarchy; a Commonwealth realm\n",
      "constitutional monarchy\n",
      "parliamentary constitutional monarchy\n",
      "constitutional monarchy\n",
      "parliamentary constitutional monarchy\n",
      "constitutional monarchy\n",
      "federal constitutional monarchy\n",
      "parliamentary constitutional monarchy; part of the Kingdom of the Netherlands\n",
      "parliamentary constitutional monarchy\n",
      "parliamentary democracy (New Zealand Parliament) under a constitutional monarchy; a Commonwealth realm\n",
      "absolute monarchy\n",
      "parliamentary democracy (National Parliament) under a constitutional monarchy; a Commonwealth realm\n",
      "absolute monarchy\n",
      "absolute monarchy\n",
      "parliamentary democracy (National Parliament) under a constitutional monarchy; a Commonwealth realm\n",
      "parliamentary constitutional monarchy\n",
      "absolute monarchy\n",
      "constitutional monarchy; note - interim military-affiliated government since May 2014\n",
      "constitutional monarchy\n",
      "parliamentary democracy (House of Assembly) under a constitutional monarchy; a Commonwealth realm\n",
      "ecclesiastical elective monarchy; self described as an \"absolute monarchy\"\n",
      "parliamentary democracy (House of Assembly) under a constitutional monarchy; a Commonwealth realm\n"
     ]
    }
   ],
   "source": [
    "data.gov_type.fillna('unknown', inplace=True)\n",
    "for i in data.gov_type:\n",
    "    if 'monarchy' in i:\n",
    "        print(i)"
   ]
  },
  {
   "cell_type": "markdown",
   "metadata": {},
   "source": [
    "### Methodology\n",
    "We are going to run a function to all the rows of the gov_type column that will return the most common sequences of words, so that we can then manually check which are the main type of government.\n",
    "\n",
    "The types of government considered where:\n",
    "- parliamentary democracy\n",
    "- parliamentary republic\n",
    "- presidential republic\n",
    "- semi-presidential republic\n",
    "- presidential democracy    \n",
    "- absolute monarchy\n",
    "- parliamentary constitutional monarchy\n",
    "- constitutional monarchy\n",
    "- federal republic\n",
    "- communist state\n",
    "- monarchy\n",
    "- others: federation of monarchies, non-self-governing overseas territory, theocratic republic, in transition, semi-presidential federation\n",
    "\n",
    "Missing data is under the category 'unknown'."
   ]
  },
  {
   "cell_type": "code",
<<<<<<< HEAD
   "execution_count": 20,
=======
<<<<<<< HEAD
   "execution_count": 66,
=======
   "execution_count": 18,
>>>>>>> a7a016f1d0f2200dd148a44555de8d86aa3f2f9d
>>>>>>> Project2
   "metadata": {},
   "outputs": [
    {
     "data": {
      "text/plain": [
       "['Hi',\n",
       " 'my',\n",
       " 'name',\n",
       " 'is',\n",
       " 'Jacob',\n",
       " 'Hi my',\n",
       " 'my name',\n",
       " 'name is',\n",
       " 'is Jacob',\n",
       " 'Hi my name',\n",
       " 'my name is',\n",
       " 'name is Jacob',\n",
       " 'Hi my name is',\n",
       " 'my name is Jacob',\n",
       " 'Hi my name is Jacob']"
      ]
     },
<<<<<<< HEAD
     "execution_count": 20,
=======
<<<<<<< HEAD
     "execution_count": 66,
=======
     "execution_count": 18,
>>>>>>> a7a016f1d0f2200dd148a44555de8d86aa3f2f9d
>>>>>>> Project2
     "metadata": {},
     "output_type": "execute_result"
    }
   ],
   "source": [
    "def phrases(string):\n",
    "    \"\"\"Splits the input string on whitespace and returns all possible substrings of any length\"\"\"\n",
    "    words = string.split()\n",
    "    result = []\n",
    "    for number in range(len(words)):\n",
    "        for start in range(len(words)-number):\n",
    "             result.append(\" \".join(words[start:start+number+1]))\n",
    "    return result\n",
    "\n",
    "# Example\n",
    "phrases('Hi my name is Jacob')"
   ]
  },
  {
   "cell_type": "code",
<<<<<<< HEAD
   "execution_count": 21,
=======
<<<<<<< HEAD
   "execution_count": 67,
=======
   "execution_count": 19,
>>>>>>> a7a016f1d0f2200dd148a44555de8d86aa3f2f9d
>>>>>>> Project2
   "metadata": {},
   "outputs": [
    {
     "data": {
      "text/plain": [
       "[('parliamentary', 99),\n",
       " ('democracy', 41),\n",
       " ('part', 4),\n",
       " ('of', 59),\n",
       " ('the', 45),\n",
       " ('Kingdom', 4),\n",
       " ('Netherlands', 2),\n",
       " ('parliamentary democracy', 40),\n",
       " ('part of', 4),\n",
       " ('of the', 28)]"
      ]
     },
<<<<<<< HEAD
     "execution_count": 21,
=======
<<<<<<< HEAD
     "execution_count": 67,
=======
     "execution_count": 19,
>>>>>>> a7a016f1d0f2200dd148a44555de8d86aa3f2f9d
>>>>>>> Project2
     "metadata": {},
     "output_type": "execute_result"
    }
   ],
   "source": [
    "all_strings = list(data.gov_type)\n",
    "\n",
    "# Counts all ocurrences of a substring \n",
    "all_phrases = collections.Counter(phrase for subject in all_strings for phrase in phrases(subject))\n",
    "\n",
    "# Printing the most common substrings and the number of occurences\n",
    "ocurrences = [(phrase, count) for phrase, count in all_phrases.items() if count > 1]\n",
    "ocurrences[:10]"
   ]
  },
  {
   "cell_type": "markdown",
   "metadata": {},
   "source": [
    "When looking at the government types, we noticed that most of them had could be expressed in two or three words so we filtered down to the substrings of these kind, to make the manual checking simpler."
   ]
  },
  {
   "cell_type": "code",
<<<<<<< HEAD
   "execution_count": 22,
=======
<<<<<<< HEAD
   "execution_count": 68,
=======
   "execution_count": 20,
>>>>>>> a7a016f1d0f2200dd148a44555de8d86aa3f2f9d
>>>>>>> Project2
   "metadata": {},
   "outputs": [
    {
     "data": {
      "text/plain": [
       "['parliamentary democracy',\n",
       " 'part of',\n",
       " 'of the',\n",
       " 'the Kingdom',\n",
       " 'Kingdom of',\n",
       " 'the Netherlands',\n",
       " 'part of the',\n",
       " 'of the Kingdom',\n",
       " 'the Kingdom of',\n",
       " 'Kingdom of the']"
      ]
     },
<<<<<<< HEAD
     "execution_count": 22,
=======
<<<<<<< HEAD
     "execution_count": 68,
=======
     "execution_count": 20,
>>>>>>> a7a016f1d0f2200dd148a44555de8d86aa3f2f9d
>>>>>>> Project2
     "metadata": {},
     "output_type": "execute_result"
    }
   ],
   "source": [
    "# Filtering down to sequences of 2 or 3 words\n",
    "filtered_ocurrences = [ocurrences[i][0] for i in range(len(ocurrences)) if 2 <= len(ocurrences[i][0].split()) <= 3]\n",
    "filtered_ocurrences[:10]"
   ]
  },
  {
   "cell_type": "code",
<<<<<<< HEAD
   "execution_count": 23,
=======
<<<<<<< HEAD
   "execution_count": 69,
=======
   "execution_count": 21,
>>>>>>> a7a016f1d0f2200dd148a44555de8d86aa3f2f9d
>>>>>>> Project2
   "metadata": {
    "collapsed": true
   },
   "outputs": [],
   "source": [
    "# Manually changing some countries data\n",
    "data.loc['Tokelau', 'gov_type'] = 'parliamentary democracy'\n",
    "data.loc['Vatican City', 'gov_type'] = 'monarchy'\n",
    "data.loc['Hong Kong', 'gov_type'] = 'presidential democracy'\n",
    "data.loc['Macau', 'gov_type'] = 'presidential democracy'"
   ]
  },
  {
   "cell_type": "code",
<<<<<<< HEAD
   "execution_count": 24,
=======
<<<<<<< HEAD
   "execution_count": 70,
=======
   "execution_count": 22,
>>>>>>> a7a016f1d0f2200dd148a44555de8d86aa3f2f9d
>>>>>>> Project2
   "metadata": {
    "collapsed": true
   },
   "outputs": [],
   "source": [
    "# Types of government\n",
    "governments = ['parliamentary democracy', 'parliamentary republic', 'presidential democracy', 'presidential republic', \n",
    "               'semi-presidential republic', 'absolute monarchy', 'federal republic', 'communist state', 'parliamentary constitutional monarchy', \n",
    "               'constitutional monarchy', 'monarchy', 'unknown']"
   ]
  },
  {
   "cell_type": "code",
<<<<<<< HEAD
   "execution_count": 25,
=======
<<<<<<< HEAD
   "execution_count": 71,
=======
   "execution_count": 23,
>>>>>>> a7a016f1d0f2200dd148a44555de8d86aa3f2f9d
>>>>>>> Project2
   "metadata": {},
   "outputs": [
    {
     "data": {
      "text/html": [
       "<div>\n",
       "<style>\n",
       "    .dataframe thead tr:only-child th {\n",
       "        text-align: right;\n",
       "    }\n",
       "\n",
       "    .dataframe thead th {\n",
       "        text-align: left;\n",
       "    }\n",
       "\n",
       "    .dataframe tbody tr th {\n",
       "        vertical-align: top;\n",
       "    }\n",
       "</style>\n",
       "<table border=\"1\" class=\"dataframe\">\n",
       "  <thead>\n",
       "    <tr style=\"text-align: right;\">\n",
       "      <th></th>\n",
       "      <th>name</th>\n",
       "      <th>gov_type</th>\n",
       "    </tr>\n",
       "  </thead>\n",
       "  <tbody>\n",
       "    <tr>\n",
       "      <th>1</th>\n",
       "      <td>Afghanistan</td>\n",
       "      <td>presidential Islamic republic</td>\n",
       "    </tr>\n",
       "    <tr>\n",
       "      <th>7</th>\n",
       "      <td>United Arab Emirates</td>\n",
       "      <td>federation of monarchies</td>\n",
       "    </tr>\n",
       "    <tr>\n",
       "      <th>39</th>\n",
       "      <td>Cocos (Keeling) Islands</td>\n",
       "      <td>non-self-governing overseas territory of Austr...</td>\n",
       "    </tr>\n",
       "    <tr>\n",
       "      <th>54</th>\n",
       "      <td>Christmas Island</td>\n",
       "      <td>non-self-governing overseas territory of Austr...</td>\n",
       "    </tr>\n",
       "    <tr>\n",
       "      <th>67</th>\n",
       "      <td>Western Sahara</td>\n",
       "      <td>legal status of territory and issue of soverei...</td>\n",
       "    </tr>\n",
       "    <tr>\n",
       "      <th>106</th>\n",
       "      <td>Iran</td>\n",
       "      <td>theocratic republic</td>\n",
       "    </tr>\n",
       "    <tr>\n",
       "      <th>127</th>\n",
       "      <td>Libya</td>\n",
       "      <td>in transition</td>\n",
       "    </tr>\n",
       "    <tr>\n",
       "      <th>189</th>\n",
       "      <td>Russia</td>\n",
       "      <td>semi-presidential federation</td>\n",
       "    </tr>\n",
       "    <tr>\n",
       "      <th>244</th>\n",
       "      <td>Yemen</td>\n",
       "      <td>in transition</td>\n",
       "    </tr>\n",
       "  </tbody>\n",
       "</table>\n",
       "</div>"
      ],
      "text/plain": [
       "                        name  \\\n",
       "1                Afghanistan   \n",
       "7       United Arab Emirates   \n",
       "39   Cocos (Keeling) Islands   \n",
       "54          Christmas Island   \n",
       "67            Western Sahara   \n",
       "106                     Iran   \n",
       "127                    Libya   \n",
       "189                   Russia   \n",
       "244                    Yemen   \n",
       "\n",
       "                                              gov_type  \n",
       "1                        presidential Islamic republic  \n",
       "7                             federation of monarchies  \n",
       "39   non-self-governing overseas territory of Austr...  \n",
       "54   non-self-governing overseas territory of Austr...  \n",
       "67   legal status of territory and issue of soverei...  \n",
       "106                                theocratic republic  \n",
       "127                                      in transition  \n",
       "189                       semi-presidential federation  \n",
       "244                                      in transition  "
      ]
     },
<<<<<<< HEAD
     "execution_count": 25,
=======
<<<<<<< HEAD
     "execution_count": 71,
=======
     "execution_count": 23,
>>>>>>> a7a016f1d0f2200dd148a44555de8d86aa3f2f9d
>>>>>>> Project2
     "metadata": {},
     "output_type": "execute_result"
    }
   ],
   "source": [
    "def categorize_government_types(df):\n",
    "    for gov in governments:\n",
    "        for country in df.index:\n",
    "            if gov in df.loc[country, 'gov_type']:\n",
    "                if (gov == 'presidential republic') & ('semi-presidential republic' in df.loc[country, 'gov_type']):\n",
    "                    pass\n",
    "                df.loc[country, 'gov_type'] = gov\n",
    "    \n",
    "categorize_government_types(data)\n",
    "\n",
    "data = data.reset_index()\n",
    "idx = [idx for idx, i in enumerate(data.gov_type) if i not in governments]\n",
    "data.loc[idx, ['name', 'gov_type']]"
   ]
  },
  {
   "cell_type": "code",
<<<<<<< HEAD
   "execution_count": 26,
=======
<<<<<<< HEAD
   "execution_count": 72,
=======
   "execution_count": 24,
>>>>>>> a7a016f1d0f2200dd148a44555de8d86aa3f2f9d
>>>>>>> Project2
   "metadata": {
    "collapsed": true
   },
   "outputs": [],
   "source": [
    "# Manually changing Afghanistan (index 1) and Western Sahara (index 67)\n",
    "data.loc[1, 'gov_type'] = 'presidential republic'\n",
    "data.loc[67,'gov_type'] = 'unknown'"
   ]
  },
  {
   "cell_type": "markdown",
   "metadata": {},
   "source": [
<<<<<<< HEAD
    "### Convert gov_type column to numeric\n",
=======
    "## Convert gov_type column to numeric\n",
>>>>>>> Project2
    "\n",
    "Reading information about all these types of government we grouped the different government types per similarity, and we computed a three value government type axis. To each group we assigned the values of -1, 0 and 1. The more positive the number is, the more power \n",
    "\n",
    "Here is the government type scale axis:\n",
    "\n",
    "- Group 1:\n",
    "    - 'parliamentary democracy'\n",
    "    - 'parliamentary republic'\n",
    "    - 'federal republic'\n",
    "    - 'federation of monarchies'\n",
    "    - 'semi-presidential republic'\n",
    "    - 'semi-presidential federation'\n",
    "- Group 2: \n",
    "    - 'non-self-governing overseas territory'\n",
    "    - 'in transition'\n",
    "    - 'unknown'\n",
    "- Group 3: \n",
    "    - 'presidential republic'\n",
    "    - 'presidential democracy'\n",
    "    - 'monarchy'\n",
    "    - 'theocratic republic'\n",
    "    - 'communist state'\n",
    "    - 'absolute monarchy'\n",
    " \n",
    "As our criteria to group the government types, we used the variable of the power that the leaders of the government have. Coutries where the leader has a lot of power go in group 3, the others in group 1. For the non well defined government types, we placed them at the center of the scale."
   ]
  },
  {
   "cell_type": "code",
<<<<<<< HEAD
   "execution_count": 27,
=======
<<<<<<< HEAD
   "execution_count": 73,
=======
   "execution_count": 25,
>>>>>>> a7a016f1d0f2200dd148a44555de8d86aa3f2f9d
>>>>>>> Project2
   "metadata": {},
   "outputs": [
    {
     "data": {
      "text/plain": [
       "{'absolute monarchy': 1,\n",
       " 'communist state': 1,\n",
       " 'federal republic': -1,\n",
       " 'federation of monarchies': -1,\n",
       " 'in transition': 0,\n",
       " 'monarchy': 1,\n",
       " 'non-self-governing overseas territory': 0,\n",
       " 'parliamentary democracy': -1,\n",
       " 'parliamentary republic': -1,\n",
       " 'presidential democracy': 1,\n",
       " 'presidential republic': 1,\n",
       " 'semi-presidential federation': -1,\n",
       " 'semi-presidential republic': -1,\n",
       " 'theocratic republic': 1,\n",
       " 'unknown': 0}"
      ]
     },
<<<<<<< HEAD
     "execution_count": 27,
=======
<<<<<<< HEAD
     "execution_count": 73,
=======
     "execution_count": 25,
>>>>>>> a7a016f1d0f2200dd148a44555de8d86aa3f2f9d
>>>>>>> Project2
     "metadata": {},
     "output_type": "execute_result"
    }
   ],
   "source": [
    "gov_type_array = [['parliamentary democracy', 'parliamentary republic', 'federal republic', 'federation of monarchies', \\\n",
    "                  'semi-presidential republic', 'semi-presidential federation'], \n",
    "                  ['non-self-governing overseas territory', 'in transition', 'unknown'], \n",
    "                  ['presidential republic', 'presidential democracy', 'monarchy', 'theocratic republic', 'communist state',\\\n",
    "                  'absolute monarchy']]\n",
    "mapping_gov_type=dict()\n",
    "for i, gov_group in enumerate(gov_type_array):\n",
    "    for gov in gov_group:\n",
    "        if i==0:\n",
    "            mapping_gov_type.update({gov: -1})\n",
    "        elif i==1:\n",
    "            mapping_gov_type.update({gov: 0})\n",
    "        else:\n",
    "            mapping_gov_type.update({gov: 1})\n",
    "\n",
    "mapping_gov_type"
   ]
  },
  {
   "cell_type": "code",
<<<<<<< HEAD
   "execution_count": 28,
=======
<<<<<<< HEAD
   "execution_count": 74,
=======
   "execution_count": 26,
>>>>>>> a7a016f1d0f2200dd148a44555de8d86aa3f2f9d
>>>>>>> Project2
   "metadata": {},
   "outputs": [
    {
     "data": {
      "text/html": [
       "<div>\n",
       "<style>\n",
       "    .dataframe thead tr:only-child th {\n",
       "        text-align: right;\n",
       "    }\n",
       "\n",
       "    .dataframe thead th {\n",
       "        text-align: left;\n",
       "    }\n",
       "\n",
       "    .dataframe tbody tr th {\n",
       "        vertical-align: top;\n",
       "    }\n",
       "</style>\n",
       "<table border=\"1\" class=\"dataframe\">\n",
       "  <thead>\n",
       "    <tr style=\"text-align: right;\">\n",
       "      <th></th>\n",
       "      <th>gov_type</th>\n",
       "      <th>gov_type_num</th>\n",
       "    </tr>\n",
       "  </thead>\n",
       "  <tbody>\n",
       "    <tr>\n",
       "      <th>0</th>\n",
       "      <td>parliamentary democracy</td>\n",
       "      <td>-1.0</td>\n",
       "    </tr>\n",
       "    <tr>\n",
       "      <th>1</th>\n",
       "      <td>presidential republic</td>\n",
       "      <td>1.0</td>\n",
       "    </tr>\n",
       "    <tr>\n",
       "      <th>2</th>\n",
       "      <td>presidential republic</td>\n",
       "      <td>1.0</td>\n",
       "    </tr>\n",
       "    <tr>\n",
       "      <th>3</th>\n",
       "      <td>parliamentary democracy</td>\n",
       "      <td>-1.0</td>\n",
       "    </tr>\n",
       "    <tr>\n",
       "      <th>4</th>\n",
       "      <td>unknown</td>\n",
       "      <td>0.0</td>\n",
       "    </tr>\n",
       "  </tbody>\n",
       "</table>\n",
       "</div>"
      ],
      "text/plain": [
       "                  gov_type  gov_type_num\n",
       "0  parliamentary democracy          -1.0\n",
       "1    presidential republic           1.0\n",
       "2    presidential republic           1.0\n",
       "3  parliamentary democracy          -1.0\n",
       "4                  unknown           0.0"
      ]
     },
<<<<<<< HEAD
     "execution_count": 28,
=======
<<<<<<< HEAD
     "execution_count": 74,
=======
     "execution_count": 26,
>>>>>>> a7a016f1d0f2200dd148a44555de8d86aa3f2f9d
>>>>>>> Project2
     "metadata": {},
     "output_type": "execute_result"
    }
   ],
   "source": [
    "# Mapping gov_type values to their numerical value (1, 0, -1)\n",
    "data['gov_type_num'] = data.gov_type.map(mapping_gov_type)\n",
    "data[['gov_type', 'gov_type_num']].head()"
   ]
  },
  {
   "cell_type": "code",
<<<<<<< HEAD
   "execution_count": 29,
=======
<<<<<<< HEAD
   "execution_count": 75,
=======
   "execution_count": 27,
>>>>>>> a7a016f1d0f2200dd148a44555de8d86aa3f2f9d
>>>>>>> Project2
   "metadata": {
    "collapsed": true
   },
   "outputs": [],
   "source": [
    "data.set_index('name', inplace=True)"
   ]
  },
  {
   "cell_type": "markdown",
   "metadata": {},
   "source": [
    "### Grouping religions under broader categories"
   ]
  },
  {
   "cell_type": "markdown",
   "metadata": {},
   "source": [
<<<<<<< HEAD
    "We grouped the religions in broader categories by adding the percentages."
=======
    "We grouped the religions in broader categories by adding the percentages. We will group the religions, create a categorized_df with the general categories, and then we will merge it to the data dataframe."
>>>>>>> Project2
   ]
  },
  {
   "cell_type": "code",
<<<<<<< HEAD
   "execution_count": 30,
   "metadata": {
    "collapsed": true,
    "scrolled": false
=======
<<<<<<< HEAD
   "execution_count": 95,
=======
   "execution_count": 51,
>>>>>>> a7a016f1d0f2200dd148a44555de8d86aa3f2f9d
   "metadata": {
    "collapsed": true
>>>>>>> Project2
   },
   "outputs": [],
   "source": [
    "# Here are the broader categories that we came up with\n",
<<<<<<< HEAD
    "protestants = ['Calvinist', 'Church of Norway', 'Congregational Christian Church', 'Ekalesia Niue', 'Evangelical', \n",
    "               'Evangelical Lutheran', 'Evangelical Lutheran Church of Iceland', 'Evangelical or Protestant', 'Lutheran',\n",
    "               'Protestant', 'Protestant and other', 'Seventh-Day Adventist', 'non-Catholic Christians', 'Armenian Apostolic', \n",
    "               'Assembly of God', 'Christian', 'Kimbanguist', 'Mormon', 'Zionist Christian', 'nondenominational', \n",
    "               'Awakening Churches/Christian Revival']\n",
    "catholics = ['Catholic', 'Roman Catholic', 'nominally Roman Catholic']\n",
    "ortodox = ['Eastern Orthodox', 'Ethiopian Orthodox', 'Greek Orthodox', 'Macedonian Orthodox', 'Orthodox', 'Orthodox Christian',\n",
    "           'Russian Orthodox', 'Serbian Orthodox']\n",
=======
    "christianity = ['Calvinist', 'Church of Norway', 'Congregational Christian Church', 'Ekalesia Niue', 'Evangelical', \n",
    "               'Evangelical Lutheran', 'Evangelical Lutheran Church of Iceland', 'Evangelical or Protestant', 'Lutheran',\n",
    "               'Protestant', 'Protestant and other', 'Seventh-Day Adventist', 'non-Catholic Christians', 'Armenian Apostolic', \n",
    "               'Assembly of God', 'Christian', 'Kimbanguist', 'Mormon', 'Zionist Christian', 'nondenominational', \n",
    "               'Awakening Churches/Christian Revival', 'Catholic', 'Roman Catholic', 'nominally Roman Catholic', \n",
    "                'Eastern Orthodox', 'Ethiopian Orthodox', 'Greek Orthodox', 'Macedonian Orthodox', 'Orthodox', 'Orthodox Christian',\n",
    "                'Russian Orthodox', 'Serbian Orthodox']\n",
>>>>>>> Project2
    "buddhism = ['Buddhism', 'Buddhist', 'Lamaistic Buddhist']\n",
    "hindu = ['Hindu', 'Indian- and Nepalese-influenced Hinduism']\n",
    "jewish = ['Jewish', 'Zionist', ]\n",
    "muslim = ['Muslim', 'Sunni Muslim']\n",
    "oriental = ['Shintoism', 'Taoist', 'mixture of Buddhist and Taoist']\n",
    "other = ['Vodoun', 'eclectic mixture of local religions', 'folk religion', 'indigenous beliefs']\n",
    "animist = ['animist', 'animist or no religion']\n",
    "atheist = ['atheist or agnostic', 'no religion', 'non-believer/agnostic', 'non-believers']\n",
    "unaffiliated = ['unaffiliated', 'unaffiliated or other']\n",
    "\n",
    "# Those religions will be dropped\n",
    "dropped_cols = ['Kempsville Presbyterian Church', 'none', 'none or other', 'other',\n",
<<<<<<< HEAD
    "                'other Christian', 'other and unspecified', 'other or none', 'other or unspecified', 'unspecified']\n",
    "\n",
    "# Arrays needed to run next cell\n",
    "final_categories = [protestants, catholics, ortodox, buddhism, hindu, jewish, muslim, oriental, other, animist,\n",
    "                   atheist, unaffiliated]\n",
    "final_categories_names = ['protestants', 'catholics', 'ortodox', 'buddhism', 'hindu', 'jewish', 'muslim', \n",
=======
    "                'other Christian', 'other and unspecified', 'other or none', 'other or unspecified', 'unspecified',\n",
    "                'atheist and agnostic']\n",
    "\n",
    "# Arrays needed to run next cell\n",
    "final_categories = [christianity, buddhism, hindu, jewish, muslim, oriental, other, animist,\n",
    "                   atheist, unaffiliated]\n",
    "final_categories_names = ['christianity', 'buddhism', 'hindu', 'jewish', 'muslim', \n",
>>>>>>> Project2
    "                           'oriental', 'other', 'animist', 'atheist', 'unaffiliated']"
   ]
  },
  {
   "cell_type": "code",
<<<<<<< HEAD
   "execution_count": 31,
=======
<<<<<<< HEAD
   "execution_count": 94,
   "metadata": {},
   "outputs": [
    {
     "name": "stdout",
     "output_type": "stream",
     "text": [
      "Modekngei\n",
      "Jehovah's Witnesses\n",
      "none or unspecified\n",
      "Baha'i\n",
      "atheist and agnostic\n",
      "Druze\n"
     ]
    }
   ],
   "source": [
    "aaa = []\n",
    "b = final_categories + [dropped_cols]\n",
    "\n",
    "for i in b:\n",
    "    aaa = aaa + i\n",
    "\n",
    "    \n",
    "c = ['Muslim', 'other', 'Christian', 'indigenous beliefs', 'Roman Catholic', \n",
    "          'Protestant', 'Modekngei', \"Jehovah's Witnesses\", 'none or unspecified',\n",
    "          'Seventh-Day Adventist', \"Baha'i\", 'Evangelical', 'none', 'Russian Orthodox',\n",
    "          'other Christian', 'Buddhist', 'Jewish', 'atheist and agnostic',\n",
    "          'Hindu', 'Druze']\n",
    "for r in c:\n",
    "    if r not in aaa:\n",
    "        print(r)"
   ]
  },
  {
   "cell_type": "code",
   "execution_count": 96,
=======
   "execution_count": 29,
>>>>>>> a7a016f1d0f2200dd148a44555de8d86aa3f2f9d
>>>>>>> Project2
   "metadata": {},
   "outputs": [
    {
     "data": {
      "text/html": [
       "<div>\n",
       "<style>\n",
       "    .dataframe thead tr:only-child th {\n",
       "        text-align: right;\n",
       "    }\n",
       "\n",
       "    .dataframe thead th {\n",
       "        text-align: left;\n",
       "    }\n",
       "\n",
       "    .dataframe tbody tr th {\n",
       "        vertical-align: top;\n",
       "    }\n",
       "</style>\n",
       "<table border=\"1\" class=\"dataframe\">\n",
       "  <thead>\n",
       "    <tr style=\"text-align: right;\">\n",
       "      <th></th>\n",
<<<<<<< HEAD
       "      <th>protestants</th>\n",
       "      <th>catholics</th>\n",
       "      <th>ortodox</th>\n",
=======
       "      <th>christianity</th>\n",
>>>>>>> Project2
       "      <th>buddhism</th>\n",
       "      <th>hindu</th>\n",
       "      <th>jewish</th>\n",
       "      <th>muslim</th>\n",
       "      <th>oriental</th>\n",
       "      <th>other</th>\n",
       "      <th>animist</th>\n",
       "      <th>atheist</th>\n",
       "      <th>unaffiliated</th>\n",
       "    </tr>\n",
       "    <tr>\n",
       "      <th>name</th>\n",
       "      <th></th>\n",
       "      <th></th>\n",
       "      <th></th>\n",
       "      <th></th>\n",
       "      <th></th>\n",
       "      <th></th>\n",
       "      <th></th>\n",
       "      <th></th>\n",
       "      <th></th>\n",
       "      <th></th>\n",
<<<<<<< HEAD
       "      <th></th>\n",
       "      <th></th>\n",
=======
>>>>>>> Project2
       "    </tr>\n",
       "  </thead>\n",
       "  <tbody>\n",
       "    <tr>\n",
       "      <th>Aruba</th>\n",
<<<<<<< HEAD
       "      <td>0.049</td>\n",
       "      <td>0.753</td>\n",
       "      <td>0.0</td>\n",
=======
       "      <td>0.802</td>\n",
>>>>>>> Project2
       "      <td>0.0</td>\n",
       "      <td>0.0</td>\n",
       "      <td>0.0</td>\n",
       "      <td>0.000</td>\n",
       "      <td>0.0</td>\n",
       "      <td>0.0</td>\n",
       "      <td>0.0</td>\n",
       "      <td>0.0</td>\n",
       "      <td>0.0</td>\n",
       "    </tr>\n",
       "    <tr>\n",
       "      <th>Afghanistan</th>\n",
       "      <td>0.000</td>\n",
<<<<<<< HEAD
       "      <td>0.000</td>\n",
       "      <td>0.0</td>\n",
=======
>>>>>>> Project2
       "      <td>0.0</td>\n",
       "      <td>0.0</td>\n",
       "      <td>0.0</td>\n",
       "      <td>0.997</td>\n",
       "      <td>0.0</td>\n",
       "      <td>0.0</td>\n",
       "      <td>0.0</td>\n",
       "      <td>0.0</td>\n",
       "      <td>0.0</td>\n",
       "    </tr>\n",
       "    <tr>\n",
       "      <th>Angola</th>\n",
<<<<<<< HEAD
       "      <td>0.381</td>\n",
       "      <td>0.411</td>\n",
       "      <td>0.0</td>\n",
=======
       "      <td>0.792</td>\n",
>>>>>>> Project2
       "      <td>0.0</td>\n",
       "      <td>0.0</td>\n",
       "      <td>0.0</td>\n",
       "      <td>0.000</td>\n",
       "      <td>0.0</td>\n",
       "      <td>0.0</td>\n",
       "      <td>0.0</td>\n",
       "      <td>0.0</td>\n",
       "      <td>0.0</td>\n",
       "    </tr>\n",
       "    <tr>\n",
       "      <th>Anguilla</th>\n",
<<<<<<< HEAD
       "      <td>0.732</td>\n",
       "      <td>0.068</td>\n",
       "      <td>0.0</td>\n",
=======
       "      <td>0.800</td>\n",
>>>>>>> Project2
       "      <td>0.0</td>\n",
       "      <td>0.0</td>\n",
       "      <td>0.0</td>\n",
       "      <td>0.000</td>\n",
       "      <td>0.0</td>\n",
       "      <td>0.0</td>\n",
       "      <td>0.0</td>\n",
       "      <td>0.0</td>\n",
       "      <td>0.0</td>\n",
       "    </tr>\n",
       "    <tr>\n",
       "      <th>Åland Islands</th>\n",
       "      <td>0.000</td>\n",
<<<<<<< HEAD
       "      <td>0.000</td>\n",
       "      <td>0.0</td>\n",
=======
>>>>>>> Project2
       "      <td>0.0</td>\n",
       "      <td>0.0</td>\n",
       "      <td>0.0</td>\n",
       "      <td>0.000</td>\n",
       "      <td>0.0</td>\n",
       "      <td>0.0</td>\n",
       "      <td>0.0</td>\n",
       "      <td>0.0</td>\n",
       "      <td>0.0</td>\n",
       "    </tr>\n",
       "  </tbody>\n",
       "</table>\n",
       "</div>"
      ],
      "text/plain": [
<<<<<<< HEAD
       "               protestants  catholics  ortodox  buddhism  hindu  jewish  \\\n",
       "name                                                                      \n",
       "Aruba                0.049      0.753      0.0       0.0    0.0     0.0   \n",
       "Afghanistan          0.000      0.000      0.0       0.0    0.0     0.0   \n",
       "Angola               0.381      0.411      0.0       0.0    0.0     0.0   \n",
       "Anguilla             0.732      0.068      0.0       0.0    0.0     0.0   \n",
       "Åland Islands        0.000      0.000      0.0       0.0    0.0     0.0   \n",
       "\n",
       "               muslim  oriental  other  animist  atheist  unaffiliated  \n",
       "name                                                                    \n",
       "Aruba           0.000       0.0    0.0      0.0      0.0           0.0  \n",
       "Afghanistan     0.997       0.0    0.0      0.0      0.0           0.0  \n",
       "Angola          0.000       0.0    0.0      0.0      0.0           0.0  \n",
       "Anguilla        0.000       0.0    0.0      0.0      0.0           0.0  \n",
       "Åland Islands   0.000       0.0    0.0      0.0      0.0           0.0  "
      ]
     },
     "execution_count": 31,
=======
       "               christianity  buddhism  hindu  jewish  muslim  oriental  other  \\\n",
       "name                                                                            \n",
       "Aruba                 0.802       0.0    0.0     0.0   0.000       0.0    0.0   \n",
       "Afghanistan           0.000       0.0    0.0     0.0   0.997       0.0    0.0   \n",
       "Angola                0.792       0.0    0.0     0.0   0.000       0.0    0.0   \n",
       "Anguilla              0.800       0.0    0.0     0.0   0.000       0.0    0.0   \n",
       "Åland Islands         0.000       0.0    0.0     0.0   0.000       0.0    0.0   \n",
       "\n",
       "               animist  atheist  unaffiliated  \n",
       "name                                           \n",
       "Aruba              0.0      0.0           0.0  \n",
       "Afghanistan        0.0      0.0           0.0  \n",
       "Angola             0.0      0.0           0.0  \n",
       "Anguilla           0.0      0.0           0.0  \n",
       "Åland Islands      0.0      0.0           0.0  "
      ]
     },
<<<<<<< HEAD
     "execution_count": 96,
=======
     "execution_count": 29,
>>>>>>> a7a016f1d0f2200dd148a44555de8d86aa3f2f9d
>>>>>>> Project2
     "metadata": {},
     "output_type": "execute_result"
    }
   ],
   "source": [
    "def generate_categories_df(dataframe):\n",
    "    df = pd.DataFrame()\n",
    "    for category, category_name in zip(final_categories, final_categories_names):\n",
    "        df[category_name] = dataframe[category].sum(axis=1)\n",
<<<<<<< HEAD
    "    return df\n",
    "\n",
    "categorized_df = generate_categories_df(data)\n",
    "categorized_df.head()"
=======
    "    return df"
>>>>>>> Project2
   ]
  },
  {
   "cell_type": "code",
<<<<<<< HEAD
   "execution_count": 32,
=======
<<<<<<< HEAD
   "execution_count": 97,
=======
   "execution_count": 30,
>>>>>>> a7a016f1d0f2200dd148a44555de8d86aa3f2f9d
>>>>>>> Project2
   "metadata": {
    "collapsed": true
   },
   "outputs": [],
   "source": [
    "# We want to have hierarchical index in the columns and we need to generate a list of tuples with the names\n",
    "religion_array = list()\n",
    "for rel in categorized_df.columns:\n",
    "    religion_array.append(('religion', rel))\n",
    "\n",
    "# Assigning the hierarchical column names\n",
    "categorized_df.columns = pd.MultiIndex.from_tuples(religion_array)"
   ]
  },
  {
   "cell_type": "code",
<<<<<<< HEAD
   "execution_count": 33,
=======
<<<<<<< HEAD
   "execution_count": 98,
=======
   "execution_count": 31,
>>>>>>> a7a016f1d0f2200dd148a44555de8d86aa3f2f9d
>>>>>>> Project2
   "metadata": {},
   "outputs": [
    {
     "data": {
      "text/html": [
       "<div>\n",
       "<style>\n",
       "    .dataframe thead tr:only-child th {\n",
       "        text-align: right;\n",
       "    }\n",
       "\n",
       "    .dataframe thead th {\n",
       "        text-align: left;\n",
       "    }\n",
       "\n",
       "    .dataframe tbody tr th {\n",
       "        vertical-align: top;\n",
       "    }\n",
       "</style>\n",
       "<table border=\"1\" class=\"dataframe\">\n",
       "  <thead>\n",
       "    <tr>\n",
       "      <th></th>\n",
<<<<<<< HEAD
       "      <th colspan=\"12\" halign=\"left\">religion</th>\n",
       "    </tr>\n",
       "    <tr>\n",
       "      <th></th>\n",
       "      <th>protestants</th>\n",
       "      <th>catholics</th>\n",
       "      <th>ortodox</th>\n",
=======
       "      <th colspan=\"10\" halign=\"left\">religion</th>\n",
       "    </tr>\n",
       "    <tr>\n",
       "      <th></th>\n",
       "      <th>christianity</th>\n",
>>>>>>> Project2
       "      <th>buddhism</th>\n",
       "      <th>hindu</th>\n",
       "      <th>jewish</th>\n",
       "      <th>muslim</th>\n",
       "      <th>oriental</th>\n",
       "      <th>other</th>\n",
       "      <th>animist</th>\n",
       "      <th>atheist</th>\n",
       "      <th>unaffiliated</th>\n",
       "    </tr>\n",
       "    <tr>\n",
       "      <th>name</th>\n",
       "      <th></th>\n",
       "      <th></th>\n",
       "      <th></th>\n",
       "      <th></th>\n",
       "      <th></th>\n",
       "      <th></th>\n",
       "      <th></th>\n",
       "      <th></th>\n",
       "      <th></th>\n",
       "      <th></th>\n",
<<<<<<< HEAD
       "      <th></th>\n",
       "      <th></th>\n",
=======
>>>>>>> Project2
       "    </tr>\n",
       "  </thead>\n",
       "  <tbody>\n",
       "    <tr>\n",
       "      <th>Aruba</th>\n",
<<<<<<< HEAD
       "      <td>0.049</td>\n",
       "      <td>0.753</td>\n",
       "      <td>0.0</td>\n",
=======
       "      <td>0.802</td>\n",
>>>>>>> Project2
       "      <td>0.0</td>\n",
       "      <td>0.0</td>\n",
       "      <td>0.0</td>\n",
       "      <td>0.000</td>\n",
       "      <td>0.0</td>\n",
       "      <td>0.0</td>\n",
       "      <td>0.0</td>\n",
       "      <td>0.0</td>\n",
       "      <td>0.0</td>\n",
       "    </tr>\n",
       "    <tr>\n",
       "      <th>Afghanistan</th>\n",
       "      <td>0.000</td>\n",
<<<<<<< HEAD
       "      <td>0.000</td>\n",
       "      <td>0.0</td>\n",
=======
>>>>>>> Project2
       "      <td>0.0</td>\n",
       "      <td>0.0</td>\n",
       "      <td>0.0</td>\n",
       "      <td>0.997</td>\n",
       "      <td>0.0</td>\n",
       "      <td>0.0</td>\n",
       "      <td>0.0</td>\n",
       "      <td>0.0</td>\n",
       "      <td>0.0</td>\n",
       "    </tr>\n",
       "  </tbody>\n",
       "</table>\n",
       "</div>"
      ],
      "text/plain": [
<<<<<<< HEAD
       "               religion                                                 \\\n",
       "            protestants catholics ortodox buddhism hindu jewish muslim   \n",
       "name                                                                     \n",
       "Aruba             0.049     0.753     0.0      0.0   0.0    0.0  0.000   \n",
       "Afghanistan       0.000     0.000     0.0      0.0   0.0    0.0  0.997   \n",
       "\n",
       "                                                         \n",
       "            oriental other animist atheist unaffiliated  \n",
       "name                                                     \n",
       "Aruba            0.0   0.0     0.0     0.0          0.0  \n",
       "Afghanistan      0.0   0.0     0.0     0.0          0.0  "
      ]
     },
     "execution_count": 33,
=======
       "                religion                                                      \\\n",
       "            christianity buddhism hindu jewish muslim oriental other animist   \n",
       "name                                                                           \n",
       "Aruba              0.802      0.0   0.0    0.0  0.000      0.0   0.0     0.0   \n",
       "Afghanistan        0.000      0.0   0.0    0.0  0.997      0.0   0.0     0.0   \n",
       "\n",
       "                                  \n",
       "            atheist unaffiliated  \n",
       "name                              \n",
       "Aruba           0.0          0.0  \n",
       "Afghanistan     0.0          0.0  "
      ]
     },
<<<<<<< HEAD
     "execution_count": 98,
=======
     "execution_count": 31,
>>>>>>> a7a016f1d0f2200dd148a44555de8d86aa3f2f9d
>>>>>>> Project2
     "metadata": {},
     "output_type": "execute_result"
    }
   ],
   "source": [
    "categorized_df.head(2)"
   ]
  },
  {
   "cell_type": "markdown",
   "metadata": {},
   "source": [
    "Now the final step is to dropp the religion columns of the original dataframe and then add the new categorized dataframe."
   ]
  },
  {
   "cell_type": "code",
<<<<<<< HEAD
   "execution_count": 34,
=======
<<<<<<< HEAD
   "execution_count": 99,
=======
   "execution_count": 32,
>>>>>>> a7a016f1d0f2200dd148a44555de8d86aa3f2f9d
>>>>>>> Project2
   "metadata": {},
   "outputs": [
    {
     "name": "stdout",
     "output_type": "stream",
     "text": [
<<<<<<< HEAD
      "[('area', ''), ('ISO2', ''), ('ISO3', ''), ('languages', ''), ('borders', ''), ('latlng', ''), ('language_codes', ''), ('Internet users', ''), ('POP', ''), ('gdp', ''), ('gdp_capita', ''), ('gov_type', ''), ('pop_pov', ''), ('unemployment', ''), ('region', ''), ('GEC_code', ''), ('gov_type_num', '')]\n"
=======
<<<<<<< HEAD
      "[('area', ''), ('ISO2', ''), ('ISO3', ''), ('languages', ''), ('borders', ''), ('latlng', ''), ('language_codes', ''), ('Internet users', ''), ('POP', ''), ('gdp', ''), ('gdp_capita', ''), ('gov_type', ''), ('pop_pov', ''), ('unemployment', ''), ('region', ''), ('GEC_code', ''), ('atheist and agnostic', ''), ('gov_type_num', '')]\n"
=======
      "[('area', ''), ('ISO2', ''), ('ISO3', ''), ('languages', ''), ('borders', ''), ('latlng', ''), ('language_codes', ''), ('Internet users', ''), ('POP', ''), ('gdp', ''), ('gdp_capita', ''), ('gov_type', ''), ('pop_pov', ''), ('unemployment', ''), ('region', ''), ('GEC_code', ''), ('gov_type_num', '')]\n"
>>>>>>> a7a016f1d0f2200dd148a44555de8d86aa3f2f9d
>>>>>>> Project2
     ]
    },
    {
     "data": {
      "text/html": [
       "<div>\n",
       "<style>\n",
       "    .dataframe thead tr:only-child th {\n",
       "        text-align: right;\n",
       "    }\n",
       "\n",
       "    .dataframe thead th {\n",
       "        text-align: left;\n",
       "    }\n",
       "\n",
       "    .dataframe tbody tr th {\n",
       "        vertical-align: top;\n",
       "    }\n",
       "</style>\n",
       "<table border=\"1\" class=\"dataframe\">\n",
       "  <thead>\n",
       "    <tr>\n",
       "      <th></th>\n",
       "      <th>area</th>\n",
       "      <th>ISO2</th>\n",
       "      <th>ISO3</th>\n",
       "      <th>languages</th>\n",
       "      <th>borders</th>\n",
       "      <th>latlng</th>\n",
       "      <th>language_codes</th>\n",
       "      <th>Internet users</th>\n",
       "      <th>POP</th>\n",
       "      <th>gdp</th>\n",
       "      <th>gdp_capita</th>\n",
       "      <th>gov_type</th>\n",
       "      <th>pop_pov</th>\n",
       "      <th>unemployment</th>\n",
       "      <th>region</th>\n",
       "      <th>GEC_code</th>\n",
<<<<<<< HEAD
=======
<<<<<<< HEAD
       "      <th>atheist and agnostic</th>\n",
=======
>>>>>>> a7a016f1d0f2200dd148a44555de8d86aa3f2f9d
>>>>>>> Project2
       "      <th>gov_type_num</th>\n",
       "    </tr>\n",
       "    <tr>\n",
       "      <th></th>\n",
       "      <th></th>\n",
       "      <th></th>\n",
       "      <th></th>\n",
       "      <th></th>\n",
       "      <th></th>\n",
       "      <th></th>\n",
       "      <th></th>\n",
       "      <th></th>\n",
       "      <th></th>\n",
       "      <th></th>\n",
       "      <th></th>\n",
       "      <th></th>\n",
       "      <th></th>\n",
       "      <th></th>\n",
       "      <th></th>\n",
       "      <th></th>\n",
       "      <th></th>\n",
<<<<<<< HEAD
=======
<<<<<<< HEAD
       "      <th></th>\n",
=======
>>>>>>> a7a016f1d0f2200dd148a44555de8d86aa3f2f9d
>>>>>>> Project2
       "    </tr>\n",
       "    <tr>\n",
       "      <th>name</th>\n",
       "      <th></th>\n",
       "      <th></th>\n",
       "      <th></th>\n",
       "      <th></th>\n",
       "      <th></th>\n",
       "      <th></th>\n",
       "      <th></th>\n",
       "      <th></th>\n",
       "      <th></th>\n",
       "      <th></th>\n",
       "      <th></th>\n",
       "      <th></th>\n",
       "      <th></th>\n",
       "      <th></th>\n",
       "      <th></th>\n",
       "      <th></th>\n",
       "      <th></th>\n",
<<<<<<< HEAD
=======
<<<<<<< HEAD
       "      <th></th>\n",
=======
>>>>>>> a7a016f1d0f2200dd148a44555de8d86aa3f2f9d
>>>>>>> Project2
       "    </tr>\n",
       "  </thead>\n",
       "  <tbody>\n",
       "    <tr>\n",
       "      <th>Aruba</th>\n",
       "      <td>180.0</td>\n",
       "      <td>AW</td>\n",
       "      <td>ABW</td>\n",
       "      <td>[Dutch, Papiamento]</td>\n",
       "      <td>[]</td>\n",
       "      <td>[12.5, -69.96666666]</td>\n",
       "      <td>[nld, pap]</td>\n",
       "      <td>99000.0</td>\n",
       "      <td>113648.0</td>\n",
       "      <td>2.516000e+09</td>\n",
       "      <td>25300.0</td>\n",
       "      <td>parliamentary democracy</td>\n",
       "      <td>NaN</td>\n",
       "      <td>0.069</td>\n",
       "      <td>Central America and the Caribbean</td>\n",
       "      <td>aa</td>\n",
<<<<<<< HEAD
=======
<<<<<<< HEAD
       "      <td>0.0</td>\n",
=======
>>>>>>> a7a016f1d0f2200dd148a44555de8d86aa3f2f9d
>>>>>>> Project2
       "      <td>-1.0</td>\n",
       "    </tr>\n",
       "    <tr>\n",
       "      <th>Afghanistan</th>\n",
       "      <td>652230.0</td>\n",
       "      <td>AF</td>\n",
       "      <td>AFG</td>\n",
       "      <td>[Dari, Pashto, Turkmen]</td>\n",
       "      <td>[IRN, PAK, TKM, UZB, TJK, CHN]</td>\n",
       "      <td>[33, 65]</td>\n",
       "      <td>[prs, pus, tuk]</td>\n",
       "      <td>2690000.0</td>\n",
       "      <td>33332025.0</td>\n",
       "      <td>1.840000e+10</td>\n",
       "      <td>2000.0</td>\n",
       "      <td>presidential republic</td>\n",
       "      <td>0.358</td>\n",
       "      <td>0.350</td>\n",
       "      <td>Asia</td>\n",
       "      <td>af</td>\n",
<<<<<<< HEAD
=======
<<<<<<< HEAD
       "      <td>0.0</td>\n",
=======
>>>>>>> a7a016f1d0f2200dd148a44555de8d86aa3f2f9d
>>>>>>> Project2
       "      <td>1.0</td>\n",
       "    </tr>\n",
       "    <tr>\n",
       "      <th>Angola</th>\n",
       "      <td>1246700.0</td>\n",
       "      <td>AO</td>\n",
       "      <td>AGO</td>\n",
       "      <td>[Portuguese]</td>\n",
       "      <td>[COG, COD, ZMB, NAM]</td>\n",
       "      <td>[-12.5, 18.5]</td>\n",
       "      <td>[por]</td>\n",
       "      <td>2434000.0</td>\n",
       "      <td>20172332.0</td>\n",
       "      <td>9.194000e+10</td>\n",
       "      <td>6800.0</td>\n",
       "      <td>presidential republic</td>\n",
       "      <td>0.405</td>\n",
       "      <td>NaN</td>\n",
       "      <td>Africa</td>\n",
       "      <td>ao</td>\n",
<<<<<<< HEAD
=======
<<<<<<< HEAD
       "      <td>0.0</td>\n",
=======
>>>>>>> a7a016f1d0f2200dd148a44555de8d86aa3f2f9d
>>>>>>> Project2
       "      <td>1.0</td>\n",
       "    </tr>\n",
       "    <tr>\n",
       "      <th>Anguilla</th>\n",
       "      <td>91.0</td>\n",
       "      <td>AI</td>\n",
       "      <td>AIA</td>\n",
       "      <td>[English]</td>\n",
       "      <td>[]</td>\n",
       "      <td>[18.25, -63.16666666]</td>\n",
       "      <td>[eng]</td>\n",
       "      <td>12000.0</td>\n",
       "      <td>16752.0</td>\n",
       "      <td>1.754000e+08</td>\n",
       "      <td>12200.0</td>\n",
       "      <td>parliamentary democracy</td>\n",
       "      <td>0.230</td>\n",
       "      <td>0.080</td>\n",
       "      <td>Central America and the Caribbean</td>\n",
       "      <td>av</td>\n",
<<<<<<< HEAD
=======
<<<<<<< HEAD
       "      <td>0.0</td>\n",
=======
>>>>>>> a7a016f1d0f2200dd148a44555de8d86aa3f2f9d
>>>>>>> Project2
       "      <td>-1.0</td>\n",
       "    </tr>\n",
       "    <tr>\n",
       "      <th>Åland Islands</th>\n",
       "      <td>1580.0</td>\n",
       "      <td>AX</td>\n",
       "      <td>ALA</td>\n",
       "      <td>[Swedish]</td>\n",
       "      <td>[]</td>\n",
       "      <td>[60.116667, 19.9]</td>\n",
       "      <td>[swe]</td>\n",
       "      <td>NaN</td>\n",
       "      <td>NaN</td>\n",
       "      <td>NaN</td>\n",
       "      <td>NaN</td>\n",
       "      <td>unknown</td>\n",
       "      <td>NaN</td>\n",
       "      <td>NaN</td>\n",
       "      <td>NaN</td>\n",
       "      <td></td>\n",
<<<<<<< HEAD
=======
<<<<<<< HEAD
       "      <td>NaN</td>\n",
=======
>>>>>>> a7a016f1d0f2200dd148a44555de8d86aa3f2f9d
>>>>>>> Project2
       "      <td>0.0</td>\n",
       "    </tr>\n",
       "  </tbody>\n",
       "</table>\n",
       "</div>"
      ],
      "text/plain": [
       "                    area ISO2 ISO3                languages  \\\n",
       "                                                              \n",
       "name                                                          \n",
       "Aruba              180.0   AW  ABW      [Dutch, Papiamento]   \n",
       "Afghanistan     652230.0   AF  AFG  [Dari, Pashto, Turkmen]   \n",
       "Angola         1246700.0   AO  AGO             [Portuguese]   \n",
       "Anguilla            91.0   AI  AIA                [English]   \n",
       "Åland Islands     1580.0   AX  ALA                [Swedish]   \n",
       "\n",
       "                                      borders                 latlng  \\\n",
       "                                                                       \n",
       "name                                                                   \n",
       "Aruba                                      []   [12.5, -69.96666666]   \n",
       "Afghanistan    [IRN, PAK, TKM, UZB, TJK, CHN]               [33, 65]   \n",
       "Angola                   [COG, COD, ZMB, NAM]          [-12.5, 18.5]   \n",
       "Anguilla                                   []  [18.25, -63.16666666]   \n",
       "Åland Islands                              []      [60.116667, 19.9]   \n",
       "\n",
       "                language_codes Internet users         POP           gdp  \\\n",
       "                                                                          \n",
       "name                                                                      \n",
       "Aruba               [nld, pap]        99000.0    113648.0  2.516000e+09   \n",
       "Afghanistan    [prs, pus, tuk]      2690000.0  33332025.0  1.840000e+10   \n",
       "Angola                   [por]      2434000.0  20172332.0  9.194000e+10   \n",
       "Anguilla                 [eng]        12000.0     16752.0  1.754000e+08   \n",
       "Åland Islands            [swe]            NaN         NaN           NaN   \n",
       "\n",
       "              gdp_capita                 gov_type pop_pov unemployment  \\\n",
       "                                                                         \n",
       "name                                                                     \n",
       "Aruba            25300.0  parliamentary democracy     NaN        0.069   \n",
       "Afghanistan       2000.0    presidential republic   0.358        0.350   \n",
       "Angola            6800.0    presidential republic   0.405          NaN   \n",
       "Anguilla         12200.0  parliamentary democracy   0.230        0.080   \n",
       "Åland Islands        NaN                  unknown     NaN          NaN   \n",
       "\n",
<<<<<<< HEAD
=======
<<<<<<< HEAD
       "                                          region GEC_code  \\\n",
       "                                                            \n",
       "name                                                        \n",
       "Aruba          Central America and the Caribbean       aa   \n",
       "Afghanistan                                 Asia       af   \n",
       "Angola                                    Africa       ao   \n",
       "Anguilla       Central America and the Caribbean       av   \n",
       "Åland Islands                                NaN            \n",
       "\n",
       "              atheist and agnostic gov_type_num  \n",
       "                                                 \n",
       "name                                             \n",
       "Aruba                          0.0         -1.0  \n",
       "Afghanistan                    0.0          1.0  \n",
       "Angola                         0.0          1.0  \n",
       "Anguilla                       0.0         -1.0  \n",
       "Åland Islands                  NaN          0.0  "
      ]
     },
     "execution_count": 99,
=======
>>>>>>> Project2
       "                                          region GEC_code gov_type_num  \n",
       "                                                                        \n",
       "name                                                                    \n",
       "Aruba          Central America and the Caribbean       aa         -1.0  \n",
       "Afghanistan                                 Asia       af          1.0  \n",
       "Angola                                    Africa       ao          1.0  \n",
       "Anguilla       Central America and the Caribbean       av         -1.0  \n",
       "Åland Islands                                NaN                   0.0  "
      ]
     },
<<<<<<< HEAD
     "execution_count": 34,
=======
     "execution_count": 32,
>>>>>>> a7a016f1d0f2200dd148a44555de8d86aa3f2f9d
>>>>>>> Project2
     "metadata": {},
     "output_type": "execute_result"
    }
   ],
   "source": [
    "def drop_uncategorized_religions(dataframe):\n",
    "    df = dataframe.copy()\n",
    "    # Dropping columns\n",
    "    for cols in final_categories:\n",
    "        df.drop(cols, axis=1, inplace=True)\n",
    "    df.drop(dropped_cols, axis=1, inplace=True)\n",
    "    return df\n",
    "\n",
    "\n",
    "def make_hierarchical_index(dataframe):\n",
    "    df = dataframe.copy()\n",
    "    hierarchical_cols = list()\n",
    "    for col_name in df.columns:\n",
    "        hierarchical_cols.append((str(col_name), ''))\n",
    "        \n",
    "    # Assigning the hierarchical column names\n",
    "    print(hierarchical_cols)\n",
    "    df.columns = pd.MultiIndex.from_tuples(hierarchical_cols)\n",
    "    return df\n",
    "\n",
    "data = make_hierarchical_index(drop_uncategorized_religions(data))\n",
    "data.head()"
   ]
  },
  {
   "cell_type": "code",
<<<<<<< HEAD
   "execution_count": 36,
=======
<<<<<<< HEAD
   "execution_count": 100,
=======
   "execution_count": 33,
>>>>>>> a7a016f1d0f2200dd148a44555de8d86aa3f2f9d
>>>>>>> Project2
   "metadata": {
    "collapsed": true
   },
   "outputs": [],
   "source": [
    "def adding_categorized_religions(dataframe):\n",
    "    df = dataframe.copy()\n",
    "    df = pd.concat([df, categorized_df], axis=1)\n",
    "    return df\n",
    "\n",
    "data = adding_categorized_religions(data)"
   ]
  },
  {
<<<<<<< HEAD
=======
   "cell_type": "markdown",
   "metadata": {},
   "source": [
    "# Creating dataframe countries-main religions"
   ]
  },
  {
   "cell_type": "code",
   "execution_count": 34,
   "metadata": {
    "collapsed": true
   },
   "outputs": [],
   "source": [
    "def create_main_religions_column(dataframe):\n",
    "    \n",
    "    main_religions_list = list()\n",
    "\n",
    "    for row in dataframe.iterrows():\n",
    "        religions = row[1].sort_values(ascending=False)\n",
    "        main_rels = []\n",
    "        for rel, pct in zip(religions.index, religions):\n",
    "            if pct >= 0.1:\n",
    "                main_rels.append(str(rel[1]) + ' ' + str(pct*100) + '%')\n",
    "        main_religions_list.append(main_rels)\n",
    "    \n",
    "    return main_religions_list\n",
    "\n",
    "\n",
    "# Taking just the religions\n",
    "df = data.set_index('ISO3').iloc[:,16:].copy()\n",
    "\n",
    "# Adding column with main religions and the percentage\n",
    "df['main_religions'] = create_main_religions_column(df)\n",
    "df = df[['main_religions']]\n",
    "df.head()\n",
    "df.to_pickle('main_religions_df.pickle')"
   ]
  },
  {
   "cell_type": "markdown",
   "metadata": {},
   "source": [
    "## Updating countries where we had no religion data\n",
    "\n",
    "First we want to know which are the countries that doesn't have any data on religion. Then, we searched on Wikipedia for the percentages of the main religions and we added them manually."
   ]
  },
  {
   "cell_type": "code",
<<<<<<< HEAD
   "execution_count": 101,
=======
   "execution_count": 35,
   "metadata": {},
   "outputs": [
    {
     "data": {
      "text/html": [
       "<div>\n",
       "<style>\n",
       "    .dataframe thead tr:only-child th {\n",
       "        text-align: right;\n",
       "    }\n",
       "\n",
       "    .dataframe thead th {\n",
       "        text-align: left;\n",
       "    }\n",
       "\n",
       "    .dataframe tbody tr th {\n",
       "        vertical-align: top;\n",
       "    }\n",
       "</style>\n",
       "<table border=\"1\" class=\"dataframe\">\n",
       "  <thead>\n",
       "    <tr>\n",
       "      <th></th>\n",
       "      <th colspan=\"10\" halign=\"left\">religion</th>\n",
       "      <th>name</th>\n",
       "    </tr>\n",
       "    <tr>\n",
       "      <th></th>\n",
       "      <th>christianity</th>\n",
       "      <th>buddhism</th>\n",
       "      <th>hindu</th>\n",
       "      <th>jewish</th>\n",
       "      <th>muslim</th>\n",
       "      <th>oriental</th>\n",
       "      <th>other</th>\n",
       "      <th>animist</th>\n",
       "      <th>atheist</th>\n",
       "      <th>unaffiliated</th>\n",
       "      <th></th>\n",
       "    </tr>\n",
       "    <tr>\n",
       "      <th>ISO3</th>\n",
       "      <th></th>\n",
       "      <th></th>\n",
       "      <th></th>\n",
       "      <th></th>\n",
       "      <th></th>\n",
       "      <th></th>\n",
       "      <th></th>\n",
       "      <th></th>\n",
       "      <th></th>\n",
       "      <th></th>\n",
       "      <th></th>\n",
       "    </tr>\n",
       "  </thead>\n",
       "  <tbody>\n",
       "    <tr>\n",
       "      <th>ALA</th>\n",
       "      <td>0.0</td>\n",
       "      <td>0.0</td>\n",
       "      <td>0.0</td>\n",
       "      <td>0.0</td>\n",
       "      <td>0.0</td>\n",
       "      <td>0.0</td>\n",
       "      <td>0.0</td>\n",
       "      <td>0.0</td>\n",
       "      <td>0.0</td>\n",
       "      <td>0.0</td>\n",
       "      <td>Åland Islands</td>\n",
       "    </tr>\n",
       "    <tr>\n",
       "      <th>AND</th>\n",
       "      <td>0.0</td>\n",
       "      <td>0.0</td>\n",
       "      <td>0.0</td>\n",
       "      <td>0.0</td>\n",
       "      <td>0.0</td>\n",
       "      <td>0.0</td>\n",
       "      <td>0.0</td>\n",
       "      <td>0.0</td>\n",
       "      <td>0.0</td>\n",
       "      <td>0.0</td>\n",
       "      <td>Andorra</td>\n",
       "    </tr>\n",
       "    <tr>\n",
       "      <th>ATA</th>\n",
       "      <td>0.0</td>\n",
       "      <td>0.0</td>\n",
       "      <td>0.0</td>\n",
       "      <td>0.0</td>\n",
       "      <td>0.0</td>\n",
       "      <td>0.0</td>\n",
       "      <td>0.0</td>\n",
       "      <td>0.0</td>\n",
       "      <td>0.0</td>\n",
       "      <td>0.0</td>\n",
       "      <td>Antarctica</td>\n",
       "    </tr>\n",
       "    <tr>\n",
       "      <th>ATF</th>\n",
       "      <td>0.0</td>\n",
       "      <td>0.0</td>\n",
       "      <td>0.0</td>\n",
       "      <td>0.0</td>\n",
       "      <td>0.0</td>\n",
       "      <td>0.0</td>\n",
       "      <td>0.0</td>\n",
       "      <td>0.0</td>\n",
       "      <td>0.0</td>\n",
       "      <td>0.0</td>\n",
       "      <td>French Southern and Antarctic Lands</td>\n",
       "    </tr>\n",
       "    <tr>\n",
       "      <th>BLM</th>\n",
       "      <td>0.0</td>\n",
       "      <td>0.0</td>\n",
       "      <td>0.0</td>\n",
       "      <td>0.0</td>\n",
       "      <td>0.0</td>\n",
       "      <td>0.0</td>\n",
       "      <td>0.0</td>\n",
       "      <td>0.0</td>\n",
       "      <td>0.0</td>\n",
       "      <td>0.0</td>\n",
       "      <td>Saint Barthélemy</td>\n",
       "    </tr>\n",
       "  </tbody>\n",
       "</table>\n",
       "</div>"
      ],
      "text/plain": [
       "         religion                                                              \\\n",
       "     christianity buddhism hindu jewish muslim oriental other animist atheist   \n",
       "ISO3                                                                            \n",
       "ALA           0.0      0.0   0.0    0.0    0.0      0.0   0.0     0.0     0.0   \n",
       "AND           0.0      0.0   0.0    0.0    0.0      0.0   0.0     0.0     0.0   \n",
       "ATA           0.0      0.0   0.0    0.0    0.0      0.0   0.0     0.0     0.0   \n",
       "ATF           0.0      0.0   0.0    0.0    0.0      0.0   0.0     0.0     0.0   \n",
       "BLM           0.0      0.0   0.0    0.0    0.0      0.0   0.0     0.0     0.0   \n",
       "\n",
       "                                                  name  \n",
       "     unaffiliated                                       \n",
       "ISO3                                                    \n",
       "ALA           0.0                        Åland Islands  \n",
       "AND           0.0                              Andorra  \n",
       "ATA           0.0                           Antarctica  \n",
       "ATF           0.0  French Southern and Antarctic Lands  \n",
       "BLM           0.0                     Saint Barthélemy  "
      ]
     },
     "execution_count": 35,
     "metadata": {},
     "output_type": "execute_result"
    }
   ],
   "source": [
    "countries_without_pct = data.reset_index().set_index('ISO3').iloc[:,17:]\n",
    "countries_without_pct[('name', '')] = data.index.tolist()\n",
    "countries_without_pct.loc[(countries_without_pct.iloc[:,:-1]==0.0).all(axis=1)].head()"
   ]
  },
  {
   "cell_type": "code",
   "execution_count": 52,
>>>>>>> a7a016f1d0f2200dd148a44555de8d86aa3f2f9d
   "metadata": {
    "collapsed": true
   },
   "outputs": [],
   "source": [
    "# Manually added the main countries where we lacked data on religions\n",
    "# We found the percentages on wikipedia by doing the search on google: percentages of main religions [country]\n",
    "data.set_value('Greenland', ('religion', 'christianity'), 0.96);\n",
    "data.set_value('Madagascar', ('religion', 'atheist'), 0.84);\n",
    "data.set_value('North Korea', ('religion', 'atheist'), 0.643);\n",
    "data.set_value('Palestine', ('religion', 'muslim'), 0.85);\n",
    "data.set_value('Palestine', ('religion', 'jewish'), 0.12);\n",
    "data.set_value('Sudan', ('religion', 'muslim'), 0.97);\n",
    "data.set_value('Somalia', ('religion', 'muslim'), 0.999);\n",
    "data.set_value('Serbia', ('religion', 'christianity'), 0.93);\n",
    "data.set_value('South Sudan', ('religion', 'christianity'), 0.605);\n",
    "data.set_value('South Sudan', ('religion', 'other'), 0.33);\n",
    "data.set_value('South Sudan', ('religion', 'muslim'), 0.06);\n",
    "data.set_value('Ukraine', ('religion', 'christianity'), 0.8);\n",
    "data.set_value('Vatican City', ('religion', 'christianity'), 0.99);\n",
    "data.set_value('Guatemala', ('religion', 'christianity'), 0.87);\n",
    "data.set_value('Guatemala', ('religion', 'atheist'), 0.11);\n",
    "data.set_value('Western Sahara', ('religion', 'muslim'), 0.99);"
   ]
<<<<<<< HEAD
=======
  },
  {
>>>>>>> Project2
   "cell_type": "code",
   "execution_count": 37,
   "metadata": {
    "collapsed": true
   },
   "outputs": [],
   "source": [
    "data.to_pickle('data.pickle')"
   ]
<<<<<<< HEAD
=======
>>>>>>> a7a016f1d0f2200dd148a44555de8d86aa3f2f9d
>>>>>>> Project2
  }
 ],
 "metadata": {
  "kernelspec": {
   "display_name": "Python 3",
   "language": "python",
   "name": "python3"
  },
  "language_info": {
   "codemirror_mode": {
    "name": "ipython",
    "version": 3
   },
   "file_extension": ".py",
   "mimetype": "text/x-python",
   "name": "python",
   "nbconvert_exporter": "python",
   "pygments_lexer": "ipython3",
   "version": "3.6.1"
  }
 },
 "nbformat": 4,
 "nbformat_minor": 2
}
