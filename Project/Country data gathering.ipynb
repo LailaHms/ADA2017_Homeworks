{
 "cells": [
  {
   "cell_type": "code",
   "execution_count": 85,
   "metadata": {
    "collapsed": true
   },
   "outputs": [],
   "source": [
    "import pandas as pd\n",
    "import numpy as np\n",
    "import matplotlib.pyplot as plt\n",
    "import requests\n",
    "from bs4 import BeautifulSoup\n",
    "%matplotlib inline"
   ]
  },
  {
   "cell_type": "code",
   "execution_count": 131,
   "metadata": {},
   "outputs": [],
   "source": [
    "url = 'https://en.wikipedia.org/wiki/'\n",
    "r = requests.get(url + 'Afghanistan')\n",
    "\n",
    "soup = BeautifulSoup(r.text,'html.parser')\n",
    "soup = soup.find('table', {'class': 'infobox geography vcard'})\n",
    "tr_tags = soup.find_all('tr')"
   ]
  },
  {
   "cell_type": "code",
   "execution_count": 135,
   "metadata": {},
   "outputs": [
    {
     "data": {
      "text/plain": [
       "{'Afghanistan': ['Pashto', 'Dari[1]']}"
      ]
     },
     "execution_count": 135,
     "metadata": {},
     "output_type": "execute_result"
    }
   ],
   "source": [
    "country_languages_dict = dict()\n",
    "\n",
    "for tag in tr_tags:\n",
    "    if tag.find('a', {'href': '/wiki/Official_language'}) != None:\n",
    "        \n",
    "        country_languages = soup.find('div', {'class': 'hlist hlist-separated'})\n",
    "        country_languages_list = []\n",
    "\n",
    "        for lang in country_languages.find_all('li'):\n",
    "            country_languages_list.append(lang.text)\n",
    "\n",
    "        country_languages_dict.update({'Afghanistan': country_languages_list})\n",
    "\n",
    "        country_languages_dict\n",
    "        \n",
    "\n",
    "country_languages_dict"
   ]
  },
  {
   "cell_type": "code",
   "execution_count": 122,
   "metadata": {},
   "outputs": [
    {
     "data": {
      "text/plain": [
       "'Islam'"
      ]
     },
     "execution_count": 122,
     "metadata": {},
     "output_type": "execute_result"
    }
   ],
   "source": [
    "country_religion_dict = dict()\n",
    "\n",
    "for tag in tr_tags:\n",
    "    if tag.find('a', {'href': '/wiki/Religion_in_' + 'Afghanistan'}) != None:\n",
    "        \n",
    "        religion = soup.find('a', {'href': '/wiki/Religion_in_' + 'Afghanistan'}).text\n",
    "        \n",
    "        \n",
    "        country_religion_dict.update({'Afghanistan': religion})\n",
    "    else:\n",
    "        religion\n",
    "religion"
   ]
  },
  {
   "cell_type": "markdown",
   "metadata": {},
   "source": [
    "Take dataset from https://github.com/mledoze/countries"
   ]
  },
  {
   "cell_type": "code",
   "execution_count": 147,
   "metadata": {},
   "outputs": [
    {
     "data": {
      "text/plain": [
       "'Aruba'"
      ]
     },
     "execution_count": 147,
     "metadata": {},
     "output_type": "execute_result"
    }
   ],
   "source": [
    "countries = pd.read_json('countries.json')\n",
    "cols = ['area', 'cca2', 'cca3', 'ccn3', 'languages', 'name']\n",
    "countries = countries[cols]\n",
    "\n",
    "countries.name[0]['official']"
   ]
  },
  {
   "cell_type": "markdown",
   "metadata": {},
   "source": [
    "Found dataset with all country codes https://github.com/datasets/country-codes/blob/master/README.md"
   ]
  },
  {
   "cell_type": "code",
   "execution_count": 104,
   "metadata": {},
   "outputs": [
    {
     "data": {
      "text/html": [
       "<div>\n",
       "<style>\n",
       "    .dataframe thead tr:only-child th {\n",
       "        text-align: right;\n",
       "    }\n",
       "\n",
       "    .dataframe thead th {\n",
       "        text-align: left;\n",
       "    }\n",
       "\n",
       "    .dataframe tbody tr th {\n",
       "        vertical-align: top;\n",
       "    }\n",
       "</style>\n",
       "<table border=\"1\" class=\"dataframe\">\n",
       "  <thead>\n",
       "    <tr style=\"text-align: right;\">\n",
       "      <th></th>\n",
       "      <th>official_name_en</th>\n",
       "      <th>ISO3166-1-Alpha-2</th>\n",
       "      <th>ISO3166-1-Alpha-3</th>\n",
       "      <th>ISO3166-1-numeric</th>\n",
       "      <th>Continent</th>\n",
       "      <th>Region Name</th>\n",
       "      <th>Region Code</th>\n",
       "    </tr>\n",
       "  </thead>\n",
       "  <tbody>\n",
       "    <tr>\n",
       "      <th>1</th>\n",
       "      <td>Afghanistan</td>\n",
       "      <td>AF</td>\n",
       "      <td>AFG</td>\n",
       "      <td>4.0</td>\n",
       "      <td>AS</td>\n",
       "      <td>Asia</td>\n",
       "      <td>142.0</td>\n",
       "    </tr>\n",
       "    <tr>\n",
       "      <th>2</th>\n",
       "      <td>Albania</td>\n",
       "      <td>AL</td>\n",
       "      <td>ALB</td>\n",
       "      <td>8.0</td>\n",
       "      <td>EU</td>\n",
       "      <td>Europe</td>\n",
       "      <td>150.0</td>\n",
       "    </tr>\n",
       "    <tr>\n",
       "      <th>3</th>\n",
       "      <td>Algeria</td>\n",
       "      <td>DZ</td>\n",
       "      <td>DZA</td>\n",
       "      <td>12.0</td>\n",
       "      <td>AF</td>\n",
       "      <td>Africa</td>\n",
       "      <td>2.0</td>\n",
       "    </tr>\n",
       "    <tr>\n",
       "      <th>4</th>\n",
       "      <td>American Samoa</td>\n",
       "      <td>AS</td>\n",
       "      <td>ASM</td>\n",
       "      <td>16.0</td>\n",
       "      <td>OC</td>\n",
       "      <td>Oceania</td>\n",
       "      <td>9.0</td>\n",
       "    </tr>\n",
       "    <tr>\n",
       "      <th>5</th>\n",
       "      <td>Andorra</td>\n",
       "      <td>AD</td>\n",
       "      <td>AND</td>\n",
       "      <td>20.0</td>\n",
       "      <td>EU</td>\n",
       "      <td>Europe</td>\n",
       "      <td>150.0</td>\n",
       "    </tr>\n",
       "  </tbody>\n",
       "</table>\n",
       "</div>"
      ],
      "text/plain": [
       "  official_name_en ISO3166-1-Alpha-2 ISO3166-1-Alpha-3  ISO3166-1-numeric  \\\n",
       "1      Afghanistan                AF               AFG                4.0   \n",
       "2          Albania                AL               ALB                8.0   \n",
       "3          Algeria                DZ               DZA               12.0   \n",
       "4   American Samoa                AS               ASM               16.0   \n",
       "5          Andorra                AD               AND               20.0   \n",
       "\n",
       "  Continent Region Name  Region Code  \n",
       "1        AS        Asia        142.0  \n",
       "2        EU      Europe        150.0  \n",
       "3        AF      Africa          2.0  \n",
       "4        OC     Oceania          9.0  \n",
       "5        EU      Europe        150.0  "
      ]
     },
     "execution_count": 104,
     "metadata": {},
     "output_type": "execute_result"
    }
   ],
   "source": [
    "cols = ['official_name_en', 'ISO3166-1-Alpha-2', 'ISO3166-1-Alpha-3', 'ISO3166-1-numeric', \\\n",
    "        'Continent', 'Region Name', 'Region Code']\n",
    "codes = codes[cols]\n",
    "codes.head()"
   ]
  },
  {
   "cell_type": "code",
   "execution_count": null,
   "metadata": {
    "collapsed": true
   },
   "outputs": [],
   "source": []
  }
 ],
 "metadata": {
  "kernelspec": {
   "display_name": "Python 3",
   "language": "python",
   "name": "python3"
  },
  "language_info": {
   "codemirror_mode": {
    "name": "ipython",
    "version": 3
   },
   "file_extension": ".py",
   "mimetype": "text/x-python",
   "name": "python",
   "nbconvert_exporter": "python",
   "pygments_lexer": "ipython3",
   "version": "3.6.1"
  }
 },
 "nbformat": 4,
 "nbformat_minor": 2
}
