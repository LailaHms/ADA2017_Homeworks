{
 "cells": [
  {
   "cell_type": "code",
   "execution_count": null,
   "metadata": {},
   "outputs": [],
   "source": [
    "%matplotlib inline\n",
    "import pandas as pd\n",
    "import pickle\n",
    "import matplotlib.pyplot as plt\n",
    "import numpy as np\n",
    "import networkx as nx\n",
    "import seaborn as sns\n",
    "from scipy import sparse, stats, spatial\n",
    "from sklearn.preprocessing import StandardScaler\n",
    "\n",
    "from sklearn.decomposition import NMF, LatentDirichletAllocation"
   ]
  },
  {
   "cell_type": "code",
   "execution_count": null,
   "metadata": {},
   "outputs": [],
   "source": [
    "c_data = pickle.load(open('../DataEnriching/data.pickle','rb'))\n",
    "\n",
    "lang_feature_df = pd.read_pickle('../LinkingLanguages/stand_country_dist_languages.pkl')\n",
    "fligh_routes_df = pd.read_pickle('../GeoMetrics/flight_routes_std.pickle')\n",
    "hop_distance_df = pd.read_pickle('../GeoMetrics/hop_distance_std.pickle')\n",
    "neighbor_influence_df = pd.read_pickle('../GeoMetrics/neighbor_influence.pickle')\n",
    "dist_feature_df = pd.read_pickle('../GeoMetrics/real_distance_std.pickle')\n",
    "religion_and_more_df = pd.read_pickle('../DataEnriching/Pickles for Milestone 3/6_feature_df.pickle')\n",
    "\n",
    "# drop the name column : \n",
    "religion_and_more_df.drop('name',axis=1,inplace=True)"
   ]
  },
  {
   "cell_type": "code",
   "execution_count": null,
   "metadata": {},
   "outputs": [],
   "source": []
  }
 ],
 "metadata": {
  "kernelspec": {
   "display_name": "Python [conda env:ADA]",
   "language": "python",
   "name": "conda-env-ADA-py"
  },
  "language_info": {
   "codemirror_mode": {
    "name": "ipython",
    "version": 3
   },
   "file_extension": ".py",
   "mimetype": "text/x-python",
   "name": "python",
   "nbconvert_exporter": "python",
   "pygments_lexer": "ipython3",
   "version": "3.6.2"
  }
 },
 "nbformat": 4,
 "nbformat_minor": 2
}
