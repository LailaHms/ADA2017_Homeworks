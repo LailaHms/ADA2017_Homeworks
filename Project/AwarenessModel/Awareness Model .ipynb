{
 "cells": [
  {
   "cell_type": "markdown",
   "metadata": {},
   "source": [
    "# Awareness Modeling\n"
   ]
  },
  {
   "cell_type": "code",
   "execution_count": null,
   "metadata": {},
   "outputs": [],
   "source": [
    "%matplotlib inline\n",
    "import pandas as pd\n",
    "import pickle\n",
    "import matplotlib.pyplot as plt\n",
    "import numpy as np\n",
    "import networkx as nx\n",
    "import seaborn as sns\n",
    "from scipy import sparse, stats, spatial\n",
    "from sklearn.preprocessing import StandardScaler\n",
    "\n",
    "from sklearn.decomposition import NMF, LatentDirichletAllocation\n"
   ]
  },
  {
   "cell_type": "markdown",
   "metadata": {},
   "source": [
    "## Import the features from different pickles : "
   ]
  },
  {
   "cell_type": "code",
   "execution_count": null,
   "metadata": {
    "scrolled": false
   },
   "outputs": [],
   "source": [
    "c_data = pickle.load(open('../DataEnriching/data.pickle','rb'))\n",
    "\n",
    "lang_feature_df = pd.read_pickle('../LinkingLanguages/stand_country_dist_languages.pkl')\n",
    "fligh_routes_df = pd.read_pickle('../GeoMetrics/flight_routes_std.pickle')\n",
    "hop_distance_df = pd.read_pickle('../GeoMetrics/hop_distance_std.pickle')\n",
    "neighbor_influence_df = pd.read_pickle('../GeoMetrics/neighbor_influence.pickle')\n",
    "dist_feature_df = pd.read_pickle('../GeoMetrics/real_distance_std.pickle')\n",
    "religion_and_more_df = pd.read_pickle('../DataEnriching/Pickles for Milestone 3/6_feature_df.pickle')\n",
    "\n",
    "# drop the name column : \n",
    "religion_and_more_df.drop('name',axis=1,inplace=True)\n",
    "\n",
    "# shift the standardized values :\n",
    "lang_feature_df = lang_feature_df - lang_feature_df.min().min()\n",
    "fligh_routes_df = fligh_routes_df - fligh_routes_df.min().min()\n",
    "hop_distance_df = hop_distance_df - hop_distance_df.min().min()\n",
    "neighbor_influence_df = neighbor_influence_df - neighbor_influence_df.min().min()\n",
    "dist_feature_df = dist_feature_df - dist_feature_df.min().min()\n",
    "#religion_and_more_df = religion_and_more_df - religion_and_more_df.min().min()\n",
    "\n",
    "#carefull the number of coutries is not the same in every pickle.\n",
    "features_df = pd.concat([lang_feature_df,\n",
    "           fligh_routes_df,\n",
    "           hop_distance_df,\n",
    "           neighbor_influence_df,\n",
    "          dist_feature_df,\n",
    "          religion_and_more_df],axis=1)\n",
    "#features_df.sort_index(axis=1,inplace=True)\n",
    "\n",
    "features_df[features_df.isnull().any(axis=1)].head(10)"
   ]
  },
  {
   "cell_type": "code",
   "execution_count": null,
   "metadata": {},
   "outputs": [],
   "source": [
    "def stand(mylist):\n",
    "    std_scaler = StandardScaler().fit(np.array(mylist).reshape(-1, 1))\n",
    "    return std_scaler.transform(np.array(mylist).reshape(-1, 1)) "
   ]
  },
  {
   "cell_type": "code",
   "execution_count": null,
   "metadata": {},
   "outputs": [],
   "source": []
  },
  {
   "cell_type": "markdown",
   "metadata": {},
   "source": [
    "#### convert every Nan to a 0 \n",
    "features_df.fillna(value=0,inplace=True)\n",
    "# replace inf by a large number :\n",
    "features_df.replace(np.inf, 1E5,inplace=True)\n",
    "\n",
    "features_df.loc[:,('gov_type_num')] = features_df.loc[:,('gov_type_num')] - features_df.loc[:,('gov_type_num')].min()\n",
    "features_df.loc[:,('area')] = features_df.loc[:,('area')] - features_df.loc[:,('area')].min()\n",
    "features_df.index.is_unique\n",
    "\n",
    "to_standadize = ['2016_gdp_capita','POP','area']\n",
    "for i in to_standadize:\n",
    "    \n",
    "    features_df.loc[:,(i)] = stand(list(features_df.loc[:,(i)]))\n",
    "    features_df.loc[:,(i)] -=  features_df.loc[:,(i)].min().min()\n",
    "features_df.head(20)"
   ]
  },
  {
   "cell_type": "code",
   "execution_count": null,
   "metadata": {},
   "outputs": [],
   "source": [
    "features_df.loc[:,('religion')].head(10)"
   ]
  },
  {
   "cell_type": "markdown",
   "metadata": {},
   "source": [
    "## Applying the NMF"
   ]
  },
  {
   "cell_type": "code",
   "execution_count": null,
   "metadata": {},
   "outputs": [],
   "source": [
    "features_mat = features_df.as_matrix()\n"
   ]
  },
  {
   "cell_type": "code",
   "execution_count": null,
   "metadata": {},
   "outputs": [],
   "source": [
    "n_samples = np.shape(features_mat)[1]\n",
    "n_features = 1000\n",
    "n_components = round(n_samples/15)\n",
    "n_components"
   ]
  },
  {
   "cell_type": "code",
   "execution_count": null,
   "metadata": {},
   "outputs": [],
   "source": [
    "W = NMF(n_components=n_components, random_state=1,\n",
    "          alpha=.1, l1_ratio=.5).fit_transform(features_mat)"
   ]
  },
  {
   "cell_type": "code",
   "execution_count": null,
   "metadata": {},
   "outputs": [],
   "source": [
    "np.shape(W)"
   ]
  },
  {
   "cell_type": "code",
   "execution_count": null,
   "metadata": {},
   "outputs": [],
   "source": [
    "plt.figure(figsize=[10,10])\n",
    "sns.distplot(W.flatten())"
   ]
  },
  {
   "cell_type": "markdown",
   "metadata": {},
   "source": [
    "## Weight Matrix and Graph"
   ]
  },
  {
   "cell_type": "code",
   "execution_count": null,
   "metadata": {},
   "outputs": [],
   "source": [
    "distances = spatial.distance.squareform(spatial.distance.pdist(W,'cosine')) # W\n",
    "plt.figure(figsize=[9,7])\n",
    "sns.heatmap(distances)"
   ]
  },
  {
   "cell_type": "code",
   "execution_count": null,
   "metadata": {},
   "outputs": [],
   "source": [
    "kernel_width = np.mean(distances)#distances.mean()\n",
    "\n",
    "def kernel(x):\n",
    "    return np.exp(- np.power(x/kernel_width,2))\n",
    "\n",
    "# applying the kernel to the distances matrix :\n",
    "weights = kernel(distances)\n",
    "# setting the diagonal (self-loops) weights to 0 :\n",
    "weights[range(len(weights)),range(len(weights))] = 0\n",
    "\n",
    "# displaying a subset of the weights matrix :\n",
    "plt.figure(figsize=[9,7])\n",
    "sns.heatmap(weights,cmap=\"Reds\")"
   ]
  },
  {
   "cell_type": "code",
   "execution_count": null,
   "metadata": {},
   "outputs": [],
   "source": [
    "weights_df = pd.DataFrame(weights,columns=c_data.index,index=c_data.index)"
   ]
  },
  {
   "cell_type": "code",
   "execution_count": null,
   "metadata": {},
   "outputs": [],
   "source": [
    "country = 'France'\n",
    "weights_df[country].loc[weights_df[country] >= 0.7]"
   ]
  },
  {
   "cell_type": "code",
   "execution_count": null,
   "metadata": {
    "scrolled": false
   },
   "outputs": [],
   "source": [
    "weights_df"
   ]
  },
  {
   "cell_type": "code",
   "execution_count": null,
   "metadata": {},
   "outputs": [],
   "source": []
  }
 ],
 "metadata": {
  "kernelspec": {
   "display_name": "Python [conda env:ada]",
   "language": "python",
   "name": "conda-env-ada-py"
  },
  "language_info": {
   "codemirror_mode": {
    "name": "ipython",
    "version": 3
   },
   "file_extension": ".py",
   "mimetype": "text/x-python",
   "name": "python",
   "nbconvert_exporter": "python",
   "pygments_lexer": "ipython3",
   "version": "3.6.3"
  }
 },
 "nbformat": 4,
 "nbformat_minor": 2
}
