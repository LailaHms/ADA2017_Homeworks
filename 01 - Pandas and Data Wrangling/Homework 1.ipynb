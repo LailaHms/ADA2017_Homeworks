{
 "cells": [
  {
   "cell_type": "markdown",
   "metadata": {},
   "source": [
    "# Table of Contents\n",
    " <p><div class=\"lev1\"><a href=\"#Task-1.-Compiling-Ebola-Data\"><span class=\"toc-item-num\">Task 1.&nbsp;&nbsp;</span>Compiling Ebola Data</a></div>\n",
    " <div class=\"lev1\"><a href=\"#Task-2.-RNA-Sequences\"><span class=\"toc-item-num\">Task 2.&nbsp;&nbsp;</span>RNA Sequences</a></div>\n",
    " <div class=\"lev1\"><a href=\"#Task-3.-Class-War-in-Titanic\"><span class=\"toc-item-num\">Task 3.&nbsp;&nbsp;</span>Class War in Titanic</a></div></p>"
   ]
  },
  {
   "cell_type": "code",
   "execution_count": 1,
   "metadata": {},
   "outputs": [],
   "source": [
    "DATA_FOLDER = './Data' # Use the data folder provided in Tutorial 02 - Intro to Pandas."
   ]
  },
  {
   "cell_type": "code",
   "execution_count": 2,
   "metadata": {},
   "outputs": [],
   "source": [
    "import os \n",
    "import pandas as pd\n",
    "import numpy as np\n",
    "import matplotlib.pyplot as plt\n",
    "from scipy import interpolate\n",
    "%matplotlib inline"
   ]
  },
  {
   "cell_type": "markdown",
   "metadata": {},
   "source": [
    "## Task 1. Compiling Ebola Data\n",
    "\n",
    "The `DATA_FOLDER/ebola` folder contains summarized reports of Ebola cases from three countries (Guinea, Liberia and Sierra Leone) during the recent outbreak of the disease in West Africa. For each country, there are daily reports that contain various information about the outbreak in several cities in each country.\n",
    "\n",
    "Use pandas to import these data files into a single `Dataframe`.\n",
    "Using this `DataFrame`, calculate for *each country*, the *daily average per month* of *new cases* and *deaths*.\n",
    "Make sure you handle all the different expressions for *new cases* and *deaths* that are used in the reports."
   ]
  },
  {
   "cell_type": "code",
   "execution_count": 3,
   "metadata": {},
   "outputs": [],
   "source": [
    "# Write your answer here\n",
    "\n",
    "# Ebola Folder \n",
    "DATA_FOLDER_ebola = DATA_FOLDER + '/ebola'\n",
    "# Directories in the folder\n",
    "ebola_directories = os.listdir(DATA_FOLDER_ebola)\n",
    "# Remove License File\n",
    "del ebola_directories[ebola_directories.index('LICENSE')]\n",
    "\n",
    "# Names of the columns which contain the total number of daily incidents\n",
    "data_columns = {'liberia':['Date','Variable', 'National'],\n",
    "                'sl': ['date','variable', 'National'],\n",
    "                'guinea':['Date','Description', 'Totals']\n",
    "               }"
   ]
  },
  {
   "cell_type": "markdown",
   "metadata": {},
   "source": [
    "### Load All CSV Files Contained In One Folder\n",
    "TODO : write the explanatory paragraph"
   ]
  },
  {
   "cell_type": "code",
   "execution_count": 4,
   "metadata": {},
   "outputs": [],
   "source": [
    "# Loads the information relevant to deaths and cases within the csv files contained in the directory for a given country\n",
    "\n",
    "def load_csv_files_into_dataframe(folder, country):\n",
    "    country_folder = folder + '/'+ country +'_data'\n",
    "    csv_files = os.listdir(country_folder)    \n",
    "    \n",
    "    all_data = pd.DataFrame()\n",
    "    \n",
    "    date = data_columns[country][0]\n",
    "    description = data_columns[country][1]\n",
    "    totals = data_columns[country][2]\n",
    "    \n",
    "    for i, file in enumerate(csv_files):\n",
    "        \n",
    "        daily_csv = pd.read_csv(country_folder + '/' +file)\n",
    "        \n",
    "        # Find columns containing death or case keywords\n",
    "        motives  = daily_csv[description][daily_csv[description].str.contains(\"death|case|Death|Case\")]\n",
    "        # Create a dictionary with the date and country\n",
    "        daily_dict = {'Date': file[:10], 'Country':country}\n",
    "        # Add the motives with corresponding total / national values to the dictionary\n",
    "        daily_dict.update(dict(zip(motives.tolist(), daily_csv[totals][motives.index].tolist())))\n",
    "        # Append the dictionary to the dataframe\n",
    "        all_data = all_data.append(daily_dict, ignore_index = True)\n",
    "    all_data = all_data.apply(pd.to_numeric, errors = 'ignore')\n",
    "    all_data.Date = pd.to_datetime(all_data.Date)\n",
    "    all_data['Month']  = all_data.Date.dt.month\n",
    "    all_data['Year']  = all_data.Date.dt.year\n",
    "    #all_data.set_index(['Date','Country'], inplace = True)\n",
    "    return all_data"
   ]
  },
  {
   "cell_type": "markdown",
   "metadata": {},
   "source": [
    "### General Selection Process \n",
    "For each of the countries we pre-selected the columns which contained the keywords death or case. We observed the remaining columns and removed columns which contained to many NaN values. \n",
    "For both death and case we then plotted all the columns in cumulative form using cumsum for columns which were not already cumulative. This way it was possible to identify the columns which had the least missing and most coherent data. "
   ]
  },
  {
   "cell_type": "markdown",
   "metadata": {},
   "source": [
    "#### Functions to clean and interpolate the data"
   ]
  },
  {
   "cell_type": "code",
   "execution_count": 5,
   "metadata": {},
   "outputs": [],
   "source": [
    "#Functions used to clean and interpolate the data\n",
    "def interpolate_data(df, clean_df, category, k = 1):\n",
    "    # Drop nan values\n",
    "    temp_df = df[np.isfinite(df[category])]\n",
    "    # Interpolate the data\n",
    "    x = np.array(temp_df['Days since'].tolist())\n",
    "    y = np.array(temp_df[category].tolist())\n",
    "    f = interpolate.interp1d(x,y)\n",
    "    xnew = np.array(clean_df['Days since'].tolist())\n",
    "    x_max = np.max(x)\n",
    "    xnew = xnew[xnew <= x_max]\n",
    "    ynew = f(xnew)\n",
    "    return xnew, ynew\n",
    "\n",
    "\n",
    "def clean_and_interpolate(df, k = 1):\n",
    "    # Create a Dataframe With All The Dates From Start To Finish\n",
    "    start = np.min(df['Date'].tolist())\n",
    "    stop =  np.max(df['Date'].tolist())\n",
    "    clean_df = pd.DataFrame(pd.date_range(start, stop))\n",
    "    clean_df.rename(columns={0:'Date'}, inplace = True)\n",
    "    # Get the index of the days \n",
    "    clean_df['Days since'] = (clean_df['Date'] - clean_df['Date'][0]).dt.days\n",
    "    df['Days since'] = (df['Date'] - df['Date'][0]).dt.days\n",
    "    \n",
    "    clean_df['Month']  = clean_df.Date.dt.month\n",
    "    clean_df['Year']  = clean_df.Date.dt.year\n",
    "    clean_df['Country']  = df['Country'][0]\n",
    "    clean_df['Deaths'] = None\n",
    "    clean_df['Cases'] = None\n",
    "    # Store the new values in the clean data\n",
    "    xnew, ynew = interpolate_data(df, clean_df, 'Deaths', k = 1)\n",
    "    clean_df['Deaths'].iloc[xnew] = ynew \n",
    "    xnew, ynew = interpolate_data(df, clean_df, 'Cases', k = 1)\n",
    "    clean_df['Cases'].iloc[xnew] = ynew \n",
    "    \n",
    "    \n",
    "    #Comparing the Interpolation to the real data\n",
    "    plt.figure(figsize = (20,10))\n",
    "    plt.subplot(121)\n",
    "    plt.plot(clean_df['Days since'], clean_df['Deaths'], 'b')\n",
    "    plt.plot(df['Days since'],df['Deaths'], 'ob')\n",
    "    plt.title('Deaths Interpolation')\n",
    "    plt.subplot(122)\n",
    "    plt.plot(clean_df['Days since'], clean_df['Cases'], 'b')\n",
    "    plt.plot(df['Days since'],df['Cases'], 'ob')\n",
    "    plt.title('Cases Interpolation')\n",
    "    plt.show()\n",
    "    \n",
    "    return clean_df\n"
   ]
  },
  {
   "cell_type": "markdown",
   "metadata": {},
   "source": [
    "### Liberia Dataset"
   ]
  },
  {
   "cell_type": "code",
   "execution_count": 6,
   "metadata": {
    "scrolled": true
   },
   "outputs": [],
   "source": [
    "liberia_data = load_csv_files_into_dataframe(DATA_FOLDER_ebola,'liberia')\n",
    "liberia_data.dropna(thresh=2, axis = 1, inplace = True) #drops columns with just one value different from NaN"
   ]
  },
  {
   "cell_type": "markdown",
   "metadata": {},
   "source": [
    "### Selecting the Most Relevant Columns For \"Cases\""
   ]
  },
  {
   "cell_type": "markdown",
   "metadata": {},
   "source": [
    "For Liberia, the columns used to compute the new cases will be:\n",
    "    - New Case/s (Probable)\n",
    "    - New Case/s (Suspected)\n",
    "    - New Case/s (confirmed)\n",
    "Our approach has been to sum all the data of these three columns and then compute the monthly average taking into account confirmed, probable and suspected cases. So we will give an upper limit for the average number of new cases. The lower limit would be given by only using the *\"New case/s (confirmed)\"* column.\n",
    "\n",
    "We also added the column *\"Total confirmed cases\"* in the next dataframe to show why we decided not to use this column for the computation (reasons will be given later)."
   ]
  },
  {
   "cell_type": "code",
   "execution_count": 7,
   "metadata": {},
   "outputs": [],
   "source": [
    "df_data_1 = pd.DataFrame({'Date': liberia_data.Date,\n",
    "                     'Total confirmed cases': liberia_data['Total confirmed cases'],\n",
    "                     'New Case/s (Probable)': liberia_data['New Case/s (Probable)'],\n",
    "                     'New Case/s (Suspected)': liberia_data['New Case/s (Suspected)'],\n",
    "                     'New case/s (confirmed)': liberia_data['New case/s (confirmed)'],\n",
    "                     'Month': liberia_data['Month']})"
   ]
  },
  {
   "cell_type": "markdown",
   "metadata": {},
   "source": [
    "We decided that we couldn't use the data from December for various reasons:\n",
    "- 1) We discovered (or at least it's our guess) that from day 2014-12-04 untill the end the data in the *\"New Case/s\"* rows starts to be cummulative, while it should be new daily data.\n",
    "- 2) The December data from the *\"New Case/s (Probable)\"* and *\"New Case/s (Suspected)\"* is misleading. It is a cumulative type of data but we can clearly see that it decreases, which is not possible.\n",
    "- 3) The data of December of *\"New case/s (confirmed)\"* should be placed in the column *\"Total confirmed cases\"*, but then we wouldn't have any data of December for the column *\"New case/s (confirmed)\"*.\n",
    "\n",
    "For the calculation of the averaged new cases per month we used the 3 *\"New Case/s\"* columns. Taking into account this and the previous reasons, we decided not to make the analysis of December data. Basically, we lack data and the data little data we have is misleading for this month.\n",
    "\n",
    "In the next cell we print the December data so that you can understand why we made that decision."
   ]
  },
  {
   "cell_type": "code",
   "execution_count": 8,
   "metadata": {},
   "outputs": [
    {
     "data": {
      "text/html": [
       "<div>\n",
       "<style>\n",
       "    .dataframe thead tr:only-child th {\n",
       "        text-align: right;\n",
       "    }\n",
       "\n",
       "    .dataframe thead th {\n",
       "        text-align: left;\n",
       "    }\n",
       "\n",
       "    .dataframe tbody tr th {\n",
       "        vertical-align: top;\n",
       "    }\n",
       "</style>\n",
       "<table border=\"1\" class=\"dataframe\">\n",
       "  <thead>\n",
       "    <tr style=\"text-align: right;\">\n",
       "      <th></th>\n",
       "      <th>Date</th>\n",
       "      <th>Month</th>\n",
       "      <th>New Case/s (Probable)</th>\n",
       "      <th>New Case/s (Suspected)</th>\n",
       "      <th>New case/s (confirmed)</th>\n",
       "      <th>Total confirmed cases</th>\n",
       "    </tr>\n",
       "  </thead>\n",
       "  <tbody>\n",
       "    <tr>\n",
       "      <th>90</th>\n",
       "      <td>2014-11-30</td>\n",
       "      <td>11</td>\n",
       "      <td>NaN</td>\n",
       "      <td>NaN</td>\n",
       "      <td>10.0</td>\n",
       "      <td>2823.0</td>\n",
       "    </tr>\n",
       "    <tr>\n",
       "      <th>91</th>\n",
       "      <td>2014-12-01</td>\n",
       "      <td>12</td>\n",
       "      <td>9.0</td>\n",
       "      <td>25.0</td>\n",
       "      <td>1.0</td>\n",
       "      <td>2823.0</td>\n",
       "    </tr>\n",
       "    <tr>\n",
       "      <th>92</th>\n",
       "      <td>2014-12-02</td>\n",
       "      <td>12</td>\n",
       "      <td>10.0</td>\n",
       "      <td>18.0</td>\n",
       "      <td>9.0</td>\n",
       "      <td>2824.0</td>\n",
       "    </tr>\n",
       "    <tr>\n",
       "      <th>93</th>\n",
       "      <td>2014-12-03</td>\n",
       "      <td>12</td>\n",
       "      <td>NaN</td>\n",
       "      <td>NaN</td>\n",
       "      <td>NaN</td>\n",
       "      <td>2830.0</td>\n",
       "    </tr>\n",
       "    <tr>\n",
       "      <th>94</th>\n",
       "      <td>2014-12-04</td>\n",
       "      <td>12</td>\n",
       "      <td>1800.0</td>\n",
       "      <td>3054.0</td>\n",
       "      <td>2867.0</td>\n",
       "      <td>NaN</td>\n",
       "    </tr>\n",
       "    <tr>\n",
       "      <th>95</th>\n",
       "      <td>2014-12-05</td>\n",
       "      <td>12</td>\n",
       "      <td>1808.0</td>\n",
       "      <td>3056.0</td>\n",
       "      <td>2867.0</td>\n",
       "      <td>NaN</td>\n",
       "    </tr>\n",
       "    <tr>\n",
       "      <th>96</th>\n",
       "      <td>2014-12-06</td>\n",
       "      <td>12</td>\n",
       "      <td>1810.0</td>\n",
       "      <td>3056.0</td>\n",
       "      <td>2869.0</td>\n",
       "      <td>NaN</td>\n",
       "    </tr>\n",
       "    <tr>\n",
       "      <th>97</th>\n",
       "      <td>2014-12-07</td>\n",
       "      <td>12</td>\n",
       "      <td>1829.0</td>\n",
       "      <td>3067.0</td>\n",
       "      <td>2869.0</td>\n",
       "      <td>NaN</td>\n",
       "    </tr>\n",
       "    <tr>\n",
       "      <th>98</th>\n",
       "      <td>2014-12-08</td>\n",
       "      <td>12</td>\n",
       "      <td>1805.0</td>\n",
       "      <td>3054.0</td>\n",
       "      <td>2927.0</td>\n",
       "      <td>NaN</td>\n",
       "    </tr>\n",
       "    <tr>\n",
       "      <th>99</th>\n",
       "      <td>2014-12-09</td>\n",
       "      <td>12</td>\n",
       "      <td>1801.0</td>\n",
       "      <td>3050.0</td>\n",
       "      <td>2946.0</td>\n",
       "      <td>NaN</td>\n",
       "    </tr>\n",
       "  </tbody>\n",
       "</table>\n",
       "</div>"
      ],
      "text/plain": [
       "         Date  Month  New Case/s (Probable)  New Case/s (Suspected)  \\\n",
       "90 2014-11-30     11                    NaN                     NaN   \n",
       "91 2014-12-01     12                    9.0                    25.0   \n",
       "92 2014-12-02     12                   10.0                    18.0   \n",
       "93 2014-12-03     12                    NaN                     NaN   \n",
       "94 2014-12-04     12                 1800.0                  3054.0   \n",
       "95 2014-12-05     12                 1808.0                  3056.0   \n",
       "96 2014-12-06     12                 1810.0                  3056.0   \n",
       "97 2014-12-07     12                 1829.0                  3067.0   \n",
       "98 2014-12-08     12                 1805.0                  3054.0   \n",
       "99 2014-12-09     12                 1801.0                  3050.0   \n",
       "\n",
       "    New case/s (confirmed)  Total confirmed cases  \n",
       "90                    10.0                 2823.0  \n",
       "91                     1.0                 2823.0  \n",
       "92                     9.0                 2824.0  \n",
       "93                     NaN                 2830.0  \n",
       "94                  2867.0                    NaN  \n",
       "95                  2867.0                    NaN  \n",
       "96                  2869.0                    NaN  \n",
       "97                  2869.0                    NaN  \n",
       "98                  2927.0                    NaN  \n",
       "99                  2946.0                    NaN  "
      ]
     },
     "execution_count": 8,
     "metadata": {},
     "output_type": "execute_result"
    }
   ],
   "source": [
    "df_data_1.tail(10)"
   ]
  },
  {
   "cell_type": "code",
   "execution_count": 9,
   "metadata": {},
   "outputs": [],
   "source": [
    "# The data of December is dropped with a query.\n",
    "df_data_1 = df_data_1.query('Month < 12')"
   ]
  },
  {
   "cell_type": "markdown",
   "metadata": {},
   "source": [
    "As said, we add up the data of the 3 useful columns. We use the *.cumsum()* function to convert the daily new cases data into cumulative new cases data."
   ]
  },
  {
   "cell_type": "code",
   "execution_count": 10,
   "metadata": {},
   "outputs": [
    {
     "data": {
      "text/plain": [
       "[<matplotlib.lines.Line2D at 0x10e769c50>]"
      ]
     },
     "execution_count": 10,
     "metadata": {},
     "output_type": "execute_result"
    },
    {
     "data": {
      "image/png": "[encoded data removed]",
      "text/plain": [
       "<matplotlib.figure.Figure at 0x10241fa20>"
      ]
     },
     "metadata": {},
     "output_type": "display_data"
    }
   ],
   "source": [
    "cum_data_new_cases = (df_data_1['New case/s (confirmed)'].cumsum() \n",
    "                      + df_data_1['New Case/s (Probable)'].cumsum()\n",
    "                      + df_data_1['New Case/s (Suspected)'].cumsum())\n",
    "\n",
    "plt.figure(figsize = (5,5))\n",
    "plt.title('Cumulative New Cases & Total confirmed cases')\n",
    "plt.plot(df_data_1['Date'], cum_data_new_cases, 'bo', markersize = 4)\n",
    "plt.plot(df_data_1['Date'], df_data_1['Total confirmed cases'], 'ro', markersize = 4)"
   ]
  },
  {
   "cell_type": "markdown",
   "metadata": {},
   "source": [
    "As we see, the *\"Total confirmed cases\"* (red-dotted curve) data doesn't fit well the expected behaviour of the ebola virus. In addition, we are missing data from October and it would be extremely rough to interpolate. For these reasons we didn't use this column to compute the calculations.\n",
    "\n",
    "In contrast, the cumulative data (blue-dotted curve) fits more the expected behaviour of the virus, as it doesn't have drastic changes of the curvature."
   ]
  },
  {
   "cell_type": "markdown",
   "metadata": {},
   "source": [
    "### Selecting the Most Relevant Columns For \"Deaths\""
   ]
  },
  {
   "cell_type": "markdown",
   "metadata": {},
   "source": [
    "For the calculations we are going to use the following columns:\n",
    "    - Total death/s in confirmed, probable, suspected cases\n",
    "    - Total death/s in confirmed, \\n probable, suspected cases\n",
    "    \n",
    "When combined, the other columns (from now on we will refer to them as verification columns, VC) will be used to verify that the *\"Total death/s in confirmed, probable, suspected cases\"* column is coherent. They will not be used for the calculation."
   ]
  },
  {
   "cell_type": "code",
   "execution_count": 11,
   "metadata": {},
   "outputs": [],
   "source": [
    "df_data_2 = pd.DataFrame({'Date': liberia_data.Date,\n",
    "                     'Total death/s in confirmed cases': liberia_data['Total death/s in confirmed cases'],\n",
    "                     'Total death/s in probable cases': liberia_data['Total death/s in probable cases'],\n",
    "                     'Total death/s in suspected cases': liberia_data['Total death/s in suspected cases'],\n",
    "                     'Total death/s in confirmed, probable, suspected cases': liberia_data['Total death/s in confirmed, probable, suspected cases'],\n",
    "                     'Total death/s in confirmed, \\n probable, suspected cases': liberia_data['Total death/s in confirmed, \\n probable, suspected cases'],\n",
    "                     'Month': liberia_data['Month']})"
   ]
  },
  {
   "cell_type": "markdown",
   "metadata": {},
   "source": [
    "#### Plotting verification columns"
   ]
  },
  {
   "cell_type": "code",
   "execution_count": 12,
   "metadata": {},
   "outputs": [
    {
     "data": {
      "text/plain": [
       "[<matplotlib.lines.Line2D at 0x10e8ffb00>]"
      ]
     },
     "execution_count": 12,
     "metadata": {},
     "output_type": "execute_result"
    },
    {
     "data": {
      "image/png": "[encoded data removed]",
      "text/plain": [
       "<matplotlib.figure.Figure at 0x10e84f978>"
      ]
     },
     "metadata": {},
     "output_type": "display_data"
    }
   ],
   "source": [
    "plt.figure(figsize = (5,5))\n",
    "plt.title('VC: confirmed, probable, suspected')\n",
    "plt.plot(df_data_2['Date'], df_data_2['Total death/s in confirmed cases'], 'r--')\n",
    "plt.plot(df_data_2['Date'], df_data_2['Total death/s in probable cases'], 'ro')\n",
    "plt.plot(df_data_2['Date'], df_data_2['Total death/s in suspected cases'], 'r')"
   ]
  },
  {
   "cell_type": "markdown",
   "metadata": {},
   "source": [
    "We plot this figure to show the initial state of the VC data. Now we will clean it and then we will verify that the data we will use for the calculations is coherent with this data."
   ]
  },
  {
   "cell_type": "markdown",
   "metadata": {},
   "source": [
    "#### Modifying data to make it coherent\n",
    "- need to shift the data of the continous red line after the drop (a line representing total data cannot decrease).\n",
    "- need to clear the last data point of the red-dotted curve."
   ]
  },
  {
   "cell_type": "markdown",
   "metadata": {},
   "source": [
    "##### Continous red line correction"
   ]
  },
  {
   "cell_type": "code",
   "execution_count": 13,
   "metadata": {},
   "outputs": [
    {
     "name": "stderr",
     "output_type": "stream",
     "text": [
      "/Users/laila/anaconda/envs/ADA/lib/python3.6/site-packages/pandas/core/indexing.py:179: SettingWithCopyWarning: \n",
      "A value is trying to be set on a copy of a slice from a DataFrame\n",
      "\n",
      "See the caveats in the documentation: http://pandas.pydata.org/pandas-docs/stable/indexing.html#indexing-view-versus-copy\n",
      "  self._setitem_with_indexer(indexer, value)\n"
     ]
    }
   ],
   "source": [
    "modified_column = df_data_2['Total death/s in suspected cases']\n",
    "# Check where there is an drop (we get True values if there is a drop)\n",
    "outlier = modified_column.diff()<0\n",
    "# Get the index/s of the drops\n",
    "outlier = outlier.index[outlier == True].tolist()\n",
    "# We add the drop lenght to all the data that is after the drop\n",
    "for outlier_index in outlier:\n",
    "    correction = modified_column[outlier_index-1] - modified_column[outlier_index]\n",
    "    modified_column.iloc[outlier_index:] = modified_column.iloc[outlier_index:] + correction\n",
    "# Now the continous red line doesn't have any drops"
   ]
  },
  {
   "cell_type": "markdown",
   "metadata": {},
   "source": [
    "#### Deletion of the last data point in the red-dotted curve"
   ]
  },
  {
   "cell_type": "code",
   "execution_count": 14,
   "metadata": {},
   "outputs": [
    {
     "name": "stdout",
     "output_type": "stream",
     "text": [
      "75    NaN\n",
      "76    NaN\n",
      "77    NaN\n",
      "78    NaN\n",
      "79    0.0\n",
      "80    NaN\n",
      "81    NaN\n",
      "82    NaN\n",
      "83    NaN\n",
      "84    NaN\n",
      "85    NaN\n",
      "86    NaN\n",
      "87    NaN\n",
      "88    NaN\n",
      "89    NaN\n",
      "90    NaN\n",
      "91    NaN\n",
      "92    NaN\n",
      "93    NaN\n",
      "94    NaN\n",
      "95    NaN\n",
      "96    NaN\n",
      "97    NaN\n",
      "98    NaN\n",
      "99    NaN\n",
      "Name: Total death/s in probable cases, dtype: float64\n"
     ]
    },
    {
     "name": "stderr",
     "output_type": "stream",
     "text": [
      "/Users/laila/anaconda/envs/ADA/lib/python3.6/site-packages/pandas/core/indexing.py:179: SettingWithCopyWarning: \n",
      "A value is trying to be set on a copy of a slice from a DataFrame\n",
      "\n",
      "See the caveats in the documentation: http://pandas.pydata.org/pandas-docs/stable/indexing.html#indexing-view-versus-copy\n",
      "  self._setitem_with_indexer(indexer, value)\n"
     ]
    }
   ],
   "source": [
    "#Spotting the index of the last data point\n",
    "print(df_data_2['Total death/s in probable cases'].tail(25)) # it's the index 79\n",
    "#Convert it to a NaN value\n",
    "df_data_2['Total death/s in probable cases'].iloc[79] = np.nan"
   ]
  },
  {
   "cell_type": "markdown",
   "metadata": {},
   "source": [
    "#### Plot of the veirfication columns (after cleaning)"
   ]
  },
  {
   "cell_type": "code",
   "execution_count": 15,
   "metadata": {},
   "outputs": [
    {
     "data": {
      "text/plain": [
       "[<matplotlib.lines.Line2D at 0x10ea641d0>]"
      ]
     },
     "execution_count": 15,
     "metadata": {},
     "output_type": "execute_result"
    },
    {
     "data": {
      "image/png": "[encoded data removed]",
      "text/plain": [
       "<matplotlib.figure.Figure at 0x10e796898>"
      ]
     },
     "metadata": {},
     "output_type": "display_data"
    }
   ],
   "source": [
    "plt.figure(figsize = (5,5))\n",
    "plt.title('Cleaned VC')\n",
    "plt.plot(df_data_2['Date'], df_data_2['Total death/s in confirmed cases'], 'r--')\n",
    "plt.plot(df_data_2['Date'], df_data_2['Total death/s in probable cases'], 'ro', markersize = 4)\n",
    "plt.plot(df_data_2['Date'], df_data_2['Total death/s in suspected cases'], 'r')"
   ]
  },
  {
   "cell_type": "markdown",
   "metadata": {},
   "source": [
    "As we can see now the VC data has been cleaned."
   ]
  },
  {
   "cell_type": "markdown",
   "metadata": {},
   "source": [
    "#### Plot of all the data that we will use to compute the calculations + VC"
   ]
  },
  {
   "cell_type": "code",
   "execution_count": 16,
   "metadata": {},
   "outputs": [
    {
     "data": {
      "text/plain": [
       "[<matplotlib.lines.Line2D at 0x10eac19b0>]"
      ]
     },
     "execution_count": 16,
     "metadata": {},
     "output_type": "execute_result"
    },
    {
     "data": {
      "image/png": "[encoded data removed]",
      "text/plain": [
       "<matplotlib.figure.Figure at 0x10e941710>"
      ]
     },
     "metadata": {},
     "output_type": "display_data"
    }
   ],
   "source": [
    "cum_data_deaths = (df_data_2['Total death/s in confirmed cases'] \n",
    "                   + df_data_2['Total death/s in probable cases'] \n",
    "                   + df_data_2['Total death/s in suspected cases'])\n",
    "\n",
    "plt.figure(figsize = (6,6))\n",
    "plt.title('Used columns & sum of VC')\n",
    "plt.plot(df_data_2['Date'], cum_data_deaths, 'ro', markersize = 8)\n",
    "plt.plot(df_data_2['Date'], df_data_2['Total death/s in confirmed, probable, suspected cases'], 'bo', markersize = 4)\n",
    "plt.plot(df_data_2['Date'], df_data_2['Total death/s in confirmed, \\n probable, suspected cases'], 'yo', markersize = 4)"
   ]
  },
  {
   "cell_type": "markdown",
   "metadata": {},
   "source": [
    "We can clearly see why now we used verification columns. We can see that the data that we will use from *\"Total death/s in confirmed, probable, suspected cases\"* (blue) is coherent with the verification columns (red).\n",
    "\n",
    "As we can choose between the blue and red curves because they represent the same, we will be using the blue curve as it has slightly more data.\n",
    "We can also observe that the data from the *\"Total death/s in confirmed, \\n probable, suspected cases\"* column (yellow) completes the data that was missing for the last months of the blue and red curves.\n",
    "\n",
    "As we see we need to clean the outliers of the dotted-yellow curve (second datapoint and datapoint on the top) and also remove the last data points of the blue-dotted curve because it's misleading (the total number of deaths can't decrease and then go up again)."
   ]
  },
  {
   "cell_type": "markdown",
   "metadata": {},
   "source": [
    "#### Cleaning outliers"
   ]
  },
  {
   "cell_type": "markdown",
   "metadata": {},
   "source": [
    "#### Top data point & Second data point (yellow-dotted curve)"
   ]
  },
  {
   "cell_type": "code",
   "execution_count": 17,
   "metadata": {},
   "outputs": [
    {
     "name": "stderr",
     "output_type": "stream",
     "text": [
      "/Users/laila/anaconda/envs/ADA/lib/python3.6/site-packages/pandas/core/indexing.py:179: SettingWithCopyWarning: \n",
      "A value is trying to be set on a copy of a slice from a DataFrame\n",
      "\n",
      "See the caveats in the documentation: http://pandas.pydata.org/pandas-docs/stable/indexing.html#indexing-view-versus-copy\n",
      "  self._setitem_with_indexer(indexer, value)\n"
     ]
    }
   ],
   "source": [
    "# CLEANING THE TOP DATA POINT\n",
    "\n",
    "modified_column = df_data_2['Total death/s in confirmed, \\n probable, suspected cases']\n",
    "# Boolean series from which we will take the index of the outlier\n",
    "outlier = modified_column.diff()<0\n",
    "# Shift values in order to get the correct index\n",
    "outlier = outlier.shift(-1)\n",
    "# Getting the index of the outlier\n",
    "outlier = outlier.index[outlier == True].tolist()\n",
    "# Replacing it with NaN value\n",
    "modified_column.iloc[outlier] = np.nan\n",
    "\n",
    "# CLEANING THE SECOND DATA POINT\n",
    "\n",
    "# Getting the index of the outlier\n",
    "outlier_index = modified_column.iloc[modified_column.first_valid_index()+1:].first_valid_index()\n",
    "# Replacing it with Nan\n",
    "modified_column.iloc[outlier_index] = np.nan"
   ]
  },
  {
   "cell_type": "markdown",
   "metadata": {},
   "source": [
    "#### Clean last incoherent datapoints (blue-dotted line)"
   ]
  },
  {
   "cell_type": "code",
   "execution_count": 18,
   "metadata": {},
   "outputs": [
    {
     "name": "stderr",
     "output_type": "stream",
     "text": [
      "/Users/laila/anaconda/envs/ADA/lib/python3.6/site-packages/pandas/core/indexing.py:179: SettingWithCopyWarning: \n",
      "A value is trying to be set on a copy of a slice from a DataFrame\n",
      "\n",
      "See the caveats in the documentation: http://pandas.pydata.org/pandas-docs/stable/indexing.html#indexing-view-versus-copy\n",
      "  self._setitem_with_indexer(indexer, value)\n"
     ]
    }
   ],
   "source": [
    "modified_column = df_data_2['Total death/s in confirmed, probable, suspected cases']\n",
    "# Boolean series from which we will take the index of the outlier\n",
    "bad_data = modified_column.diff()<0\n",
    "# Get the index of the drop (we get a list because there are 2 drops, although we only see the big one in mid October)\n",
    "outlier = bad_data[bad_data == True].index.tolist()\n",
    "# Replace both outliers with NaN values\n",
    "modified_column.iloc[outlier[0]] = np.nan\n",
    "modified_column.iloc[outlier[1]-1:] = np.nan"
   ]
  },
  {
   "cell_type": "markdown",
   "metadata": {},
   "source": [
    "#### Plot of all the data that we will use to compute the calculations + verification columns (after cleaning)"
   ]
  },
  {
   "cell_type": "code",
   "execution_count": 19,
   "metadata": {},
   "outputs": [
    {
     "data": {
      "text/plain": [
       "[<matplotlib.lines.Line2D at 0x10ecbcc88>]"
      ]
     },
     "execution_count": 19,
     "metadata": {},
     "output_type": "execute_result"
    },
    {
     "data": {
      "image/png": "[encoded data removed]",
      "text/plain": [
       "<matplotlib.figure.Figure at 0x10ebd1320>"
      ]
     },
     "metadata": {},
     "output_type": "display_data"
    }
   ],
   "source": [
    "cum_data_deaths = (df_data_2['Total death/s in confirmed cases'] \n",
    "                   + df_data_2['Total death/s in probable cases'] \n",
    "                   + df_data_2['Total death/s in suspected cases'])\n",
    "\n",
    "plt.figure(figsize = (6,6))\n",
    "plt.title('Used columns & sum of VC (cleaned)')\n",
    "plt.plot(df_data_2['Date'], cum_data_deaths, 'ro', markersize = 8)\n",
    "plt.plot(df_data_2['Date'], df_data_2['Total death/s in confirmed, probable, suspected cases'], 'bo', markersize = 4)\n",
    "plt.plot(df_data_2['Date'], df_data_2['Total death/s in confirmed, \\n probable, suspected cases'], 'yo', markersize = 4)"
   ]
  },
  {
   "cell_type": "markdown",
   "metadata": {},
   "source": [
    "We see that the data has been cleaned. \n",
    "\n",
    "The final step will be to append the yellow line to the blue line and create the final dataframe with the deaths and new cases data from Liberia."
   ]
  },
  {
   "cell_type": "markdown",
   "metadata": {},
   "source": [
    "#### Liberia dataframe"
   ]
  },
  {
   "cell_type": "code",
   "execution_count": 20,
   "metadata": {},
   "outputs": [],
   "source": [
    "# Merge the two columns\n",
    "deaths = df_data_2['Total death/s in confirmed, probable, suspected cases'].add( \\\n",
    "                                df_data_2['Total death/s in confirmed, \\n probable, suspected cases'], fill_value =  0.)\n",
    "# Column for the new cases\n",
    "new_cases = cum_data_new_cases\n",
    "\n",
    "# Create the final Liberia df\n",
    "df_liberia = pd.DataFrame({'Date': liberia_data.Date, \n",
    "                           'Deaths': deaths, \n",
    "                           'Cases': new_cases, \n",
    "                           'Year': liberia_data.Year,\n",
    "                           'Country': liberia_data.Country,\n",
    "                           'Month': liberia_data.Month})"
   ]
  },
  {
   "cell_type": "markdown",
   "metadata": {},
   "source": [
    "#### Final Clean Liberia"
   ]
  },
  {
   "cell_type": "code",
   "execution_count": 21,
   "metadata": {},
   "outputs": [
    {
     "name": "stderr",
     "output_type": "stream",
     "text": [
      "/Users/laila/anaconda/envs/ADA/lib/python3.6/site-packages/pandas/core/indexing.py:179: SettingWithCopyWarning: \n",
      "A value is trying to be set on a copy of a slice from a DataFrame\n",
      "\n",
      "See the caveats in the documentation: http://pandas.pydata.org/pandas-docs/stable/indexing.html#indexing-view-versus-copy\n",
      "  self._setitem_with_indexer(indexer, value)\n"
     ]
    },
    {
     "data": {
      "image/png": "[encoded data removed]",
      "text/plain": [
       "<matplotlib.figure.Figure at 0x10ea86ef0>"
      ]
     },
     "metadata": {},
     "output_type": "display_data"
    },
    {
     "data": {
      "text/html": [
       "<div>\n",
       "<style>\n",
       "    .dataframe thead tr:only-child th {\n",
       "        text-align: right;\n",
       "    }\n",
       "\n",
       "    .dataframe thead th {\n",
       "        text-align: left;\n",
       "    }\n",
       "\n",
       "    .dataframe tbody tr th {\n",
       "        vertical-align: top;\n",
       "    }\n",
       "</style>\n",
       "<table border=\"1\" class=\"dataframe\">\n",
       "  <thead>\n",
       "    <tr style=\"text-align: right;\">\n",
       "      <th></th>\n",
       "      <th></th>\n",
       "      <th>Days since</th>\n",
       "      <th>Month</th>\n",
       "      <th>Year</th>\n",
       "      <th>Deaths</th>\n",
       "      <th>Cases</th>\n",
       "    </tr>\n",
       "    <tr>\n",
       "      <th>Date</th>\n",
       "      <th>Country</th>\n",
       "      <th></th>\n",
       "      <th></th>\n",
       "      <th></th>\n",
       "      <th></th>\n",
       "      <th></th>\n",
       "    </tr>\n",
       "  </thead>\n",
       "  <tbody>\n",
       "    <tr>\n",
       "      <th>2014-06-16</th>\n",
       "      <th>liberia</th>\n",
       "      <td>0</td>\n",
       "      <td>6</td>\n",
       "      <td>2014</td>\n",
       "      <td>16.0</td>\n",
       "      <td>4</td>\n",
       "    </tr>\n",
       "    <tr>\n",
       "      <th>2014-06-17</th>\n",
       "      <th>liberia</th>\n",
       "      <td>1</td>\n",
       "      <td>6</td>\n",
       "      <td>2014</td>\n",
       "      <td>16.0</td>\n",
       "      <td>6</td>\n",
       "    </tr>\n",
       "    <tr>\n",
       "      <th>2014-06-18</th>\n",
       "      <th>liberia</th>\n",
       "      <td>2</td>\n",
       "      <td>6</td>\n",
       "      <td>2014</td>\n",
       "      <td>17.8</td>\n",
       "      <td>8</td>\n",
       "    </tr>\n",
       "    <tr>\n",
       "      <th>2014-06-19</th>\n",
       "      <th>liberia</th>\n",
       "      <td>3</td>\n",
       "      <td>6</td>\n",
       "      <td>2014</td>\n",
       "      <td>19.6</td>\n",
       "      <td>10</td>\n",
       "    </tr>\n",
       "    <tr>\n",
       "      <th>2014-06-20</th>\n",
       "      <th>liberia</th>\n",
       "      <td>4</td>\n",
       "      <td>6</td>\n",
       "      <td>2014</td>\n",
       "      <td>21.4</td>\n",
       "      <td>12</td>\n",
       "    </tr>\n",
       "  </tbody>\n",
       "</table>\n",
       "</div>"
      ],
      "text/plain": [
       "                    Days since  Month  Year  Deaths Cases\n",
       "Date       Country                                       \n",
       "2014-06-16 liberia           0      6  2014    16.0     4\n",
       "2014-06-17 liberia           1      6  2014    16.0     6\n",
       "2014-06-18 liberia           2      6  2014    17.8     8\n",
       "2014-06-19 liberia           3      6  2014    19.6    10\n",
       "2014-06-20 liberia           4      6  2014    21.4    12"
      ]
     },
     "execution_count": 21,
     "metadata": {},
     "output_type": "execute_result"
    }
   ],
   "source": [
    "clean_liberia = clean_and_interpolate(df_liberia, k = 1)\n",
    "clean_liberia.set_index(['Date','Country'], inplace = True)\n",
    "clean_liberia.head()"
   ]
  },
  {
   "cell_type": "markdown",
   "metadata": {},
   "source": [
    "### Guinea Dataset"
   ]
  },
  {
   "cell_type": "code",
   "execution_count": 22,
   "metadata": {},
   "outputs": [
    {
     "data": {
      "text/html": [
       "<div>\n",
       "<style>\n",
       "    .dataframe thead tr:only-child th {\n",
       "        text-align: right;\n",
       "    }\n",
       "\n",
       "    .dataframe thead th {\n",
       "        text-align: left;\n",
       "    }\n",
       "\n",
       "    .dataframe tbody tr th {\n",
       "        vertical-align: top;\n",
       "    }\n",
       "</style>\n",
       "<table border=\"1\" class=\"dataframe\">\n",
       "  <thead>\n",
       "    <tr style=\"text-align: right;\">\n",
       "      <th></th>\n",
       "      <th>Country</th>\n",
       "      <th>Date</th>\n",
       "      <th>New cases of confirmed</th>\n",
       "      <th>New cases of probables</th>\n",
       "      <th>New cases of suspects</th>\n",
       "      <th>Total cases of confirmed</th>\n",
       "      <th>Total cases of probables</th>\n",
       "      <th>Total cases of suspects</th>\n",
       "      <th>Total deaths (confirmed + probables + suspects)</th>\n",
       "      <th>Total deaths of confirmed</th>\n",
       "      <th>...</th>\n",
       "      <th>Total new cases registered so far</th>\n",
       "      <th>New cases of confirmed among health workers</th>\n",
       "      <th>New deaths registered</th>\n",
       "      <th>New deaths registered among health workers</th>\n",
       "      <th>Total case of confirmed among health workers</th>\n",
       "      <th>Total deaths registered among health workers</th>\n",
       "      <th>Total number of hospitalized cases in CTE</th>\n",
       "      <th>Total suspected non-class cases</th>\n",
       "      <th>Month</th>\n",
       "      <th>Year</th>\n",
       "    </tr>\n",
       "  </thead>\n",
       "  <tbody>\n",
       "    <tr>\n",
       "      <th>0</th>\n",
       "      <td>guinea</td>\n",
       "      <td>2014-08-04</td>\n",
       "      <td>4.0</td>\n",
       "      <td>0.0</td>\n",
       "      <td>5.0</td>\n",
       "      <td>351.0</td>\n",
       "      <td>133.0</td>\n",
       "      <td>11.0</td>\n",
       "      <td>363.0</td>\n",
       "      <td>228.0</td>\n",
       "      <td>...</td>\n",
       "      <td>9.0</td>\n",
       "      <td>NaN</td>\n",
       "      <td>NaN</td>\n",
       "      <td>NaN</td>\n",
       "      <td>NaN</td>\n",
       "      <td>NaN</td>\n",
       "      <td>NaN</td>\n",
       "      <td>NaN</td>\n",
       "      <td>8</td>\n",
       "      <td>2014</td>\n",
       "    </tr>\n",
       "    <tr>\n",
       "      <th>1</th>\n",
       "      <td>guinea</td>\n",
       "      <td>2014-08-26</td>\n",
       "      <td>10.0</td>\n",
       "      <td>NaN</td>\n",
       "      <td>18.0</td>\n",
       "      <td>490.0</td>\n",
       "      <td>141.0</td>\n",
       "      <td>30.0</td>\n",
       "      <td>958.0</td>\n",
       "      <td>292.0</td>\n",
       "      <td>...</td>\n",
       "      <td>28.0</td>\n",
       "      <td>0.0</td>\n",
       "      <td>5.0</td>\n",
       "      <td>0.0</td>\n",
       "      <td>45.0</td>\n",
       "      <td>26.0</td>\n",
       "      <td>87.0</td>\n",
       "      <td>518.0</td>\n",
       "      <td>8</td>\n",
       "      <td>2014</td>\n",
       "    </tr>\n",
       "    <tr>\n",
       "      <th>2</th>\n",
       "      <td>guinea</td>\n",
       "      <td>2014-08-27</td>\n",
       "      <td>10.0</td>\n",
       "      <td>0.0</td>\n",
       "      <td>12.0</td>\n",
       "      <td>499.0</td>\n",
       "      <td>142.0</td>\n",
       "      <td>22.0</td>\n",
       "      <td>438.0</td>\n",
       "      <td>294.0</td>\n",
       "      <td>...</td>\n",
       "      <td>22.0</td>\n",
       "      <td>0.0</td>\n",
       "      <td>2.0</td>\n",
       "      <td>0.0</td>\n",
       "      <td>45.0</td>\n",
       "      <td>26.0</td>\n",
       "      <td>80.0</td>\n",
       "      <td>518.0</td>\n",
       "      <td>8</td>\n",
       "      <td>2014</td>\n",
       "    </tr>\n",
       "    <tr>\n",
       "      <th>3</th>\n",
       "      <td>guinea</td>\n",
       "      <td>2014-08-30</td>\n",
       "      <td>9.0</td>\n",
       "      <td>0.0</td>\n",
       "      <td>15.0</td>\n",
       "      <td>533.0</td>\n",
       "      <td>142.0</td>\n",
       "      <td>32.0</td>\n",
       "      <td>468.0</td>\n",
       "      <td>324.0</td>\n",
       "      <td>...</td>\n",
       "      <td>24.0</td>\n",
       "      <td>0.0</td>\n",
       "      <td>5.0</td>\n",
       "      <td>0.0</td>\n",
       "      <td>50.0</td>\n",
       "      <td>26.0</td>\n",
       "      <td>82.0</td>\n",
       "      <td>560.0</td>\n",
       "      <td>8</td>\n",
       "      <td>2014</td>\n",
       "    </tr>\n",
       "    <tr>\n",
       "      <th>4</th>\n",
       "      <td>guinea</td>\n",
       "      <td>2014-08-31</td>\n",
       "      <td>29.0</td>\n",
       "      <td>8.0</td>\n",
       "      <td>9.0</td>\n",
       "      <td>563.0</td>\n",
       "      <td>150.0</td>\n",
       "      <td>36.0</td>\n",
       "      <td>489.0</td>\n",
       "      <td>337.0</td>\n",
       "      <td>...</td>\n",
       "      <td>46.0</td>\n",
       "      <td>0.0</td>\n",
       "      <td>3.0</td>\n",
       "      <td>0.0</td>\n",
       "      <td>50.0</td>\n",
       "      <td>26.0</td>\n",
       "      <td>99.0</td>\n",
       "      <td>642.0</td>\n",
       "      <td>8</td>\n",
       "      <td>2014</td>\n",
       "    </tr>\n",
       "  </tbody>\n",
       "</table>\n",
       "<p>5 rows × 22 columns</p>\n",
       "</div>"
      ],
      "text/plain": [
       "  Country       Date  New cases of confirmed  New cases of probables  \\\n",
       "0  guinea 2014-08-04                     4.0                     0.0   \n",
       "1  guinea 2014-08-26                    10.0                     NaN   \n",
       "2  guinea 2014-08-27                    10.0                     0.0   \n",
       "3  guinea 2014-08-30                     9.0                     0.0   \n",
       "4  guinea 2014-08-31                    29.0                     8.0   \n",
       "\n",
       "   New cases of suspects  Total cases of confirmed  Total cases of probables  \\\n",
       "0                    5.0                     351.0                     133.0   \n",
       "1                   18.0                     490.0                     141.0   \n",
       "2                   12.0                     499.0                     142.0   \n",
       "3                   15.0                     533.0                     142.0   \n",
       "4                    9.0                     563.0                     150.0   \n",
       "\n",
       "   Total cases of suspects  Total deaths (confirmed + probables + suspects)  \\\n",
       "0                     11.0                                            363.0   \n",
       "1                     30.0                                            958.0   \n",
       "2                     22.0                                            438.0   \n",
       "3                     32.0                                            468.0   \n",
       "4                     36.0                                            489.0   \n",
       "\n",
       "   Total deaths of confirmed  ...   Total new cases registered so far  \\\n",
       "0                      228.0  ...                                 9.0   \n",
       "1                      292.0  ...                                28.0   \n",
       "2                      294.0  ...                                22.0   \n",
       "3                      324.0  ...                                24.0   \n",
       "4                      337.0  ...                                46.0   \n",
       "\n",
       "   New cases of confirmed among health workers  New deaths registered  \\\n",
       "0                                          NaN                    NaN   \n",
       "1                                          0.0                    5.0   \n",
       "2                                          0.0                    2.0   \n",
       "3                                          0.0                    5.0   \n",
       "4                                          0.0                    3.0   \n",
       "\n",
       "   New deaths registered among health workers  \\\n",
       "0                                         NaN   \n",
       "1                                         0.0   \n",
       "2                                         0.0   \n",
       "3                                         0.0   \n",
       "4                                         0.0   \n",
       "\n",
       "   Total case of confirmed among health workers  \\\n",
       "0                                           NaN   \n",
       "1                                          45.0   \n",
       "2                                          45.0   \n",
       "3                                          50.0   \n",
       "4                                          50.0   \n",
       "\n",
       "   Total deaths registered among health workers  \\\n",
       "0                                           NaN   \n",
       "1                                          26.0   \n",
       "2                                          26.0   \n",
       "3                                          26.0   \n",
       "4                                          26.0   \n",
       "\n",
       "   Total number of hospitalized cases in CTE  Total suspected non-class cases  \\\n",
       "0                                        NaN                              NaN   \n",
       "1                                       87.0                            518.0   \n",
       "2                                       80.0                            518.0   \n",
       "3                                       82.0                            560.0   \n",
       "4                                       99.0                            642.0   \n",
       "\n",
       "   Month  Year  \n",
       "0      8  2014  \n",
       "1      8  2014  \n",
       "2      8  2014  \n",
       "3      8  2014  \n",
       "4      8  2014  \n",
       "\n",
       "[5 rows x 22 columns]"
      ]
     },
     "execution_count": 22,
     "metadata": {},
     "output_type": "execute_result"
    }
   ],
   "source": [
    "guinea_data = load_csv_files_into_dataframe(DATA_FOLDER_ebola,'guinea')\n",
    "guinea_data.dropna(thresh = (len(guinea_data)//2), axis = 1, inplace = True)\n",
    "guinea_data.head()"
   ]
  },
  {
   "cell_type": "markdown",
   "metadata": {},
   "source": [
    "#### Selecting the Most Relevant Columns For \"Cases\""
   ]
  },
  {
   "cell_type": "code",
   "execution_count": 23,
   "metadata": {},
   "outputs": [
    {
     "data": {
      "text/plain": [
       "<matplotlib.text.Text at 0x10f721a90>"
      ]
     },
     "execution_count": 23,
     "metadata": {},
     "output_type": "execute_result"
    },
    {
     "data": {
      "image/png": "[encoded data removed]",
      "text/plain": [
       "<matplotlib.figure.Figure at 0x10f2ca390>"
      ]
     },
     "metadata": {},
     "output_type": "display_data"
    }
   ],
   "source": [
    "plt.figure(figsize = (20,20))\n",
    "plt.subplot(421)\n",
    "plt.plot(np.array(guinea_data['Date']), guinea_data['New cases of confirmed'].cumsum(), 'b') \n",
    "plt.plot(np.array(guinea_data['Date']), guinea_data['New cases of confirmed'].cumsum() + guinea_data['Total cases of confirmed'][0], '--b') \n",
    "plt.plot(np.array(guinea_data['Date']), guinea_data['Total cases of confirmed'], 'y') \n",
    "plt.title('Confirmed Cases')\n",
    "plt.subplot(422)\n",
    "plt.plot(np.array(guinea_data['Date']), guinea_data['New cases of probables'].cumsum(), 'b')\n",
    "plt.plot(np.array(guinea_data['Date']), guinea_data['New cases of probables'].cumsum() + guinea_data['Total cases of probables'][0], '--b')\n",
    "plt.plot(np.array(guinea_data['Date']), guinea_data['Total cases of probables'], 'y') \n",
    "plt.title('Probable Cases')\n",
    "plt.subplot(423)\n",
    "plt.plot(np.array(guinea_data['Date']), guinea_data['New cases of suspects'].cumsum(), 'b') \n",
    "plt.plot(np.array(guinea_data['Date']), guinea_data['New cases of suspects'].cumsum() +guinea_data['Total cases of suspects'][0], '--b') \n",
    "plt.plot(np.array(guinea_data['Date']), guinea_data['Total cases of suspects'], 'y') \n",
    "plt.title('Suspected Cases')\n",
    "plt.subplot(424)\n",
    "computed_cumsum = guinea_data['New cases of confirmed'].cumsum() + guinea_data['Total cases of confirmed'][0] + guinea_data['New cases of probables'].cumsum() + guinea_data['Total cases of probables'][0] + guinea_data['New cases of suspects'].cumsum() +guinea_data['Total cases of suspects'][0]\n",
    "given_cumsum = guinea_data['Total cases of confirmed'] +guinea_data['Total cases of probables'] +guinea_data['Total cases of suspects']\n",
    "plt.plot(guinea_data['Date'], computed_cumsum , 'b') \n",
    "plt.plot(guinea_data['Date'], given_cumsum, 'y') \n",
    "plt.plot(guinea_data['Date'], guinea_data['Total new cases registered so far'].cumsum() + computed_cumsum[0]  , '--r')\n",
    "plt.plot(guinea_data['Date'], guinea_data['Total new cases registered so far'].cumsum(), 'r')\n",
    "plt.title('Sum Of All Cases')"
   ]
  },
  {
   "cell_type": "markdown",
   "metadata": {},
   "source": [
    "The yellow curves represent the cumulative data which was already provided. The blue curves represent the computation of the cumulative data from the daily incidents. The information is then shifted (dashed curves) based on the initial value of the cumulative data provided to take into account previous cases which were recoreded but not provided in the table. In the final plot (Sum of All Cases) we compare the sum of computed cumulative, the sum of the provided cumulative and the provided Total which we cumulated to obtain the plot. We noticed that the red curve followed the exact same trend as the blue curve. Shifting the curve up by the previous values (here from the sum of the provided cumulative data) we obtain a curve (dashed red) which corresponds exactly to what was computed. Therefore we assume that the red dashed line gives a correct estimation of the cases for Guinea. \n",
    "\n",
    "The issue with this is that there might redundancies between the probably, suspected and cumulative cases. There is no way of knowing how many probable or suspected cases are confirmed later on. The values we obtain are an upper limit of the total number of actual cases. The lower limit would only be given by the confirmed cases. "
   ]
  },
  {
   "cell_type": "code",
   "execution_count": 24,
   "metadata": {},
   "outputs": [],
   "source": [
    "# Total of all cases\n",
    "guinea_data['Cases'] = guinea_data['Total new cases registered so far'].cumsum() + computed_cumsum[0]"
   ]
  },
  {
   "cell_type": "markdown",
   "metadata": {},
   "source": [
    "#### Selecting the Most Relevant Columns For \"Deaths\""
   ]
  },
  {
   "cell_type": "code",
   "execution_count": 25,
   "metadata": {
    "scrolled": false
   },
   "outputs": [
    {
     "data": {
      "text/plain": [
       "[<matplotlib.lines.Line2D at 0x11008bfd0>]"
      ]
     },
     "execution_count": 25,
     "metadata": {},
     "output_type": "execute_result"
    },
    {
     "data": {
      "image/png": "[encoded data removed]",
      "text/plain": [
       "<matplotlib.figure.Figure at 0x10f301128>"
      ]
     },
     "metadata": {},
     "output_type": "display_data"
    }
   ],
   "source": [
    "plt.figure(figsize = (10,5))\n",
    "plt.plot(np.array(guinea_data['Date']), guinea_data['Total deaths of confirmed'], '--b') \n",
    "plt.plot(np.array(guinea_data['Date']), guinea_data['Total deaths of probables'], '--g') \n",
    "plt.plot(np.array(guinea_data['Date']), guinea_data['Total deaths of suspects'], '--y') \n",
    "plt.plot(np.array(guinea_data['Date']), guinea_data['Total deaths of suspects']+guinea_data['Total deaths of probables'] +guinea_data['Total deaths of confirmed'], '--r') \n",
    "plt.plot(np.array(guinea_data['Date']), guinea_data['Total deaths (confirmed + probables + suspects)'], 'or') "
   ]
  },
  {
   "cell_type": "markdown",
   "metadata": {},
   "source": [
    "The Total deaths provided is represented by the points in red. The computed total deaths is given by the dashed red curve (sum of the blue, green and yellow curves). The trend is quite similar at the start except for an outlyer in the provided total deaths. The compted total however seems to diverge strangely at the end. That is why we decided to keep the provided totals all the while replacing the outlyer around 2014-08-28 by the value computed in the sum.\n",
    "\n",
    "Here the suspected cases are always equal to zero in the region of interest. The probable cases do not vary which is why we can assume that there no redundancy between this category and the confirmed deaths. Therefore the deaths can be given by the 'Total deaths (confirmed + probables + suspects)' column to which the suss-mentioned cleaning process will be applied."
   ]
  },
  {
   "cell_type": "code",
   "execution_count": 26,
   "metadata": {},
   "outputs": [
    {
     "name": "stderr",
     "output_type": "stream",
     "text": [
      "/Users/laila/anaconda/envs/ADA/lib/python3.6/site-packages/pandas/core/indexing.py:179: SettingWithCopyWarning: \n",
      "A value is trying to be set on a copy of a slice from a DataFrame\n",
      "\n",
      "See the caveats in the documentation: http://pandas.pydata.org/pandas-docs/stable/indexing.html#indexing-view-versus-copy\n",
      "  self._setitem_with_indexer(indexer, value)\n"
     ]
    }
   ],
   "source": [
    "guinea_data['Deaths'] = guinea_data['Total deaths (confirmed + probables + suspects)']\n",
    "guinea_data['Totals'] = guinea_data['Total deaths of suspects']+guinea_data['Total deaths of probables'] +guinea_data['Total deaths of confirmed']\n",
    "# Get the index of the outlyer\n",
    "outlyer = guinea_data.Deaths.diff()<0\n",
    "# Shift the index so that it corresponds to the problematic element\n",
    "outlyer = outlyer.shift(-1)\n",
    "outlyer = outlyer.index[outlyer == True].tolist()\n",
    "# Replace the outlyer by none in the table\n",
    "guinea_data['Deaths'].iloc[outlyer] = guinea_data['Totals'].iloc[outlyer]\n"
   ]
  },
  {
   "cell_type": "markdown",
   "metadata": {},
   "source": [
    "#### Final Clean Data For Guinea"
   ]
  },
  {
   "cell_type": "code",
   "execution_count": 27,
   "metadata": {},
   "outputs": [
    {
     "name": "stderr",
     "output_type": "stream",
     "text": [
      "/Users/laila/anaconda/envs/ADA/lib/python3.6/site-packages/pandas/core/indexing.py:179: SettingWithCopyWarning: \n",
      "A value is trying to be set on a copy of a slice from a DataFrame\n",
      "\n",
      "See the caveats in the documentation: http://pandas.pydata.org/pandas-docs/stable/indexing.html#indexing-view-versus-copy\n",
      "  self._setitem_with_indexer(indexer, value)\n"
     ]
    },
    {
     "data": {
      "image/png": "[encoded data removed]",
      "text/plain": [
       "<matplotlib.figure.Figure at 0x10f61e1d0>"
      ]
     },
     "metadata": {},
     "output_type": "display_data"
    },
    {
     "data": {
      "text/html": [
       "<div>\n",
       "<style>\n",
       "    .dataframe thead tr:only-child th {\n",
       "        text-align: right;\n",
       "    }\n",
       "\n",
       "    .dataframe thead th {\n",
       "        text-align: left;\n",
       "    }\n",
       "\n",
       "    .dataframe tbody tr th {\n",
       "        vertical-align: top;\n",
       "    }\n",
       "</style>\n",
       "<table border=\"1\" class=\"dataframe\">\n",
       "  <thead>\n",
       "    <tr style=\"text-align: right;\">\n",
       "      <th></th>\n",
       "      <th></th>\n",
       "      <th>Days since</th>\n",
       "      <th>Month</th>\n",
       "      <th>Year</th>\n",
       "      <th>Deaths</th>\n",
       "      <th>Cases</th>\n",
       "    </tr>\n",
       "    <tr>\n",
       "      <th>Date</th>\n",
       "      <th>Country</th>\n",
       "      <th></th>\n",
       "      <th></th>\n",
       "      <th></th>\n",
       "      <th></th>\n",
       "      <th></th>\n",
       "    </tr>\n",
       "  </thead>\n",
       "  <tbody>\n",
       "    <tr>\n",
       "      <th>2014-08-04</th>\n",
       "      <th>guinea</th>\n",
       "      <td>0</td>\n",
       "      <td>8</td>\n",
       "      <td>2014</td>\n",
       "      <td>363.000000</td>\n",
       "      <td>513.000000</td>\n",
       "    </tr>\n",
       "    <tr>\n",
       "      <th>2014-08-05</th>\n",
       "      <th>guinea</th>\n",
       "      <td>1</td>\n",
       "      <td>8</td>\n",
       "      <td>2014</td>\n",
       "      <td>366.272727</td>\n",
       "      <td>514.272727</td>\n",
       "    </tr>\n",
       "    <tr>\n",
       "      <th>2014-08-06</th>\n",
       "      <th>guinea</th>\n",
       "      <td>2</td>\n",
       "      <td>8</td>\n",
       "      <td>2014</td>\n",
       "      <td>369.545455</td>\n",
       "      <td>515.545455</td>\n",
       "    </tr>\n",
       "    <tr>\n",
       "      <th>2014-08-07</th>\n",
       "      <th>guinea</th>\n",
       "      <td>3</td>\n",
       "      <td>8</td>\n",
       "      <td>2014</td>\n",
       "      <td>372.818182</td>\n",
       "      <td>516.818182</td>\n",
       "    </tr>\n",
       "    <tr>\n",
       "      <th>2014-08-08</th>\n",
       "      <th>guinea</th>\n",
       "      <td>4</td>\n",
       "      <td>8</td>\n",
       "      <td>2014</td>\n",
       "      <td>376.090909</td>\n",
       "      <td>518.090909</td>\n",
       "    </tr>\n",
       "  </tbody>\n",
       "</table>\n",
       "</div>"
      ],
      "text/plain": [
       "                    Days since  Month  Year      Deaths       Cases\n",
       "Date       Country                                                 \n",
       "2014-08-04 guinea            0      8  2014  363.000000  513.000000\n",
       "2014-08-05 guinea            1      8  2014  366.272727  514.272727\n",
       "2014-08-06 guinea            2      8  2014  369.545455  515.545455\n",
       "2014-08-07 guinea            3      8  2014  372.818182  516.818182\n",
       "2014-08-08 guinea            4      8  2014  376.090909  518.090909"
      ]
     },
     "execution_count": 27,
     "metadata": {},
     "output_type": "execute_result"
    }
   ],
   "source": [
    "clean_guinea = clean_and_interpolate(guinea_data)\n",
    "clean_guinea.set_index(['Date','Country'], inplace = True)\n",
    "clean_guinea.head()"
   ]
  },
  {
   "cell_type": "markdown",
   "metadata": {},
   "source": [
    "### Sierra Leone Dataset"
   ]
  },
  {
   "cell_type": "code",
   "execution_count": 28,
   "metadata": {},
   "outputs": [
    {
     "data": {
      "text/html": [
       "<div>\n",
       "<style>\n",
       "    .dataframe thead tr:only-child th {\n",
       "        text-align: right;\n",
       "    }\n",
       "\n",
       "    .dataframe thead th {\n",
       "        text-align: left;\n",
       "    }\n",
       "\n",
       "    .dataframe tbody tr th {\n",
       "        vertical-align: top;\n",
       "    }\n",
       "</style>\n",
       "<table border=\"1\" class=\"dataframe\">\n",
       "  <thead>\n",
       "    <tr style=\"text-align: right;\">\n",
       "      <th></th>\n",
       "      <th>Country</th>\n",
       "      <th>Date</th>\n",
       "      <th>cum_noncase</th>\n",
       "      <th>death_confirmed</th>\n",
       "      <th>death_probable</th>\n",
       "      <th>death_suspected</th>\n",
       "      <th>new_noncase</th>\n",
       "      <th>Month</th>\n",
       "      <th>Year</th>\n",
       "    </tr>\n",
       "  </thead>\n",
       "  <tbody>\n",
       "    <tr>\n",
       "      <th>0</th>\n",
       "      <td>sl</td>\n",
       "      <td>2014-08-12</td>\n",
       "      <td>657.0</td>\n",
       "      <td>264.0</td>\n",
       "      <td>34.0</td>\n",
       "      <td>5.0</td>\n",
       "      <td>4.0</td>\n",
       "      <td>8</td>\n",
       "      <td>2014</td>\n",
       "    </tr>\n",
       "    <tr>\n",
       "      <th>1</th>\n",
       "      <td>sl</td>\n",
       "      <td>2014-08-13</td>\n",
       "      <td>680.0</td>\n",
       "      <td>273.0</td>\n",
       "      <td>34.0</td>\n",
       "      <td>5.0</td>\n",
       "      <td>13.0</td>\n",
       "      <td>8</td>\n",
       "      <td>2014</td>\n",
       "    </tr>\n",
       "    <tr>\n",
       "      <th>2</th>\n",
       "      <td>sl</td>\n",
       "      <td>2014-08-14</td>\n",
       "      <td>708.0</td>\n",
       "      <td>280.0</td>\n",
       "      <td>34.0</td>\n",
       "      <td>5.0</td>\n",
       "      <td>26.0</td>\n",
       "      <td>8</td>\n",
       "      <td>2014</td>\n",
       "    </tr>\n",
       "    <tr>\n",
       "      <th>3</th>\n",
       "      <td>sl</td>\n",
       "      <td>2014-08-15</td>\n",
       "      <td>726.0</td>\n",
       "      <td>287.0</td>\n",
       "      <td>34.0</td>\n",
       "      <td>5.0</td>\n",
       "      <td>15.0</td>\n",
       "      <td>8</td>\n",
       "      <td>2014</td>\n",
       "    </tr>\n",
       "    <tr>\n",
       "      <th>4</th>\n",
       "      <td>sl</td>\n",
       "      <td>2014-08-16</td>\n",
       "      <td>741.0</td>\n",
       "      <td>297.0</td>\n",
       "      <td>34.0</td>\n",
       "      <td>5.0</td>\n",
       "      <td>9.0</td>\n",
       "      <td>8</td>\n",
       "      <td>2014</td>\n",
       "    </tr>\n",
       "  </tbody>\n",
       "</table>\n",
       "</div>"
      ],
      "text/plain": [
       "  Country       Date  cum_noncase  death_confirmed  death_probable  \\\n",
       "0      sl 2014-08-12        657.0            264.0            34.0   \n",
       "1      sl 2014-08-13        680.0            273.0            34.0   \n",
       "2      sl 2014-08-14        708.0            280.0            34.0   \n",
       "3      sl 2014-08-15        726.0            287.0            34.0   \n",
       "4      sl 2014-08-16        741.0            297.0            34.0   \n",
       "\n",
       "   death_suspected  new_noncase  Month  Year  \n",
       "0              5.0          4.0      8  2014  \n",
       "1              5.0         13.0      8  2014  \n",
       "2              5.0         26.0      8  2014  \n",
       "3              5.0         15.0      8  2014  \n",
       "4              5.0          9.0      8  2014  "
      ]
     },
     "execution_count": 28,
     "metadata": {},
     "output_type": "execute_result"
    }
   ],
   "source": [
    "sl_data = load_csv_files_into_dataframe(DATA_FOLDER_ebola,'sl')\n",
    "\n",
    "# Clean the data : replace commas for numbers with points and convert back to float\n",
    "sl_data.cum_noncase = sl_data.cum_noncase.astype(str)\n",
    "sl_data.cum_noncase = sl_data.cum_noncase.apply(str.replace, args = (',', ''))\n",
    "sl_data.cum_noncase = sl_data.cum_noncase.astype(float)\n",
    "sl_data.new_noncase = sl_data.new_noncase.astype(float)\n",
    "\n",
    "# remove columns with over half of the values which are NAN\n",
    "sl_data.dropna(thresh = (len(sl_data)//2), axis = 1, inplace = True)\n",
    "sl_data.head()"
   ]
  },
  {
   "cell_type": "markdown",
   "metadata": {},
   "source": [
    "#### Selecting the Most Relevant Columns For \"Cases\""
   ]
  },
  {
   "cell_type": "code",
   "execution_count": 29,
   "metadata": {},
   "outputs": [
    {
     "data": {
      "text/plain": [
       "[<matplotlib.lines.Line2D at 0x10ede1b70>]"
      ]
     },
     "execution_count": 29,
     "metadata": {},
     "output_type": "execute_result"
    },
    {
     "data": {
      "image/png": "[encoded data removed]",
      "text/plain": [
       "<matplotlib.figure.Figure at 0x10f2fd080>"
      ]
     },
     "metadata": {},
     "output_type": "display_data"
    }
   ],
   "source": [
    "plt.figure(figsize = (10,5))\n",
    "plt.plot(sl_data['Date'], sl_data['cum_noncase'], 'y')\n",
    "plt.plot(sl_data['Date'], sl_data['new_noncase'].cumsum(), 'b')\n",
    "plt.plot(sl_data['Date'], sl_data['new_noncase'].cumsum() +  sl_data['cum_noncase'][0], '--b')"
   ]
  },
  {
   "cell_type": "markdown",
   "metadata": {},
   "source": [
    "Following the reasoning as previously the most coherent data for the new cases would be to keep the cumulative sum computed after shifting it to take into account previous values. "
   ]
  },
  {
   "cell_type": "code",
   "execution_count": 30,
   "metadata": {},
   "outputs": [],
   "source": [
    "sl_data['Cases'] = sl_data['new_noncase'].cumsum() +  sl_data['cum_noncase'][0]"
   ]
  },
  {
   "cell_type": "markdown",
   "metadata": {},
   "source": [
    "#### Selecting the Most Relevant Columns For \"Deaths\""
   ]
  },
  {
   "cell_type": "code",
   "execution_count": 31,
   "metadata": {},
   "outputs": [
    {
     "data": {
      "text/plain": [
       "[<matplotlib.lines.Line2D at 0x110353f98>]"
      ]
     },
     "execution_count": 31,
     "metadata": {},
     "output_type": "execute_result"
    },
    {
     "data": {
      "image/png": "[encoded data removed]",
      "text/plain": [
       "<matplotlib.figure.Figure at 0x110223a20>"
      ]
     },
     "metadata": {},
     "output_type": "display_data"
    }
   ],
   "source": [
    "plt.figure(figsize = (10,5))\n",
    "plt.plot(sl_data['Date'], sl_data['death_confirmed'], 'y')\n",
    "plt.plot(sl_data['Date'], sl_data['death_probable'], 'b')\n",
    "plt.plot(sl_data['Date'], sl_data['death_suspected'], 'g')\n",
    "plt.plot(sl_data['Date'], sl_data['death_confirmed']+sl_data['death_suspected']+sl_data['death_confirmed'], 'r--')"
   ]
  },
  {
   "cell_type": "markdown",
   "metadata": {},
   "source": [
    "Summing the three types of deaths leads to values which seem much too high for the total deaths. That is why in this case we decided that the deaths would be more correctly represented by the confirmed deaths column only. "
   ]
  },
  {
   "cell_type": "code",
   "execution_count": 32,
   "metadata": {},
   "outputs": [],
   "source": [
    "sl_data['Deaths'] = sl_data['death_confirmed']"
   ]
  },
  {
   "cell_type": "markdown",
   "metadata": {},
   "source": [
    "#### Final Clean Data For Sierra Leone"
   ]
  },
  {
   "cell_type": "code",
   "execution_count": 33,
   "metadata": {},
   "outputs": [
    {
     "name": "stderr",
     "output_type": "stream",
     "text": [
      "/Users/laila/anaconda/envs/ADA/lib/python3.6/site-packages/pandas/core/indexing.py:179: SettingWithCopyWarning: \n",
      "A value is trying to be set on a copy of a slice from a DataFrame\n",
      "\n",
      "See the caveats in the documentation: http://pandas.pydata.org/pandas-docs/stable/indexing.html#indexing-view-versus-copy\n",
      "  self._setitem_with_indexer(indexer, value)\n"
     ]
    },
    {
     "data": {
      "image/png": "[encoded data removed]",
      "text/plain": [
       "<matplotlib.figure.Figure at 0x10f630208>"
      ]
     },
     "metadata": {},
     "output_type": "display_data"
    },
    {
     "data": {
      "text/html": [
       "<div>\n",
       "<style>\n",
       "    .dataframe thead tr:only-child th {\n",
       "        text-align: right;\n",
       "    }\n",
       "\n",
       "    .dataframe thead th {\n",
       "        text-align: left;\n",
       "    }\n",
       "\n",
       "    .dataframe tbody tr th {\n",
       "        vertical-align: top;\n",
       "    }\n",
       "</style>\n",
       "<table border=\"1\" class=\"dataframe\">\n",
       "  <thead>\n",
       "    <tr style=\"text-align: right;\">\n",
       "      <th></th>\n",
       "      <th></th>\n",
       "      <th>Days since</th>\n",
       "      <th>Month</th>\n",
       "      <th>Year</th>\n",
       "      <th>Deaths</th>\n",
       "      <th>Cases</th>\n",
       "    </tr>\n",
       "    <tr>\n",
       "      <th>Date</th>\n",
       "      <th>Country</th>\n",
       "      <th></th>\n",
       "      <th></th>\n",
       "      <th></th>\n",
       "      <th></th>\n",
       "      <th></th>\n",
       "    </tr>\n",
       "  </thead>\n",
       "  <tbody>\n",
       "    <tr>\n",
       "      <th>2014-08-12</th>\n",
       "      <th>sl</th>\n",
       "      <td>0</td>\n",
       "      <td>8</td>\n",
       "      <td>2014</td>\n",
       "      <td>264</td>\n",
       "      <td>661</td>\n",
       "    </tr>\n",
       "    <tr>\n",
       "      <th>2014-08-13</th>\n",
       "      <th>sl</th>\n",
       "      <td>1</td>\n",
       "      <td>8</td>\n",
       "      <td>2014</td>\n",
       "      <td>273</td>\n",
       "      <td>674</td>\n",
       "    </tr>\n",
       "    <tr>\n",
       "      <th>2014-08-14</th>\n",
       "      <th>sl</th>\n",
       "      <td>2</td>\n",
       "      <td>8</td>\n",
       "      <td>2014</td>\n",
       "      <td>280</td>\n",
       "      <td>700</td>\n",
       "    </tr>\n",
       "    <tr>\n",
       "      <th>2014-08-15</th>\n",
       "      <th>sl</th>\n",
       "      <td>3</td>\n",
       "      <td>8</td>\n",
       "      <td>2014</td>\n",
       "      <td>287</td>\n",
       "      <td>715</td>\n",
       "    </tr>\n",
       "    <tr>\n",
       "      <th>2014-08-16</th>\n",
       "      <th>sl</th>\n",
       "      <td>4</td>\n",
       "      <td>8</td>\n",
       "      <td>2014</td>\n",
       "      <td>297</td>\n",
       "      <td>724</td>\n",
       "    </tr>\n",
       "  </tbody>\n",
       "</table>\n",
       "</div>"
      ],
      "text/plain": [
       "                    Days since  Month  Year Deaths Cases\n",
       "Date       Country                                      \n",
       "2014-08-12 sl                0      8  2014    264   661\n",
       "2014-08-13 sl                1      8  2014    273   674\n",
       "2014-08-14 sl                2      8  2014    280   700\n",
       "2014-08-15 sl                3      8  2014    287   715\n",
       "2014-08-16 sl                4      8  2014    297   724"
      ]
     },
     "execution_count": 33,
     "metadata": {},
     "output_type": "execute_result"
    }
   ],
   "source": [
    "clean_sl = clean_and_interpolate(sl_data, k = 1)\n",
    "clean_sl.set_index(['Date','Country'], inplace = True)\n",
    "clean_sl.head()"
   ]
  },
  {
   "cell_type": "markdown",
   "metadata": {},
   "source": [
    "### Compute Monthly Average"
   ]
  },
  {
   "cell_type": "markdown",
   "metadata": {},
   "source": [
    "Compute the daily incidents from the cumulative data. First create daily deaths and cases columns. Finally, Groupby country, year and month to compute monthly averages"
   ]
  },
  {
   "cell_type": "code",
   "execution_count": 34,
   "metadata": {},
   "outputs": [
    {
     "data": {
      "text/html": [
       "<div>\n",
       "<style>\n",
       "    .dataframe thead tr:only-child th {\n",
       "        text-align: right;\n",
       "    }\n",
       "\n",
       "    .dataframe thead th {\n",
       "        text-align: left;\n",
       "    }\n",
       "\n",
       "    .dataframe tbody tr th {\n",
       "        vertical-align: top;\n",
       "    }\n",
       "</style>\n",
       "<table border=\"1\" class=\"dataframe\">\n",
       "  <thead>\n",
       "    <tr style=\"text-align: right;\">\n",
       "      <th></th>\n",
       "      <th></th>\n",
       "      <th></th>\n",
       "      <th>Daily Cases</th>\n",
       "      <th>Daily Deaths</th>\n",
       "    </tr>\n",
       "    <tr>\n",
       "      <th>Country</th>\n",
       "      <th>Year</th>\n",
       "      <th>Month</th>\n",
       "      <th></th>\n",
       "      <th></th>\n",
       "    </tr>\n",
       "  </thead>\n",
       "  <tbody>\n",
       "    <tr>\n",
       "      <th rowspan=\"3\" valign=\"top\">guinea</th>\n",
       "      <th rowspan=\"3\" valign=\"top\">2014</th>\n",
       "      <th>8</th>\n",
       "      <td>4.444444</td>\n",
       "      <td>4.666667</td>\n",
       "    </tr>\n",
       "    <tr>\n",
       "      <th>9</th>\n",
       "      <td>10.466667</td>\n",
       "      <td>7.500000</td>\n",
       "    </tr>\n",
       "    <tr>\n",
       "      <th>10</th>\n",
       "      <td>34.000000</td>\n",
       "      <td>25.000000</td>\n",
       "    </tr>\n",
       "    <tr>\n",
       "      <th rowspan=\"7\" valign=\"top\">liberia</th>\n",
       "      <th rowspan=\"7\" valign=\"top\">2014</th>\n",
       "      <th>6</th>\n",
       "      <td>2.714286</td>\n",
       "      <td>2.785714</td>\n",
       "    </tr>\n",
       "    <tr>\n",
       "      <th>7</th>\n",
       "      <td>3.221198</td>\n",
       "      <td>5.483871</td>\n",
       "    </tr>\n",
       "    <tr>\n",
       "      <th>8</th>\n",
       "      <td>12.319124</td>\n",
       "      <td>24.169355</td>\n",
       "    </tr>\n",
       "    <tr>\n",
       "      <th>9</th>\n",
       "      <td>49.241667</td>\n",
       "      <td>36.125000</td>\n",
       "    </tr>\n",
       "    <tr>\n",
       "      <th>10</th>\n",
       "      <td>33.203226</td>\n",
       "      <td>20.612903</td>\n",
       "    </tr>\n",
       "    <tr>\n",
       "      <th>11</th>\n",
       "      <td>17.127586</td>\n",
       "      <td>15.333333</td>\n",
       "    </tr>\n",
       "    <tr>\n",
       "      <th>12</th>\n",
       "      <td>NaN</td>\n",
       "      <td>14.777778</td>\n",
       "    </tr>\n",
       "    <tr>\n",
       "      <th rowspan=\"5\" valign=\"top\">sl</th>\n",
       "      <th rowspan=\"5\" valign=\"top\">2014</th>\n",
       "      <th>8</th>\n",
       "      <td>10.000000</td>\n",
       "      <td>6.473684</td>\n",
       "    </tr>\n",
       "    <tr>\n",
       "      <th>9</th>\n",
       "      <td>26.750000</td>\n",
       "      <td>5.433333</td>\n",
       "    </tr>\n",
       "    <tr>\n",
       "      <th>10</th>\n",
       "      <td>47.725806</td>\n",
       "      <td>16.774194</td>\n",
       "    </tr>\n",
       "    <tr>\n",
       "      <th>11</th>\n",
       "      <td>59.000000</td>\n",
       "      <td>15.083333</td>\n",
       "    </tr>\n",
       "    <tr>\n",
       "      <th>12</th>\n",
       "      <td>80.600000</td>\n",
       "      <td>30.916667</td>\n",
       "    </tr>\n",
       "  </tbody>\n",
       "</table>\n",
       "</div>"
      ],
      "text/plain": [
       "                    Daily Cases  Daily Deaths\n",
       "Country Year Month                           \n",
       "guinea  2014 8         4.444444      4.666667\n",
       "             9        10.466667      7.500000\n",
       "             10       34.000000     25.000000\n",
       "liberia 2014 6         2.714286      2.785714\n",
       "             7         3.221198      5.483871\n",
       "             8        12.319124     24.169355\n",
       "             9        49.241667     36.125000\n",
       "             10       33.203226     20.612903\n",
       "             11       17.127586     15.333333\n",
       "             12             NaN     14.777778\n",
       "sl      2014 8        10.000000      6.473684\n",
       "             9        26.750000      5.433333\n",
       "             10       47.725806     16.774194\n",
       "             11       59.000000     15.083333\n",
       "             12       80.600000     30.916667"
      ]
     },
     "execution_count": 34,
     "metadata": {},
     "output_type": "execute_result"
    }
   ],
   "source": [
    "all_countries = pd.concat([clean_sl, clean_guinea, clean_liberia])\n",
    "all_countries.reset_index(inplace = True)\n",
    "all_countries.Cases = all_countries.Cases.astype(float)\n",
    "all_countries.Deaths = all_countries.Deaths.astype(float)\n",
    "\n",
    "countries_list = ['guinea', 'liberia', 'sl']\n",
    "for country in countries_list:\n",
    "    all_countries.loc[all_countries.Country==country, 'Daily Deaths'] = all_countries.loc[all_countries.Country==country, 'Deaths'].diff()\n",
    "    all_countries.loc[all_countries.Country==country, 'Daily Cases'] = all_countries.loc[all_countries.Country==country, 'Cases'].diff()\n",
    "\n",
    "all_countries[['Country', 'Year','Month','Daily Cases','Daily Deaths']].groupby(['Country', 'Year','Month']).mean()"
   ]
  },
  {
   "cell_type": "markdown",
   "metadata": {},
   "source": [
    "## Task 2. RNA Sequences\n",
    "\n",
    "In the `DATA_FOLDER/microbiome` subdirectory, there are 9 spreadsheets of microbiome data that was acquired from high-throughput RNA sequencing procedures, along with a 10<sup>th</sup> file that describes the content of each. \n",
    "\n",
    "Use pandas to import the first 9 spreadsheets into a single `DataFrame`.\n",
    "Then, add the metadata information from the 10<sup>th</sup> spreadsheet as columns in the combined `DataFrame`.\n",
    "Make sure that the final `DataFrame` has a unique index and all the `NaN` values have been replaced by the tag `unknown`."
   ]
  },
  {
   "cell_type": "code",
   "execution_count": 35,
   "metadata": {},
   "outputs": [
    {
     "name": "stdout",
     "output_type": "stream",
     "text": [
      "Index is unique : True\n"
     ]
    },
    {
     "data": {
      "text/html": [
       "<div>\n",
       "<style>\n",
       "    .dataframe thead tr:only-child th {\n",
       "        text-align: right;\n",
       "    }\n",
       "\n",
       "    .dataframe thead th {\n",
       "        text-align: left;\n",
       "    }\n",
       "\n",
       "    .dataframe tbody tr th {\n",
       "        vertical-align: top;\n",
       "    }\n",
       "</style>\n",
       "<table border=\"1\" class=\"dataframe\">\n",
       "  <thead>\n",
       "    <tr style=\"text-align: right;\">\n",
       "      <th></th>\n",
       "      <th></th>\n",
       "      <th></th>\n",
       "      <th></th>\n",
       "      <th></th>\n",
       "      <th></th>\n",
       "      <th></th>\n",
       "      <th></th>\n",
       "      <th></th>\n",
       "      <th></th>\n",
       "      <th>FULL NAME</th>\n",
       "      <th>NUMBER</th>\n",
       "      <th>BARCODE</th>\n",
       "    </tr>\n",
       "    <tr>\n",
       "      <th>Class0</th>\n",
       "      <th>Class1</th>\n",
       "      <th>Class2</th>\n",
       "      <th>Class3</th>\n",
       "      <th>Class4</th>\n",
       "      <th>Class5</th>\n",
       "      <th>Class6</th>\n",
       "      <th>Class7</th>\n",
       "      <th>GROUP</th>\n",
       "      <th>SAMPLE</th>\n",
       "      <th></th>\n",
       "      <th></th>\n",
       "      <th></th>\n",
       "    </tr>\n",
       "  </thead>\n",
       "  <tbody>\n",
       "    <tr>\n",
       "      <th rowspan=\"5\" valign=\"top\">Archaea</th>\n",
       "      <th rowspan=\"4\" valign=\"top\">\"Crenarchaeota\"</th>\n",
       "      <th rowspan=\"4\" valign=\"top\">Thermoprotei</th>\n",
       "      <th rowspan=\"2\" valign=\"top\">Desulfurococcales</th>\n",
       "      <th>Desulfurococcaceae</th>\n",
       "      <th>Ignisphaera</th>\n",
       "      <th>unknown</th>\n",
       "      <th>unknown</th>\n",
       "      <th>EXTRACTION CONTROL</th>\n",
       "      <th>unknown</th>\n",
       "      <td>Archaea \"Crenarchaeota\" Thermoprotei Desulfuro...</td>\n",
       "      <td>7</td>\n",
       "      <td>MID1</td>\n",
       "    </tr>\n",
       "    <tr>\n",
       "      <th>Pyrodictiaceae</th>\n",
       "      <th>Pyrolobus</th>\n",
       "      <th>unknown</th>\n",
       "      <th>unknown</th>\n",
       "      <th>EXTRACTION CONTROL</th>\n",
       "      <th>unknown</th>\n",
       "      <td>Archaea \"Crenarchaeota\" Thermoprotei Desulfuro...</td>\n",
       "      <td>2</td>\n",
       "      <td>MID1</td>\n",
       "    </tr>\n",
       "    <tr>\n",
       "      <th>Sulfolobales</th>\n",
       "      <th>Sulfolobaceae</th>\n",
       "      <th>Stygiolobus</th>\n",
       "      <th>unknown</th>\n",
       "      <th>unknown</th>\n",
       "      <th>EXTRACTION CONTROL</th>\n",
       "      <th>unknown</th>\n",
       "      <td>Archaea \"Crenarchaeota\" Thermoprotei Sulfoloba...</td>\n",
       "      <td>3</td>\n",
       "      <td>MID1</td>\n",
       "    </tr>\n",
       "    <tr>\n",
       "      <th>Thermoproteales</th>\n",
       "      <th>Thermofilaceae</th>\n",
       "      <th>Thermofilum</th>\n",
       "      <th>unknown</th>\n",
       "      <th>unknown</th>\n",
       "      <th>EXTRACTION CONTROL</th>\n",
       "      <th>unknown</th>\n",
       "      <td>Archaea \"Crenarchaeota\" Thermoprotei Thermopro...</td>\n",
       "      <td>3</td>\n",
       "      <td>MID1</td>\n",
       "    </tr>\n",
       "    <tr>\n",
       "      <th>\"Euryarchaeota\"</th>\n",
       "      <th>\"Methanomicrobia\"</th>\n",
       "      <th>Methanocellales</th>\n",
       "      <th>Methanocellaceae</th>\n",
       "      <th>Methanocella</th>\n",
       "      <th>unknown</th>\n",
       "      <th>unknown</th>\n",
       "      <th>EXTRACTION CONTROL</th>\n",
       "      <th>unknown</th>\n",
       "      <td>Archaea \"Euryarchaeota\" \"Methanomicrobia\" Meth...</td>\n",
       "      <td>7</td>\n",
       "      <td>MID1</td>\n",
       "    </tr>\n",
       "  </tbody>\n",
       "</table>\n",
       "</div>"
      ],
      "text/plain": [
       "                                                                                                                                                                                FULL NAME  \\\n",
       "Class0  Class1          Class2            Class3            Class4             Class5       Class6  Class7  GROUP              SAMPLE                                                       \n",
       "Archaea \"Crenarchaeota\" Thermoprotei      Desulfurococcales Desulfurococcaceae Ignisphaera  unknown unknown EXTRACTION CONTROL unknown  Archaea \"Crenarchaeota\" Thermoprotei Desulfuro...   \n",
       "                                                            Pyrodictiaceae     Pyrolobus    unknown unknown EXTRACTION CONTROL unknown  Archaea \"Crenarchaeota\" Thermoprotei Desulfuro...   \n",
       "                                          Sulfolobales      Sulfolobaceae      Stygiolobus  unknown unknown EXTRACTION CONTROL unknown  Archaea \"Crenarchaeota\" Thermoprotei Sulfoloba...   \n",
       "                                          Thermoproteales   Thermofilaceae     Thermofilum  unknown unknown EXTRACTION CONTROL unknown  Archaea \"Crenarchaeota\" Thermoprotei Thermopro...   \n",
       "        \"Euryarchaeota\" \"Methanomicrobia\" Methanocellales   Methanocellaceae   Methanocella unknown unknown EXTRACTION CONTROL unknown  Archaea \"Euryarchaeota\" \"Methanomicrobia\" Meth...   \n",
       "\n",
       "                                                                                                                                        NUMBER  \\\n",
       "Class0  Class1          Class2            Class3            Class4             Class5       Class6  Class7  GROUP              SAMPLE            \n",
       "Archaea \"Crenarchaeota\" Thermoprotei      Desulfurococcales Desulfurococcaceae Ignisphaera  unknown unknown EXTRACTION CONTROL unknown       7   \n",
       "                                                            Pyrodictiaceae     Pyrolobus    unknown unknown EXTRACTION CONTROL unknown       2   \n",
       "                                          Sulfolobales      Sulfolobaceae      Stygiolobus  unknown unknown EXTRACTION CONTROL unknown       3   \n",
       "                                          Thermoproteales   Thermofilaceae     Thermofilum  unknown unknown EXTRACTION CONTROL unknown       3   \n",
       "        \"Euryarchaeota\" \"Methanomicrobia\" Methanocellales   Methanocellaceae   Methanocella unknown unknown EXTRACTION CONTROL unknown       7   \n",
       "\n",
       "                                                                                                                                       BARCODE  \n",
       "Class0  Class1          Class2            Class3            Class4             Class5       Class6  Class7  GROUP              SAMPLE           \n",
       "Archaea \"Crenarchaeota\" Thermoprotei      Desulfurococcales Desulfurococcaceae Ignisphaera  unknown unknown EXTRACTION CONTROL unknown    MID1  \n",
       "                                                            Pyrodictiaceae     Pyrolobus    unknown unknown EXTRACTION CONTROL unknown    MID1  \n",
       "                                          Sulfolobales      Sulfolobaceae      Stygiolobus  unknown unknown EXTRACTION CONTROL unknown    MID1  \n",
       "                                          Thermoproteales   Thermofilaceae     Thermofilum  unknown unknown EXTRACTION CONTROL unknown    MID1  \n",
       "        \"Euryarchaeota\" \"Methanomicrobia\" Methanocellales   Methanocellaceae   Methanocella unknown unknown EXTRACTION CONTROL unknown    MID1  "
      ]
     },
     "execution_count": 35,
     "metadata": {},
     "output_type": "execute_result"
    }
   ],
   "source": [
    "# Write your answer here\n",
    "DATA_FOLDER_microbiome = DATA_FOLDER + '/microbiome'\n",
    "\n",
    "# Get all the files in the folder\n",
    "microbiome_cvs_files = os.listdir(DATA_FOLDER_microbiome)\n",
    "# Get the 9 first spreadsheets\n",
    "RNA_seq_files = [x for x in microbiome_cvs_files if 'MID' in x]\n",
    "# Get the last spreadsheet\n",
    "metadata_file = [x for x in microbiome_cvs_files if x not in RNA_seq_files]\n",
    "\n",
    "# Load the metadata into a dataframe\n",
    "metadata_df = pd.read_excel((DATA_FOLDER_microbiome + '/' + metadata_file[0]))\n",
    "metadata_columns = metadata_df.columns.values\n",
    "\n",
    "# Create the dataframe\n",
    "microbiome_data = pd.DataFrame(index = [])\n",
    "\n",
    "# Load the 9 spreadsheets into one dataframe\n",
    "for file in RNA_seq_files:\n",
    "    # Load the xls file\n",
    "    df = pd.read_excel(DATA_FOLDER_microbiome + '/' +file,header= None)\n",
    "    # Get the name of the barcode for the given file\n",
    "    Barcode_idx = file.replace('.xls','')\n",
    "    # Get the metadata associated to the given barcode\n",
    "    file_metadata = metadata_df[metadata_df['BARCODE'].str.contains(Barcode_idx)].values[0]\n",
    "    \n",
    "    # Save the metadata to the dataframe\n",
    "    for c, col in enumerate(metadata_columns):\n",
    "        df[col] = file_metadata[c]\n",
    "\n",
    "    # Merge it with the whole dataframe\n",
    "    microbiome_data = pd.concat([microbiome_data,df])\n",
    "\n",
    "# Rename the columns\n",
    "microbiome_data = microbiome_data.rename(columns={0:'FULL NAME', 1:'NUMBER'})\n",
    "# Create a dataframe with the classes of microbes\n",
    "microbiome_categories = microbiome_data['FULL NAME'].apply(lambda x: pd.Series(x.split(' ')))\n",
    "classes = {i: \"Class\"+str(i) for i in range(8)}\n",
    "microbiome_categories.rename(columns=classes,inplace=True)\n",
    "# Concatenate the data\n",
    "microbiome_data = pd.concat([microbiome_categories, microbiome_data], axis=1)\n",
    "\n",
    "# Replace all nan values with unknown\n",
    "microbiome_data = microbiome_data.replace(np.nan, 'unknown', regex=True)\n",
    "# Index to have a unique classification\n",
    "microbiome_data = microbiome_data.set_index(list(classes.values())+['GROUP', 'SAMPLE'])\n",
    "print(\"Index is unique : \" + str(microbiome_data.index.is_unique))\n",
    "\n",
    "grouped_microbiome_data = microbiome_data.groupby(list(classes.values()))\n",
    "microbiome_data.head()\n",
    "\n"
   ]
  },
  {
   "cell_type": "markdown",
   "metadata": {},
   "source": [
    "## Task 3. Class War in Titanic\n",
    "\n",
    "Use pandas to import the data file `Data/titanic.xls`. It contains data on all the passengers that travelled on the Titanic."
   ]
  },
  {
   "cell_type": "code",
   "execution_count": 36,
   "metadata": {},
   "outputs": [
    {
     "data": {
      "text/html": [
       "<hr><h2>Data frame:titanic3</h2>1309 observations and 14 variables, maximum # NAs:1188<hr>\n",
       "<TABLE BORDER>\n",
       "<tr><td>Name</td><td>Labels</td><td>Units</td><td>Levels</td><td>Storage</td><td>NAs</td></tr>\n",
       "<tr><td>pclass</td><td></td><td></td><td><a href=\"#pclass\"><div align=right>  3</div></a></td><td>integer</td><td><div align=right>   0</div></td></tr>\n",
       "<tr><td>survived</td><td>Survived</td><td></td><td><div align=right></div></td><td>double</td><td><div align=right>   0</div></td></tr>\n",
       "<tr><td>name</td><td>Name</td><td></td><td><div align=right></div></td><td>character</td><td><div align=right>   0</div></td></tr>\n",
       "<tr><td>sex</td><td></td><td></td><td><a href=\"#sex\"><div align=right>  2</div></a></td><td>integer</td><td><div align=right>   0</div></td></tr>\n",
       "<tr><td>age</td><td>Age</td><td>Year</td><td><div align=right></div></td><td>double</td><td><div align=right> 263</div></td></tr>\n",
       "<tr><td>sibsp</td><td>Number of Siblings/Spouses Aboard</td><td></td><td><div align=right></div></td><td>double</td><td><div align=right>   0</div></td></tr>\n",
       "<tr><td>parch</td><td>Number of Parents/Children Aboard</td><td></td><td><div align=right></div></td><td>double</td><td><div align=right>   0</div></td></tr>\n",
       "<tr><td>ticket</td><td>Ticket Number</td><td></td><td><div align=right></div></td><td>character</td><td><div align=right>   0</div></td></tr>\n",
       "<tr><td>fare</td><td>Passenger Fare</td><td>British Pound (\\243)</td><td><div align=right></div></td><td>double</td><td><div align=right>   1</div></td></tr>\n",
       "<tr><td>cabin</td><td></td><td></td><td><a href=\"#cabin\"><div align=right>187</div></a></td><td>integer</td><td><div align=right>   0</div></td></tr>\n",
       "<tr><td>embarked</td><td></td><td></td><td><a href=\"#embarked\"><div align=right>  3</div></a></td><td>integer</td><td><div align=right>   2</div></td></tr>\n",
       "<tr><td>boat</td><td></td><td></td><td><a href=\"#boat\"><div align=right> 28</div></a></td><td>integer</td><td><div align=right>   0</div></td></tr>\n",
       "<tr><td>body</td><td>Body Identification Number</td><td></td><td><div align=right></div></td><td>double</td><td><div align=right>1188</div></td></tr>\n",
       "<tr><td>home.dest</td><td>Home/Destination</td><td></td><td><div align=right></div></td><td>character</td><td><div align=right>   0</div></td></tr>\n",
       "</TABLE>\n",
       "<hr>\n",
       "<TABLE BORDER>\n",
       "<tr><td>Variable</td><td>Levels</td></tr>\n",
       "<tr><td><a name=\"pclass\">pclass</a></td><td>1st</td></tr>\n",
       "<tr><td></td><td>2nd</td></tr>\n",
       "<tr><td></td><td>3rd</td></tr>\n",
       "<tr><td><a name=\"sex\">sex</a></td><td>female</td></tr>\n",
       "<tr><td></td><td>male</td></tr>\n",
       "<tr><td><a name=\"cabin\">cabin</a></td><td></td></tr>\n",
       "<tr><td></td><td>A10</td></tr>\n",
       "<tr><td></td><td>A11</td></tr>\n",
       "<tr><td></td><td>A14</td></tr>\n",
       "<tr><td></td><td>A16</td></tr>\n",
       "<tr><td></td><td>A18</td></tr>\n",
       "<tr><td></td><td>A19</td></tr>\n",
       "<tr><td></td><td>A20</td></tr>\n",
       "<tr><td></td><td>A21</td></tr>\n",
       "<tr><td></td><td>A23</td></tr>\n",
       "<tr><td></td><td>A24</td></tr>\n",
       "<tr><td></td><td>A26</td></tr>\n",
       "<tr><td></td><td>A29</td></tr>\n",
       "<tr><td></td><td>A31</td></tr>\n",
       "<tr><td></td><td>A32</td></tr>\n",
       "<tr><td></td><td>A34</td></tr>\n",
       "<tr><td></td><td>A36</td></tr>\n",
       "<tr><td></td><td>A5</td></tr>\n",
       "<tr><td></td><td>A6</td></tr>\n",
       "<tr><td></td><td>A7</td></tr>\n",
       "<tr><td></td><td>A9</td></tr>\n",
       "<tr><td></td><td>B10</td></tr>\n",
       "<tr><td></td><td>B101</td></tr>\n",
       "<tr><td></td><td>B102</td></tr>\n",
       "<tr><td></td><td>B11</td></tr>\n",
       "<tr><td></td><td>B18</td></tr>\n",
       "<tr><td></td><td>B19</td></tr>\n",
       "<tr><td></td><td>B20</td></tr>\n",
       "<tr><td></td><td>B22</td></tr>\n",
       "<tr><td></td><td>B24</td></tr>\n",
       "<tr><td></td><td>B26</td></tr>\n",
       "<tr><td></td><td>B28</td></tr>\n",
       "<tr><td></td><td>B3</td></tr>\n",
       "<tr><td></td><td>B30</td></tr>\n",
       "<tr><td></td><td>B35</td></tr>\n",
       "<tr><td></td><td>B36</td></tr>\n",
       "<tr><td></td><td>B37</td></tr>\n",
       "<tr><td></td><td>B38</td></tr>\n",
       "<tr><td></td><td>B39</td></tr>\n",
       "<tr><td></td><td>B4</td></tr>\n",
       "<tr><td></td><td>B41</td></tr>\n",
       "<tr><td></td><td>B42</td></tr>\n",
       "<tr><td></td><td>B45</td></tr>\n",
       "<tr><td></td><td>B49</td></tr>\n",
       "<tr><td></td><td>B5</td></tr>\n",
       "<tr><td></td><td>B50</td></tr>\n",
       "<tr><td></td><td>B51 B53 B55</td></tr>\n",
       "<tr><td></td><td>B52 B54 B56</td></tr>\n",
       "<tr><td></td><td>B57 B59 B63 B66</td></tr>\n",
       "<tr><td></td><td>B58 B60</td></tr>\n",
       "<tr><td></td><td>B61</td></tr>\n",
       "<tr><td></td><td>B69</td></tr>\n",
       "<tr><td></td><td>B71</td></tr>\n",
       "<tr><td></td><td>B73</td></tr>\n",
       "<tr><td></td><td>B77</td></tr>\n",
       "<tr><td></td><td>B78</td></tr>\n",
       "<tr><td></td><td>B79</td></tr>\n",
       "<tr><td></td><td>B80</td></tr>\n",
       "<tr><td></td><td>B82 B84</td></tr>\n",
       "<tr><td></td><td>B86</td></tr>\n",
       "<tr><td></td><td>B94</td></tr>\n",
       "<tr><td></td><td>B96 B98</td></tr>\n",
       "<tr><td></td><td>C101</td></tr>\n",
       "<tr><td></td><td>C103</td></tr>\n",
       "<tr><td></td><td>C104</td></tr>\n",
       "<tr><td></td><td>C105</td></tr>\n",
       "<tr><td></td><td>C106</td></tr>\n",
       "<tr><td></td><td>C110</td></tr>\n",
       "<tr><td></td><td>C111</td></tr>\n",
       "<tr><td></td><td>C116</td></tr>\n",
       "<tr><td></td><td>C118</td></tr>\n",
       "<tr><td></td><td>C123</td></tr>\n",
       "<tr><td></td><td>C124</td></tr>\n",
       "<tr><td></td><td>C125</td></tr>\n",
       "<tr><td></td><td>C126</td></tr>\n",
       "<tr><td></td><td>C128</td></tr>\n",
       "<tr><td></td><td>C130</td></tr>\n",
       "<tr><td></td><td>C132</td></tr>\n",
       "<tr><td></td><td>C148</td></tr>\n",
       "<tr><td></td><td>C2</td></tr>\n",
       "<tr><td></td><td>C22 C26</td></tr>\n",
       "<tr><td></td><td>C23 C25 C27</td></tr>\n",
       "<tr><td></td><td>C28</td></tr>\n",
       "<tr><td></td><td>C30</td></tr>\n",
       "<tr><td></td><td>C31</td></tr>\n",
       "<tr><td></td><td>C32</td></tr>\n",
       "<tr><td></td><td>C39</td></tr>\n",
       "<tr><td></td><td>C45</td></tr>\n",
       "<tr><td></td><td>C46</td></tr>\n",
       "<tr><td></td><td>C47</td></tr>\n",
       "<tr><td></td><td>C49</td></tr>\n",
       "<tr><td></td><td>C50</td></tr>\n",
       "<tr><td></td><td>C51</td></tr>\n",
       "<tr><td></td><td>C52</td></tr>\n",
       "<tr><td></td><td>C53</td></tr>\n",
       "<tr><td></td><td>C54</td></tr>\n",
       "<tr><td></td><td>C55 C57</td></tr>\n",
       "<tr><td></td><td>C6</td></tr>\n",
       "<tr><td></td><td>C62 C64</td></tr>\n",
       "<tr><td></td><td>C65</td></tr>\n",
       "<tr><td></td><td>C68</td></tr>\n",
       "<tr><td></td><td>C7</td></tr>\n",
       "<tr><td></td><td>C70</td></tr>\n",
       "<tr><td></td><td>C78</td></tr>\n",
       "<tr><td></td><td>C80</td></tr>\n",
       "<tr><td></td><td>C82</td></tr>\n",
       "<tr><td></td><td>C83</td></tr>\n",
       "<tr><td></td><td>C85</td></tr>\n",
       "<tr><td></td><td>C86</td></tr>\n",
       "<tr><td></td><td>C87</td></tr>\n",
       "<tr><td></td><td>C89</td></tr>\n",
       "<tr><td></td><td>C90</td></tr>\n",
       "<tr><td></td><td>C91</td></tr>\n",
       "<tr><td></td><td>C92</td></tr>\n",
       "<tr><td></td><td>C93</td></tr>\n",
       "<tr><td></td><td>C95</td></tr>\n",
       "<tr><td></td><td>C97</td></tr>\n",
       "<tr><td></td><td>C99</td></tr>\n",
       "<tr><td></td><td>D</td></tr>\n",
       "<tr><td></td><td>D10 D12</td></tr>\n",
       "<tr><td></td><td>D11</td></tr>\n",
       "<tr><td></td><td>D15</td></tr>\n",
       "<tr><td></td><td>D17</td></tr>\n",
       "<tr><td></td><td>D19</td></tr>\n",
       "<tr><td></td><td>D20</td></tr>\n",
       "<tr><td></td><td>D21</td></tr>\n",
       "<tr><td></td><td>D22</td></tr>\n",
       "<tr><td></td><td>D26</td></tr>\n",
       "<tr><td></td><td>D28</td></tr>\n",
       "<tr><td></td><td>D30</td></tr>\n",
       "<tr><td></td><td>D33</td></tr>\n",
       "<tr><td></td><td>D34</td></tr>\n",
       "<tr><td></td><td>D35</td></tr>\n",
       "<tr><td></td><td>D36</td></tr>\n",
       "<tr><td></td><td>D37</td></tr>\n",
       "<tr><td></td><td>D38</td></tr>\n",
       "<tr><td></td><td>D40</td></tr>\n",
       "<tr><td></td><td>D43</td></tr>\n",
       "<tr><td></td><td>D45</td></tr>\n",
       "<tr><td></td><td>D46</td></tr>\n",
       "<tr><td></td><td>D47</td></tr>\n",
       "<tr><td></td><td>D48</td></tr>\n",
       "<tr><td></td><td>D49</td></tr>\n",
       "<tr><td></td><td>D50</td></tr>\n",
       "<tr><td></td><td>D56</td></tr>\n",
       "<tr><td></td><td>D6</td></tr>\n",
       "<tr><td></td><td>D7</td></tr>\n",
       "<tr><td></td><td>D9</td></tr>\n",
       "<tr><td></td><td>E10</td></tr>\n",
       "<tr><td></td><td>E101</td></tr>\n",
       "<tr><td></td><td>E12</td></tr>\n",
       "<tr><td></td><td>E121</td></tr>\n",
       "<tr><td></td><td>E17</td></tr>\n",
       "<tr><td></td><td>E24</td></tr>\n",
       "<tr><td></td><td>E25</td></tr>\n",
       "<tr><td></td><td>E31</td></tr>\n",
       "<tr><td></td><td>E33</td></tr>\n",
       "<tr><td></td><td>E34</td></tr>\n",
       "<tr><td></td><td>E36</td></tr>\n",
       "<tr><td></td><td>E38</td></tr>\n",
       "<tr><td></td><td>E39 E41</td></tr>\n",
       "<tr><td></td><td>E40</td></tr>\n",
       "<tr><td></td><td>E44</td></tr>\n",
       "<tr><td></td><td>E45</td></tr>\n",
       "<tr><td></td><td>E46</td></tr>\n",
       "<tr><td></td><td>E49</td></tr>\n",
       "<tr><td></td><td>E50</td></tr>\n",
       "<tr><td></td><td>E52</td></tr>\n",
       "<tr><td></td><td>E58</td></tr>\n",
       "<tr><td></td><td>E60</td></tr>\n",
       "<tr><td></td><td>E63</td></tr>\n",
       "<tr><td></td><td>E67</td></tr>\n",
       "<tr><td></td><td>E68</td></tr>\n",
       "<tr><td></td><td>E77</td></tr>\n",
       "<tr><td></td><td>E8</td></tr>\n",
       "<tr><td></td><td>F</td></tr>\n",
       "<tr><td></td><td>F E46</td></tr>\n",
       "<tr><td></td><td>F E57</td></tr>\n",
       "<tr><td></td><td>F E69</td></tr>\n",
       "<tr><td></td><td>F G63</td></tr>\n",
       "<tr><td></td><td>F G73</td></tr>\n",
       "<tr><td></td><td>F2</td></tr>\n",
       "<tr><td></td><td>F33</td></tr>\n",
       "<tr><td></td><td>F38</td></tr>\n",
       "<tr><td></td><td>F4</td></tr>\n",
       "<tr><td></td><td>G6</td></tr>\n",
       "<tr><td></td><td>T</td></tr>\n",
       "<tr><td><a name=\"embarked\">embarked</a></td><td>Cherbourg</td></tr>\n",
       "<tr><td></td><td>Queenstown</td></tr>\n",
       "<tr><td></td><td>Southampton</td></tr>\n",
       "<tr><td><a name=\"boat\">boat</a></td><td></td></tr>\n",
       "<tr><td></td><td>1</td></tr>\n",
       "<tr><td></td><td>10</td></tr>\n",
       "<tr><td></td><td>11</td></tr>\n",
       "<tr><td></td><td>12</td></tr>\n",
       "<tr><td></td><td>13</td></tr>\n",
       "<tr><td></td><td>13 15</td></tr>\n",
       "<tr><td></td><td>13 15 B</td></tr>\n",
       "<tr><td></td><td>14</td></tr>\n",
       "<tr><td></td><td>15</td></tr>\n",
       "<tr><td></td><td>15 16</td></tr>\n",
       "<tr><td></td><td>16</td></tr>\n",
       "<tr><td></td><td>2</td></tr>\n",
       "<tr><td></td><td>3</td></tr>\n",
       "<tr><td></td><td>4</td></tr>\n",
       "<tr><td></td><td>5</td></tr>\n",
       "<tr><td></td><td>5 7</td></tr>\n",
       "<tr><td></td><td>5 9</td></tr>\n",
       "<tr><td></td><td>6</td></tr>\n",
       "<tr><td></td><td>7</td></tr>\n",
       "<tr><td></td><td>8</td></tr>\n",
       "<tr><td></td><td>8 10</td></tr>\n",
       "<tr><td></td><td>9</td></tr>\n",
       "<tr><td></td><td>A</td></tr>\n",
       "<tr><td></td><td>B</td></tr>\n",
       "<tr><td></td><td>C</td></tr>\n",
       "<tr><td></td><td>C D</td></tr>\n",
       "<tr><td></td><td>D</td></tr>\n",
       "</TABLE>\n",
       "<hr>\n"
      ],
      "text/plain": [
       "<IPython.core.display.HTML object>"
      ]
     },
     "execution_count": 36,
     "metadata": {},
     "output_type": "execute_result"
    }
   ],
   "source": [
    "from IPython.core.display import HTML\n",
    "HTML(filename=DATA_FOLDER+'/titanic.html')"
   ]
  },
  {
   "cell_type": "markdown",
   "metadata": {},
   "source": [
    "For each of the following questions state clearly your assumptions and discuss your findings:\n",
    "1. Describe the *type* and the *value range* of each attribute. Indicate and transform the attributes that can be `Categorical`. \n",
    "2. Plot histograms for the *travel class*, *embarkation port*, *sex* and *age* attributes. For the latter one, use *discrete decade intervals*. \n",
    "3. Calculate the proportion of passengers by *cabin floor*. Present your results in a *pie chart*.\n",
    "4. For each *travel class*, calculate the proportion of the passengers that survived. Present your results in *pie charts*.\n",
    "5. Calculate the proportion of the passengers that survived by *travel class* and *sex*. Present your results in *a single histogram*.\n",
    "6. Create 2 equally populated *age categories* and calculate survival proportions by *age category*, *travel class* and *sex*. Present your results in a `DataFrame` with unique index."
   ]
  },
  {
   "cell_type": "markdown",
   "metadata": {},
   "source": [
    "### Importing Seaborn for Color Palettes"
   ]
  },
  {
   "cell_type": "code",
   "execution_count": 37,
   "metadata": {},
   "outputs": [],
   "source": [
    "import seaborn as sns\n",
    "\n",
    "# set the default color palette\n",
    "# try other options: 'Blues', sns.cubehelix_palette(8)\n",
    "sns.set_palette(sns.color_palette(\"Set1\", n_colors=8, desat=.5))\n",
    "\n",
    "# Seaborn can also use a context for different purpose\n",
    "# possible values are paper, notebook, talk, and poster\n",
    "sns.set_context(\"notebook\")"
   ]
  },
  {
   "cell_type": "markdown",
   "metadata": {
    "collapsed": true
   },
   "source": [
    "### Loading the Dataset"
   ]
  },
  {
   "cell_type": "code",
   "execution_count": 38,
   "metadata": {},
   "outputs": [
    {
     "data": {
      "text/html": [
       "<div>\n",
       "<style>\n",
       "    .dataframe thead tr:only-child th {\n",
       "        text-align: right;\n",
       "    }\n",
       "\n",
       "    .dataframe thead th {\n",
       "        text-align: left;\n",
       "    }\n",
       "\n",
       "    .dataframe tbody tr th {\n",
       "        vertical-align: top;\n",
       "    }\n",
       "</style>\n",
       "<table border=\"1\" class=\"dataframe\">\n",
       "  <thead>\n",
       "    <tr style=\"text-align: right;\">\n",
       "      <th></th>\n",
       "      <th>pclass</th>\n",
       "      <th>survived</th>\n",
       "      <th>name</th>\n",
       "      <th>sex</th>\n",
       "      <th>age</th>\n",
       "      <th>sibsp</th>\n",
       "      <th>parch</th>\n",
       "      <th>ticket</th>\n",
       "      <th>fare</th>\n",
       "      <th>cabin</th>\n",
       "      <th>embarked</th>\n",
       "      <th>boat</th>\n",
       "      <th>body</th>\n",
       "      <th>home.dest</th>\n",
       "    </tr>\n",
       "  </thead>\n",
       "  <tbody>\n",
       "    <tr>\n",
       "      <th>0</th>\n",
       "      <td>1</td>\n",
       "      <td>1</td>\n",
       "      <td>Allen, Miss. Elisabeth Walton</td>\n",
       "      <td>female</td>\n",
       "      <td>29.0000</td>\n",
       "      <td>0</td>\n",
       "      <td>0</td>\n",
       "      <td>24160</td>\n",
       "      <td>211.3375</td>\n",
       "      <td>B5</td>\n",
       "      <td>S</td>\n",
       "      <td>2</td>\n",
       "      <td>NaN</td>\n",
       "      <td>St Louis, MO</td>\n",
       "    </tr>\n",
       "    <tr>\n",
       "      <th>1</th>\n",
       "      <td>1</td>\n",
       "      <td>1</td>\n",
       "      <td>Allison, Master. Hudson Trevor</td>\n",
       "      <td>male</td>\n",
       "      <td>0.9167</td>\n",
       "      <td>1</td>\n",
       "      <td>2</td>\n",
       "      <td>113781</td>\n",
       "      <td>151.5500</td>\n",
       "      <td>C22 C26</td>\n",
       "      <td>S</td>\n",
       "      <td>11</td>\n",
       "      <td>NaN</td>\n",
       "      <td>Montreal, PQ / Chesterville, ON</td>\n",
       "    </tr>\n",
       "    <tr>\n",
       "      <th>2</th>\n",
       "      <td>1</td>\n",
       "      <td>0</td>\n",
       "      <td>Allison, Miss. Helen Loraine</td>\n",
       "      <td>female</td>\n",
       "      <td>2.0000</td>\n",
       "      <td>1</td>\n",
       "      <td>2</td>\n",
       "      <td>113781</td>\n",
       "      <td>151.5500</td>\n",
       "      <td>C22 C26</td>\n",
       "      <td>S</td>\n",
       "      <td>NaN</td>\n",
       "      <td>NaN</td>\n",
       "      <td>Montreal, PQ / Chesterville, ON</td>\n",
       "    </tr>\n",
       "    <tr>\n",
       "      <th>3</th>\n",
       "      <td>1</td>\n",
       "      <td>0</td>\n",
       "      <td>Allison, Mr. Hudson Joshua Creighton</td>\n",
       "      <td>male</td>\n",
       "      <td>30.0000</td>\n",
       "      <td>1</td>\n",
       "      <td>2</td>\n",
       "      <td>113781</td>\n",
       "      <td>151.5500</td>\n",
       "      <td>C22 C26</td>\n",
       "      <td>S</td>\n",
       "      <td>NaN</td>\n",
       "      <td>135.0</td>\n",
       "      <td>Montreal, PQ / Chesterville, ON</td>\n",
       "    </tr>\n",
       "    <tr>\n",
       "      <th>4</th>\n",
       "      <td>1</td>\n",
       "      <td>0</td>\n",
       "      <td>Allison, Mrs. Hudson J C (Bessie Waldo Daniels)</td>\n",
       "      <td>female</td>\n",
       "      <td>25.0000</td>\n",
       "      <td>1</td>\n",
       "      <td>2</td>\n",
       "      <td>113781</td>\n",
       "      <td>151.5500</td>\n",
       "      <td>C22 C26</td>\n",
       "      <td>S</td>\n",
       "      <td>NaN</td>\n",
       "      <td>NaN</td>\n",
       "      <td>Montreal, PQ / Chesterville, ON</td>\n",
       "    </tr>\n",
       "  </tbody>\n",
       "</table>\n",
       "</div>"
      ],
      "text/plain": [
       "   pclass  survived                                             name     sex  \\\n",
       "0       1         1                    Allen, Miss. Elisabeth Walton  female   \n",
       "1       1         1                   Allison, Master. Hudson Trevor    male   \n",
       "2       1         0                     Allison, Miss. Helen Loraine  female   \n",
       "3       1         0             Allison, Mr. Hudson Joshua Creighton    male   \n",
       "4       1         0  Allison, Mrs. Hudson J C (Bessie Waldo Daniels)  female   \n",
       "\n",
       "       age  sibsp  parch  ticket      fare    cabin embarked boat   body  \\\n",
       "0  29.0000      0      0   24160  211.3375       B5        S    2    NaN   \n",
       "1   0.9167      1      2  113781  151.5500  C22 C26        S   11    NaN   \n",
       "2   2.0000      1      2  113781  151.5500  C22 C26        S  NaN    NaN   \n",
       "3  30.0000      1      2  113781  151.5500  C22 C26        S  NaN  135.0   \n",
       "4  25.0000      1      2  113781  151.5500  C22 C26        S  NaN    NaN   \n",
       "\n",
       "                         home.dest  \n",
       "0                     St Louis, MO  \n",
       "1  Montreal, PQ / Chesterville, ON  \n",
       "2  Montreal, PQ / Chesterville, ON  \n",
       "3  Montreal, PQ / Chesterville, ON  \n",
       "4  Montreal, PQ / Chesterville, ON  "
      ]
     },
     "execution_count": 38,
     "metadata": {},
     "output_type": "execute_result"
    }
   ],
   "source": [
    "titanic_data = pd.read_excel(DATA_FOLDER+'/titanic.xls')\n",
    "\n",
    "titanic_data.head()"
   ]
  },
  {
   "cell_type": "code",
   "execution_count": 39,
   "metadata": {},
   "outputs": [],
   "source": [
    "# Convert data to string\n",
    "titanic_data['boat'] = titanic_data['boat'].astype(str)\n",
    "titanic_data['ticket'] = titanic_data['ticket'].astype(str)\n",
    "# Remove non integer caracters from string\n",
    "test = titanic_data['ticket'].apply(lambda x: ''.join(c for c in x if c.isdigit()))\n",
    "test = test.replace('', -1)\n",
    "test = test.astype(int)\n",
    "test = test.replace(-1, np.nan)\n",
    "titanic_data['ticket'] = test"
   ]
  },
  {
   "cell_type": "code",
   "execution_count": 40,
   "metadata": {},
   "outputs": [],
   "source": [
    "# Replace nan values with unknown\n",
    "titanic_data['cabin'].replace(np.nan, 'unknown', inplace = True)\n",
    "titanic_data['embarked'].replace(np.nan, 'unknown', inplace = True)\n",
    "titanic_data['home.dest'].replace(np.nan, 'unknown', inplace = True)\n",
    "titanic_data['boat'].replace(np.nan, 'unknown', inplace = True)"
   ]
  },
  {
   "cell_type": "markdown",
   "metadata": {},
   "source": [
    "### 3.1. Describe the *type* and the *value range* of each attribute. Indicate and transform the attributes that can be `Categorical`. \n"
   ]
  },
  {
   "cell_type": "markdown",
   "metadata": {},
   "source": [
    "Get the min and max vals as well as the types of all attributes. \n",
    "Compute the range only if the type of the attribute is int or float"
   ]
  },
  {
   "cell_type": "code",
   "execution_count": 41,
   "metadata": {},
   "outputs": [
    {
     "data": {
      "text/html": [
       "<div>\n",
       "<style>\n",
       "    .dataframe thead tr:only-child th {\n",
       "        text-align: right;\n",
       "    }\n",
       "\n",
       "    .dataframe thead th {\n",
       "        text-align: left;\n",
       "    }\n",
       "\n",
       "    .dataframe tbody tr th {\n",
       "        vertical-align: top;\n",
       "    }\n",
       "</style>\n",
       "<table border=\"1\" class=\"dataframe\">\n",
       "  <thead>\n",
       "    <tr style=\"text-align: right;\">\n",
       "      <th></th>\n",
       "      <th>Type</th>\n",
       "      <th>Minimum</th>\n",
       "      <th>Maximum</th>\n",
       "      <th>Range</th>\n",
       "    </tr>\n",
       "  </thead>\n",
       "  <tbody>\n",
       "    <tr>\n",
       "      <th>pclass</th>\n",
       "      <td>int64</td>\n",
       "      <td>1</td>\n",
       "      <td>3</td>\n",
       "      <td>2</td>\n",
       "    </tr>\n",
       "    <tr>\n",
       "      <th>survived</th>\n",
       "      <td>int64</td>\n",
       "      <td>0</td>\n",
       "      <td>1</td>\n",
       "      <td>1</td>\n",
       "    </tr>\n",
       "    <tr>\n",
       "      <th>name</th>\n",
       "      <td>object</td>\n",
       "      <td>Abbing, Mr. Anthony</td>\n",
       "      <td>van Melkebeke, Mr. Philemon</td>\n",
       "      <td>None</td>\n",
       "    </tr>\n",
       "    <tr>\n",
       "      <th>sex</th>\n",
       "      <td>object</td>\n",
       "      <td>female</td>\n",
       "      <td>male</td>\n",
       "      <td>None</td>\n",
       "    </tr>\n",
       "    <tr>\n",
       "      <th>age</th>\n",
       "      <td>float64</td>\n",
       "      <td>0.1667</td>\n",
       "      <td>80</td>\n",
       "      <td>79.8333</td>\n",
       "    </tr>\n",
       "    <tr>\n",
       "      <th>sibsp</th>\n",
       "      <td>int64</td>\n",
       "      <td>0</td>\n",
       "      <td>8</td>\n",
       "      <td>8</td>\n",
       "    </tr>\n",
       "    <tr>\n",
       "      <th>parch</th>\n",
       "      <td>int64</td>\n",
       "      <td>0</td>\n",
       "      <td>9</td>\n",
       "      <td>9</td>\n",
       "    </tr>\n",
       "    <tr>\n",
       "      <th>ticket</th>\n",
       "      <td>float64</td>\n",
       "      <td>2</td>\n",
       "      <td>2.31013e+07</td>\n",
       "      <td>2.31013e+07</td>\n",
       "    </tr>\n",
       "    <tr>\n",
       "      <th>fare</th>\n",
       "      <td>float64</td>\n",
       "      <td>0</td>\n",
       "      <td>512.329</td>\n",
       "      <td>512.329</td>\n",
       "    </tr>\n",
       "    <tr>\n",
       "      <th>cabin</th>\n",
       "      <td>object</td>\n",
       "      <td>A10</td>\n",
       "      <td>unknown</td>\n",
       "      <td>None</td>\n",
       "    </tr>\n",
       "    <tr>\n",
       "      <th>embarked</th>\n",
       "      <td>object</td>\n",
       "      <td>C</td>\n",
       "      <td>unknown</td>\n",
       "      <td>None</td>\n",
       "    </tr>\n",
       "    <tr>\n",
       "      <th>boat</th>\n",
       "      <td>object</td>\n",
       "      <td>1</td>\n",
       "      <td>nan</td>\n",
       "      <td>None</td>\n",
       "    </tr>\n",
       "    <tr>\n",
       "      <th>body</th>\n",
       "      <td>float64</td>\n",
       "      <td>1</td>\n",
       "      <td>328</td>\n",
       "      <td>327</td>\n",
       "    </tr>\n",
       "    <tr>\n",
       "      <th>home.dest</th>\n",
       "      <td>object</td>\n",
       "      <td>?Havana, Cuba</td>\n",
       "      <td>unknown</td>\n",
       "      <td>None</td>\n",
       "    </tr>\n",
       "  </tbody>\n",
       "</table>\n",
       "</div>"
      ],
      "text/plain": [
       "              Type              Minimum                      Maximum  \\\n",
       "pclass       int64                    1                            3   \n",
       "survived     int64                    0                            1   \n",
       "name        object  Abbing, Mr. Anthony  van Melkebeke, Mr. Philemon   \n",
       "sex         object               female                         male   \n",
       "age        float64               0.1667                           80   \n",
       "sibsp        int64                    0                            8   \n",
       "parch        int64                    0                            9   \n",
       "ticket     float64                    2                  2.31013e+07   \n",
       "fare       float64                    0                      512.329   \n",
       "cabin       object                  A10                      unknown   \n",
       "embarked    object                    C                      unknown   \n",
       "boat        object                    1                          nan   \n",
       "body       float64                    1                          328   \n",
       "home.dest   object        ?Havana, Cuba                      unknown   \n",
       "\n",
       "                 Range  \n",
       "pclass               2  \n",
       "survived             1  \n",
       "name              None  \n",
       "sex               None  \n",
       "age            79.8333  \n",
       "sibsp                8  \n",
       "parch                9  \n",
       "ticket     2.31013e+07  \n",
       "fare           512.329  \n",
       "cabin             None  \n",
       "embarked          None  \n",
       "boat              None  \n",
       "body               327  \n",
       "home.dest         None  "
      ]
     },
     "execution_count": 41,
     "metadata": {},
     "output_type": "execute_result"
    }
   ],
   "source": [
    "def get_attributes_description(df):\n",
    "    # Get attribute description\n",
    "    \n",
    "    # Gather the types, min and max in list of dictionnaries\n",
    "    dicts = []\n",
    "    dicts.append(df.dtypes.to_dict())\n",
    "    dicts.append(df.min(skipna = True).to_dict())\n",
    "    dicts.append(df.max(skipna = True).to_dict())\n",
    "    # Put all in one dictionary\n",
    "    attributes = { k:[d[k] for d in dicts] for k in dicts[0]}\n",
    "    description = pd.DataFrame.from_dict(attributes, orient = 'index')\n",
    "    description.rename(columns={0:'Type', 1:'Minimum', 2:'Maximum'}, inplace=True)\n",
    "    \n",
    "    # Compte the range only if int or float\n",
    "    description['Range'] = None\n",
    "    condition = description.Type.tolist()\n",
    "    cond_int = [True if 'i' in x.str else False for x in condition]\n",
    "    cond_float = [True if 'f' in x.str else False for x in condition]\n",
    "    condition = [a or b for a, b in zip(cond_int, cond_float)]\n",
    "    max_vals = description.Maximum[condition]\n",
    "    min_vals = description.Minimum[condition]\n",
    "    description.Range[condition] = max_vals.subtract(min_vals)\n",
    "    return description\n",
    "\n",
    "titanic_description = get_attributes_description(titanic_data)\n",
    "titanic_description\n"
   ]
  },
  {
   "cell_type": "markdown",
   "metadata": {},
   "source": [
    "Here we see that there are certain attributes with missing information which is given by inf in the columns. This will be adressed in the following sections\n",
    "\n",
    "The attributes which can be defined as categorical are those which have predefined levels such as pclass (3), sex (2), cabin (187), embarked (3) and boat (28)."
   ]
  },
  {
   "cell_type": "code",
   "execution_count": 42,
   "metadata": {},
   "outputs": [],
   "source": [
    "categorical_attributes = ['pclass', 'sex', 'cabin', 'embarked', 'boat']\n",
    "\n",
    "categ_titanic = titanic_data.copy()\n",
    "\n",
    "for attribute in categorical_attributes:\n",
    "    attribute_cat = categ_titanic[attribute].unique().tolist() \n",
    "    categ_titanic[attribute] = categ_titanic[attribute].astype('category')\n",
    "    #categ_titanic[attribute].cat.categories = attribute_cat \n"
   ]
  },
  {
   "cell_type": "markdown",
   "metadata": {},
   "source": [
    "### Checking For Abherrant Data Before Handling"
   ]
  },
  {
   "cell_type": "code",
   "execution_count": 43,
   "metadata": {},
   "outputs": [
    {
     "name": "stdout",
     "output_type": "stream",
     "text": [
      "male      843\n",
      "female    466\n",
      "Name: sex, dtype: int64\n",
      "u    1014\n",
      "C      94\n",
      "B      65\n",
      "D      46\n",
      "E      41\n",
      "A      22\n",
      "F      21\n",
      "G       5\n",
      "T       1\n",
      "Name: cabin, dtype: int64\n",
      "3    709\n",
      "1    323\n",
      "2    277\n",
      "Name: pclass, dtype: int64\n",
      "S          914\n",
      "C          270\n",
      "Q          123\n",
      "unknown      2\n",
      "Name: embarked, dtype: int64\n",
      "nan        823\n",
      "13          39\n",
      "C           38\n",
      "15          37\n",
      "14          33\n",
      "4           31\n",
      "10          29\n",
      "5           27\n",
      "3           26\n",
      "9           25\n",
      "11          25\n",
      "16          23\n",
      "7           23\n",
      "8           23\n",
      "D           20\n",
      "6           20\n",
      "12          19\n",
      "2           13\n",
      "A           11\n",
      "B            9\n",
      "1            5\n",
      "5 7          2\n",
      "13 15        2\n",
      "C D          2\n",
      "5 9          1\n",
      "8 10         1\n",
      "15 16        1\n",
      "13 15 B      1\n",
      "Name: boat, dtype: int64\n",
      "0    1002\n",
      "1     170\n",
      "2     113\n",
      "3       8\n",
      "5       6\n",
      "4       6\n",
      "9       2\n",
      "6       2\n",
      "Name: parch, dtype: int64\n",
      "3    709\n",
      "1    323\n",
      "2    277\n",
      "Name: pclass, dtype: int64\n",
      "0    809\n",
      "1    500\n",
      "Name: survived, dtype: int64\n",
      "0    891\n",
      "1    319\n",
      "2     42\n",
      "4     22\n",
      "3     20\n",
      "8      9\n",
      "5      6\n",
      "Name: sibsp, dtype: int64\n"
     ]
    }
   ],
   "source": [
    "print(categ_titanic.sex.value_counts())\n",
    "print(categ_titanic.cabin.str[0].value_counts())\n",
    "print(categ_titanic.pclass.value_counts())\n",
    "print(categ_titanic.embarked.value_counts())\n",
    "print(categ_titanic.boat.value_counts())\n",
    "print(categ_titanic.parch.value_counts())\n",
    "print(categ_titanic.pclass.value_counts())\n",
    "print(categ_titanic.survived.value_counts())\n",
    "print(categ_titanic.sibsp.value_counts())"
   ]
  },
  {
   "cell_type": "markdown",
   "metadata": {},
   "source": [
    "There are ages which are between 0 and 1 but this seems to correspond to the age in months / 12. This is why this data was left as is. The Survived column sould be either True or False. If the value was superior to 1 it was then set back to 1. "
   ]
  },
  {
   "cell_type": "code",
   "execution_count": 44,
   "metadata": {},
   "outputs": [
    {
     "name": "stdout",
     "output_type": "stream",
     "text": [
      "               Type              Minimum                      Maximum  \\\n",
      "pclass     category                    1                            3   \n",
      "survived      int64                    0                            1   \n",
      "name         object  Abbing, Mr. Anthony  van Melkebeke, Mr. Philemon   \n",
      "sex        category               female                         male   \n",
      "age         float64               0.1667                           80   \n",
      "sibsp         int64                    0                            8   \n",
      "parch         int64                    0                            9   \n",
      "ticket      float64                    2                  2.31013e+07   \n",
      "fare        float64                    0                      512.329   \n",
      "cabin      category                  A10                      unknown   \n",
      "embarked   category                    C                      unknown   \n",
      "boat       category                    1                          nan   \n",
      "body        float64                    1                          328   \n",
      "home.dest    object        ?Havana, Cuba                      unknown   \n",
      "\n",
      "                 Range  \n",
      "pclass            None  \n",
      "survived             1  \n",
      "name              None  \n",
      "sex               None  \n",
      "age            79.8333  \n",
      "sibsp                8  \n",
      "parch                9  \n",
      "ticket     2.31013e+07  \n",
      "fare           512.329  \n",
      "cabin             None  \n",
      "embarked          None  \n",
      "boat              None  \n",
      "body               327  \n",
      "home.dest         None  \n"
     ]
    },
    {
     "name": "stderr",
     "output_type": "stream",
     "text": [
      "/Users/laila/anaconda/envs/ADA/lib/python3.6/site-packages/pandas/core/indexing.py:179: SettingWithCopyWarning: \n",
      "A value is trying to be set on a copy of a slice from a DataFrame\n",
      "\n",
      "See the caveats in the documentation: http://pandas.pydata.org/pandas-docs/stable/indexing.html#indexing-view-versus-copy\n",
      "  self._setitem_with_indexer(indexer, value)\n"
     ]
    }
   ],
   "source": [
    "# Cleaning the data of interest\n",
    "categ_titanic['age'].loc[(categ_titanic.age < 0)] = np.nan\n",
    "categ_titanic['cabin'].loc[(categ_titanic.cabin.str[0] == \"T\")] = \"unknown\"\n",
    "categ_titanic['survived'].loc[(categ_titanic.survived > 1)] = 1\n",
    "categ_titanic['home.dest'].fillna(\"unknown\", inplace=True)\n",
    "categ_titanic_description = get_attributes_description(categ_titanic)\n",
    "\n",
    "print(categ_titanic_description)"
   ]
  },
  {
   "cell_type": "markdown",
   "metadata": {},
   "source": [
    "### 3.2. Plot histograms for the *travel class*, *embarkation port*, *sex* and *age* attributes. For the latter one, use *discrete decade intervals*. \n"
   ]
  },
  {
   "cell_type": "code",
   "execution_count": 45,
   "metadata": {},
   "outputs": [
    {
     "data": {
      "image/png": "[encoded data removed]",
      "text/plain": [
       "<matplotlib.figure.Figure at 0x1108fc978>"
      ]
     },
     "metadata": {},
     "output_type": "display_data"
    }
   ],
   "source": [
    "def bar_plot(df, category):\n",
    "    counts = df[category].value_counts()\n",
    "    plt.bar(range(len(counts)), counts.values, align='center', edgecolor=\"k\")\n",
    "    plt.xticks(range(len(counts)), counts.index.values, size='small')\n",
    "    plt.title(category)\n",
    "    \n",
    "plt.figure(figsize = (15,10))\n",
    "plt.subplot(221)\n",
    "bar_plot(categ_titanic, 'pclass')\n",
    "plt.subplot(222)\n",
    "bar_plot(categ_titanic, 'embarked')\n",
    "plt.subplot(223)\n",
    "bar_plot(categ_titanic, 'sex')\n",
    "plt.subplot(224)\n",
    "bins= [i*10 for i in range(11)]\n",
    "out = pd.cut(categ_titanic['age'], bins=bins, include_lowest=True)\n",
    "out.value_counts(sort=False).plot.bar(edgecolor = 'k')\n",
    "plt.title('age')\n",
    "plt.show()  "
   ]
  },
  {
   "cell_type": "markdown",
   "metadata": {},
   "source": [
    "### 3.3. Calculate the proportion of passengers by *cabin floor*. Present your results in a *pie chart*."
   ]
  },
  {
   "cell_type": "code",
   "execution_count": 46,
   "metadata": {},
   "outputs": [
    {
     "name": "stdout",
     "output_type": "stream",
     "text": [
      "u    0.775401\n",
      "C    0.071811\n",
      "B    0.049656\n",
      "D    0.035141\n",
      "E    0.031322\n",
      "A    0.016807\n",
      "F    0.016043\n",
      "G    0.003820\n",
      "Name: cabin, dtype: float64\n"
     ]
    },
    {
     "data": {
      "text/plain": [
       "<matplotlib.text.Text at 0x111284c50>"
      ]
     },
     "execution_count": 46,
     "metadata": {},
     "output_type": "execute_result"
    },
    {
     "data": {
      "image/png": "[encoded data removed]",
      "text/plain": [
       "<matplotlib.figure.Figure at 0x11091e630>"
      ]
     },
     "metadata": {},
     "output_type": "display_data"
    }
   ],
   "source": [
    "# Extract the cabin floors from the first letter of the cabins\n",
    "cabin_floors = categ_titanic.cabin.str[0]\n",
    "\n",
    "# Compute the total number of passengers\n",
    "num_passengers = len(cabin_floors.tolist())\n",
    "# Get the number of passengers per floor and compute the proportions\n",
    "cabin_floors_proportions = cabin_floors.value_counts()/num_passengers\n",
    "print(cabin_floors_proportions)\n",
    "\n",
    "plt.figure(figsize = (10,10))\n",
    "cabin_floors_proportions.plot.pie()\n",
    "plt.title('Proportion of passengers by cabin floor for all passengers')"
   ]
  },
  {
   "cell_type": "code",
   "execution_count": 47,
   "metadata": {},
   "outputs": [
    {
     "name": "stdout",
     "output_type": "stream",
     "text": [
      "C    0.319728\n",
      "B    0.221088\n",
      "D    0.156463\n",
      "E    0.139456\n",
      "A    0.074830\n",
      "F    0.071429\n",
      "G    0.017007\n",
      "Name: cabin, dtype: float64\n"
     ]
    },
    {
     "data": {
      "text/plain": [
       "<matplotlib.text.Text at 0x110e34eb8>"
      ]
     },
     "execution_count": 47,
     "metadata": {},
     "output_type": "execute_result"
    },
    {
     "data": {
      "image/png": "[encoded data removed]",
      "text/plain": [
       "<matplotlib.figure.Figure at 0x1109559b0>"
      ]
     },
     "metadata": {},
     "output_type": "display_data"
    }
   ],
   "source": [
    "# Extract the cabin floors from the first letter of the cabins\n",
    "cabin_floors = categ_titanic.cabin.str[0]\n",
    "cabin_floors = cabin_floors[cabin_floors.str.contains(\"u|T\") == False]\n",
    "\n",
    "# Compute the total number of passengers\n",
    "num_passengers = len(cabin_floors.tolist())\n",
    "# Get the number of passengers per floor and compute the proportions\n",
    "cabin_floors_proportions = cabin_floors.value_counts()/num_passengers\n",
    "print(cabin_floors_proportions)\n",
    "\n",
    "plt.figure(figsize = (10,10))\n",
    "cabin_floors_proportions.plot.pie()\n",
    "plt.title('Proportion of passengers by cabin floor for passengers with known floors')"
   ]
  },
  {
   "cell_type": "markdown",
   "metadata": {},
   "source": [
    "### 3.4. For each *travel class*, calculate the proportion of the passengers that survived. Present your results in *pie charts*."
   ]
  },
  {
   "cell_type": "code",
   "execution_count": 48,
   "metadata": {},
   "outputs": [],
   "source": [
    "def compute_survival_proportions(df, by_category):\n",
    "    # Groupe the passengers by travel class\n",
    "    travel_classes = df.groupby(by_category)\n",
    "    # Get the average of passengers that survived for each class\n",
    "    survival_per_class = travel_classes[['survived']].mean()\n",
    "    survival_per_class['died'] = 1-survival_per_class\n",
    "    print(survival_per_class)\n",
    "    return survival_per_class"
   ]
  },
  {
   "cell_type": "code",
   "execution_count": 49,
   "metadata": {},
   "outputs": [
    {
     "name": "stdout",
     "output_type": "stream",
     "text": [
      "        survived      died\n",
      "pclass                    \n",
      "1       0.619195  0.380805\n",
      "2       0.429603  0.570397\n",
      "3       0.255289  0.744711\n"
     ]
    },
    {
     "data": {
      "text/plain": [
       "<matplotlib.text.Text at 0x110f9e630>"
      ]
     },
     "execution_count": 49,
     "metadata": {},
     "output_type": "execute_result"
    },
    {
     "data": {
      "image/png": "[encoded data removed]",
      "text/plain": [
       "<matplotlib.figure.Figure at 0x110e2c4a8>"
      ]
     },
     "metadata": {},
     "output_type": "display_data"
    }
   ],
   "source": [
    "survival_class = compute_survival_proportions(categ_titanic, ['pclass'])\n",
    "suvival_class_transpose = survival_class.transpose()\n",
    "\n",
    "suvival_class_transpose.plot.pie(subplots = True, figsize = (15,5))\n",
    "plt.title('Proportion of the passengers that survived per travel class')"
   ]
  },
  {
   "cell_type": "markdown",
   "metadata": {},
   "source": [
    "### 3.5. Calculate the proportion of the passengers that survived by *travel class* and *sex*. Present your results in *a single histogram*."
   ]
  },
  {
   "cell_type": "code",
   "execution_count": 50,
   "metadata": {},
   "outputs": [
    {
     "name": "stdout",
     "output_type": "stream",
     "text": [
      "               survived      died\n",
      "pclass sex                       \n",
      "1      female  0.965278  0.034722\n",
      "       male    0.340782  0.659218\n",
      "2      female  0.886792  0.113208\n",
      "       male    0.146199  0.853801\n",
      "3      female  0.490741  0.509259\n",
      "       male    0.152130  0.847870\n"
     ]
    },
    {
     "data": {
      "text/plain": [
       "<matplotlib.text.Text at 0x11106fa20>"
      ]
     },
     "execution_count": 50,
     "metadata": {},
     "output_type": "execute_result"
    },
    {
     "data": {
      "text/plain": [
       "<matplotlib.figure.Figure at 0x110f7b208>"
      ]
     },
     "metadata": {},
     "output_type": "display_data"
    },
    {
     "data": {
      "image/png": "[encoded data removed]",
      "text/plain": [
       "<matplotlib.figure.Figure at 0x110365da0>"
      ]
     },
     "metadata": {},
     "output_type": "display_data"
    }
   ],
   "source": [
    "survival_class_sex = compute_survival_proportions(categ_titanic, ['pclass', 'sex'])\n",
    "plt.figure(figsize = (10,10))\n",
    "survival_class_sex.plot.bar()\n",
    "plt.title('Proportion of the passengers that survived by travel class and sex')"
   ]
  },
  {
   "cell_type": "markdown",
   "metadata": {},
   "source": [
    "### 3.6. Create 2 equally populated *age categories* and calculate survival proportions by *age category*, *travel class* and *sex*. Present your results in a `DataFrame` with unique index."
   ]
  },
  {
   "cell_type": "code",
   "execution_count": 51,
   "metadata": {},
   "outputs": [
    {
     "name": "stdout",
     "output_type": "stream",
     "text": [
      "Number of passengers with the median age : 32\n"
     ]
    }
   ],
   "source": [
    "# Compute the median\n",
    "median_age = categ_titanic['age'].median(skipna = True)\n",
    "print(\"Number of passengers with the median age :\",(categ_titanic['age'] == median_age).sum()) "
   ]
  },
  {
   "cell_type": "markdown",
   "metadata": {},
   "source": [
    "There are too many people with the median age. It is not possible to cut based on the median and obtain equal sized categories. "
   ]
  },
  {
   "cell_type": "code",
   "execution_count": 52,
   "metadata": {},
   "outputs": [
    {
     "name": "stdout",
     "output_type": "stream",
     "text": [
      "                         survived      died\n",
      "age_categ pclass sex                       \n",
      "old       1      female  0.963964  0.036036\n",
      "                 male    0.333333  0.666667\n",
      "          2      female  0.871429  0.128571\n",
      "                 male    0.080645  0.919355\n",
      "          3      female  0.467532  0.532468\n",
      "                 male    0.157407  0.842593\n",
      "young     1      female  0.954545  0.045455\n",
      "                 male    0.538462  0.461538\n",
      "          2      female  0.939394  0.060606\n",
      "                 male    0.382353  0.617647\n",
      "          3      female  0.480000  0.520000\n",
      "                 male    0.187970  0.812030\n",
      "Index is unique:  True\n"
     ]
    }
   ],
   "source": [
    "# Sort by age\n",
    "age_sorted = categ_titanic.sort_values(['age'])\n",
    "# Keep rows where age is not nan\n",
    "age_sorted = age_sorted[np.isfinite(age_sorted['age'])]\n",
    "# Get the number of passengers for which the age is given\n",
    "num_passengers = len(age_sorted['age'].tolist())\n",
    "# Break up the dataframe into two equal proportions by age category : young and old\n",
    "age_sorted.loc[:(num_passengers//2),'age_categ']= 'young'\n",
    "age_sorted.loc[(num_passengers//2):,'age_categ']= 'old'\n",
    "#----------------------------------------------------------------------------------------------------\n",
    "\n",
    "# Plot the survival proportions\n",
    "survival_age_class_sex = compute_survival_proportions(age_sorted, ['age_categ','pclass', 'sex'])\n",
    "print(\"Index is unique: \",survival_age_class_sex.index.is_unique)"
   ]
  },
  {
   "cell_type": "code",
   "execution_count": null,
   "metadata": {
    "collapsed": true
   },
   "outputs": [],
   "source": []
  }
 ],
 "metadata": {
  "kernelspec": {
   "display_name": "Python [default]",
   "language": "python",
   "name": "python3"
  },
  "language_info": {
   "codemirror_mode": {
    "name": "ipython",
    "version": 3
   },
   "file_extension": ".py",
   "mimetype": "text/x-python",
   "name": "python",
   "nbconvert_exporter": "python",
   "pygments_lexer": "ipython3",
   "version": "3.6.2"
  }
 },
 "nbformat": 4,
 "nbformat_minor": 2
}
