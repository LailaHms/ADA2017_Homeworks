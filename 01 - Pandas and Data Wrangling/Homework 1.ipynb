{
 "cells": [
  {
   "cell_type": "markdown",
   "metadata": {},
   "source": [
    "# Table of Contents\n",
    " <p><div class=\"lev1\"><a href=\"#Task-1.-Compiling-Ebola-Data\"><span class=\"toc-item-num\">Task 1.&nbsp;&nbsp;</span>Compiling Ebola Data</a></div>\n",
    " <div class=\"lev1\"><a href=\"#Task-2.-RNA-Sequences\"><span class=\"toc-item-num\">Task 2.&nbsp;&nbsp;</span>RNA Sequences</a></div>\n",
    " <div class=\"lev1\"><a href=\"#Task-3.-Class-War-in-Titanic\"><span class=\"toc-item-num\">Task 3.&nbsp;&nbsp;</span>Class War in Titanic</a></div></p>"
   ]
  },
  {
   "cell_type": "code",
   "execution_count": 1,
   "metadata": {},
   "outputs": [],
   "source": [
    "DATA_FOLDER = './Data' # Use the data folder provided in Tutorial 02 - Intro to Pandas."
   ]
  },
  {
   "cell_type": "code",
   "execution_count": 2,
   "metadata": {},
   "outputs": [],
   "source": [
    "import os \n",
    "import pandas as pd\n",
    "import numpy as np\n",
    "import matplotlib.pyplot as plt\n",
    "%matplotlib inline"
   ]
  },
  {
   "cell_type": "markdown",
   "metadata": {},
   "source": [
    "## Task 1. Compiling Ebola Data\n",
    "\n",
    "The `DATA_FOLDER/ebola` folder contains summarized reports of Ebola cases from three countries (Guinea, Liberia and Sierra Leone) during the recent outbreak of the disease in West Africa. For each country, there are daily reports that contain various information about the outbreak in several cities in each country.\n",
    "\n",
    "Use pandas to import these data files into a single `Dataframe`.\n",
    "Using this `DataFrame`, calculate for *each country*, the *daily average per month* of *new cases* and *deaths*.\n",
    "Make sure you handle all the different expressions for *new cases* and *deaths* that are used in the reports."
   ]
  },
  {
   "cell_type": "code",
   "execution_count": 3,
   "metadata": {},
   "outputs": [],
   "source": [
    "# Write your answer here\n",
    "\n",
    "# Ebola Folder \n",
    "DATA_FOLDER_ebola = DATA_FOLDER + '/ebola'\n",
    "# Directories in the folder\n",
    "ebola_directories = os.listdir(DATA_FOLDER_ebola)\n",
    "# Remove License File\n",
    "del ebola_directories[ebola_directories.index('LICENSE')]\n",
    "\n",
    "# Names of the columns which contain the total number of daily incidents\n",
    "data_columns = {'liberia':['Date','Variable', 'National'],\n",
    "                'sl': ['date','variable', 'National'],\n",
    "                'guinea':['Date','Description', 'Totals']\n",
    "               }"
   ]
  },
  {
   "cell_type": "markdown",
   "metadata": {},
   "source": [
    "### Load All CSV Files Contained In One Folder\n",
    "TODO : write the explanatory paragraph"
   ]
  },
  {
   "cell_type": "code",
   "execution_count": 4,
   "metadata": {},
   "outputs": [],
   "source": [
    "# Loads the information relevant to deaths and cases within the csv files contained in the directory for a given country\n",
    "\n",
    "def load_csv_files_into_dataframe(folder, country):\n",
    "    country_folder = folder + '/'+ country +'_data'\n",
    "    csv_files = os.listdir(country_folder)    \n",
    "    \n",
    "    all_data = pd.DataFrame()\n",
    "    \n",
    "    date = data_columns[country][0]\n",
    "    description = data_columns[country][1]\n",
    "    totals = data_columns[country][2]\n",
    "    \n",
    "    for i, file in enumerate(csv_files):\n",
    "        \n",
    "        daily_csv = pd.read_csv(country_folder + '/' +file)\n",
    "        \n",
    "        # Find columns containing death or case keywords\n",
    "        motives  = daily_csv[description][daily_csv[description].str.contains(\"death\" or \"case\")]\n",
    "        # Create a dictionary with the date and country\n",
    "        daily_dict = {'Date': file[:10], 'Country':country}\n",
    "        # Add the motives with corresponding total / national values to the dictionary\n",
    "        daily_dict.update(dict(zip(motives.tolist(), daily_csv[totals][motives.index].tolist())))\n",
    "        # Append the dictionary to the dataframe\n",
    "        all_data = all_data.append(daily_dict, ignore_index = True)\n",
    "    \n",
    "    all_data.set_index(['Date','Country'], inplace = True)\n",
    "    return all_data"
   ]
  },
  {
   "cell_type": "markdown",
   "metadata": {},
   "source": [
    "### Liberia Dataset"
   ]
  },
  {
   "cell_type": "code",
   "execution_count": 5,
   "metadata": {
    "scrolled": true
   },
   "outputs": [
    {
     "data": {
      "text/html": [
       "<div>\n",
       "<style>\n",
       "    .dataframe thead tr:only-child th {\n",
       "        text-align: right;\n",
       "    }\n",
       "\n",
       "    .dataframe thead th {\n",
       "        text-align: left;\n",
       "    }\n",
       "\n",
       "    .dataframe tbody tr th {\n",
       "        vertical-align: top;\n",
       "    }\n",
       "</style>\n",
       "<table border=\"1\" class=\"dataframe\">\n",
       "  <thead>\n",
       "    <tr style=\"text-align: right;\">\n",
       "      <th></th>\n",
       "      <th></th>\n",
       "      <th>Cumulative deaths among HCW</th>\n",
       "      <th>Newly Reported deaths in HCW</th>\n",
       "      <th>Newly reported deaths</th>\n",
       "      <th>Total death/s in confirmed cases</th>\n",
       "      <th>Total death/s in confirmed, probable, suspected cases</th>\n",
       "      <th>Total death/s in probable cases</th>\n",
       "      <th>Total death/s in suspected cases</th>\n",
       "      <th>Total death/s in confirmed,  probable, suspected cases</th>\n",
       "      <th>Total death/s in confirmed, \n",
       " probable, suspected cases</th>\n",
       "    </tr>\n",
       "    <tr>\n",
       "      <th>Date</th>\n",
       "      <th>Country</th>\n",
       "      <th></th>\n",
       "      <th></th>\n",
       "      <th></th>\n",
       "      <th></th>\n",
       "      <th></th>\n",
       "      <th></th>\n",
       "      <th></th>\n",
       "      <th></th>\n",
       "      <th></th>\n",
       "    </tr>\n",
       "  </thead>\n",
       "  <tbody>\n",
       "    <tr>\n",
       "      <th>2014-06-16</th>\n",
       "      <th>liberia</th>\n",
       "      <td>1.0</td>\n",
       "      <td>0.0</td>\n",
       "      <td>2.0</td>\n",
       "      <td>8.0</td>\n",
       "      <td>16.0</td>\n",
       "      <td>6.0</td>\n",
       "      <td>2.0</td>\n",
       "      <td>NaN</td>\n",
       "      <td>NaN</td>\n",
       "    </tr>\n",
       "    <tr>\n",
       "      <th>2014-06-17</th>\n",
       "      <th>liberia</th>\n",
       "      <td>1.0</td>\n",
       "      <td>0.0</td>\n",
       "      <td>0.0</td>\n",
       "      <td>8.0</td>\n",
       "      <td>16.0</td>\n",
       "      <td>6.0</td>\n",
       "      <td>2.0</td>\n",
       "      <td>NaN</td>\n",
       "      <td>NaN</td>\n",
       "    </tr>\n",
       "    <tr>\n",
       "      <th>2014-06-22</th>\n",
       "      <th>liberia</th>\n",
       "      <td>1.0</td>\n",
       "      <td>0.0</td>\n",
       "      <td>4.0</td>\n",
       "      <td>16.0</td>\n",
       "      <td>25.0</td>\n",
       "      <td>8.0</td>\n",
       "      <td>1.0</td>\n",
       "      <td>NaN</td>\n",
       "      <td>NaN</td>\n",
       "    </tr>\n",
       "    <tr>\n",
       "      <th>2014-06-24</th>\n",
       "      <th>liberia</th>\n",
       "      <td>2.0</td>\n",
       "      <td>0.0</td>\n",
       "      <td>4.0</td>\n",
       "      <td>18.0</td>\n",
       "      <td>32.0</td>\n",
       "      <td>8.0</td>\n",
       "      <td>6.0</td>\n",
       "      <td>NaN</td>\n",
       "      <td>NaN</td>\n",
       "    </tr>\n",
       "    <tr>\n",
       "      <th>2014-06-25</th>\n",
       "      <th>liberia</th>\n",
       "      <td>3.0</td>\n",
       "      <td>1.0</td>\n",
       "      <td>3.0</td>\n",
       "      <td>20.0</td>\n",
       "      <td>37.0</td>\n",
       "      <td>8.0</td>\n",
       "      <td>9.0</td>\n",
       "      <td>NaN</td>\n",
       "      <td>NaN</td>\n",
       "    </tr>\n",
       "  </tbody>\n",
       "</table>\n",
       "</div>"
      ],
      "text/plain": [
       "                    Cumulative deaths among HCW  Newly Reported deaths in HCW  \\\n",
       "Date       Country                                                              \n",
       "2014-06-16 liberia                          1.0                           0.0   \n",
       "2014-06-17 liberia                          1.0                           0.0   \n",
       "2014-06-22 liberia                          1.0                           0.0   \n",
       "2014-06-24 liberia                          2.0                           0.0   \n",
       "2014-06-25 liberia                          3.0                           1.0   \n",
       "\n",
       "                    Newly reported deaths  Total death/s in confirmed cases  \\\n",
       "Date       Country                                                            \n",
       "2014-06-16 liberia                    2.0                               8.0   \n",
       "2014-06-17 liberia                    0.0                               8.0   \n",
       "2014-06-22 liberia                    4.0                              16.0   \n",
       "2014-06-24 liberia                    4.0                              18.0   \n",
       "2014-06-25 liberia                    3.0                              20.0   \n",
       "\n",
       "                    Total death/s in confirmed, probable, suspected cases  \\\n",
       "Date       Country                                                          \n",
       "2014-06-16 liberia                                               16.0       \n",
       "2014-06-17 liberia                                               16.0       \n",
       "2014-06-22 liberia                                               25.0       \n",
       "2014-06-24 liberia                                               32.0       \n",
       "2014-06-25 liberia                                               37.0       \n",
       "\n",
       "                    Total death/s in probable cases  \\\n",
       "Date       Country                                    \n",
       "2014-06-16 liberia                              6.0   \n",
       "2014-06-17 liberia                              6.0   \n",
       "2014-06-22 liberia                              8.0   \n",
       "2014-06-24 liberia                              8.0   \n",
       "2014-06-25 liberia                              8.0   \n",
       "\n",
       "                    Total death/s in suspected cases  \\\n",
       "Date       Country                                     \n",
       "2014-06-16 liberia                               2.0   \n",
       "2014-06-17 liberia                               2.0   \n",
       "2014-06-22 liberia                               1.0   \n",
       "2014-06-24 liberia                               6.0   \n",
       "2014-06-25 liberia                               9.0   \n",
       "\n",
       "                    Total death/s in confirmed,  probable, suspected cases  \\\n",
       "Date       Country                                                           \n",
       "2014-06-16 liberia                                                NaN        \n",
       "2014-06-17 liberia                                                NaN        \n",
       "2014-06-22 liberia                                                NaN        \n",
       "2014-06-24 liberia                                                NaN        \n",
       "2014-06-25 liberia                                                NaN        \n",
       "\n",
       "                    Total death/s in confirmed, \\n probable, suspected cases  \n",
       "Date       Country                                                            \n",
       "2014-06-16 liberia                                                NaN         \n",
       "2014-06-17 liberia                                                NaN         \n",
       "2014-06-22 liberia                                                NaN         \n",
       "2014-06-24 liberia                                                NaN         \n",
       "2014-06-25 liberia                                                NaN         "
      ]
     },
     "execution_count": 5,
     "metadata": {},
     "output_type": "execute_result"
    }
   ],
   "source": [
    "liberia_data = load_csv_files_into_dataframe(DATA_FOLDER_ebola,'liberia')\n",
    "\n",
    "liberia_data.head()"
   ]
  },
  {
   "cell_type": "markdown",
   "metadata": {},
   "source": [
    "### Guinea Dataset"
   ]
  },
  {
   "cell_type": "code",
   "execution_count": 6,
   "metadata": {},
   "outputs": [
    {
     "data": {
      "text/html": [
       "<div>\n",
       "<style>\n",
       "    .dataframe thead tr:only-child th {\n",
       "        text-align: right;\n",
       "    }\n",
       "\n",
       "    .dataframe thead th {\n",
       "        text-align: left;\n",
       "    }\n",
       "\n",
       "    .dataframe tbody tr th {\n",
       "        vertical-align: top;\n",
       "    }\n",
       "</style>\n",
       "<table border=\"1\" class=\"dataframe\">\n",
       "  <thead>\n",
       "    <tr style=\"text-align: right;\">\n",
       "      <th></th>\n",
       "      <th></th>\n",
       "      <th>New deaths registered today</th>\n",
       "      <th>New deaths registered today (confirmed)</th>\n",
       "      <th>New deaths registered today (probables)</th>\n",
       "      <th>New deaths registered today (suspects)</th>\n",
       "      <th>Number of death of confirmed cases among health workers</th>\n",
       "      <th>Number of deaths of confirmed cases among health workers</th>\n",
       "      <th>Number of deaths of probables cases among health workers</th>\n",
       "      <th>Total deaths (confirmed + probables + suspects)</th>\n",
       "      <th>Total deaths of confirmed</th>\n",
       "      <th>Total deaths of probables</th>\n",
       "      <th>Total deaths of suspects</th>\n",
       "      <th>Total of deaths in confirmed cases in CTE</th>\n",
       "      <th>New deaths registered</th>\n",
       "      <th>New deaths registered among health workers</th>\n",
       "      <th>Total deaths registered among health workers</th>\n",
       "    </tr>\n",
       "    <tr>\n",
       "      <th>Date</th>\n",
       "      <th>Country</th>\n",
       "      <th></th>\n",
       "      <th></th>\n",
       "      <th></th>\n",
       "      <th></th>\n",
       "      <th></th>\n",
       "      <th></th>\n",
       "      <th></th>\n",
       "      <th></th>\n",
       "      <th></th>\n",
       "      <th></th>\n",
       "      <th></th>\n",
       "      <th></th>\n",
       "      <th></th>\n",
       "      <th></th>\n",
       "      <th></th>\n",
       "    </tr>\n",
       "  </thead>\n",
       "  <tbody>\n",
       "    <tr>\n",
       "      <th>2014-08-04</th>\n",
       "      <th>guinea</th>\n",
       "      <td>2.0</td>\n",
       "      <td>2.0</td>\n",
       "      <td>0.0</td>\n",
       "      <td>0.0</td>\n",
       "      <td>0.0</td>\n",
       "      <td>12.0</td>\n",
       "      <td>8.0</td>\n",
       "      <td>363</td>\n",
       "      <td>228</td>\n",
       "      <td>133</td>\n",
       "      <td>2</td>\n",
       "      <td>138.0</td>\n",
       "      <td>NaN</td>\n",
       "      <td>NaN</td>\n",
       "      <td>NaN</td>\n",
       "    </tr>\n",
       "    <tr>\n",
       "      <th>2014-08-26</th>\n",
       "      <th>guinea</th>\n",
       "      <td>NaN</td>\n",
       "      <td>NaN</td>\n",
       "      <td>NaN</td>\n",
       "      <td>NaN</td>\n",
       "      <td>NaN</td>\n",
       "      <td>NaN</td>\n",
       "      <td>NaN</td>\n",
       "      <td>958</td>\n",
       "      <td>292</td>\n",
       "      <td>141</td>\n",
       "      <td>2</td>\n",
       "      <td>NaN</td>\n",
       "      <td>5</td>\n",
       "      <td>0</td>\n",
       "      <td>26</td>\n",
       "    </tr>\n",
       "    <tr>\n",
       "      <th>2014-08-27</th>\n",
       "      <th>guinea</th>\n",
       "      <td>NaN</td>\n",
       "      <td>NaN</td>\n",
       "      <td>NaN</td>\n",
       "      <td>NaN</td>\n",
       "      <td>NaN</td>\n",
       "      <td>NaN</td>\n",
       "      <td>NaN</td>\n",
       "      <td>438</td>\n",
       "      <td>294</td>\n",
       "      <td>142</td>\n",
       "      <td>2</td>\n",
       "      <td>NaN</td>\n",
       "      <td>2</td>\n",
       "      <td>0</td>\n",
       "      <td>26</td>\n",
       "    </tr>\n",
       "    <tr>\n",
       "      <th>2014-08-30</th>\n",
       "      <th>guinea</th>\n",
       "      <td>NaN</td>\n",
       "      <td>NaN</td>\n",
       "      <td>NaN</td>\n",
       "      <td>NaN</td>\n",
       "      <td>NaN</td>\n",
       "      <td>NaN</td>\n",
       "      <td>NaN</td>\n",
       "      <td>468</td>\n",
       "      <td>324</td>\n",
       "      <td>142</td>\n",
       "      <td>2</td>\n",
       "      <td>NaN</td>\n",
       "      <td>5</td>\n",
       "      <td>0</td>\n",
       "      <td>26</td>\n",
       "    </tr>\n",
       "    <tr>\n",
       "      <th>2014-08-31</th>\n",
       "      <th>guinea</th>\n",
       "      <td>NaN</td>\n",
       "      <td>NaN</td>\n",
       "      <td>NaN</td>\n",
       "      <td>NaN</td>\n",
       "      <td>NaN</td>\n",
       "      <td>NaN</td>\n",
       "      <td>NaN</td>\n",
       "      <td>489</td>\n",
       "      <td>337</td>\n",
       "      <td>150</td>\n",
       "      <td>2</td>\n",
       "      <td>NaN</td>\n",
       "      <td>3</td>\n",
       "      <td>0</td>\n",
       "      <td>26</td>\n",
       "    </tr>\n",
       "  </tbody>\n",
       "</table>\n",
       "</div>"
      ],
      "text/plain": [
       "                    New deaths registered today  \\\n",
       "Date       Country                                \n",
       "2014-08-04 guinea                           2.0   \n",
       "2014-08-26 guinea                           NaN   \n",
       "2014-08-27 guinea                           NaN   \n",
       "2014-08-30 guinea                           NaN   \n",
       "2014-08-31 guinea                           NaN   \n",
       "\n",
       "                    New deaths registered today (confirmed)  \\\n",
       "Date       Country                                            \n",
       "2014-08-04 guinea                                       2.0   \n",
       "2014-08-26 guinea                                       NaN   \n",
       "2014-08-27 guinea                                       NaN   \n",
       "2014-08-30 guinea                                       NaN   \n",
       "2014-08-31 guinea                                       NaN   \n",
       "\n",
       "                    New deaths registered today (probables)  \\\n",
       "Date       Country                                            \n",
       "2014-08-04 guinea                                       0.0   \n",
       "2014-08-26 guinea                                       NaN   \n",
       "2014-08-27 guinea                                       NaN   \n",
       "2014-08-30 guinea                                       NaN   \n",
       "2014-08-31 guinea                                       NaN   \n",
       "\n",
       "                    New deaths registered today (suspects)  \\\n",
       "Date       Country                                           \n",
       "2014-08-04 guinea                                      0.0   \n",
       "2014-08-26 guinea                                      NaN   \n",
       "2014-08-27 guinea                                      NaN   \n",
       "2014-08-30 guinea                                      NaN   \n",
       "2014-08-31 guinea                                      NaN   \n",
       "\n",
       "                    Number of death of confirmed cases among health workers  \\\n",
       "Date       Country                                                            \n",
       "2014-08-04 guinea                                                 0.0         \n",
       "2014-08-26 guinea                                                 NaN         \n",
       "2014-08-27 guinea                                                 NaN         \n",
       "2014-08-30 guinea                                                 NaN         \n",
       "2014-08-31 guinea                                                 NaN         \n",
       "\n",
       "                    Number of deaths of confirmed cases among health workers  \\\n",
       "Date       Country                                                             \n",
       "2014-08-04 guinea                                                12.0          \n",
       "2014-08-26 guinea                                                 NaN          \n",
       "2014-08-27 guinea                                                 NaN          \n",
       "2014-08-30 guinea                                                 NaN          \n",
       "2014-08-31 guinea                                                 NaN          \n",
       "\n",
       "                    Number of deaths of probables cases among health workers  \\\n",
       "Date       Country                                                             \n",
       "2014-08-04 guinea                                                 8.0          \n",
       "2014-08-26 guinea                                                 NaN          \n",
       "2014-08-27 guinea                                                 NaN          \n",
       "2014-08-30 guinea                                                 NaN          \n",
       "2014-08-31 guinea                                                 NaN          \n",
       "\n",
       "                   Total deaths (confirmed + probables + suspects)  \\\n",
       "Date       Country                                                   \n",
       "2014-08-04 guinea                                              363   \n",
       "2014-08-26 guinea                                              958   \n",
       "2014-08-27 guinea                                              438   \n",
       "2014-08-30 guinea                                              468   \n",
       "2014-08-31 guinea                                              489   \n",
       "\n",
       "                   Total deaths of confirmed Total deaths of probables  \\\n",
       "Date       Country                                                       \n",
       "2014-08-04 guinea                        228                       133   \n",
       "2014-08-26 guinea                        292                       141   \n",
       "2014-08-27 guinea                        294                       142   \n",
       "2014-08-30 guinea                        324                       142   \n",
       "2014-08-31 guinea                        337                       150   \n",
       "\n",
       "                   Total deaths of suspects  \\\n",
       "Date       Country                            \n",
       "2014-08-04 guinea                         2   \n",
       "2014-08-26 guinea                         2   \n",
       "2014-08-27 guinea                         2   \n",
       "2014-08-30 guinea                         2   \n",
       "2014-08-31 guinea                         2   \n",
       "\n",
       "                    Total of deaths in confirmed cases in CTE  \\\n",
       "Date       Country                                              \n",
       "2014-08-04 guinea                                       138.0   \n",
       "2014-08-26 guinea                                         NaN   \n",
       "2014-08-27 guinea                                         NaN   \n",
       "2014-08-30 guinea                                         NaN   \n",
       "2014-08-31 guinea                                         NaN   \n",
       "\n",
       "                   New deaths registered  \\\n",
       "Date       Country                         \n",
       "2014-08-04 guinea                    NaN   \n",
       "2014-08-26 guinea                      5   \n",
       "2014-08-27 guinea                      2   \n",
       "2014-08-30 guinea                      5   \n",
       "2014-08-31 guinea                      3   \n",
       "\n",
       "                   New deaths registered among health workers  \\\n",
       "Date       Country                                              \n",
       "2014-08-04 guinea                                         NaN   \n",
       "2014-08-26 guinea                                           0   \n",
       "2014-08-27 guinea                                           0   \n",
       "2014-08-30 guinea                                           0   \n",
       "2014-08-31 guinea                                           0   \n",
       "\n",
       "                   Total deaths registered among health workers  \n",
       "Date       Country                                               \n",
       "2014-08-04 guinea                                           NaN  \n",
       "2014-08-26 guinea                                            26  \n",
       "2014-08-27 guinea                                            26  \n",
       "2014-08-30 guinea                                            26  \n",
       "2014-08-31 guinea                                            26  "
      ]
     },
     "execution_count": 6,
     "metadata": {},
     "output_type": "execute_result"
    }
   ],
   "source": [
    "guinea_data = load_csv_files_into_dataframe(DATA_FOLDER_ebola,'guinea')\n",
    "\n",
    "guinea_data.head()"
   ]
  },
  {
   "cell_type": "markdown",
   "metadata": {},
   "source": [
    "### Sierra Leone Dataset"
   ]
  },
  {
   "cell_type": "code",
   "execution_count": 7,
   "metadata": {},
   "outputs": [
    {
     "data": {
      "text/html": [
       "<div>\n",
       "<style>\n",
       "    .dataframe thead tr:only-child th {\n",
       "        text-align: right;\n",
       "    }\n",
       "\n",
       "    .dataframe thead th {\n",
       "        text-align: left;\n",
       "    }\n",
       "\n",
       "    .dataframe tbody tr th {\n",
       "        vertical-align: top;\n",
       "    }\n",
       "</style>\n",
       "<table border=\"1\" class=\"dataframe\">\n",
       "  <thead>\n",
       "    <tr style=\"text-align: right;\">\n",
       "      <th></th>\n",
       "      <th></th>\n",
       "      <th>death_confirmed</th>\n",
       "      <th>death_probable</th>\n",
       "      <th>death_suspected</th>\n",
       "      <th>etc_cum_deaths</th>\n",
       "      <th>etc_new_deaths</th>\n",
       "    </tr>\n",
       "    <tr>\n",
       "      <th>Date</th>\n",
       "      <th>Country</th>\n",
       "      <th></th>\n",
       "      <th></th>\n",
       "      <th></th>\n",
       "      <th></th>\n",
       "      <th></th>\n",
       "    </tr>\n",
       "  </thead>\n",
       "  <tbody>\n",
       "    <tr>\n",
       "      <th>2014-08-12</th>\n",
       "      <th>sl</th>\n",
       "      <td>264</td>\n",
       "      <td>34</td>\n",
       "      <td>5</td>\n",
       "      <td>NaN</td>\n",
       "      <td>NaN</td>\n",
       "    </tr>\n",
       "    <tr>\n",
       "      <th>2014-08-13</th>\n",
       "      <th>sl</th>\n",
       "      <td>273</td>\n",
       "      <td>34</td>\n",
       "      <td>5</td>\n",
       "      <td>NaN</td>\n",
       "      <td>NaN</td>\n",
       "    </tr>\n",
       "    <tr>\n",
       "      <th>2014-08-14</th>\n",
       "      <th>sl</th>\n",
       "      <td>280</td>\n",
       "      <td>34</td>\n",
       "      <td>5</td>\n",
       "      <td>NaN</td>\n",
       "      <td>NaN</td>\n",
       "    </tr>\n",
       "    <tr>\n",
       "      <th>2014-08-15</th>\n",
       "      <th>sl</th>\n",
       "      <td>287</td>\n",
       "      <td>34</td>\n",
       "      <td>5</td>\n",
       "      <td>NaN</td>\n",
       "      <td>NaN</td>\n",
       "    </tr>\n",
       "    <tr>\n",
       "      <th>2014-08-16</th>\n",
       "      <th>sl</th>\n",
       "      <td>297</td>\n",
       "      <td>34</td>\n",
       "      <td>5</td>\n",
       "      <td>NaN</td>\n",
       "      <td>NaN</td>\n",
       "    </tr>\n",
       "  </tbody>\n",
       "</table>\n",
       "</div>"
      ],
      "text/plain": [
       "                   death_confirmed death_probable death_suspected  \\\n",
       "Date       Country                                                  \n",
       "2014-08-12 sl                  264             34               5   \n",
       "2014-08-13 sl                  273             34               5   \n",
       "2014-08-14 sl                  280             34               5   \n",
       "2014-08-15 sl                  287             34               5   \n",
       "2014-08-16 sl                  297             34               5   \n",
       "\n",
       "                   etc_cum_deaths etc_new_deaths  \n",
       "Date       Country                                \n",
       "2014-08-12 sl                 NaN            NaN  \n",
       "2014-08-13 sl                 NaN            NaN  \n",
       "2014-08-14 sl                 NaN            NaN  \n",
       "2014-08-15 sl                 NaN            NaN  \n",
       "2014-08-16 sl                 NaN            NaN  "
      ]
     },
     "execution_count": 7,
     "metadata": {},
     "output_type": "execute_result"
    }
   ],
   "source": [
    "sl_data = load_csv_files_into_dataframe(DATA_FOLDER_ebola,'sl')\n",
    "\n",
    "sl_data.head()"
   ]
  },
  {
   "cell_type": "markdown",
   "metadata": {},
   "source": [
    "# TODO :  \n",
    "- Format the dates to be the same for all the datasets\n",
    "- Decide on what is a case and a death for each country -> add new columns to the existing df\n",
    "- Merge the new columns of the 3 countries with the indexes to create the final df "
   ]
  },
  {
   "cell_type": "markdown",
   "metadata": {},
   "source": [
    "## Task 2. RNA Sequences\n",
    "\n",
    "In the `DATA_FOLDER/microbiome` subdirectory, there are 9 spreadsheets of microbiome data that was acquired from high-throughput RNA sequencing procedures, along with a 10<sup>th</sup> file that describes the content of each. \n",
    "\n",
    "Use pandas to import the first 9 spreadsheets into a single `DataFrame`.\n",
    "Then, add the metadata information from the 10<sup>th</sup> spreadsheet as columns in the combined `DataFrame`.\n",
    "Make sure that the final `DataFrame` has a unique index and all the `NaN` values have been replaced by the tag `unknown`."
   ]
  },
  {
   "cell_type": "code",
   "execution_count": 8,
   "metadata": {},
   "outputs": [
    {
     "name": "stdout",
     "output_type": "stream",
     "text": [
      "Index is unique : True\n"
     ]
    },
    {
     "data": {
      "text/html": [
       "<div>\n",
       "<style>\n",
       "    .dataframe thead tr:only-child th {\n",
       "        text-align: right;\n",
       "    }\n",
       "\n",
       "    .dataframe thead th {\n",
       "        text-align: left;\n",
       "    }\n",
       "\n",
       "    .dataframe tbody tr th {\n",
       "        vertical-align: top;\n",
       "    }\n",
       "</style>\n",
       "<table border=\"1\" class=\"dataframe\">\n",
       "  <thead>\n",
       "    <tr style=\"text-align: right;\">\n",
       "      <th></th>\n",
       "      <th></th>\n",
       "      <th>NUMBER</th>\n",
       "      <th>GROUP</th>\n",
       "      <th>SAMPLE</th>\n",
       "    </tr>\n",
       "    <tr>\n",
       "      <th>NAME</th>\n",
       "      <th>BARCODE</th>\n",
       "      <th></th>\n",
       "      <th></th>\n",
       "      <th></th>\n",
       "    </tr>\n",
       "  </thead>\n",
       "  <tbody>\n",
       "    <tr>\n",
       "      <th>Archaea \"Crenarchaeota\" Thermoprotei Desulfurococcales Desulfurococcaceae Ignisphaera</th>\n",
       "      <th>MID1</th>\n",
       "      <td>7</td>\n",
       "      <td>EXTRACTION CONTROL</td>\n",
       "      <td>unknown</td>\n",
       "    </tr>\n",
       "    <tr>\n",
       "      <th>Archaea \"Crenarchaeota\" Thermoprotei Desulfurococcales Pyrodictiaceae Pyrolobus</th>\n",
       "      <th>MID1</th>\n",
       "      <td>2</td>\n",
       "      <td>EXTRACTION CONTROL</td>\n",
       "      <td>unknown</td>\n",
       "    </tr>\n",
       "    <tr>\n",
       "      <th>Archaea \"Crenarchaeota\" Thermoprotei Sulfolobales Sulfolobaceae Stygiolobus</th>\n",
       "      <th>MID1</th>\n",
       "      <td>3</td>\n",
       "      <td>EXTRACTION CONTROL</td>\n",
       "      <td>unknown</td>\n",
       "    </tr>\n",
       "    <tr>\n",
       "      <th>Archaea \"Crenarchaeota\" Thermoprotei Thermoproteales Thermofilaceae Thermofilum</th>\n",
       "      <th>MID1</th>\n",
       "      <td>3</td>\n",
       "      <td>EXTRACTION CONTROL</td>\n",
       "      <td>unknown</td>\n",
       "    </tr>\n",
       "    <tr>\n",
       "      <th>Archaea \"Euryarchaeota\" \"Methanomicrobia\" Methanocellales Methanocellaceae Methanocella</th>\n",
       "      <th>MID1</th>\n",
       "      <td>7</td>\n",
       "      <td>EXTRACTION CONTROL</td>\n",
       "      <td>unknown</td>\n",
       "    </tr>\n",
       "  </tbody>\n",
       "</table>\n",
       "</div>"
      ],
      "text/plain": [
       "                                                            NUMBER  \\\n",
       "NAME                                               BARCODE           \n",
       "Archaea \"Crenarchaeota\" Thermoprotei Desulfuroc... MID1          7   \n",
       "Archaea \"Crenarchaeota\" Thermoprotei Desulfuroc... MID1          2   \n",
       "Archaea \"Crenarchaeota\" Thermoprotei Sulfolobal... MID1          3   \n",
       "Archaea \"Crenarchaeota\" Thermoprotei Thermoprot... MID1          3   \n",
       "Archaea \"Euryarchaeota\" \"Methanomicrobia\" Metha... MID1          7   \n",
       "\n",
       "                                                                         GROUP  \\\n",
       "NAME                                               BARCODE                       \n",
       "Archaea \"Crenarchaeota\" Thermoprotei Desulfuroc... MID1     EXTRACTION CONTROL   \n",
       "Archaea \"Crenarchaeota\" Thermoprotei Desulfuroc... MID1     EXTRACTION CONTROL   \n",
       "Archaea \"Crenarchaeota\" Thermoprotei Sulfolobal... MID1     EXTRACTION CONTROL   \n",
       "Archaea \"Crenarchaeota\" Thermoprotei Thermoprot... MID1     EXTRACTION CONTROL   \n",
       "Archaea \"Euryarchaeota\" \"Methanomicrobia\" Metha... MID1     EXTRACTION CONTROL   \n",
       "\n",
       "                                                             SAMPLE  \n",
       "NAME                                               BARCODE           \n",
       "Archaea \"Crenarchaeota\" Thermoprotei Desulfuroc... MID1     unknown  \n",
       "Archaea \"Crenarchaeota\" Thermoprotei Desulfuroc... MID1     unknown  \n",
       "Archaea \"Crenarchaeota\" Thermoprotei Sulfolobal... MID1     unknown  \n",
       "Archaea \"Crenarchaeota\" Thermoprotei Thermoprot... MID1     unknown  \n",
       "Archaea \"Euryarchaeota\" \"Methanomicrobia\" Metha... MID1     unknown  "
      ]
     },
     "execution_count": 8,
     "metadata": {},
     "output_type": "execute_result"
    }
   ],
   "source": [
    "# Write your answer here\n",
    "DATA_FOLDER_microbiome = DATA_FOLDER + '/microbiome'\n",
    "\n",
    "# Get all the files in the folder\n",
    "microbiome_cvs_files = os.listdir(DATA_FOLDER_microbiome)\n",
    "# Get the 9 first spreadsheets\n",
    "RNA_seq_files = [x for x in microbiome_cvs_files if 'MID' in x]\n",
    "# Get the last spreadsheet\n",
    "metadata_file = [x for x in microbiome_cvs_files if x not in RNA_seq_files]\n",
    "\n",
    "# Load the metadata into a dataframe\n",
    "metadata_df = pd.read_excel((DATA_FOLDER_microbiome + '/' + metadata_file[0]))\n",
    "metadata_columns = metadata_df.columns.values\n",
    "\n",
    "# Create the dataframe\n",
    "microbiome_data = pd.DataFrame(index = [])\n",
    "\n",
    "# Load the 9 spreadsheets into one dataframe\n",
    "for file in RNA_seq_files:\n",
    "    # Load the xls file\n",
    "    df = pd.read_excel(DATA_FOLDER_microbiome + '/' +file,header= None)\n",
    "    # Get the name of the barcode for the given file\n",
    "    Barcode_idx = file.replace('.xls','')\n",
    "    # Get the metadata associated to the given barcode\n",
    "    file_metadata = metadata_df[metadata_df['BARCODE'].str.contains(Barcode_idx)].values[0]\n",
    "    \n",
    "    # Save the metadata to the dataframe\n",
    "    for c, col in enumerate(metadata_columns):\n",
    "        df[col] = file_metadata[c]\n",
    "\n",
    "    # Merge it with the whole dataframe\n",
    "    microbiome_data = pd.concat([microbiome_data,df])\n",
    "\n",
    "# Rename the columns and set the Name column as index \n",
    "microbiome_data.rename(columns={0:'NAME', 1:'NUMBER'}, inplace=True)\n",
    "microbiome_data = microbiome_data.set_index(['NAME', 'BARCODE']) # TODO : check if it worked\n",
    "print(\"Index is unique : \" + str(microbiome_data.index.is_unique))\n",
    "\n",
    "# Replace all nan values with unknown\n",
    "microbiome_data = microbiome_data.replace(np.nan, 'unknown', regex=True)\n",
    "\n",
    "microbiome_data.head()"
   ]
  },
  {
   "cell_type": "markdown",
   "metadata": {},
   "source": [
    "## Task 3. Class War in Titanic\n",
    "\n",
    "Use pandas to import the data file `Data/titanic.xls`. It contains data on all the passengers that travelled on the Titanic."
   ]
  },
  {
   "cell_type": "code",
   "execution_count": 9,
   "metadata": {},
   "outputs": [
    {
     "name": "stdout",
     "output_type": "stream",
     "text": [
      " \n"
     ]
    }
   ],
   "source": [
    "from IPython.core.display import HTML\n",
    "HTML(filename=DATA_FOLDER+'/titanic.html')\n",
    "print(' ')"
   ]
  },
  {
   "cell_type": "markdown",
   "metadata": {},
   "source": [
    "For each of the following questions state clearly your assumptions and discuss your findings:\n",
    "1. Describe the *type* and the *value range* of each attribute. Indicate and transform the attributes that can be `Categorical`. \n",
    "2. Plot histograms for the *travel class*, *embarkation port*, *sex* and *age* attributes. For the latter one, use *discrete decade intervals*. \n",
    "3. Calculate the proportion of passengers by *cabin floor*. Present your results in a *pie chart*.\n",
    "4. For each *travel class*, calculate the proportion of the passengers that survived. Present your results in *pie charts*.\n",
    "5. Calculate the proportion of the passengers that survived by *travel class* and *sex*. Present your results in *a single histogram*.\n",
    "6. Create 2 equally populated *age categories* and calculate survival proportions by *age category*, *travel class* and *sex*. Present your results in a `DataFrame` with unique index."
   ]
  },
  {
   "cell_type": "markdown",
   "metadata": {},
   "source": [
    "### Importing Seaborn for Color Palettes"
   ]
  },
  {
   "cell_type": "code",
   "execution_count": 10,
   "metadata": {},
   "outputs": [],
   "source": [
    "import seaborn as sns\n",
    "\n",
    "# set the default color palette\n",
    "# try other options: 'Blues', sns.cubehelix_palette(8)\n",
    "sns.set_palette('Blues')\n",
    "\n",
    "# Seaborn can also use a context for different purpose\n",
    "# possible values are paper, notebook, talk, and poster\n",
    "sns.set_context(\"notebook\")"
   ]
  },
  {
   "cell_type": "markdown",
   "metadata": {
    "collapsed": true
   },
   "source": [
    "### Loading the Dataset"
   ]
  },
  {
   "cell_type": "code",
   "execution_count": 11,
   "metadata": {},
   "outputs": [
    {
     "data": {
      "text/html": [
       "<div>\n",
       "<style>\n",
       "    .dataframe thead tr:only-child th {\n",
       "        text-align: right;\n",
       "    }\n",
       "\n",
       "    .dataframe thead th {\n",
       "        text-align: left;\n",
       "    }\n",
       "\n",
       "    .dataframe tbody tr th {\n",
       "        vertical-align: top;\n",
       "    }\n",
       "</style>\n",
       "<table border=\"1\" class=\"dataframe\">\n",
       "  <thead>\n",
       "    <tr style=\"text-align: right;\">\n",
       "      <th></th>\n",
       "      <th>pclass</th>\n",
       "      <th>survived</th>\n",
       "      <th>name</th>\n",
       "      <th>sex</th>\n",
       "      <th>age</th>\n",
       "      <th>sibsp</th>\n",
       "      <th>parch</th>\n",
       "      <th>ticket</th>\n",
       "      <th>fare</th>\n",
       "      <th>cabin</th>\n",
       "      <th>embarked</th>\n",
       "      <th>boat</th>\n",
       "      <th>body</th>\n",
       "      <th>home.dest</th>\n",
       "    </tr>\n",
       "  </thead>\n",
       "  <tbody>\n",
       "    <tr>\n",
       "      <th>0</th>\n",
       "      <td>1</td>\n",
       "      <td>1</td>\n",
       "      <td>Allen, Miss. Elisabeth Walton</td>\n",
       "      <td>female</td>\n",
       "      <td>29.0000</td>\n",
       "      <td>0</td>\n",
       "      <td>0</td>\n",
       "      <td>24160</td>\n",
       "      <td>211.3375</td>\n",
       "      <td>B5</td>\n",
       "      <td>S</td>\n",
       "      <td>2</td>\n",
       "      <td>NaN</td>\n",
       "      <td>St Louis, MO</td>\n",
       "    </tr>\n",
       "    <tr>\n",
       "      <th>1</th>\n",
       "      <td>1</td>\n",
       "      <td>1</td>\n",
       "      <td>Allison, Master. Hudson Trevor</td>\n",
       "      <td>male</td>\n",
       "      <td>0.9167</td>\n",
       "      <td>1</td>\n",
       "      <td>2</td>\n",
       "      <td>113781</td>\n",
       "      <td>151.5500</td>\n",
       "      <td>C22 C26</td>\n",
       "      <td>S</td>\n",
       "      <td>11</td>\n",
       "      <td>NaN</td>\n",
       "      <td>Montreal, PQ / Chesterville, ON</td>\n",
       "    </tr>\n",
       "    <tr>\n",
       "      <th>2</th>\n",
       "      <td>1</td>\n",
       "      <td>0</td>\n",
       "      <td>Allison, Miss. Helen Loraine</td>\n",
       "      <td>female</td>\n",
       "      <td>2.0000</td>\n",
       "      <td>1</td>\n",
       "      <td>2</td>\n",
       "      <td>113781</td>\n",
       "      <td>151.5500</td>\n",
       "      <td>C22 C26</td>\n",
       "      <td>S</td>\n",
       "      <td>NaN</td>\n",
       "      <td>NaN</td>\n",
       "      <td>Montreal, PQ / Chesterville, ON</td>\n",
       "    </tr>\n",
       "    <tr>\n",
       "      <th>3</th>\n",
       "      <td>1</td>\n",
       "      <td>0</td>\n",
       "      <td>Allison, Mr. Hudson Joshua Creighton</td>\n",
       "      <td>male</td>\n",
       "      <td>30.0000</td>\n",
       "      <td>1</td>\n",
       "      <td>2</td>\n",
       "      <td>113781</td>\n",
       "      <td>151.5500</td>\n",
       "      <td>C22 C26</td>\n",
       "      <td>S</td>\n",
       "      <td>NaN</td>\n",
       "      <td>135.0</td>\n",
       "      <td>Montreal, PQ / Chesterville, ON</td>\n",
       "    </tr>\n",
       "    <tr>\n",
       "      <th>4</th>\n",
       "      <td>1</td>\n",
       "      <td>0</td>\n",
       "      <td>Allison, Mrs. Hudson J C (Bessie Waldo Daniels)</td>\n",
       "      <td>female</td>\n",
       "      <td>25.0000</td>\n",
       "      <td>1</td>\n",
       "      <td>2</td>\n",
       "      <td>113781</td>\n",
       "      <td>151.5500</td>\n",
       "      <td>C22 C26</td>\n",
       "      <td>S</td>\n",
       "      <td>NaN</td>\n",
       "      <td>NaN</td>\n",
       "      <td>Montreal, PQ / Chesterville, ON</td>\n",
       "    </tr>\n",
       "  </tbody>\n",
       "</table>\n",
       "</div>"
      ],
      "text/plain": [
       "   pclass  survived                                             name     sex  \\\n",
       "0       1         1                    Allen, Miss. Elisabeth Walton  female   \n",
       "1       1         1                   Allison, Master. Hudson Trevor    male   \n",
       "2       1         0                     Allison, Miss. Helen Loraine  female   \n",
       "3       1         0             Allison, Mr. Hudson Joshua Creighton    male   \n",
       "4       1         0  Allison, Mrs. Hudson J C (Bessie Waldo Daniels)  female   \n",
       "\n",
       "       age  sibsp  parch  ticket      fare    cabin embarked boat   body  \\\n",
       "0  29.0000      0      0   24160  211.3375       B5        S    2    NaN   \n",
       "1   0.9167      1      2  113781  151.5500  C22 C26        S   11    NaN   \n",
       "2   2.0000      1      2  113781  151.5500  C22 C26        S  NaN    NaN   \n",
       "3  30.0000      1      2  113781  151.5500  C22 C26        S  NaN  135.0   \n",
       "4  25.0000      1      2  113781  151.5500  C22 C26        S  NaN    NaN   \n",
       "\n",
       "                         home.dest  \n",
       "0                     St Louis, MO  \n",
       "1  Montreal, PQ / Chesterville, ON  \n",
       "2  Montreal, PQ / Chesterville, ON  \n",
       "3  Montreal, PQ / Chesterville, ON  \n",
       "4  Montreal, PQ / Chesterville, ON  "
      ]
     },
     "execution_count": 11,
     "metadata": {},
     "output_type": "execute_result"
    }
   ],
   "source": [
    "titanic_data = pd.read_excel(DATA_FOLDER+'/titanic.xls')\n",
    "\n",
    "titanic_data.head()\n",
    "\n",
    "#print(titanic_data['fare'].tolist())"
   ]
  },
  {
   "cell_type": "markdown",
   "metadata": {},
   "source": [
    "### 3.1. Describe the *type* and the *value range* of each attribute. Indicate and transform the attributes that can be `Categorical`. \n",
    "\n",
    "TODO : pas compris ce qu'ils entendent par range ni \"Indicate and transform the attributes that can be `Categorical`.\"\n",
    "\n",
    "Issue with the inf and converting to int"
   ]
  },
  {
   "cell_type": "code",
   "execution_count": 12,
   "metadata": {},
   "outputs": [
    {
     "name": "stdout",
     "output_type": "stream",
     "text": [
      "              Type              Minimum                      Maximum\n",
      "fare       float64                    0                      512.329\n",
      "body       float64                    1                          328\n",
      "name        object  Abbing, Mr. Anthony  van Melkebeke, Mr. Philemon\n",
      "embarked    object                  inf                            S\n",
      "age        float64               0.1667                           80\n",
      "parch        int64                    0                            9\n",
      "pclass       int64                    1                            3\n",
      "sex         object               female                         male\n",
      "cabin       object                  inf                            T\n",
      "survived     int64                    0                            1\n",
      "sibsp        int64                    0                            8\n",
      "home.dest   object                  inf          Zurich, Switzerland\n",
      "ticket      object                  695                    WE/P 5735\n",
      "boat        object                    2                            D\n"
     ]
    }
   ],
   "source": [
    "# Transform age to float\n",
    "titanic_data = pd.read_excel(DATA_FOLDER+'/titanic.xls')\n",
    "\n",
    "\n",
    "def get_attributes_description(df):\n",
    "    # Get attribute description\n",
    "    dicts = []\n",
    "    dicts.append(df.dtypes.to_dict())\n",
    "    dicts.append(df.min(skipna = True).to_dict())\n",
    "    dicts.append(df.max(skipna = True).to_dict())\n",
    "\n",
    "    attributes = {k:[d[k] for d in dicts] for k in dicts[0] }\n",
    "\n",
    "    description = pd.DataFrame.from_dict(attributes, orient = 'index')\n",
    "    description.rename(columns={0:'Type', 1:'Minimum', 2:'Maximum'}, inplace=True)\n",
    "    return description\n",
    "\n",
    "titanic_description = get_attributes_description(titanic_data)\n",
    "print(titanic_description)"
   ]
  },
  {
   "cell_type": "markdown",
   "metadata": {},
   "source": [
    "The attributes which can be defined as categorical are those which have predefined levels such as pclass (3), sex (2), cabin (187), embarked (3) and boat (28)."
   ]
  },
  {
   "cell_type": "code",
   "execution_count": 13,
   "metadata": {},
   "outputs": [
    {
     "name": "stdout",
     "output_type": "stream",
     "text": [
      "               Type              Minimum                      Maximum\n",
      "fare        float64                    0                      512.329\n",
      "body        float64                    1                          328\n",
      "name         object  Abbing, Mr. Anthony  van Melkebeke, Mr. Philemon\n",
      "embarked   category                    C                      unknown\n",
      "age         float64               0.1667                           80\n",
      "parch         int64                    0                            9\n",
      "pclass     category                    1                            3\n",
      "sex        category               female                         male\n",
      "cabin      category                  A10                      unknown\n",
      "survived      int64                    0                            1\n",
      "sibsp         int64                    0                            8\n",
      "home.dest    object                  inf          Zurich, Switzerland\n",
      "ticket       object                  695                    WE/P 5735\n",
      "boat       category                    2                      unknown\n"
     ]
    }
   ],
   "source": [
    "categorical_attributes = ['pclass', 'sex', 'cabin', 'embarked', 'boat']\n",
    "\n",
    "categ_titanic = titanic_data.copy()\n",
    "#categ_titanic = categ_titanic.replace('inf', None, regex=True) # TODO : check if okay... \n",
    "#categ_titanic = categ_titanic.replace(np.nan, 'unknown', regex=True) # TODO : check if okay... \n",
    "\n",
    "for attribute in categorical_attributes:\n",
    "    attribute_cat = categ_titanic[attribute].unique().tolist() \n",
    "    \n",
    "    try : \n",
    "        categ_titanic[attribute] = categ_titanic[attribute].astype('category')\n",
    "        categ_titanic[attribute].cat.categories = attribute_cat \n",
    "    except : \n",
    "        attribute_cat = map(lambda x:x if (x is not np.nan) else 'unknown',attribute_cat)\n",
    "        categ_titanic[attribute] = categ_titanic[attribute].replace(np.nan, 'unknown', regex=True)\n",
    "        categ_titanic[attribute] = categ_titanic[attribute].astype('category')\n",
    "        categ_titanic[attribute].cat.categories = attribute_cat \n",
    "\n",
    "categ_titanic_description = get_attributes_description(categ_titanic)\n",
    "print(categ_titanic_description)"
   ]
  },
  {
   "cell_type": "markdown",
   "metadata": {},
   "source": [
    "### 3.2. Plot histograms for the *travel class*, *embarkation port*, *sex* and *age* attributes. For the latter one, use *discrete decade intervals*. \n",
    "\n",
    "TRAVEL CLASS???"
   ]
  },
  {
   "cell_type": "code",
   "execution_count": 14,
   "metadata": {},
   "outputs": [
    {
     "ename": "TypeError",
     "evalue": "len() of unsized object",
     "output_type": "error",
     "traceback": [
      "\u001b[0;31m---------------------------------------------------------------------------\u001b[0m",
      "\u001b[0;31mTypeError\u001b[0m                                 Traceback (most recent call last)",
      "\u001b[0;32m<ipython-input-14-e75af93715c1>\u001b[0m in \u001b[0;36m<module>\u001b[0;34m()\u001b[0m\n\u001b[1;32m      4\u001b[0m \u001b[0mplt\u001b[0m\u001b[0;34m.\u001b[0m\u001b[0mtitle\u001b[0m\u001b[0;34m(\u001b[0m\u001b[0;34m'travel class'\u001b[0m\u001b[0;34m)\u001b[0m\u001b[0;34m\u001b[0m\u001b[0m\n\u001b[1;32m      5\u001b[0m \u001b[0mplt\u001b[0m\u001b[0;34m.\u001b[0m\u001b[0msubplot\u001b[0m\u001b[0;34m(\u001b[0m\u001b[0;36m222\u001b[0m\u001b[0;34m)\u001b[0m\u001b[0;34m\u001b[0m\u001b[0m\n\u001b[0;32m----> 6\u001b[0;31m \u001b[0mcateg_titanic\u001b[0m\u001b[0;34m[\u001b[0m\u001b[0;34m'embarked'\u001b[0m\u001b[0;34m]\u001b[0m\u001b[0;34m.\u001b[0m\u001b[0mhist\u001b[0m\u001b[0;34m(\u001b[0m\u001b[0;34m)\u001b[0m\u001b[0;34m\u001b[0m\u001b[0m\n\u001b[0m\u001b[1;32m      7\u001b[0m \u001b[0mplt\u001b[0m\u001b[0;34m.\u001b[0m\u001b[0mtitle\u001b[0m\u001b[0;34m(\u001b[0m\u001b[0;34m'embarkation port'\u001b[0m\u001b[0;34m)\u001b[0m\u001b[0;34m\u001b[0m\u001b[0m\n\u001b[1;32m      8\u001b[0m \u001b[0mplt\u001b[0m\u001b[0;34m.\u001b[0m\u001b[0msubplot\u001b[0m\u001b[0;34m(\u001b[0m\u001b[0;36m223\u001b[0m\u001b[0;34m)\u001b[0m\u001b[0;34m\u001b[0m\u001b[0m\n",
      "\u001b[0;32m/Users/laila/anaconda/lib/python2.7/site-packages/pandas/plotting/_core.pyc\u001b[0m in \u001b[0;36mhist_series\u001b[0;34m(self, by, ax, grid, xlabelsize, xrot, ylabelsize, yrot, figsize, bins, **kwds)\u001b[0m\n\u001b[1;32m   2191\u001b[0m         \u001b[0mvalues\u001b[0m \u001b[0;34m=\u001b[0m \u001b[0mself\u001b[0m\u001b[0;34m.\u001b[0m\u001b[0mdropna\u001b[0m\u001b[0;34m(\u001b[0m\u001b[0;34m)\u001b[0m\u001b[0;34m.\u001b[0m\u001b[0mvalues\u001b[0m\u001b[0;34m\u001b[0m\u001b[0m\n\u001b[1;32m   2192\u001b[0m \u001b[0;34m\u001b[0m\u001b[0m\n\u001b[0;32m-> 2193\u001b[0;31m         \u001b[0max\u001b[0m\u001b[0;34m.\u001b[0m\u001b[0mhist\u001b[0m\u001b[0;34m(\u001b[0m\u001b[0mvalues\u001b[0m\u001b[0;34m,\u001b[0m \u001b[0mbins\u001b[0m\u001b[0;34m=\u001b[0m\u001b[0mbins\u001b[0m\u001b[0;34m,\u001b[0m \u001b[0;34m**\u001b[0m\u001b[0mkwds\u001b[0m\u001b[0;34m)\u001b[0m\u001b[0;34m\u001b[0m\u001b[0m\n\u001b[0m\u001b[1;32m   2194\u001b[0m         \u001b[0max\u001b[0m\u001b[0;34m.\u001b[0m\u001b[0mgrid\u001b[0m\u001b[0;34m(\u001b[0m\u001b[0mgrid\u001b[0m\u001b[0;34m)\u001b[0m\u001b[0;34m\u001b[0m\u001b[0m\n\u001b[1;32m   2195\u001b[0m         \u001b[0maxes\u001b[0m \u001b[0;34m=\u001b[0m \u001b[0mnp\u001b[0m\u001b[0;34m.\u001b[0m\u001b[0marray\u001b[0m\u001b[0;34m(\u001b[0m\u001b[0;34m[\u001b[0m\u001b[0max\u001b[0m\u001b[0;34m]\u001b[0m\u001b[0;34m)\u001b[0m\u001b[0;34m\u001b[0m\u001b[0m\n",
      "\u001b[0;32m/Users/laila/anaconda/lib/python2.7/site-packages/matplotlib/__init__.pyc\u001b[0m in \u001b[0;36minner\u001b[0;34m(ax, *args, **kwargs)\u001b[0m\n\u001b[1;32m   1896\u001b[0m                     warnings.warn(msg % (label_namer, func.__name__),\n\u001b[1;32m   1897\u001b[0m                                   RuntimeWarning, stacklevel=2)\n\u001b[0;32m-> 1898\u001b[0;31m             \u001b[0;32mreturn\u001b[0m \u001b[0mfunc\u001b[0m\u001b[0;34m(\u001b[0m\u001b[0max\u001b[0m\u001b[0;34m,\u001b[0m \u001b[0;34m*\u001b[0m\u001b[0margs\u001b[0m\u001b[0;34m,\u001b[0m \u001b[0;34m**\u001b[0m\u001b[0mkwargs\u001b[0m\u001b[0;34m)\u001b[0m\u001b[0;34m\u001b[0m\u001b[0m\n\u001b[0m\u001b[1;32m   1899\u001b[0m         \u001b[0mpre_doc\u001b[0m \u001b[0;34m=\u001b[0m \u001b[0minner\u001b[0m\u001b[0;34m.\u001b[0m\u001b[0m__doc__\u001b[0m\u001b[0;34m\u001b[0m\u001b[0m\n\u001b[1;32m   1900\u001b[0m         \u001b[0;32mif\u001b[0m \u001b[0mpre_doc\u001b[0m \u001b[0;32mis\u001b[0m \u001b[0mNone\u001b[0m\u001b[0;34m:\u001b[0m\u001b[0;34m\u001b[0m\u001b[0m\n",
      "\u001b[0;32m/Users/laila/anaconda/lib/python2.7/site-packages/matplotlib/axes/_axes.pyc\u001b[0m in \u001b[0;36mhist\u001b[0;34m(***failed resolving arguments***)\u001b[0m\n\u001b[1;32m   6178\u001b[0m             \u001b[0mxmax\u001b[0m \u001b[0;34m=\u001b[0m \u001b[0;34m-\u001b[0m\u001b[0mnp\u001b[0m\u001b[0;34m.\u001b[0m\u001b[0minf\u001b[0m\u001b[0;34m\u001b[0m\u001b[0m\n\u001b[1;32m   6179\u001b[0m             \u001b[0;32mfor\u001b[0m \u001b[0mxi\u001b[0m \u001b[0;32min\u001b[0m \u001b[0mx\u001b[0m\u001b[0;34m:\u001b[0m\u001b[0;34m\u001b[0m\u001b[0m\n\u001b[0;32m-> 6180\u001b[0;31m                 \u001b[0;32mif\u001b[0m \u001b[0mlen\u001b[0m\u001b[0;34m(\u001b[0m\u001b[0mxi\u001b[0m\u001b[0;34m)\u001b[0m \u001b[0;34m>\u001b[0m \u001b[0;36m0\u001b[0m\u001b[0;34m:\u001b[0m\u001b[0;34m\u001b[0m\u001b[0m\n\u001b[0m\u001b[1;32m   6181\u001b[0m                     \u001b[0mxmin\u001b[0m \u001b[0;34m=\u001b[0m \u001b[0mmin\u001b[0m\u001b[0;34m(\u001b[0m\u001b[0mxmin\u001b[0m\u001b[0;34m,\u001b[0m \u001b[0mxi\u001b[0m\u001b[0;34m.\u001b[0m\u001b[0mmin\u001b[0m\u001b[0;34m(\u001b[0m\u001b[0;34m)\u001b[0m\u001b[0;34m)\u001b[0m\u001b[0;34m\u001b[0m\u001b[0m\n\u001b[1;32m   6182\u001b[0m                     \u001b[0mxmax\u001b[0m \u001b[0;34m=\u001b[0m \u001b[0mmax\u001b[0m\u001b[0;34m(\u001b[0m\u001b[0mxmax\u001b[0m\u001b[0;34m,\u001b[0m \u001b[0mxi\u001b[0m\u001b[0;34m.\u001b[0m\u001b[0mmax\u001b[0m\u001b[0;34m(\u001b[0m\u001b[0;34m)\u001b[0m\u001b[0;34m)\u001b[0m\u001b[0;34m\u001b[0m\u001b[0m\n",
      "\u001b[0;31mTypeError\u001b[0m: len() of unsized object"
     ]
    },
    {
     "data": {
      "image/png": "[encoded data removed]",
      "text/plain": [
       "<matplotlib.figure.Figure at 0x111fd1fd0>"
      ]
     },
     "metadata": {},
     "output_type": "display_data"
    }
   ],
   "source": [
    "plt.figure(figsize = (15,10))\n",
    "plt.subplot(221)\n",
    "categ_titanic['pclass'].hist()\n",
    "plt.title('travel class')\n",
    "plt.subplot(222)\n",
    "categ_titanic['embarked'].hist()\n",
    "plt.title('embarkation port')\n",
    "plt.subplot(223)\n",
    "categ_titanic['sex'].hist()\n",
    "plt.title('sex')\n",
    "plt.subplot(221)\n",
    "categ_titanic['age'].hist(bins = 10)\n",
    "plt.title('age attributes')\n",
    "plt.show()"
   ]
  },
  {
   "cell_type": "markdown",
   "metadata": {},
   "source": [
    "### 3.3. Calculate the proportion of passengers by *cabin floor*. Present your results in a *pie chart*."
   ]
  },
  {
   "cell_type": "code",
   "execution_count": 36,
   "metadata": {},
   "outputs": [
    {
     "name": "stdout",
     "output_type": "stream",
     "text": [
      "F    0.790680\n",
      "C    0.071047\n",
      "B    0.046600\n",
      "D    0.037433\n",
      "E    0.034377\n",
      "A    0.017571\n",
      "u    0.000764\n",
      "G    0.000764\n",
      "T    0.000764\n",
      "Name: cabin, dtype: float64\n"
     ]
    },
    {
     "data": {
      "text/plain": [
       "<matplotlib.axes._subplots.AxesSubplot at 0x1157a03d0>"
      ]
     },
     "execution_count": 36,
     "metadata": {},
     "output_type": "execute_result"
    },
    {
     "data": {
      "image/png": "[encoded data removed]",
      "text/plain": [
       "<matplotlib.figure.Figure at 0x11030a310>"
      ]
     },
     "metadata": {},
     "output_type": "display_data"
    }
   ],
   "source": [
    "# Extract the cabin floors from the first letter of the cabins\n",
    "cabin_floors = categ_titanic.cabin.str[0]\n",
    "# Compute the total number of passengers\n",
    "num_passengers = len(cabin_floors.tolist())\n",
    "# Get the number of passengers per floor and compute the proportions\n",
    "cabin_floors_proportions = cabin_floors.value_counts()/num_passengers\n",
    "print(cabin_floors_proportions)\n",
    "\n",
    "plt.figure(figsize = (10,10))\n",
    "cabin_floors_proportions.plot.pie()"
   ]
  },
  {
   "cell_type": "markdown",
   "metadata": {},
   "source": [
    "### 3.4. For each *travel class*, calculate the proportion of the passengers that survived. Present your results in *pie charts*.\n",
    "\n",
    "TODO : Pie chart?? based on the percentages or on the total number? Proportion = survived in class 1 / all passengers or all in class 1"
   ]
  },
  {
   "cell_type": "code",
   "execution_count": 69,
   "metadata": {},
   "outputs": [],
   "source": [
    "def compute_survival_proportions(df, by_category):\n",
    "    # Groupe the passengers by travel class\n",
    "    travel_classes = df.groupby(by_category)\n",
    "    # Get the average of passengers that survived for each class\n",
    "    survival_per_class = travel_classes[['survived']].mean()\n",
    "    print(survival_per_class)\n",
    "    return survival_per_class"
   ]
  },
  {
   "cell_type": "code",
   "execution_count": 70,
   "metadata": {},
   "outputs": [
    {
     "name": "stdout",
     "output_type": "stream",
     "text": [
      "        survived\n",
      "pclass          \n",
      "1       0.619195\n",
      "2       0.429603\n",
      "3       0.255289\n"
     ]
    },
    {
     "data": {
      "text/plain": [
       "<matplotlib.axes._subplots.AxesSubplot at 0x116d3ae50>"
      ]
     },
     "execution_count": 70,
     "metadata": {},
     "output_type": "execute_result"
    },
    {
     "data": {
      "image/png": "[encoded data removed]",
      "text/plain": [
       "<matplotlib.figure.Figure at 0x116a81550>"
      ]
     },
     "metadata": {},
     "output_type": "display_data"
    }
   ],
   "source": [
    "survival_class = compute_survival_proportions(categ_titanic, ['pclass'])\n",
    "survival_class['survived'].plot.pie()"
   ]
  },
  {
   "cell_type": "markdown",
   "metadata": {},
   "source": [
    "### 3.5. Calculate the proportion of the passengers that survived by *travel class* and *sex*. Present your results in *a single histogram*."
   ]
  },
  {
   "cell_type": "code",
   "execution_count": 68,
   "metadata": {},
   "outputs": [
    {
     "name": "stdout",
     "output_type": "stream",
     "text": [
      "               survived\n",
      "pclass sex             \n",
      "1      female  0.965278\n",
      "       male    0.340782\n",
      "2      female  0.886792\n",
      "       male    0.146199\n",
      "3      female  0.490741\n",
      "       male    0.152130\n"
     ]
    },
    {
     "data": {
      "text/plain": [
       "<matplotlib.axes._subplots.AxesSubplot at 0x112169050>"
      ]
     },
     "execution_count": 68,
     "metadata": {},
     "output_type": "execute_result"
    },
    {
     "data": {
      "image/png": "[encoded data removed]",
      "text/plain": [
       "<matplotlib.figure.Figure at 0x115524310>"
      ]
     },
     "metadata": {},
     "output_type": "display_data"
    }
   ],
   "source": [
    "survival_class_sex = compute_survival_proportions(categ_titanic, ['pclass', 'sex'])\n",
    "survival_class_sex['survived'].plot.pie()"
   ]
  },
  {
   "cell_type": "markdown",
   "metadata": {},
   "source": [
    "### 3.6. Create 2 equally populated *age categories* and calculate survival proportions by *age category*, *travel class* and *sex*. Present your results in a `DataFrame` with unique index."
   ]
  },
  {
   "cell_type": "code",
   "execution_count": 89,
   "metadata": {},
   "outputs": [
    {
     "name": "stdout",
     "output_type": "stream",
     "text": [
      "32\n"
     ]
    }
   ],
   "source": [
    "# Compute the median\n",
    "median_age = categ_titanic['age'].median(skipna = True)\n",
    "print((categ_titanic['age'] == median_age).sum()) "
   ]
  },
  {
   "cell_type": "markdown",
   "metadata": {},
   "source": [
    "There are too many people with the median age. It is not possible to cut based on the median and obtain equal sized categories. "
   ]
  },
  {
   "cell_type": "code",
   "execution_count": 95,
   "metadata": {},
   "outputs": [
    {
     "name": "stdout",
     "output_type": "stream",
     "text": [
      "                         survived\n",
      "age_categ pclass sex             \n",
      "old       1      female  0.963964\n",
      "                 male    0.333333\n",
      "          2      female  0.871429\n",
      "                 male    0.080645\n",
      "          3      female  0.467532\n",
      "                 male    0.157407\n",
      "young     1      female  0.954545\n",
      "                 male    0.538462\n",
      "          2      female  0.939394\n",
      "                 male    0.382353\n",
      "          3      female  0.480000\n",
      "                 male    0.187970\n"
     ]
    },
    {
     "data": {
      "text/plain": [
       "<matplotlib.axes._subplots.AxesSubplot at 0x110338ad0>"
      ]
     },
     "execution_count": 95,
     "metadata": {},
     "output_type": "execute_result"
    },
    {
     "data": {
      "image/png": "[encoded data removed]",
      "text/plain": [
       "<matplotlib.figure.Figure at 0x116ebba10>"
      ]
     },
     "metadata": {},
     "output_type": "display_data"
    }
   ],
   "source": [
    "# Sort by age\n",
    "age_sorted = categ_titanic.sort_values(['age'])\n",
    "# Keep rows where age is not nan\n",
    "age_sorted = age_sorted[np.isfinite(age_sorted['age'])]\n",
    "# Get the number of passengers for which the age is given\n",
    "num_passengers = len(age_sorted['age'].tolist())\n",
    "# Break up the dataframe into two equal proportions by age category : young and old\n",
    "age_sorted.loc[:(num_passengers//2),'age_categ']= 'young'\n",
    "age_sorted.loc[(num_passengers//2):,'age_categ']= 'old'\n",
    "#----------------------------------------------------------------------------------------------------\n",
    "\n",
    "# Plot the survival proportions\n",
    "survival_age_class_sex = compute_survival_proportions(age_sorted, ['age_categ','pclass', 'sex'])\n",
    "survival_age_class_sex['survived'].plot.pie()"
   ]
  },
  {
   "cell_type": "code",
   "execution_count": null,
   "metadata": {},
   "outputs": [],
   "source": []
  }
 ],
 "metadata": {
  "kernelspec": {
   "display_name": "Python [conda root]",
   "language": "python",
   "name": "conda-root-py"
  },
  "language_info": {
   "codemirror_mode": {
    "name": "ipython",
    "version": 2
   },
   "file_extension": ".py",
   "mimetype": "text/x-python",
   "name": "python",
   "nbconvert_exporter": "python",
   "pygments_lexer": "ipython2",
   "version": "2.7.13"
  }
 },
 "nbformat": 4,
 "nbformat_minor": 2
}
